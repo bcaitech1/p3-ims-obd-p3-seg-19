{
 "cells": [
  {
   "cell_type": "markdown",
   "metadata": {},
   "source": [
    "# Train"
   ]
  },
  {
   "cell_type": "code",
   "execution_count": 2,
   "metadata": {
    "pycharm": {
     "name": "#%%\n"
    }
   },
   "outputs": [],
   "source": [
    "from mmcv import Config\n",
    "from mmdet.datasets import build_dataset\n",
    "from mmdet.models import build_detector\n",
    "from mmdet.apis import train_detector\n",
    "from mmdet.datasets import (build_dataloader, build_dataset,\n",
    "                            replace_ImageToTensor)"
   ]
  },
  {
   "cell_type": "code",
   "execution_count": 3,
   "metadata": {
    "pycharm": {
     "name": "#%%\n"
    }
   },
   "outputs": [
    {
     "name": "stdout",
     "output_type": "stream",
     "text": [
      "{'type': 'FasterRCNN', 'pretrained': 'torchvision://resnet50', 'backbone': {'type': 'ResNet', 'depth': 50, 'num_stages': 4, 'out_indices': (0, 1, 2, 3), 'frozen_stages': 1, 'norm_cfg': {'type': 'BN', 'requires_grad': True}, 'norm_eval': True, 'style': 'pytorch'}, 'neck': {'type': 'PAFPN', 'in_channels': [256, 512, 1024, 2048], 'out_channels': 256, 'num_outs': 5}, 'rpn_head': {'type': 'RPNHead', 'in_channels': 256, 'feat_channels': 256, 'anchor_generator': {'type': 'AnchorGenerator', 'scales': [8], 'ratios': [0.5, 1.0, 2.0], 'strides': [4, 8, 16, 32, 64]}, 'bbox_coder': {'type': 'DeltaXYWHBBoxCoder', 'target_means': [0.0, 0.0, 0.0, 0.0], 'target_stds': [1.0, 1.0, 1.0, 1.0]}, 'loss_cls': {'type': 'CrossEntropyLoss', 'use_sigmoid': True, 'loss_weight': 1.0}, 'loss_bbox': {'type': 'L1Loss', 'loss_weight': 1.0}}, 'roi_head': {'type': 'StandardRoIHead', 'bbox_roi_extractor': {'type': 'SingleRoIExtractor', 'roi_layer': {'type': 'RoIAlign', 'output_size': 7, 'sampling_ratio': 0}, 'out_channels': 256, 'featmap_strides': [4, 8, 16, 32]}, 'bbox_head': {'type': 'Shared2FCBBoxHead', 'in_channels': 256, 'fc_out_channels': 1024, 'roi_feat_size': 7, 'num_classes': 11, 'bbox_coder': {'type': 'DeltaXYWHBBoxCoder', 'target_means': [0.0, 0.0, 0.0, 0.0], 'target_stds': [0.1, 0.1, 0.2, 0.2]}, 'reg_class_agnostic': False, 'loss_cls': {'type': 'CrossEntropyLoss', 'use_sigmoid': False, 'loss_weight': 1.0}, 'loss_bbox': {'type': 'L1Loss', 'loss_weight': 1.0}}}, 'train_cfg': {'rpn': {'assigner': {'type': 'MaxIoUAssigner', 'pos_iou_thr': 0.7, 'neg_iou_thr': 0.3, 'min_pos_iou': 0.3, 'match_low_quality': True, 'ignore_iof_thr': -1}, 'sampler': {'type': 'RandomSampler', 'num': 256, 'pos_fraction': 0.5, 'neg_pos_ub': -1, 'add_gt_as_proposals': False}, 'allowed_border': -1, 'pos_weight': -1, 'debug': False}, 'rpn_proposal': {'nms_pre': 2000, 'max_per_img': 1000, 'nms': {'type': 'nms', 'iou_threshold': 0.7}, 'min_bbox_size': 0}, 'rcnn': {'assigner': {'type': 'MaxIoUAssigner', 'pos_iou_thr': 0.5, 'neg_iou_thr': 0.5, 'min_pos_iou': 0.5, 'match_low_quality': False, 'ignore_iof_thr': -1}, 'sampler': {'type': 'RandomSampler', 'num': 512, 'pos_fraction': 0.25, 'neg_pos_ub': -1, 'add_gt_as_proposals': True}, 'pos_weight': -1, 'debug': False}}, 'test_cfg': {'rpn': {'nms_pre': 1000, 'max_per_img': 1000, 'nms': {'type': 'nms', 'iou_threshold': 0.7}, 'min_bbox_size': 0}, 'rcnn': {'score_thr': 0.05, 'nms': {'type': 'nms', 'iou_threshold': 0.5}, 'max_per_img': 100}}}\n"
     ]
    }
   ],
   "source": [
    "classes = (\"UNKNOWN\", \"General trash\", \"Paper\", \"Paper pack\", \"Metal\", \"Glass\", \n",
    "           \"Plastic\", \"Styrofoam\", \"Plastic bag\", \"Battery\", \"Clothing\")\n",
    "# config file 들고오기\n",
    "cfg = Config.fromfile('./configs/pafpn/faster_rcnn_r50_pafpn_1x_coco.py')\n",
    "\n",
    "PREFIX = '../../input/data/'\n",
    "\n",
    "epoch = 12\n",
    "\n",
    "# dataset 바꾸기\n",
    "cfg.data.train.classes = classes\n",
    "cfg.data.train.img_prefix = PREFIX\n",
    "cfg.data.train.ann_file = PREFIX + 'train.json'\n",
    "cfg.data.train.pipeline[2]['img_scale'] = (512, 512)\n",
    "\n",
    "cfg.data.val.classes = classes\n",
    "cfg.data.val.img_prefix = PREFIX\n",
    "cfg.data.val.ann_file = PREFIX + 'val.json'\n",
    "cfg.data.val.pipeline[1]['img_scale'] = (512, 512)\n",
    "\n",
    "cfg.data.test.classes = classes\n",
    "cfg.data.test.img_prefix = PREFIX\n",
    "cfg.data.test.ann_file = PREFIX + 'test.json'\n",
    "cfg.data.test.pipeline[1]['img_scale'] = (512, 512)\n",
    "\n",
    "cfg.data.samples_per_gpu = 4\n",
    "\n",
    "cfg.seed=2020\n",
    "cfg.gpu_ids = [0]\n",
    "cfg.work_dir = './work_dirs/faster_rcnn_r50_pafpn_1x_trash'\n",
    "\n",
    "\n",
    "cfg.model.roi_head.bbox_head.num_classes = 11\n",
    "print(cfg.model)\n",
    "\n",
    "cfg.optimizer_config.grad_clip = dict(max_norm=35, norm_type=2)"
   ]
  },
  {
   "cell_type": "code",
   "execution_count": 3,
   "metadata": {
    "pycharm": {
     "name": "#%%\n"
    }
   },
   "outputs": [
    {
     "name": "stderr",
     "output_type": "stream",
     "text": [
      "2021-05-11 04:20:03,998 - mmdet - INFO - load model from: torchvision://resnet50\n",
      "2021-05-11 04:20:03,999 - mmdet - INFO - Use load_from_torchvision loader\n",
      "2021-05-11 04:20:04,251 - mmdet - WARNING - The model and loaded state dict do not match exactly\n",
      "\n",
      "unexpected key in source state_dict: fc.weight, fc.bias\n",
      "\n"
     ]
    }
   ],
   "source": [
    "model = build_detector(cfg.model)"
   ]
  },
  {
   "cell_type": "code",
   "execution_count": 4,
   "metadata": {
    "pycharm": {
     "name": "#%%\n"
    }
   },
   "outputs": [
    {
     "name": "stdout",
     "output_type": "stream",
     "text": [
      "loading annotations into memory...\n",
      "Done (t=3.54s)\n",
      "creating index...\n",
      "index created!\n"
     ]
    }
   ],
   "source": [
    "datasets = [build_dataset(cfg.data.train)]"
   ]
  },
  {
   "cell_type": "code",
   "execution_count": 5,
   "metadata": {
    "pycharm": {
     "name": "#%%\n"
    }
   },
   "outputs": [
    {
     "name": "stdout",
     "output_type": "stream",
     "text": [
      "loading annotations into memory...\n"
     ]
    },
    {
     "name": "stderr",
     "output_type": "stream",
     "text": [
      "2021-05-11 04:20:12,337 - mmdet - INFO - Start running, host: root@a1b075ba2232, work_dir: /opt/ml/code/mmdetection_trash/work_dirs/faster_rcnn_r50_pafpn_1x_trash\n",
      "2021-05-11 04:20:12,337 - mmdet - INFO - workflow: [('train', 1)], max: 12 epochs\n"
     ]
    },
    {
     "name": "stdout",
     "output_type": "stream",
     "text": [
      "Done (t=1.22s)\n",
      "creating index...\n",
      "index created!\n"
     ]
    },
    {
     "name": "stderr",
     "output_type": "stream",
     "text": [
      "2021-05-11 04:20:31,639 - mmdet - INFO - Epoch [1][50/655]\tlr: 1.978e-03, eta: 0:50:14, time: 0.386, data_time: 0.050, memory: 2159, loss_rpn_cls: 0.5449, loss_rpn_bbox: 0.0890, loss_cls: 0.6486, acc: 88.1113, loss_bbox: 0.1236, loss: 1.4060, grad_norm: 6.7127\n",
      "2021-05-11 04:20:48,672 - mmdet - INFO - Epoch [1][100/655]\tlr: 3.976e-03, eta: 0:46:59, time: 0.341, data_time: 0.006, memory: 2159, loss_rpn_cls: 0.2337, loss_rpn_bbox: 0.0841, loss_cls: 0.4334, acc: 90.7246, loss_bbox: 0.3411, loss: 1.0922, grad_norm: 2.8973\n",
      "2021-05-11 04:21:05,590 - mmdet - INFO - Epoch [1][150/655]\tlr: 5.974e-03, eta: 0:45:36, time: 0.338, data_time: 0.006, memory: 2159, loss_rpn_cls: 0.1748, loss_rpn_bbox: 0.0719, loss_cls: 0.4141, acc: 90.5479, loss_bbox: 0.3582, loss: 1.0190, grad_norm: 3.3244\n",
      "2021-05-11 04:21:22,362 - mmdet - INFO - Epoch [1][200/655]\tlr: 7.972e-03, eta: 0:44:41, time: 0.335, data_time: 0.006, memory: 2159, loss_rpn_cls: 0.1562, loss_rpn_bbox: 0.0793, loss_cls: 0.4330, acc: 89.2041, loss_bbox: 0.4058, loss: 1.0742, grad_norm: 3.6524\n",
      "2021-05-11 04:21:39,528 - mmdet - INFO - Epoch [1][250/655]\tlr: 9.970e-03, eta: 0:44:13, time: 0.343, data_time: 0.006, memory: 2159, loss_rpn_cls: 0.1682, loss_rpn_bbox: 0.0770, loss_cls: 0.4461, acc: 89.2969, loss_bbox: 0.3952, loss: 1.0864, grad_norm: 3.6895\n",
      "2021-05-11 04:21:56,480 - mmdet - INFO - Epoch [1][300/655]\tlr: 1.197e-02, eta: 0:43:44, time: 0.339, data_time: 0.006, memory: 2159, loss_rpn_cls: 0.1738, loss_rpn_bbox: 0.0830, loss_cls: 0.4338, acc: 88.9131, loss_bbox: 0.4152, loss: 1.1058, grad_norm: 3.4889\n",
      "2021-05-11 04:22:13,256 - mmdet - INFO - Epoch [1][350/655]\tlr: 1.397e-02, eta: 0:43:14, time: 0.336, data_time: 0.006, memory: 2159, loss_rpn_cls: 0.1644, loss_rpn_bbox: 0.0889, loss_cls: 0.4714, acc: 88.3398, loss_bbox: 0.4023, loss: 1.1269, grad_norm: 3.3841\n",
      "2021-05-11 04:22:29,854 - mmdet - INFO - Epoch [1][400/655]\tlr: 1.596e-02, eta: 0:42:44, time: 0.332, data_time: 0.006, memory: 2159, loss_rpn_cls: 0.1487, loss_rpn_bbox: 0.0843, loss_cls: 0.4685, acc: 88.1465, loss_bbox: 0.4188, loss: 1.1202, grad_norm: 3.1013\n",
      "2021-05-11 04:22:46,391 - mmdet - INFO - Epoch [1][450/655]\tlr: 1.796e-02, eta: 0:42:16, time: 0.331, data_time: 0.006, memory: 2159, loss_rpn_cls: 0.1456, loss_rpn_bbox: 0.0848, loss_cls: 0.4635, acc: 88.1230, loss_bbox: 0.4119, loss: 1.1058, grad_norm: 2.8289\n",
      "2021-05-11 04:23:02,883 - mmdet - INFO - Epoch [1][500/655]\tlr: 1.996e-02, eta: 0:41:50, time: 0.330, data_time: 0.006, memory: 2159, loss_rpn_cls: 0.1402, loss_rpn_bbox: 0.0777, loss_cls: 0.4664, acc: 88.9131, loss_bbox: 0.3896, loss: 1.0740, grad_norm: 2.6728\n",
      "2021-05-11 04:23:19,522 - mmdet - INFO - Epoch [1][550/655]\tlr: 2.000e-02, eta: 0:41:27, time: 0.333, data_time: 0.006, memory: 2159, loss_rpn_cls: 0.1361, loss_rpn_bbox: 0.0842, loss_cls: 0.4925, acc: 88.0918, loss_bbox: 0.4056, loss: 1.1184, grad_norm: 2.6725\n",
      "2021-05-11 04:23:36,098 - mmdet - INFO - Epoch [1][600/655]\tlr: 2.000e-02, eta: 0:41:05, time: 0.332, data_time: 0.006, memory: 2159, loss_rpn_cls: 0.1045, loss_rpn_bbox: 0.0696, loss_cls: 0.4192, acc: 89.3096, loss_bbox: 0.3705, loss: 0.9638, grad_norm: 2.4746\n",
      "2021-05-11 04:23:52,932 - mmdet - INFO - Epoch [1][650/655]\tlr: 2.000e-02, eta: 0:40:46, time: 0.337, data_time: 0.006, memory: 2159, loss_rpn_cls: 0.2074, loss_rpn_bbox: 0.0857, loss_cls: 0.4124, acc: 90.1689, loss_bbox: 0.3148, loss: 1.0203, grad_norm: 3.2089\n",
      "2021-05-11 04:23:54,630 - mmdet - INFO - Saving checkpoint at 1 epochs\n"
     ]
    },
    {
     "name": "stdout",
     "output_type": "stream",
     "text": [
      "[>>>>>>>>>>>>>>>>>>>>>>>>>>>>>] 655/655, 21.8 task/s, elapsed: 30s, ETA:     0s"
     ]
    },
    {
     "name": "stderr",
     "output_type": "stream",
     "text": [
      "2021-05-11 04:24:26,774 - mmdet - INFO - Evaluating bbox...\n"
     ]
    },
    {
     "name": "stdout",
     "output_type": "stream",
     "text": [
      "Loading and preparing results...\n",
      "DONE (t=0.73s)\n",
      "creating index...\n",
      "index created!\n",
      "Running per image evaluation...\n",
      "Evaluate annotation type *bbox*\n",
      "DONE (t=7.11s).\n",
      "Accumulating evaluation results...\n"
     ]
    },
    {
     "name": "stderr",
     "output_type": "stream",
     "text": [
      "2021-05-11 04:24:35,925 - mmdet - INFO - Epoch(val) [1][655]\tbbox_mAP: 0.0110, bbox_mAP_50: 0.0320, bbox_mAP_75: 0.0060, bbox_mAP_s: 0.0050, bbox_mAP_m: 0.0180, bbox_mAP_l: 0.0270, bbox_mAP_copypaste: 0.011 0.032 0.006 0.005 0.018 0.027\n"
     ]
    },
    {
     "name": "stdout",
     "output_type": "stream",
     "text": [
      "DONE (t=1.21s).\n",
      "Average Precision  (AP) @[ IoU=0.50:0.95 | area=   all | maxDets=100 ] = 0.011\n",
      "Average Precision  (AP) @[ IoU=0.50      | area=   all | maxDets=1000 ] = 0.032\n",
      "Average Precision  (AP) @[ IoU=0.75      | area=   all | maxDets=1000 ] = 0.006\n",
      "Average Precision  (AP) @[ IoU=0.50:0.95 | area= small | maxDets=1000 ] = 0.005\n",
      "Average Precision  (AP) @[ IoU=0.50:0.95 | area=medium | maxDets=1000 ] = 0.018\n",
      "Average Precision  (AP) @[ IoU=0.50:0.95 | area= large | maxDets=1000 ] = 0.027\n",
      "Average Recall     (AR) @[ IoU=0.50:0.95 | area=   all | maxDets=100 ] = 0.066\n",
      "Average Recall     (AR) @[ IoU=0.50:0.95 | area=   all | maxDets=300 ] = 0.066\n",
      "Average Recall     (AR) @[ IoU=0.50:0.95 | area=   all | maxDets=1000 ] = 0.066\n",
      "Average Recall     (AR) @[ IoU=0.50:0.95 | area= small | maxDets=1000 ] = 0.027\n",
      "Average Recall     (AR) @[ IoU=0.50:0.95 | area=medium | maxDets=1000 ] = 0.061\n",
      "Average Recall     (AR) @[ IoU=0.50:0.95 | area= large | maxDets=1000 ] = 0.124\n"
     ]
    },
    {
     "name": "stderr",
     "output_type": "stream",
     "text": [
      "2021-05-11 04:24:54,645 - mmdet - INFO - Epoch [2][50/655]\tlr: 2.000e-02, eta: 0:40:28, time: 0.374, data_time: 0.050, memory: 2159, loss_rpn_cls: 0.1263, loss_rpn_bbox: 0.0706, loss_cls: 0.4089, acc: 89.7598, loss_bbox: 0.3318, loss: 0.9376, grad_norm: 2.0554\n",
      "2021-05-11 04:25:11,031 - mmdet - INFO - Epoch [2][100/655]\tlr: 2.000e-02, eta: 0:40:06, time: 0.328, data_time: 0.006, memory: 2159, loss_rpn_cls: 0.1317, loss_rpn_bbox: 0.0786, loss_cls: 0.4395, acc: 88.7051, loss_bbox: 0.3615, loss: 1.0113, grad_norm: 2.3583\n",
      "2021-05-11 04:25:27,614 - mmdet - INFO - Epoch [2][150/655]\tlr: 2.000e-02, eta: 0:39:46, time: 0.332, data_time: 0.006, memory: 2159, loss_rpn_cls: 0.1301, loss_rpn_bbox: 0.0737, loss_cls: 0.4494, acc: 88.2832, loss_bbox: 0.3853, loss: 1.0385, grad_norm: 2.1628\n",
      "2021-05-11 04:25:44,099 - mmdet - INFO - Epoch [2][200/655]\tlr: 2.000e-02, eta: 0:39:25, time: 0.330, data_time: 0.006, memory: 2159, loss_rpn_cls: 0.1036, loss_rpn_bbox: 0.0626, loss_cls: 0.3862, acc: 89.9492, loss_bbox: 0.3215, loss: 0.8739, grad_norm: 2.1524\n",
      "2021-05-11 04:26:00,533 - mmdet - INFO - Epoch [2][250/655]\tlr: 2.000e-02, eta: 0:39:05, time: 0.329, data_time: 0.006, memory: 2159, loss_rpn_cls: 0.0987, loss_rpn_bbox: 0.0648, loss_cls: 0.4194, acc: 88.7598, loss_bbox: 0.3626, loss: 0.9455, grad_norm: 2.0426\n",
      "2021-05-11 04:26:17,069 - mmdet - INFO - Epoch [2][300/655]\tlr: 2.000e-02, eta: 0:38:46, time: 0.331, data_time: 0.006, memory: 2159, loss_rpn_cls: 0.1033, loss_rpn_bbox: 0.0675, loss_cls: 0.4298, acc: 88.6914, loss_bbox: 0.3618, loss: 0.9624, grad_norm: 2.1059\n",
      "2021-05-11 04:26:33,571 - mmdet - INFO - Epoch [2][350/655]\tlr: 2.000e-02, eta: 0:38:26, time: 0.330, data_time: 0.006, memory: 2159, loss_rpn_cls: 0.1050, loss_rpn_bbox: 0.0672, loss_cls: 0.4102, acc: 89.2617, loss_bbox: 0.3568, loss: 0.9392, grad_norm: 2.0860\n",
      "2021-05-11 04:26:50,250 - mmdet - INFO - Epoch [2][400/655]\tlr: 2.000e-02, eta: 0:38:09, time: 0.334, data_time: 0.006, memory: 2159, loss_rpn_cls: 0.1142, loss_rpn_bbox: 0.0833, loss_cls: 0.4328, acc: 87.9287, loss_bbox: 0.3931, loss: 1.0234, grad_norm: 2.2259\n",
      "2021-05-11 04:27:06,930 - mmdet - INFO - Epoch [2][450/655]\tlr: 2.000e-02, eta: 0:37:51, time: 0.334, data_time: 0.006, memory: 2159, loss_rpn_cls: 0.1019, loss_rpn_bbox: 0.0701, loss_cls: 0.4267, acc: 88.3848, loss_bbox: 0.3715, loss: 0.9703, grad_norm: 2.1350\n",
      "2021-05-11 04:27:23,457 - mmdet - INFO - Epoch [2][500/655]\tlr: 2.000e-02, eta: 0:37:33, time: 0.331, data_time: 0.006, memory: 2159, loss_rpn_cls: 0.1054, loss_rpn_bbox: 0.0661, loss_cls: 0.4007, acc: 89.2627, loss_bbox: 0.3437, loss: 0.9159, grad_norm: 2.1852\n",
      "2021-05-11 04:27:39,883 - mmdet - INFO - Epoch [2][550/655]\tlr: 2.000e-02, eta: 0:37:14, time: 0.329, data_time: 0.006, memory: 2159, loss_rpn_cls: 0.1009, loss_rpn_bbox: 0.0721, loss_cls: 0.4348, acc: 88.0889, loss_bbox: 0.3687, loss: 0.9765, grad_norm: 2.0757\n",
      "2021-05-11 04:27:56,349 - mmdet - INFO - Epoch [2][600/655]\tlr: 2.000e-02, eta: 0:36:55, time: 0.329, data_time: 0.006, memory: 2159, loss_rpn_cls: 0.1253, loss_rpn_bbox: 0.0742, loss_cls: 0.4362, acc: 88.3955, loss_bbox: 0.3649, loss: 1.0006, grad_norm: 2.2789\n",
      "2021-05-11 04:28:12,849 - mmdet - INFO - Epoch [2][650/655]\tlr: 2.000e-02, eta: 0:36:37, time: 0.330, data_time: 0.006, memory: 2159, loss_rpn_cls: 0.1151, loss_rpn_bbox: 0.0757, loss_cls: 0.4126, acc: 88.7725, loss_bbox: 0.3642, loss: 0.9675, grad_norm: 2.0383\n",
      "2021-05-11 04:28:14,580 - mmdet - INFO - Saving checkpoint at 2 epochs\n"
     ]
    },
    {
     "name": "stdout",
     "output_type": "stream",
     "text": [
      "[>>>>>>>>>>>>>>>>>>>>>>>>>>>>>] 655/655, 21.6 task/s, elapsed: 30s, ETA:     0s"
     ]
    },
    {
     "name": "stderr",
     "output_type": "stream",
     "text": [
      "2021-05-11 04:28:46,419 - mmdet - INFO - Evaluating bbox...\n"
     ]
    },
    {
     "name": "stdout",
     "output_type": "stream",
     "text": [
      "Loading and preparing results...\n",
      "DONE (t=0.75s)\n",
      "creating index...\n",
      "index created!\n",
      "Running per image evaluation...\n",
      "Evaluate annotation type *bbox*\n",
      "DONE (t=6.64s).\n",
      "Accumulating evaluation results...\n"
     ]
    },
    {
     "name": "stderr",
     "output_type": "stream",
     "text": [
      "2021-05-11 04:28:55,045 - mmdet - INFO - Epoch(val) [2][655]\tbbox_mAP: 0.0600, bbox_mAP_50: 0.1190, bbox_mAP_75: 0.0560, bbox_mAP_s: 0.0160, bbox_mAP_m: 0.0550, bbox_mAP_l: 0.1120, bbox_mAP_copypaste: 0.060 0.119 0.056 0.016 0.055 0.112\n"
     ]
    },
    {
     "name": "stdout",
     "output_type": "stream",
     "text": [
      "DONE (t=1.12s).\n",
      "Average Precision  (AP) @[ IoU=0.50:0.95 | area=   all | maxDets=100 ] = 0.060\n",
      "Average Precision  (AP) @[ IoU=0.50      | area=   all | maxDets=1000 ] = 0.119\n",
      "Average Precision  (AP) @[ IoU=0.75      | area=   all | maxDets=1000 ] = 0.056\n",
      "Average Precision  (AP) @[ IoU=0.50:0.95 | area= small | maxDets=1000 ] = 0.016\n",
      "Average Precision  (AP) @[ IoU=0.50:0.95 | area=medium | maxDets=1000 ] = 0.055\n",
      "Average Precision  (AP) @[ IoU=0.50:0.95 | area= large | maxDets=1000 ] = 0.112\n",
      "Average Recall     (AR) @[ IoU=0.50:0.95 | area=   all | maxDets=100 ] = 0.169\n",
      "Average Recall     (AR) @[ IoU=0.50:0.95 | area=   all | maxDets=300 ] = 0.169\n",
      "Average Recall     (AR) @[ IoU=0.50:0.95 | area=   all | maxDets=1000 ] = 0.169\n",
      "Average Recall     (AR) @[ IoU=0.50:0.95 | area= small | maxDets=1000 ] = 0.049\n",
      "Average Recall     (AR) @[ IoU=0.50:0.95 | area=medium | maxDets=1000 ] = 0.151\n",
      "Average Recall     (AR) @[ IoU=0.50:0.95 | area= large | maxDets=1000 ] = 0.325\n"
     ]
    },
    {
     "name": "stderr",
     "output_type": "stream",
     "text": [
      "2021-05-11 04:29:13,826 - mmdet - INFO - Epoch [3][50/655]\tlr: 2.000e-02, eta: 0:36:20, time: 0.375, data_time: 0.051, memory: 2159, loss_rpn_cls: 0.0923, loss_rpn_bbox: 0.0680, loss_cls: 0.4104, acc: 88.9414, loss_bbox: 0.3609, loss: 0.9316, grad_norm: 2.2440\n",
      "2021-05-11 04:29:30,327 - mmdet - INFO - Epoch [3][100/655]\tlr: 2.000e-02, eta: 0:36:02, time: 0.330, data_time: 0.006, memory: 2159, loss_rpn_cls: 0.0885, loss_rpn_bbox: 0.0667, loss_cls: 0.3893, acc: 89.4209, loss_bbox: 0.3252, loss: 0.8698, grad_norm: 2.0957\n",
      "2021-05-11 04:29:46,572 - mmdet - INFO - Epoch [3][150/655]\tlr: 2.000e-02, eta: 0:35:43, time: 0.325, data_time: 0.006, memory: 2159, loss_rpn_cls: 0.0930, loss_rpn_bbox: 0.0669, loss_cls: 0.4115, acc: 88.4609, loss_bbox: 0.3735, loss: 0.9448, grad_norm: 2.2745\n",
      "2021-05-11 04:30:02,936 - mmdet - INFO - Epoch [3][200/655]\tlr: 2.000e-02, eta: 0:35:25, time: 0.327, data_time: 0.006, memory: 2159, loss_rpn_cls: 0.0898, loss_rpn_bbox: 0.0588, loss_cls: 0.3919, acc: 89.3809, loss_bbox: 0.3343, loss: 0.8749, grad_norm: 2.1036\n",
      "2021-05-11 04:30:19,709 - mmdet - INFO - Epoch [3][250/655]\tlr: 2.000e-02, eta: 0:35:08, time: 0.335, data_time: 0.006, memory: 2159, loss_rpn_cls: 0.0888, loss_rpn_bbox: 0.0603, loss_cls: 0.3918, acc: 89.1426, loss_bbox: 0.3406, loss: 0.8816, grad_norm: 2.1638\n",
      "2021-05-11 04:30:36,162 - mmdet - INFO - Epoch [3][300/655]\tlr: 2.000e-02, eta: 0:34:50, time: 0.329, data_time: 0.006, memory: 2159, loss_rpn_cls: 0.0884, loss_rpn_bbox: 0.0590, loss_cls: 0.3949, acc: 89.2344, loss_bbox: 0.3400, loss: 0.8823, grad_norm: 2.1598\n",
      "2021-05-11 04:30:52,621 - mmdet - INFO - Epoch [3][350/655]\tlr: 2.000e-02, eta: 0:34:33, time: 0.329, data_time: 0.006, memory: 2159, loss_rpn_cls: 0.0969, loss_rpn_bbox: 0.0712, loss_cls: 0.4018, acc: 89.1396, loss_bbox: 0.3413, loss: 0.9112, grad_norm: 2.1007\n",
      "2021-05-11 04:31:09,178 - mmdet - INFO - Epoch [3][400/655]\tlr: 2.000e-02, eta: 0:34:15, time: 0.331, data_time: 0.006, memory: 2159, loss_rpn_cls: 0.0954, loss_rpn_bbox: 0.0691, loss_cls: 0.4051, acc: 88.5615, loss_bbox: 0.3650, loss: 0.9346, grad_norm: 2.1706\n",
      "2021-05-11 04:31:25,388 - mmdet - INFO - Epoch [3][450/655]\tlr: 2.000e-02, eta: 0:33:57, time: 0.324, data_time: 0.006, memory: 2159, loss_rpn_cls: 0.0976, loss_rpn_bbox: 0.0626, loss_cls: 0.3836, acc: 89.1426, loss_bbox: 0.3406, loss: 0.8844, grad_norm: 2.1565\n",
      "2021-05-11 04:31:41,514 - mmdet - INFO - Epoch [3][500/655]\tlr: 2.000e-02, eta: 0:33:38, time: 0.323, data_time: 0.006, memory: 2159, loss_rpn_cls: 0.1008, loss_rpn_bbox: 0.0724, loss_cls: 0.4162, acc: 88.6406, loss_bbox: 0.3499, loss: 0.9393, grad_norm: 2.2453\n",
      "2021-05-11 04:31:57,724 - mmdet - INFO - Epoch [3][550/655]\tlr: 2.000e-02, eta: 0:33:20, time: 0.324, data_time: 0.006, memory: 2159, loss_rpn_cls: 0.0791, loss_rpn_bbox: 0.0616, loss_cls: 0.4004, acc: 88.9932, loss_bbox: 0.3459, loss: 0.8871, grad_norm: 2.0019\n",
      "2021-05-11 04:32:14,176 - mmdet - INFO - Epoch [3][600/655]\tlr: 2.000e-02, eta: 0:33:03, time: 0.329, data_time: 0.006, memory: 2159, loss_rpn_cls: 0.0897, loss_rpn_bbox: 0.0608, loss_cls: 0.3974, acc: 89.0625, loss_bbox: 0.3413, loss: 0.8891, grad_norm: 2.0444\n",
      "2021-05-11 04:32:30,627 - mmdet - INFO - Epoch [3][650/655]\tlr: 2.000e-02, eta: 0:32:45, time: 0.329, data_time: 0.006, memory: 2159, loss_rpn_cls: 0.0895, loss_rpn_bbox: 0.0759, loss_cls: 0.4015, acc: 88.4268, loss_bbox: 0.3648, loss: 0.9317, grad_norm: 2.0840\n",
      "2021-05-11 04:32:32,413 - mmdet - INFO - Saving checkpoint at 3 epochs\n"
     ]
    },
    {
     "name": "stdout",
     "output_type": "stream",
     "text": [
      "[>>>>>>>>>>>>>>>>>>>>>>>>>>>>>] 655/655, 20.8 task/s, elapsed: 31s, ETA:     0s"
     ]
    },
    {
     "name": "stderr",
     "output_type": "stream",
     "text": [
      "2021-05-11 04:33:05,975 - mmdet - INFO - Evaluating bbox...\n"
     ]
    },
    {
     "name": "stdout",
     "output_type": "stream",
     "text": [
      "Loading and preparing results...\n",
      "DONE (t=0.61s)\n",
      "creating index...\n",
      "index created!\n",
      "Running per image evaluation...\n",
      "Evaluate annotation type *bbox*\n",
      "DONE (t=6.82s).\n",
      "Accumulating evaluation results...\n"
     ]
    },
    {
     "name": "stderr",
     "output_type": "stream",
     "text": [
      "2021-05-11 04:33:14,713 - mmdet - INFO - Epoch(val) [3][655]\tbbox_mAP: 0.0700, bbox_mAP_50: 0.1350, bbox_mAP_75: 0.0660, bbox_mAP_s: 0.0170, bbox_mAP_m: 0.0700, bbox_mAP_l: 0.1300, bbox_mAP_copypaste: 0.070 0.135 0.066 0.017 0.070 0.130\n"
     ]
    },
    {
     "name": "stdout",
     "output_type": "stream",
     "text": [
      "DONE (t=1.20s).\n",
      "Average Precision  (AP) @[ IoU=0.50:0.95 | area=   all | maxDets=100 ] = 0.070\n",
      "Average Precision  (AP) @[ IoU=0.50      | area=   all | maxDets=1000 ] = 0.135\n",
      "Average Precision  (AP) @[ IoU=0.75      | area=   all | maxDets=1000 ] = 0.066\n",
      "Average Precision  (AP) @[ IoU=0.50:0.95 | area= small | maxDets=1000 ] = 0.017\n",
      "Average Precision  (AP) @[ IoU=0.50:0.95 | area=medium | maxDets=1000 ] = 0.070\n",
      "Average Precision  (AP) @[ IoU=0.50:0.95 | area= large | maxDets=1000 ] = 0.130\n",
      "Average Recall     (AR) @[ IoU=0.50:0.95 | area=   all | maxDets=100 ] = 0.174\n",
      "Average Recall     (AR) @[ IoU=0.50:0.95 | area=   all | maxDets=300 ] = 0.174\n",
      "Average Recall     (AR) @[ IoU=0.50:0.95 | area=   all | maxDets=1000 ] = 0.174\n",
      "Average Recall     (AR) @[ IoU=0.50:0.95 | area= small | maxDets=1000 ] = 0.057\n",
      "Average Recall     (AR) @[ IoU=0.50:0.95 | area=medium | maxDets=1000 ] = 0.166\n",
      "Average Recall     (AR) @[ IoU=0.50:0.95 | area= large | maxDets=1000 ] = 0.300\n"
     ]
    },
    {
     "name": "stderr",
     "output_type": "stream",
     "text": [
      "2021-05-11 04:33:33,637 - mmdet - INFO - Epoch [4][50/655]\tlr: 2.000e-02, eta: 0:32:29, time: 0.378, data_time: 0.051, memory: 2159, loss_rpn_cls: 0.0853, loss_rpn_bbox: 0.0629, loss_cls: 0.3848, acc: 89.2285, loss_bbox: 0.3303, loss: 0.8633, grad_norm: 2.1256\n",
      "2021-05-11 04:33:50,492 - mmdet - INFO - Epoch [4][100/655]\tlr: 2.000e-02, eta: 0:32:13, time: 0.337, data_time: 0.006, memory: 2159, loss_rpn_cls: 0.0919, loss_rpn_bbox: 0.0686, loss_cls: 0.3820, acc: 89.1943, loss_bbox: 0.3354, loss: 0.8779, grad_norm: 2.3008\n",
      "2021-05-11 04:34:07,735 - mmdet - INFO - Epoch [4][150/655]\tlr: 2.000e-02, eta: 0:31:57, time: 0.345, data_time: 0.006, memory: 2159, loss_rpn_cls: 0.0847, loss_rpn_bbox: 0.0619, loss_cls: 0.3774, acc: 89.2021, loss_bbox: 0.3438, loss: 0.8678, grad_norm: 2.0894\n",
      "2021-05-11 04:34:24,346 - mmdet - INFO - Epoch [4][200/655]\tlr: 2.000e-02, eta: 0:31:41, time: 0.332, data_time: 0.006, memory: 2159, loss_rpn_cls: 0.0736, loss_rpn_bbox: 0.0580, loss_cls: 0.3727, acc: 89.3799, loss_bbox: 0.3341, loss: 0.8384, grad_norm: 2.1016\n",
      "2021-05-11 04:34:40,724 - mmdet - INFO - Epoch [4][250/655]\tlr: 2.000e-02, eta: 0:31:23, time: 0.328, data_time: 0.006, memory: 2159, loss_rpn_cls: 0.0970, loss_rpn_bbox: 0.0722, loss_cls: 0.4074, acc: 88.9863, loss_bbox: 0.3470, loss: 0.9234, grad_norm: 2.2635\n",
      "2021-05-11 04:34:57,023 - mmdet - INFO - Epoch [4][300/655]\tlr: 2.000e-02, eta: 0:31:05, time: 0.326, data_time: 0.006, memory: 2159, loss_rpn_cls: 0.0774, loss_rpn_bbox: 0.0539, loss_cls: 0.3586, acc: 89.6182, loss_bbox: 0.3182, loss: 0.8081, grad_norm: 2.2022\n",
      "2021-05-11 04:35:13,422 - mmdet - INFO - Epoch [4][350/655]\tlr: 2.000e-02, eta: 0:30:48, time: 0.328, data_time: 0.006, memory: 2159, loss_rpn_cls: 0.0765, loss_rpn_bbox: 0.0578, loss_cls: 0.3895, acc: 89.1514, loss_bbox: 0.3479, loss: 0.8717, grad_norm: 2.1478\n",
      "2021-05-11 04:35:29,633 - mmdet - INFO - Epoch [4][400/655]\tlr: 2.000e-02, eta: 0:30:30, time: 0.324, data_time: 0.006, memory: 2159, loss_rpn_cls: 0.0903, loss_rpn_bbox: 0.0661, loss_cls: 0.3770, acc: 89.3330, loss_bbox: 0.3217, loss: 0.8551, grad_norm: 2.2205\n",
      "2021-05-11 04:35:46,014 - mmdet - INFO - Epoch [4][450/655]\tlr: 2.000e-02, eta: 0:30:13, time: 0.328, data_time: 0.006, memory: 2159, loss_rpn_cls: 0.0906, loss_rpn_bbox: 0.0607, loss_cls: 0.3881, acc: 89.0420, loss_bbox: 0.3312, loss: 0.8705, grad_norm: 2.1770\n",
      "2021-05-11 04:36:02,398 - mmdet - INFO - Epoch [4][500/655]\tlr: 2.000e-02, eta: 0:29:56, time: 0.328, data_time: 0.006, memory: 2159, loss_rpn_cls: 0.0820, loss_rpn_bbox: 0.0606, loss_cls: 0.3969, acc: 88.5791, loss_bbox: 0.3417, loss: 0.8812, grad_norm: 2.1637\n",
      "2021-05-11 04:36:18,731 - mmdet - INFO - Epoch [4][550/655]\tlr: 2.000e-02, eta: 0:29:38, time: 0.327, data_time: 0.006, memory: 2159, loss_rpn_cls: 0.0952, loss_rpn_bbox: 0.0689, loss_cls: 0.3984, acc: 88.5098, loss_bbox: 0.3624, loss: 0.9249, grad_norm: 2.3355\n",
      "2021-05-11 04:36:35,069 - mmdet - INFO - Epoch [4][600/655]\tlr: 2.000e-02, eta: 0:29:21, time: 0.327, data_time: 0.006, memory: 2159, loss_rpn_cls: 0.0827, loss_rpn_bbox: 0.0587, loss_cls: 0.3848, acc: 89.1201, loss_bbox: 0.3485, loss: 0.8747, grad_norm: 2.2062\n",
      "2021-05-11 04:36:51,331 - mmdet - INFO - Epoch [4][650/655]\tlr: 2.000e-02, eta: 0:29:04, time: 0.325, data_time: 0.006, memory: 2159, loss_rpn_cls: 0.0771, loss_rpn_bbox: 0.0601, loss_cls: 0.3832, acc: 89.2373, loss_bbox: 0.3325, loss: 0.8529, grad_norm: 1.9695\n",
      "2021-05-11 04:36:53,030 - mmdet - INFO - Saving checkpoint at 4 epochs\n"
     ]
    },
    {
     "name": "stdout",
     "output_type": "stream",
     "text": [
      "[>>>>>>>>>>>>>>>>>>>>>>>>>>>>>] 655/655, 21.6 task/s, elapsed: 30s, ETA:     0s"
     ]
    },
    {
     "name": "stderr",
     "output_type": "stream",
     "text": [
      "2021-05-11 04:37:24,885 - mmdet - INFO - Evaluating bbox...\n"
     ]
    },
    {
     "name": "stdout",
     "output_type": "stream",
     "text": [
      "Loading and preparing results...\n",
      "DONE (t=1.19s)\n",
      "creating index...\n",
      "index created!\n",
      "Running per image evaluation...\n",
      "Evaluate annotation type *bbox*\n",
      "DONE (t=6.48s).\n",
      "Accumulating evaluation results...\n"
     ]
    },
    {
     "name": "stderr",
     "output_type": "stream",
     "text": [
      "2021-05-11 04:37:33,721 - mmdet - INFO - Epoch(val) [4][655]\tbbox_mAP: 0.0830, bbox_mAP_50: 0.1650, bbox_mAP_75: 0.0770, bbox_mAP_s: 0.0190, bbox_mAP_m: 0.0890, bbox_mAP_l: 0.1500, bbox_mAP_copypaste: 0.083 0.165 0.077 0.019 0.089 0.150\n"
     ]
    },
    {
     "name": "stdout",
     "output_type": "stream",
     "text": [
      "DONE (t=1.07s).\n",
      "Average Precision  (AP) @[ IoU=0.50:0.95 | area=   all | maxDets=100 ] = 0.083\n",
      "Average Precision  (AP) @[ IoU=0.50      | area=   all | maxDets=1000 ] = 0.165\n",
      "Average Precision  (AP) @[ IoU=0.75      | area=   all | maxDets=1000 ] = 0.077\n",
      "Average Precision  (AP) @[ IoU=0.50:0.95 | area= small | maxDets=1000 ] = 0.019\n",
      "Average Precision  (AP) @[ IoU=0.50:0.95 | area=medium | maxDets=1000 ] = 0.089\n",
      "Average Precision  (AP) @[ IoU=0.50:0.95 | area= large | maxDets=1000 ] = 0.150\n",
      "Average Recall     (AR) @[ IoU=0.50:0.95 | area=   all | maxDets=100 ] = 0.206\n",
      "Average Recall     (AR) @[ IoU=0.50:0.95 | area=   all | maxDets=300 ] = 0.206\n",
      "Average Recall     (AR) @[ IoU=0.50:0.95 | area=   all | maxDets=1000 ] = 0.206\n",
      "Average Recall     (AR) @[ IoU=0.50:0.95 | area= small | maxDets=1000 ] = 0.051\n",
      "Average Recall     (AR) @[ IoU=0.50:0.95 | area=medium | maxDets=1000 ] = 0.212\n",
      "Average Recall     (AR) @[ IoU=0.50:0.95 | area= large | maxDets=1000 ] = 0.369\n"
     ]
    },
    {
     "name": "stderr",
     "output_type": "stream",
     "text": [
      "2021-05-11 04:37:52,226 - mmdet - INFO - Epoch [5][50/655]\tlr: 2.000e-02, eta: 0:28:46, time: 0.370, data_time: 0.051, memory: 2159, loss_rpn_cls: 0.0710, loss_rpn_bbox: 0.0596, loss_cls: 0.3463, acc: 89.9209, loss_bbox: 0.3175, loss: 0.7944, grad_norm: 2.1440\n",
      "2021-05-11 04:38:08,607 - mmdet - INFO - Epoch [5][100/655]\tlr: 2.000e-02, eta: 0:28:29, time: 0.328, data_time: 0.006, memory: 2159, loss_rpn_cls: 0.0767, loss_rpn_bbox: 0.0594, loss_cls: 0.3632, acc: 89.2715, loss_bbox: 0.3338, loss: 0.8331, grad_norm: 2.1232\n",
      "2021-05-11 04:38:25,155 - mmdet - INFO - Epoch [5][150/655]\tlr: 2.000e-02, eta: 0:28:12, time: 0.331, data_time: 0.007, memory: 2159, loss_rpn_cls: 0.0827, loss_rpn_bbox: 0.0680, loss_cls: 0.4200, acc: 87.8828, loss_bbox: 0.3825, loss: 0.9531, grad_norm: 2.2588\n",
      "2021-05-11 04:38:41,457 - mmdet - INFO - Epoch [5][200/655]\tlr: 2.000e-02, eta: 0:27:55, time: 0.326, data_time: 0.007, memory: 2159, loss_rpn_cls: 0.0727, loss_rpn_bbox: 0.0566, loss_cls: 0.3716, acc: 89.1719, loss_bbox: 0.3350, loss: 0.8359, grad_norm: 2.2632\n",
      "2021-05-11 04:38:58,040 - mmdet - INFO - Epoch [5][250/655]\tlr: 2.000e-02, eta: 0:27:38, time: 0.332, data_time: 0.006, memory: 2159, loss_rpn_cls: 0.0718, loss_rpn_bbox: 0.0641, loss_cls: 0.3817, acc: 89.0459, loss_bbox: 0.3381, loss: 0.8557, grad_norm: 2.2280\n",
      "2021-05-11 04:39:14,346 - mmdet - INFO - Epoch [5][300/655]\tlr: 2.000e-02, eta: 0:27:21, time: 0.326, data_time: 0.006, memory: 2159, loss_rpn_cls: 0.0755, loss_rpn_bbox: 0.0619, loss_cls: 0.3661, acc: 89.6475, loss_bbox: 0.3106, loss: 0.8140, grad_norm: 2.1292\n",
      "2021-05-11 04:39:30,808 - mmdet - INFO - Epoch [5][350/655]\tlr: 2.000e-02, eta: 0:27:04, time: 0.329, data_time: 0.006, memory: 2159, loss_rpn_cls: 0.0713, loss_rpn_bbox: 0.0593, loss_cls: 0.3770, acc: 89.1270, loss_bbox: 0.3328, loss: 0.8405, grad_norm: 2.1710\n",
      "2021-05-11 04:39:47,275 - mmdet - INFO - Epoch [5][400/655]\tlr: 2.000e-02, eta: 0:26:47, time: 0.329, data_time: 0.006, memory: 2159, loss_rpn_cls: 0.0823, loss_rpn_bbox: 0.0574, loss_cls: 0.3341, acc: 90.4121, loss_bbox: 0.2960, loss: 0.7699, grad_norm: 2.0915\n",
      "2021-05-11 04:40:03,694 - mmdet - INFO - Epoch [5][450/655]\tlr: 2.000e-02, eta: 0:26:30, time: 0.328, data_time: 0.006, memory: 2159, loss_rpn_cls: 0.0697, loss_rpn_bbox: 0.0603, loss_cls: 0.3716, acc: 88.9443, loss_bbox: 0.3325, loss: 0.8341, grad_norm: 2.1082\n",
      "2021-05-11 04:40:20,155 - mmdet - INFO - Epoch [5][500/655]\tlr: 2.000e-02, eta: 0:26:14, time: 0.329, data_time: 0.006, memory: 2159, loss_rpn_cls: 0.0753, loss_rpn_bbox: 0.0614, loss_cls: 0.3774, acc: 89.2207, loss_bbox: 0.3465, loss: 0.8607, grad_norm: 2.1845\n",
      "2021-05-11 04:40:36,611 - mmdet - INFO - Epoch [5][550/655]\tlr: 2.000e-02, eta: 0:25:57, time: 0.329, data_time: 0.007, memory: 2159, loss_rpn_cls: 0.0711, loss_rpn_bbox: 0.0522, loss_cls: 0.3528, acc: 89.8604, loss_bbox: 0.3137, loss: 0.7898, grad_norm: 2.1770\n",
      "2021-05-11 04:40:52,953 - mmdet - INFO - Epoch [5][600/655]\tlr: 2.000e-02, eta: 0:25:40, time: 0.327, data_time: 0.007, memory: 2159, loss_rpn_cls: 0.0734, loss_rpn_bbox: 0.0646, loss_cls: 0.3470, acc: 89.6699, loss_bbox: 0.3272, loss: 0.8123, grad_norm: 2.0469\n",
      "2021-05-11 04:41:09,210 - mmdet - INFO - Epoch [5][650/655]\tlr: 2.000e-02, eta: 0:25:23, time: 0.325, data_time: 0.006, memory: 2159, loss_rpn_cls: 0.0789, loss_rpn_bbox: 0.0529, loss_cls: 0.3648, acc: 89.9629, loss_bbox: 0.2978, loss: 0.7943, grad_norm: 2.1602\n",
      "2021-05-11 04:41:10,883 - mmdet - INFO - Saving checkpoint at 5 epochs\n"
     ]
    },
    {
     "name": "stdout",
     "output_type": "stream",
     "text": [
      "[>>>>>>>>>>>>>>>>>>>>>>>>>>>>>] 655/655, 22.0 task/s, elapsed: 30s, ETA:     0s"
     ]
    },
    {
     "name": "stderr",
     "output_type": "stream",
     "text": [
      "2021-05-11 04:41:42,881 - mmdet - INFO - Evaluating bbox...\n"
     ]
    },
    {
     "name": "stdout",
     "output_type": "stream",
     "text": [
      "Loading and preparing results...\n",
      "DONE (t=0.59s)\n",
      "creating index...\n",
      "index created!\n",
      "Running per image evaluation...\n",
      "Evaluate annotation type *bbox*\n",
      "DONE (t=6.52s).\n",
      "Accumulating evaluation results...\n"
     ]
    },
    {
     "name": "stderr",
     "output_type": "stream",
     "text": [
      "2021-05-11 04:41:51,214 - mmdet - INFO - Epoch(val) [5][655]\tbbox_mAP: 0.0870, bbox_mAP_50: 0.1660, bbox_mAP_75: 0.0840, bbox_mAP_s: 0.0250, bbox_mAP_m: 0.1020, bbox_mAP_l: 0.1500, bbox_mAP_copypaste: 0.087 0.166 0.084 0.025 0.102 0.150\n"
     ]
    },
    {
     "name": "stdout",
     "output_type": "stream",
     "text": [
      "DONE (t=1.12s).\n",
      "Average Precision  (AP) @[ IoU=0.50:0.95 | area=   all | maxDets=100 ] = 0.087\n",
      "Average Precision  (AP) @[ IoU=0.50      | area=   all | maxDets=1000 ] = 0.166\n",
      "Average Precision  (AP) @[ IoU=0.75      | area=   all | maxDets=1000 ] = 0.084\n",
      "Average Precision  (AP) @[ IoU=0.50:0.95 | area= small | maxDets=1000 ] = 0.025\n",
      "Average Precision  (AP) @[ IoU=0.50:0.95 | area=medium | maxDets=1000 ] = 0.102\n",
      "Average Precision  (AP) @[ IoU=0.50:0.95 | area= large | maxDets=1000 ] = 0.150\n",
      "Average Recall     (AR) @[ IoU=0.50:0.95 | area=   all | maxDets=100 ] = 0.225\n",
      "Average Recall     (AR) @[ IoU=0.50:0.95 | area=   all | maxDets=300 ] = 0.225\n",
      "Average Recall     (AR) @[ IoU=0.50:0.95 | area=   all | maxDets=1000 ] = 0.225\n",
      "Average Recall     (AR) @[ IoU=0.50:0.95 | area= small | maxDets=1000 ] = 0.065\n",
      "Average Recall     (AR) @[ IoU=0.50:0.95 | area=medium | maxDets=1000 ] = 0.222\n",
      "Average Recall     (AR) @[ IoU=0.50:0.95 | area= large | maxDets=1000 ] = 0.400\n"
     ]
    },
    {
     "name": "stderr",
     "output_type": "stream",
     "text": [
      "2021-05-11 04:42:09,899 - mmdet - INFO - Epoch [6][50/655]\tlr: 2.000e-02, eta: 0:25:05, time: 0.374, data_time: 0.050, memory: 2159, loss_rpn_cls: 0.0684, loss_rpn_bbox: 0.0548, loss_cls: 0.3474, acc: 90.2402, loss_bbox: 0.2902, loss: 0.7609, grad_norm: 2.2207\n",
      "2021-05-11 04:42:26,454 - mmdet - INFO - Epoch [6][100/655]\tlr: 2.000e-02, eta: 0:24:48, time: 0.331, data_time: 0.006, memory: 2159, loss_rpn_cls: 0.0759, loss_rpn_bbox: 0.0629, loss_cls: 0.3511, acc: 89.5332, loss_bbox: 0.3264, loss: 0.8163, grad_norm: 2.2245\n",
      "2021-05-11 04:42:42,737 - mmdet - INFO - Epoch [6][150/655]\tlr: 2.000e-02, eta: 0:24:31, time: 0.326, data_time: 0.006, memory: 2159, loss_rpn_cls: 0.0781, loss_rpn_bbox: 0.0582, loss_cls: 0.3575, acc: 89.4600, loss_bbox: 0.3254, loss: 0.8191, grad_norm: 2.1041\n",
      "2021-05-11 04:42:59,094 - mmdet - INFO - Epoch [6][200/655]\tlr: 2.000e-02, eta: 0:24:14, time: 0.327, data_time: 0.006, memory: 2159, loss_rpn_cls: 0.0620, loss_rpn_bbox: 0.0616, loss_cls: 0.3419, acc: 89.6611, loss_bbox: 0.3240, loss: 0.7895, grad_norm: 2.1955\n",
      "2021-05-11 04:43:15,645 - mmdet - INFO - Epoch [6][250/655]\tlr: 2.000e-02, eta: 0:23:58, time: 0.331, data_time: 0.006, memory: 2159, loss_rpn_cls: 0.0730, loss_rpn_bbox: 0.0643, loss_cls: 0.3813, acc: 88.8672, loss_bbox: 0.3399, loss: 0.8586, grad_norm: 2.3230\n",
      "2021-05-11 04:43:31,979 - mmdet - INFO - Epoch [6][300/655]\tlr: 2.000e-02, eta: 0:23:41, time: 0.327, data_time: 0.006, memory: 2159, loss_rpn_cls: 0.0694, loss_rpn_bbox: 0.0652, loss_cls: 0.3543, acc: 89.4082, loss_bbox: 0.3362, loss: 0.8251, grad_norm: 2.3305\n",
      "2021-05-11 04:43:48,295 - mmdet - INFO - Epoch [6][350/655]\tlr: 2.000e-02, eta: 0:23:24, time: 0.326, data_time: 0.006, memory: 2159, loss_rpn_cls: 0.0639, loss_rpn_bbox: 0.0517, loss_cls: 0.3412, acc: 90.2939, loss_bbox: 0.3052, loss: 0.7621, grad_norm: 2.1272\n",
      "2021-05-11 04:44:04,633 - mmdet - INFO - Epoch [6][400/655]\tlr: 2.000e-02, eta: 0:23:07, time: 0.327, data_time: 0.006, memory: 2159, loss_rpn_cls: 0.0716, loss_rpn_bbox: 0.0578, loss_cls: 0.3688, acc: 89.5244, loss_bbox: 0.3305, loss: 0.8287, grad_norm: 2.2453\n",
      "2021-05-11 04:44:20,997 - mmdet - INFO - Epoch [6][450/655]\tlr: 2.000e-02, eta: 0:22:50, time: 0.327, data_time: 0.007, memory: 2159, loss_rpn_cls: 0.0577, loss_rpn_bbox: 0.0525, loss_cls: 0.3416, acc: 89.6123, loss_bbox: 0.3180, loss: 0.7698, grad_norm: 2.1149\n",
      "2021-05-11 04:44:37,410 - mmdet - INFO - Epoch [6][500/655]\tlr: 2.000e-02, eta: 0:22:34, time: 0.328, data_time: 0.006, memory: 2159, loss_rpn_cls: 0.0638, loss_rpn_bbox: 0.0527, loss_cls: 0.3607, acc: 89.5020, loss_bbox: 0.3234, loss: 0.8006, grad_norm: 2.2135\n",
      "2021-05-11 04:44:53,764 - mmdet - INFO - Epoch [6][550/655]\tlr: 2.000e-02, eta: 0:22:17, time: 0.327, data_time: 0.006, memory: 2159, loss_rpn_cls: 0.0746, loss_rpn_bbox: 0.0573, loss_cls: 0.3751, acc: 89.3516, loss_bbox: 0.3280, loss: 0.8350, grad_norm: 2.2122\n",
      "2021-05-11 04:45:10,348 - mmdet - INFO - Epoch [6][600/655]\tlr: 2.000e-02, eta: 0:22:00, time: 0.332, data_time: 0.006, memory: 2159, loss_rpn_cls: 0.0724, loss_rpn_bbox: 0.0554, loss_cls: 0.3319, acc: 90.4082, loss_bbox: 0.2917, loss: 0.7513, grad_norm: 2.0638\n",
      "2021-05-11 04:45:26,747 - mmdet - INFO - Epoch [6][650/655]\tlr: 2.000e-02, eta: 0:21:43, time: 0.328, data_time: 0.006, memory: 2159, loss_rpn_cls: 0.0702, loss_rpn_bbox: 0.0599, loss_cls: 0.3572, acc: 89.4043, loss_bbox: 0.3369, loss: 0.8241, grad_norm: 2.1703\n",
      "2021-05-11 04:45:28,457 - mmdet - INFO - Saving checkpoint at 6 epochs\n"
     ]
    },
    {
     "name": "stdout",
     "output_type": "stream",
     "text": [
      "[>>>>>>>>>>>>>>>>>>>>>>>>>>>>>] 655/655, 21.6 task/s, elapsed: 30s, ETA:     0s"
     ]
    },
    {
     "name": "stderr",
     "output_type": "stream",
     "text": [
      "2021-05-11 04:46:00,761 - mmdet - INFO - Evaluating bbox...\n"
     ]
    },
    {
     "name": "stdout",
     "output_type": "stream",
     "text": [
      "Loading and preparing results...\n",
      "DONE (t=0.65s)\n",
      "creating index...\n",
      "index created!\n",
      "Running per image evaluation...\n",
      "Evaluate annotation type *bbox*\n",
      "DONE (t=6.19s).\n",
      "Accumulating evaluation results...\n"
     ]
    },
    {
     "name": "stderr",
     "output_type": "stream",
     "text": [
      "2021-05-11 04:46:08,818 - mmdet - INFO - Epoch(val) [6][655]\tbbox_mAP: 0.1030, bbox_mAP_50: 0.1940, bbox_mAP_75: 0.1010, bbox_mAP_s: 0.0280, bbox_mAP_m: 0.0990, bbox_mAP_l: 0.1940, bbox_mAP_copypaste: 0.103 0.194 0.101 0.028 0.099 0.194\n"
     ]
    },
    {
     "name": "stdout",
     "output_type": "stream",
     "text": [
      "DONE (t=1.12s).\n",
      "Average Precision  (AP) @[ IoU=0.50:0.95 | area=   all | maxDets=100 ] = 0.103\n",
      "Average Precision  (AP) @[ IoU=0.50      | area=   all | maxDets=1000 ] = 0.194\n",
      "Average Precision  (AP) @[ IoU=0.75      | area=   all | maxDets=1000 ] = 0.101\n",
      "Average Precision  (AP) @[ IoU=0.50:0.95 | area= small | maxDets=1000 ] = 0.028\n",
      "Average Precision  (AP) @[ IoU=0.50:0.95 | area=medium | maxDets=1000 ] = 0.099\n",
      "Average Precision  (AP) @[ IoU=0.50:0.95 | area= large | maxDets=1000 ] = 0.194\n",
      "Average Recall     (AR) @[ IoU=0.50:0.95 | area=   all | maxDets=100 ] = 0.254\n",
      "Average Recall     (AR) @[ IoU=0.50:0.95 | area=   all | maxDets=300 ] = 0.254\n",
      "Average Recall     (AR) @[ IoU=0.50:0.95 | area=   all | maxDets=1000 ] = 0.254\n",
      "Average Recall     (AR) @[ IoU=0.50:0.95 | area= small | maxDets=1000 ] = 0.076\n",
      "Average Recall     (AR) @[ IoU=0.50:0.95 | area=medium | maxDets=1000 ] = 0.254\n",
      "Average Recall     (AR) @[ IoU=0.50:0.95 | area= large | maxDets=1000 ] = 0.424\n"
     ]
    },
    {
     "name": "stderr",
     "output_type": "stream",
     "text": [
      "2021-05-11 04:46:27,447 - mmdet - INFO - Epoch [7][50/655]\tlr: 2.000e-02, eta: 0:21:26, time: 0.372, data_time: 0.051, memory: 2159, loss_rpn_cls: 0.0620, loss_rpn_bbox: 0.0554, loss_cls: 0.3560, acc: 89.3213, loss_bbox: 0.3284, loss: 0.8017, grad_norm: 2.1759\n",
      "2021-05-11 04:46:43,805 - mmdet - INFO - Epoch [7][100/655]\tlr: 2.000e-02, eta: 0:21:09, time: 0.327, data_time: 0.006, memory: 2159, loss_rpn_cls: 0.0538, loss_rpn_bbox: 0.0488, loss_cls: 0.3330, acc: 90.0205, loss_bbox: 0.2953, loss: 0.7309, grad_norm: 2.1507\n",
      "2021-05-11 04:47:00,110 - mmdet - INFO - Epoch [7][150/655]\tlr: 2.000e-02, eta: 0:20:52, time: 0.326, data_time: 0.006, memory: 2159, loss_rpn_cls: 0.0619, loss_rpn_bbox: 0.0587, loss_cls: 0.3362, acc: 89.8223, loss_bbox: 0.3158, loss: 0.7725, grad_norm: 2.2482\n",
      "2021-05-11 04:47:16,342 - mmdet - INFO - Epoch [7][200/655]\tlr: 2.000e-02, eta: 0:20:35, time: 0.325, data_time: 0.006, memory: 2159, loss_rpn_cls: 0.0568, loss_rpn_bbox: 0.0571, loss_cls: 0.3110, acc: 90.6045, loss_bbox: 0.2855, loss: 0.7104, grad_norm: 2.2503\n",
      "2021-05-11 04:47:32,765 - mmdet - INFO - Epoch [7][250/655]\tlr: 2.000e-02, eta: 0:20:18, time: 0.328, data_time: 0.006, memory: 2159, loss_rpn_cls: 0.0662, loss_rpn_bbox: 0.0627, loss_cls: 0.3580, acc: 89.7070, loss_bbox: 0.3034, loss: 0.7903, grad_norm: 2.2626\n",
      "2021-05-11 04:47:49,127 - mmdet - INFO - Epoch [7][300/655]\tlr: 2.000e-02, eta: 0:20:02, time: 0.327, data_time: 0.006, memory: 2159, loss_rpn_cls: 0.0666, loss_rpn_bbox: 0.0621, loss_cls: 0.3437, acc: 89.7344, loss_bbox: 0.3116, loss: 0.7840, grad_norm: 2.2450\n",
      "2021-05-11 04:48:05,550 - mmdet - INFO - Epoch [7][350/655]\tlr: 2.000e-02, eta: 0:19:45, time: 0.328, data_time: 0.006, memory: 2159, loss_rpn_cls: 0.0682, loss_rpn_bbox: 0.0617, loss_cls: 0.3696, acc: 89.1270, loss_bbox: 0.3238, loss: 0.8234, grad_norm: 2.2605\n",
      "2021-05-11 04:48:21,857 - mmdet - INFO - Epoch [7][400/655]\tlr: 2.000e-02, eta: 0:19:28, time: 0.326, data_time: 0.006, memory: 2159, loss_rpn_cls: 0.0635, loss_rpn_bbox: 0.0504, loss_cls: 0.3318, acc: 90.0898, loss_bbox: 0.3145, loss: 0.7602, grad_norm: 2.1387\n",
      "2021-05-11 04:48:38,161 - mmdet - INFO - Epoch [7][450/655]\tlr: 2.000e-02, eta: 0:19:12, time: 0.326, data_time: 0.006, memory: 2159, loss_rpn_cls: 0.0638, loss_rpn_bbox: 0.0548, loss_cls: 0.3433, acc: 89.8037, loss_bbox: 0.3190, loss: 0.7809, grad_norm: 2.2440\n",
      "2021-05-11 04:48:54,387 - mmdet - INFO - Epoch [7][500/655]\tlr: 2.000e-02, eta: 0:18:55, time: 0.325, data_time: 0.006, memory: 2159, loss_rpn_cls: 0.0592, loss_rpn_bbox: 0.0482, loss_cls: 0.3393, acc: 90.0566, loss_bbox: 0.3060, loss: 0.7527, grad_norm: 2.1559\n",
      "2021-05-11 04:49:10,640 - mmdet - INFO - Epoch [7][550/655]\tlr: 2.000e-02, eta: 0:18:38, time: 0.325, data_time: 0.006, memory: 2159, loss_rpn_cls: 0.0644, loss_rpn_bbox: 0.0634, loss_cls: 0.3778, acc: 88.9395, loss_bbox: 0.3531, loss: 0.8586, grad_norm: 2.3812\n",
      "2021-05-11 04:49:26,826 - mmdet - INFO - Epoch [7][600/655]\tlr: 2.000e-02, eta: 0:18:21, time: 0.324, data_time: 0.006, memory: 2159, loss_rpn_cls: 0.0579, loss_rpn_bbox: 0.0502, loss_cls: 0.3127, acc: 90.6816, loss_bbox: 0.2876, loss: 0.7085, grad_norm: 2.0868\n",
      "2021-05-11 04:49:43,089 - mmdet - INFO - Epoch [7][650/655]\tlr: 2.000e-02, eta: 0:18:04, time: 0.325, data_time: 0.006, memory: 2159, loss_rpn_cls: 0.0624, loss_rpn_bbox: 0.0574, loss_cls: 0.3364, acc: 89.8389, loss_bbox: 0.3111, loss: 0.7672, grad_norm: 2.2014\n",
      "2021-05-11 04:49:44,776 - mmdet - INFO - Saving checkpoint at 7 epochs\n"
     ]
    },
    {
     "name": "stdout",
     "output_type": "stream",
     "text": [
      "[>>>>>>>>>>>>>>>>>>>>>>>>>>>>>] 655/655, 21.7 task/s, elapsed: 30s, ETA:     0s"
     ]
    },
    {
     "name": "stderr",
     "output_type": "stream",
     "text": [
      "2021-05-11 04:50:16,577 - mmdet - INFO - Evaluating bbox...\n"
     ]
    },
    {
     "name": "stdout",
     "output_type": "stream",
     "text": [
      "Loading and preparing results...\n",
      "DONE (t=1.11s)\n",
      "creating index...\n",
      "index created!\n",
      "Running per image evaluation...\n",
      "Evaluate annotation type *bbox*\n",
      "DONE (t=7.18s).\n",
      "Accumulating evaluation results...\n"
     ]
    },
    {
     "name": "stderr",
     "output_type": "stream",
     "text": [
      "2021-05-11 04:50:26,218 - mmdet - INFO - Epoch(val) [7][655]\tbbox_mAP: 0.1080, bbox_mAP_50: 0.1970, bbox_mAP_75: 0.1110, bbox_mAP_s: 0.0230, bbox_mAP_m: 0.1000, bbox_mAP_l: 0.1940, bbox_mAP_copypaste: 0.108 0.197 0.111 0.023 0.100 0.194\n"
     ]
    },
    {
     "name": "stdout",
     "output_type": "stream",
     "text": [
      "DONE (t=1.24s).\n",
      "Average Precision  (AP) @[ IoU=0.50:0.95 | area=   all | maxDets=100 ] = 0.108\n",
      "Average Precision  (AP) @[ IoU=0.50      | area=   all | maxDets=1000 ] = 0.197\n",
      "Average Precision  (AP) @[ IoU=0.75      | area=   all | maxDets=1000 ] = 0.111\n",
      "Average Precision  (AP) @[ IoU=0.50:0.95 | area= small | maxDets=1000 ] = 0.023\n",
      "Average Precision  (AP) @[ IoU=0.50:0.95 | area=medium | maxDets=1000 ] = 0.100\n",
      "Average Precision  (AP) @[ IoU=0.50:0.95 | area= large | maxDets=1000 ] = 0.194\n",
      "Average Recall     (AR) @[ IoU=0.50:0.95 | area=   all | maxDets=100 ] = 0.265\n",
      "Average Recall     (AR) @[ IoU=0.50:0.95 | area=   all | maxDets=300 ] = 0.265\n",
      "Average Recall     (AR) @[ IoU=0.50:0.95 | area=   all | maxDets=1000 ] = 0.265\n",
      "Average Recall     (AR) @[ IoU=0.50:0.95 | area= small | maxDets=1000 ] = 0.087\n",
      "Average Recall     (AR) @[ IoU=0.50:0.95 | area=medium | maxDets=1000 ] = 0.250\n",
      "Average Recall     (AR) @[ IoU=0.50:0.95 | area= large | maxDets=1000 ] = 0.458\n"
     ]
    },
    {
     "name": "stderr",
     "output_type": "stream",
     "text": [
      "2021-05-11 04:50:44,848 - mmdet - INFO - Epoch [8][50/655]\tlr: 2.000e-02, eta: 0:17:47, time: 0.372, data_time: 0.051, memory: 2159, loss_rpn_cls: 0.0555, loss_rpn_bbox: 0.0573, loss_cls: 0.3263, acc: 90.1328, loss_bbox: 0.3087, loss: 0.7479, grad_norm: 2.2569\n",
      "2021-05-11 04:51:01,071 - mmdet - INFO - Epoch [8][100/655]\tlr: 2.000e-02, eta: 0:17:30, time: 0.324, data_time: 0.006, memory: 2159, loss_rpn_cls: 0.0589, loss_rpn_bbox: 0.0669, loss_cls: 0.3400, acc: 89.8477, loss_bbox: 0.3272, loss: 0.7929, grad_norm: 2.2591\n",
      "2021-05-11 04:51:17,362 - mmdet - INFO - Epoch [8][150/655]\tlr: 2.000e-02, eta: 0:17:13, time: 0.326, data_time: 0.006, memory: 2159, loss_rpn_cls: 0.0536, loss_rpn_bbox: 0.0609, loss_cls: 0.3526, acc: 89.1533, loss_bbox: 0.3338, loss: 0.8009, grad_norm: 2.2683\n",
      "2021-05-11 04:51:33,585 - mmdet - INFO - Epoch [8][200/655]\tlr: 2.000e-02, eta: 0:16:56, time: 0.324, data_time: 0.006, memory: 2159, loss_rpn_cls: 0.0621, loss_rpn_bbox: 0.0448, loss_cls: 0.3084, acc: 90.8086, loss_bbox: 0.2724, loss: 0.6876, grad_norm: 2.3151\n",
      "2021-05-11 04:51:50,004 - mmdet - INFO - Epoch [8][250/655]\tlr: 2.000e-02, eta: 0:16:40, time: 0.328, data_time: 0.006, memory: 2159, loss_rpn_cls: 0.0524, loss_rpn_bbox: 0.0478, loss_cls: 0.3097, acc: 90.6592, loss_bbox: 0.2858, loss: 0.6957, grad_norm: 2.2052\n",
      "2021-05-11 04:52:06,378 - mmdet - INFO - Epoch [8][300/655]\tlr: 2.000e-02, eta: 0:16:23, time: 0.327, data_time: 0.006, memory: 2159, loss_rpn_cls: 0.0624, loss_rpn_bbox: 0.0562, loss_cls: 0.3385, acc: 89.9590, loss_bbox: 0.3105, loss: 0.7675, grad_norm: 2.3190\n",
      "2021-05-11 04:52:22,634 - mmdet - INFO - Epoch [8][350/655]\tlr: 2.000e-02, eta: 0:16:06, time: 0.325, data_time: 0.006, memory: 2159, loss_rpn_cls: 0.0550, loss_rpn_bbox: 0.0526, loss_cls: 0.3316, acc: 89.9707, loss_bbox: 0.3156, loss: 0.7547, grad_norm: 2.3325\n",
      "2021-05-11 04:52:39,010 - mmdet - INFO - Epoch [8][400/655]\tlr: 2.000e-02, eta: 0:15:50, time: 0.328, data_time: 0.006, memory: 2159, loss_rpn_cls: 0.0586, loss_rpn_bbox: 0.0530, loss_cls: 0.3406, acc: 89.6865, loss_bbox: 0.3140, loss: 0.7662, grad_norm: 2.3728\n",
      "2021-05-11 04:52:55,124 - mmdet - INFO - Epoch [8][450/655]\tlr: 2.000e-02, eta: 0:15:33, time: 0.322, data_time: 0.006, memory: 2159, loss_rpn_cls: 0.0671, loss_rpn_bbox: 0.0501, loss_cls: 0.3463, acc: 90.0234, loss_bbox: 0.3026, loss: 0.7660, grad_norm: 2.4289\n",
      "2021-05-11 04:53:11,423 - mmdet - INFO - Epoch [8][500/655]\tlr: 2.000e-02, eta: 0:15:16, time: 0.326, data_time: 0.006, memory: 2159, loss_rpn_cls: 0.0720, loss_rpn_bbox: 0.0552, loss_cls: 0.3420, acc: 89.9932, loss_bbox: 0.2875, loss: 0.7567, grad_norm: 2.2669\n",
      "2021-05-11 04:53:27,522 - mmdet - INFO - Epoch [8][550/655]\tlr: 2.000e-02, eta: 0:15:00, time: 0.322, data_time: 0.006, memory: 2159, loss_rpn_cls: 0.0622, loss_rpn_bbox: 0.0610, loss_cls: 0.3332, acc: 89.9785, loss_bbox: 0.3142, loss: 0.7706, grad_norm: 2.3186\n",
      "2021-05-11 04:53:43,829 - mmdet - INFO - Epoch [8][600/655]\tlr: 2.000e-02, eta: 0:14:43, time: 0.326, data_time: 0.006, memory: 2159, loss_rpn_cls: 0.0641, loss_rpn_bbox: 0.0528, loss_cls: 0.3263, acc: 90.2129, loss_bbox: 0.2856, loss: 0.7289, grad_norm: 2.2256\n",
      "2021-05-11 04:54:00,177 - mmdet - INFO - Epoch [8][650/655]\tlr: 2.000e-02, eta: 0:14:26, time: 0.327, data_time: 0.006, memory: 2159, loss_rpn_cls: 0.0704, loss_rpn_bbox: 0.0644, loss_cls: 0.3498, acc: 89.5928, loss_bbox: 0.3292, loss: 0.8138, grad_norm: 2.3723\n",
      "2021-05-11 04:54:01,875 - mmdet - INFO - Saving checkpoint at 8 epochs\n"
     ]
    },
    {
     "name": "stdout",
     "output_type": "stream",
     "text": [
      "[>>>>>>>>>>>>>>>>>>>>>>>>>>>>>] 655/655, 21.8 task/s, elapsed: 30s, ETA:     0s"
     ]
    },
    {
     "name": "stderr",
     "output_type": "stream",
     "text": [
      "2021-05-11 04:54:33,906 - mmdet - INFO - Evaluating bbox...\n"
     ]
    },
    {
     "name": "stdout",
     "output_type": "stream",
     "text": [
      "Loading and preparing results...\n",
      "DONE (t=0.59s)\n",
      "creating index...\n",
      "index created!\n",
      "Running per image evaluation...\n",
      "Evaluate annotation type *bbox*\n",
      "DONE (t=6.92s).\n",
      "Accumulating evaluation results...\n"
     ]
    },
    {
     "name": "stderr",
     "output_type": "stream",
     "text": [
      "2021-05-11 04:54:42,494 - mmdet - INFO - Epoch(val) [8][655]\tbbox_mAP: 0.1020, bbox_mAP_50: 0.1930, bbox_mAP_75: 0.1020, bbox_mAP_s: 0.0240, bbox_mAP_m: 0.1020, bbox_mAP_l: 0.2100, bbox_mAP_copypaste: 0.102 0.193 0.102 0.024 0.102 0.210\n"
     ]
    },
    {
     "name": "stdout",
     "output_type": "stream",
     "text": [
      "DONE (t=0.99s).\n",
      "Average Precision  (AP) @[ IoU=0.50:0.95 | area=   all | maxDets=100 ] = 0.102\n",
      "Average Precision  (AP) @[ IoU=0.50      | area=   all | maxDets=1000 ] = 0.193\n",
      "Average Precision  (AP) @[ IoU=0.75      | area=   all | maxDets=1000 ] = 0.102\n",
      "Average Precision  (AP) @[ IoU=0.50:0.95 | area= small | maxDets=1000 ] = 0.024\n",
      "Average Precision  (AP) @[ IoU=0.50:0.95 | area=medium | maxDets=1000 ] = 0.102\n",
      "Average Precision  (AP) @[ IoU=0.50:0.95 | area= large | maxDets=1000 ] = 0.210\n",
      "Average Recall     (AR) @[ IoU=0.50:0.95 | area=   all | maxDets=100 ] = 0.232\n",
      "Average Recall     (AR) @[ IoU=0.50:0.95 | area=   all | maxDets=300 ] = 0.232\n",
      "Average Recall     (AR) @[ IoU=0.50:0.95 | area=   all | maxDets=1000 ] = 0.232\n",
      "Average Recall     (AR) @[ IoU=0.50:0.95 | area= small | maxDets=1000 ] = 0.074\n",
      "Average Recall     (AR) @[ IoU=0.50:0.95 | area=medium | maxDets=1000 ] = 0.219\n",
      "Average Recall     (AR) @[ IoU=0.50:0.95 | area= large | maxDets=1000 ] = 0.443\n"
     ]
    },
    {
     "name": "stderr",
     "output_type": "stream",
     "text": [
      "2021-05-11 04:55:01,054 - mmdet - INFO - Epoch [9][50/655]\tlr: 2.000e-03, eta: 0:14:08, time: 0.371, data_time: 0.051, memory: 2159, loss_rpn_cls: 0.0498, loss_rpn_bbox: 0.0518, loss_cls: 0.3236, acc: 89.9639, loss_bbox: 0.3167, loss: 0.7418, grad_norm: 1.9855\n",
      "2021-05-11 04:55:17,404 - mmdet - INFO - Epoch [9][100/655]\tlr: 2.000e-03, eta: 0:13:52, time: 0.327, data_time: 0.006, memory: 2159, loss_rpn_cls: 0.0449, loss_rpn_bbox: 0.0505, loss_cls: 0.3117, acc: 90.3760, loss_bbox: 0.2965, loss: 0.7035, grad_norm: 1.9511\n",
      "2021-05-11 04:55:33,630 - mmdet - INFO - Epoch [9][150/655]\tlr: 2.000e-03, eta: 0:13:35, time: 0.325, data_time: 0.006, memory: 2159, loss_rpn_cls: 0.0408, loss_rpn_bbox: 0.0497, loss_cls: 0.3031, acc: 90.8584, loss_bbox: 0.2815, loss: 0.6750, grad_norm: 1.8810\n",
      "2021-05-11 04:55:49,882 - mmdet - INFO - Epoch [9][200/655]\tlr: 2.000e-03, eta: 0:13:19, time: 0.325, data_time: 0.006, memory: 2159, loss_rpn_cls: 0.0356, loss_rpn_bbox: 0.0422, loss_cls: 0.2782, acc: 91.4707, loss_bbox: 0.2725, loss: 0.6285, grad_norm: 1.9450\n",
      "2021-05-11 04:56:06,125 - mmdet - INFO - Epoch [9][250/655]\tlr: 2.000e-03, eta: 0:13:02, time: 0.325, data_time: 0.006, memory: 2159, loss_rpn_cls: 0.0360, loss_rpn_bbox: 0.0459, loss_cls: 0.2857, acc: 91.0830, loss_bbox: 0.2801, loss: 0.6477, grad_norm: 2.0555\n",
      "2021-05-11 04:56:22,349 - mmdet - INFO - Epoch [9][300/655]\tlr: 2.000e-03, eta: 0:12:45, time: 0.324, data_time: 0.006, memory: 2159, loss_rpn_cls: 0.0366, loss_rpn_bbox: 0.0479, loss_cls: 0.2880, acc: 90.8770, loss_bbox: 0.2839, loss: 0.6563, grad_norm: 1.9846\n",
      "2021-05-11 04:56:38,596 - mmdet - INFO - Epoch [9][350/655]\tlr: 2.000e-03, eta: 0:12:29, time: 0.325, data_time: 0.006, memory: 2159, loss_rpn_cls: 0.0445, loss_rpn_bbox: 0.0544, loss_cls: 0.2921, acc: 90.5146, loss_bbox: 0.3094, loss: 0.7004, grad_norm: 2.0403\n",
      "2021-05-11 04:56:54,827 - mmdet - INFO - Epoch [9][400/655]\tlr: 2.000e-03, eta: 0:12:12, time: 0.325, data_time: 0.006, memory: 2159, loss_rpn_cls: 0.0363, loss_rpn_bbox: 0.0445, loss_cls: 0.2850, acc: 91.0205, loss_bbox: 0.2732, loss: 0.6390, grad_norm: 2.0215\n",
      "2021-05-11 04:57:11,159 - mmdet - INFO - Epoch [9][450/655]\tlr: 2.000e-03, eta: 0:11:56, time: 0.327, data_time: 0.006, memory: 2159, loss_rpn_cls: 0.0338, loss_rpn_bbox: 0.0409, loss_cls: 0.2827, acc: 91.0820, loss_bbox: 0.2782, loss: 0.6356, grad_norm: 2.0872\n",
      "2021-05-11 04:57:27,367 - mmdet - INFO - Epoch [9][500/655]\tlr: 2.000e-03, eta: 0:11:39, time: 0.324, data_time: 0.006, memory: 2159, loss_rpn_cls: 0.0370, loss_rpn_bbox: 0.0435, loss_cls: 0.2847, acc: 91.1016, loss_bbox: 0.2868, loss: 0.6519, grad_norm: 2.1238\n",
      "2021-05-11 04:57:43,594 - mmdet - INFO - Epoch [9][550/655]\tlr: 2.000e-03, eta: 0:11:22, time: 0.325, data_time: 0.006, memory: 2159, loss_rpn_cls: 0.0371, loss_rpn_bbox: 0.0444, loss_cls: 0.2681, acc: 91.4189, loss_bbox: 0.2663, loss: 0.6158, grad_norm: 2.0386\n",
      "2021-05-11 04:57:59,847 - mmdet - INFO - Epoch [9][600/655]\tlr: 2.000e-03, eta: 0:11:06, time: 0.325, data_time: 0.006, memory: 2159, loss_rpn_cls: 0.0366, loss_rpn_bbox: 0.0438, loss_cls: 0.2826, acc: 91.1973, loss_bbox: 0.2685, loss: 0.6315, grad_norm: 2.0698\n",
      "2021-05-11 04:58:16,201 - mmdet - INFO - Epoch [9][650/655]\tlr: 2.000e-03, eta: 0:10:49, time: 0.327, data_time: 0.006, memory: 2159, loss_rpn_cls: 0.0343, loss_rpn_bbox: 0.0422, loss_cls: 0.2560, acc: 91.6729, loss_bbox: 0.2551, loss: 0.5877, grad_norm: 2.0694\n",
      "2021-05-11 04:58:17,895 - mmdet - INFO - Saving checkpoint at 9 epochs\n"
     ]
    },
    {
     "name": "stdout",
     "output_type": "stream",
     "text": [
      "[>>>>>>>>>>>>>>>>>>>>>>>>>>>>>] 655/655, 21.8 task/s, elapsed: 30s, ETA:     0s"
     ]
    },
    {
     "name": "stderr",
     "output_type": "stream",
     "text": [
      "2021-05-11 04:58:49,426 - mmdet - INFO - Evaluating bbox...\n"
     ]
    },
    {
     "name": "stdout",
     "output_type": "stream",
     "text": [
      "Loading and preparing results...\n",
      "DONE (t=0.57s)\n",
      "creating index...\n",
      "index created!\n",
      "Running per image evaluation...\n",
      "Evaluate annotation type *bbox*\n",
      "DONE (t=6.00s).\n",
      "Accumulating evaluation results...\n"
     ]
    },
    {
     "name": "stderr",
     "output_type": "stream",
     "text": [
      "2021-05-11 04:58:56,962 - mmdet - INFO - Epoch(val) [9][655]\tbbox_mAP: 0.1510, bbox_mAP_50: 0.2630, bbox_mAP_75: 0.1510, bbox_mAP_s: 0.0420, bbox_mAP_m: 0.1430, bbox_mAP_l: 0.2780, bbox_mAP_copypaste: 0.151 0.263 0.151 0.042 0.143 0.278\n"
     ]
    },
    {
     "name": "stdout",
     "output_type": "stream",
     "text": [
      "DONE (t=0.88s).\n",
      "Average Precision  (AP) @[ IoU=0.50:0.95 | area=   all | maxDets=100 ] = 0.151\n",
      "Average Precision  (AP) @[ IoU=0.50      | area=   all | maxDets=1000 ] = 0.263\n",
      "Average Precision  (AP) @[ IoU=0.75      | area=   all | maxDets=1000 ] = 0.151\n",
      "Average Precision  (AP) @[ IoU=0.50:0.95 | area= small | maxDets=1000 ] = 0.042\n",
      "Average Precision  (AP) @[ IoU=0.50:0.95 | area=medium | maxDets=1000 ] = 0.143\n",
      "Average Precision  (AP) @[ IoU=0.50:0.95 | area= large | maxDets=1000 ] = 0.278\n",
      "Average Recall     (AR) @[ IoU=0.50:0.95 | area=   all | maxDets=100 ] = 0.293\n",
      "Average Recall     (AR) @[ IoU=0.50:0.95 | area=   all | maxDets=300 ] = 0.293\n",
      "Average Recall     (AR) @[ IoU=0.50:0.95 | area=   all | maxDets=1000 ] = 0.293\n",
      "Average Recall     (AR) @[ IoU=0.50:0.95 | area= small | maxDets=1000 ] = 0.104\n",
      "Average Recall     (AR) @[ IoU=0.50:0.95 | area=medium | maxDets=1000 ] = 0.270\n",
      "Average Recall     (AR) @[ IoU=0.50:0.95 | area= large | maxDets=1000 ] = 0.545\n"
     ]
    },
    {
     "name": "stderr",
     "output_type": "stream",
     "text": [
      "2021-05-11 04:59:15,483 - mmdet - INFO - Epoch [10][50/655]\tlr: 2.000e-03, eta: 0:10:31, time: 0.370, data_time: 0.051, memory: 2159, loss_rpn_cls: 0.0321, loss_rpn_bbox: 0.0421, loss_cls: 0.2540, acc: 91.7217, loss_bbox: 0.2588, loss: 0.5869, grad_norm: 2.0167\n",
      "2021-05-11 04:59:31,662 - mmdet - INFO - Epoch [10][100/655]\tlr: 2.000e-03, eta: 0:10:15, time: 0.324, data_time: 0.006, memory: 2159, loss_rpn_cls: 0.0285, loss_rpn_bbox: 0.0403, loss_cls: 0.2593, acc: 91.7861, loss_bbox: 0.2662, loss: 0.5943, grad_norm: 2.0635\n",
      "2021-05-11 04:59:47,901 - mmdet - INFO - Epoch [10][150/655]\tlr: 2.000e-03, eta: 0:09:58, time: 0.325, data_time: 0.006, memory: 2159, loss_rpn_cls: 0.0348, loss_rpn_bbox: 0.0450, loss_cls: 0.2938, acc: 90.7656, loss_bbox: 0.2904, loss: 0.6640, grad_norm: 2.2549\n",
      "2021-05-11 05:00:04,148 - mmdet - INFO - Epoch [10][200/655]\tlr: 2.000e-03, eta: 0:09:41, time: 0.325, data_time: 0.006, memory: 2159, loss_rpn_cls: 0.0324, loss_rpn_bbox: 0.0426, loss_cls: 0.2824, acc: 91.1787, loss_bbox: 0.2851, loss: 0.6425, grad_norm: 2.1084\n",
      "2021-05-11 05:00:20,378 - mmdet - INFO - Epoch [10][250/655]\tlr: 2.000e-03, eta: 0:09:25, time: 0.325, data_time: 0.006, memory: 2159, loss_rpn_cls: 0.0319, loss_rpn_bbox: 0.0421, loss_cls: 0.2543, acc: 91.9629, loss_bbox: 0.2660, loss: 0.5943, grad_norm: 2.0378\n",
      "2021-05-11 05:00:36,584 - mmdet - INFO - Epoch [10][300/655]\tlr: 2.000e-03, eta: 0:09:08, time: 0.324, data_time: 0.006, memory: 2159, loss_rpn_cls: 0.0369, loss_rpn_bbox: 0.0471, loss_cls: 0.2692, acc: 91.2256, loss_bbox: 0.2849, loss: 0.6382, grad_norm: 2.1498\n",
      "2021-05-11 05:00:52,725 - mmdet - INFO - Epoch [10][350/655]\tlr: 2.000e-03, eta: 0:08:52, time: 0.323, data_time: 0.006, memory: 2159, loss_rpn_cls: 0.0328, loss_rpn_bbox: 0.0452, loss_cls: 0.2845, acc: 91.1104, loss_bbox: 0.2814, loss: 0.6438, grad_norm: 2.1939\n",
      "2021-05-11 05:01:08,953 - mmdet - INFO - Epoch [10][400/655]\tlr: 2.000e-03, eta: 0:08:35, time: 0.325, data_time: 0.006, memory: 2159, loss_rpn_cls: 0.0370, loss_rpn_bbox: 0.0480, loss_cls: 0.2679, acc: 91.3223, loss_bbox: 0.2815, loss: 0.6344, grad_norm: 2.1602\n",
      "2021-05-11 05:01:25,164 - mmdet - INFO - Epoch [10][450/655]\tlr: 2.000e-03, eta: 0:08:19, time: 0.324, data_time: 0.006, memory: 2159, loss_rpn_cls: 0.0328, loss_rpn_bbox: 0.0429, loss_cls: 0.2943, acc: 90.9336, loss_bbox: 0.2739, loss: 0.6439, grad_norm: 2.1501\n",
      "2021-05-11 05:01:41,453 - mmdet - INFO - Epoch [10][500/655]\tlr: 2.000e-03, eta: 0:08:02, time: 0.326, data_time: 0.006, memory: 2159, loss_rpn_cls: 0.0351, loss_rpn_bbox: 0.0476, loss_cls: 0.2763, acc: 91.1963, loss_bbox: 0.2912, loss: 0.6501, grad_norm: 2.1132\n",
      "2021-05-11 05:01:57,652 - mmdet - INFO - Epoch [10][550/655]\tlr: 2.000e-03, eta: 0:07:46, time: 0.324, data_time: 0.006, memory: 2159, loss_rpn_cls: 0.0362, loss_rpn_bbox: 0.0504, loss_cls: 0.2732, acc: 91.4941, loss_bbox: 0.2804, loss: 0.6402, grad_norm: 2.1153\n",
      "2021-05-11 05:02:13,757 - mmdet - INFO - Epoch [10][600/655]\tlr: 2.000e-03, eta: 0:07:29, time: 0.322, data_time: 0.006, memory: 2159, loss_rpn_cls: 0.0274, loss_rpn_bbox: 0.0375, loss_cls: 0.2533, acc: 92.1279, loss_bbox: 0.2415, loss: 0.5597, grad_norm: 2.0599\n",
      "2021-05-11 05:02:29,911 - mmdet - INFO - Epoch [10][650/655]\tlr: 2.000e-03, eta: 0:07:13, time: 0.323, data_time: 0.006, memory: 2159, loss_rpn_cls: 0.0290, loss_rpn_bbox: 0.0363, loss_cls: 0.2334, acc: 92.6406, loss_bbox: 0.2335, loss: 0.5322, grad_norm: 2.0267\n",
      "2021-05-11 05:02:31,597 - mmdet - INFO - Saving checkpoint at 10 epochs\n"
     ]
    },
    {
     "name": "stdout",
     "output_type": "stream",
     "text": [
      "[>>>>>>>>>>>>>>>>>>>>>>>>>>>>>] 655/655, 21.9 task/s, elapsed: 30s, ETA:     0s"
     ]
    },
    {
     "name": "stderr",
     "output_type": "stream",
     "text": [
      "2021-05-11 05:03:02,816 - mmdet - INFO - Evaluating bbox...\n"
     ]
    },
    {
     "name": "stdout",
     "output_type": "stream",
     "text": [
      "Loading and preparing results...\n",
      "DONE (t=0.57s)\n",
      "creating index...\n",
      "index created!\n",
      "Running per image evaluation...\n",
      "Evaluate annotation type *bbox*\n",
      "DONE (t=5.40s).\n",
      "Accumulating evaluation results...\n"
     ]
    },
    {
     "name": "stderr",
     "output_type": "stream",
     "text": [
      "2021-05-11 05:03:09,672 - mmdet - INFO - Epoch(val) [10][655]\tbbox_mAP: 0.1580, bbox_mAP_50: 0.2670, bbox_mAP_75: 0.1610, bbox_mAP_s: 0.0410, bbox_mAP_m: 0.1420, bbox_mAP_l: 0.3430, bbox_mAP_copypaste: 0.158 0.267 0.161 0.041 0.142 0.343\n"
     ]
    },
    {
     "name": "stdout",
     "output_type": "stream",
     "text": [
      "DONE (t=0.81s).\n",
      "Average Precision  (AP) @[ IoU=0.50:0.95 | area=   all | maxDets=100 ] = 0.158\n",
      "Average Precision  (AP) @[ IoU=0.50      | area=   all | maxDets=1000 ] = 0.267\n",
      "Average Precision  (AP) @[ IoU=0.75      | area=   all | maxDets=1000 ] = 0.161\n",
      "Average Precision  (AP) @[ IoU=0.50:0.95 | area= small | maxDets=1000 ] = 0.041\n",
      "Average Precision  (AP) @[ IoU=0.50:0.95 | area=medium | maxDets=1000 ] = 0.142\n",
      "Average Precision  (AP) @[ IoU=0.50:0.95 | area= large | maxDets=1000 ] = 0.343\n",
      "Average Recall     (AR) @[ IoU=0.50:0.95 | area=   all | maxDets=100 ] = 0.313\n",
      "Average Recall     (AR) @[ IoU=0.50:0.95 | area=   all | maxDets=300 ] = 0.313\n",
      "Average Recall     (AR) @[ IoU=0.50:0.95 | area=   all | maxDets=1000 ] = 0.313\n",
      "Average Recall     (AR) @[ IoU=0.50:0.95 | area= small | maxDets=1000 ] = 0.107\n",
      "Average Recall     (AR) @[ IoU=0.50:0.95 | area=medium | maxDets=1000 ] = 0.278\n",
      "Average Recall     (AR) @[ IoU=0.50:0.95 | area= large | maxDets=1000 ] = 0.563\n"
     ]
    },
    {
     "name": "stderr",
     "output_type": "stream",
     "text": [
      "2021-05-11 05:03:28,231 - mmdet - INFO - Epoch [11][50/655]\tlr: 2.000e-03, eta: 0:06:55, time: 0.371, data_time: 0.051, memory: 2159, loss_rpn_cls: 0.0267, loss_rpn_bbox: 0.0408, loss_cls: 0.2538, acc: 91.7314, loss_bbox: 0.2783, loss: 0.5996, grad_norm: 2.1069\n",
      "2021-05-11 05:03:44,923 - mmdet - INFO - Epoch [11][100/655]\tlr: 2.000e-03, eta: 0:06:38, time: 0.334, data_time: 0.006, memory: 2159, loss_rpn_cls: 0.0337, loss_rpn_bbox: 0.0467, loss_cls: 0.2830, acc: 91.1201, loss_bbox: 0.2859, loss: 0.6494, grad_norm: 2.1216\n",
      "2021-05-11 05:04:01,487 - mmdet - INFO - Epoch [11][150/655]\tlr: 2.000e-03, eta: 0:06:22, time: 0.331, data_time: 0.006, memory: 2159, loss_rpn_cls: 0.0301, loss_rpn_bbox: 0.0430, loss_cls: 0.2590, acc: 91.8271, loss_bbox: 0.2605, loss: 0.5925, grad_norm: 2.0913\n",
      "2021-05-11 05:04:17,928 - mmdet - INFO - Epoch [11][200/655]\tlr: 2.000e-03, eta: 0:06:05, time: 0.329, data_time: 0.006, memory: 2159, loss_rpn_cls: 0.0264, loss_rpn_bbox: 0.0441, loss_cls: 0.2497, acc: 92.0596, loss_bbox: 0.2637, loss: 0.5838, grad_norm: 2.1453\n",
      "2021-05-11 05:04:34,183 - mmdet - INFO - Epoch [11][250/655]\tlr: 2.000e-03, eta: 0:05:49, time: 0.325, data_time: 0.006, memory: 2159, loss_rpn_cls: 0.0282, loss_rpn_bbox: 0.0427, loss_cls: 0.2526, acc: 91.7393, loss_bbox: 0.2625, loss: 0.5860, grad_norm: 2.1076\n",
      "2021-05-11 05:04:50,477 - mmdet - INFO - Epoch [11][300/655]\tlr: 2.000e-03, eta: 0:05:32, time: 0.326, data_time: 0.006, memory: 2159, loss_rpn_cls: 0.0247, loss_rpn_bbox: 0.0383, loss_cls: 0.2525, acc: 92.0273, loss_bbox: 0.2519, loss: 0.5674, grad_norm: 2.1054\n",
      "2021-05-11 05:05:06,770 - mmdet - INFO - Epoch [11][350/655]\tlr: 2.000e-03, eta: 0:05:16, time: 0.326, data_time: 0.006, memory: 2159, loss_rpn_cls: 0.0316, loss_rpn_bbox: 0.0464, loss_cls: 0.2549, acc: 91.7598, loss_bbox: 0.2744, loss: 0.6074, grad_norm: 2.1724\n",
      "2021-05-11 05:05:23,135 - mmdet - INFO - Epoch [11][400/655]\tlr: 2.000e-03, eta: 0:04:59, time: 0.327, data_time: 0.006, memory: 2159, loss_rpn_cls: 0.0317, loss_rpn_bbox: 0.0408, loss_cls: 0.2649, acc: 91.5361, loss_bbox: 0.2642, loss: 0.6016, grad_norm: 2.2380\n",
      "2021-05-11 05:05:39,596 - mmdet - INFO - Epoch [11][450/655]\tlr: 2.000e-03, eta: 0:04:43, time: 0.329, data_time: 0.006, memory: 2159, loss_rpn_cls: 0.0278, loss_rpn_bbox: 0.0425, loss_cls: 0.2371, acc: 92.2959, loss_bbox: 0.2560, loss: 0.5635, grad_norm: 2.0976\n",
      "2021-05-11 05:05:56,089 - mmdet - INFO - Epoch [11][500/655]\tlr: 2.000e-03, eta: 0:04:26, time: 0.330, data_time: 0.006, memory: 2159, loss_rpn_cls: 0.0347, loss_rpn_bbox: 0.0503, loss_cls: 0.2721, acc: 91.2363, loss_bbox: 0.2944, loss: 0.6515, grad_norm: 2.2805\n",
      "2021-05-11 05:06:12,557 - mmdet - INFO - Epoch [11][550/655]\tlr: 2.000e-03, eta: 0:04:10, time: 0.329, data_time: 0.006, memory: 2159, loss_rpn_cls: 0.0230, loss_rpn_bbox: 0.0346, loss_cls: 0.2363, acc: 92.3633, loss_bbox: 0.2419, loss: 0.5358, grad_norm: 2.0969\n",
      "2021-05-11 05:06:28,895 - mmdet - INFO - Epoch [11][600/655]\tlr: 2.000e-03, eta: 0:03:53, time: 0.327, data_time: 0.006, memory: 2159, loss_rpn_cls: 0.0271, loss_rpn_bbox: 0.0376, loss_cls: 0.2493, acc: 92.1348, loss_bbox: 0.2445, loss: 0.5585, grad_norm: 2.1749\n",
      "2021-05-11 05:06:45,288 - mmdet - INFO - Epoch [11][650/655]\tlr: 2.000e-03, eta: 0:03:37, time: 0.328, data_time: 0.006, memory: 2159, loss_rpn_cls: 0.0284, loss_rpn_bbox: 0.0431, loss_cls: 0.2475, acc: 92.0479, loss_bbox: 0.2585, loss: 0.5776, grad_norm: 2.1918\n",
      "2021-05-11 05:06:47,021 - mmdet - INFO - Saving checkpoint at 11 epochs\n"
     ]
    },
    {
     "name": "stdout",
     "output_type": "stream",
     "text": [
      "[>>>>>>>>>>>>>>>>>>>>>>>>>>>>>] 655/655, 21.0 task/s, elapsed: 31s, ETA:     0s"
     ]
    },
    {
     "name": "stderr",
     "output_type": "stream",
     "text": [
      "2021-05-11 05:07:19,980 - mmdet - INFO - Evaluating bbox...\n"
     ]
    },
    {
     "name": "stdout",
     "output_type": "stream",
     "text": [
      "Loading and preparing results...\n",
      "DONE (t=0.57s)\n",
      "creating index...\n",
      "index created!\n",
      "Running per image evaluation...\n",
      "Evaluate annotation type *bbox*\n",
      "DONE (t=5.50s).\n",
      "Accumulating evaluation results...\n"
     ]
    },
    {
     "name": "stderr",
     "output_type": "stream",
     "text": [
      "2021-05-11 05:07:26,956 - mmdet - INFO - Epoch(val) [11][655]\tbbox_mAP: 0.1540, bbox_mAP_50: 0.2630, bbox_mAP_75: 0.1530, bbox_mAP_s: 0.0420, bbox_mAP_m: 0.1430, bbox_mAP_l: 0.2870, bbox_mAP_copypaste: 0.154 0.263 0.153 0.042 0.143 0.287\n"
     ]
    },
    {
     "name": "stdout",
     "output_type": "stream",
     "text": [
      "DONE (t=0.83s).\n",
      "Average Precision  (AP) @[ IoU=0.50:0.95 | area=   all | maxDets=100 ] = 0.154\n",
      "Average Precision  (AP) @[ IoU=0.50      | area=   all | maxDets=1000 ] = 0.263\n",
      "Average Precision  (AP) @[ IoU=0.75      | area=   all | maxDets=1000 ] = 0.153\n",
      "Average Precision  (AP) @[ IoU=0.50:0.95 | area= small | maxDets=1000 ] = 0.042\n",
      "Average Precision  (AP) @[ IoU=0.50:0.95 | area=medium | maxDets=1000 ] = 0.143\n",
      "Average Precision  (AP) @[ IoU=0.50:0.95 | area= large | maxDets=1000 ] = 0.287\n",
      "Average Recall     (AR) @[ IoU=0.50:0.95 | area=   all | maxDets=100 ] = 0.309\n",
      "Average Recall     (AR) @[ IoU=0.50:0.95 | area=   all | maxDets=300 ] = 0.309\n",
      "Average Recall     (AR) @[ IoU=0.50:0.95 | area=   all | maxDets=1000 ] = 0.309\n",
      "Average Recall     (AR) @[ IoU=0.50:0.95 | area= small | maxDets=1000 ] = 0.110\n",
      "Average Recall     (AR) @[ IoU=0.50:0.95 | area=medium | maxDets=1000 ] = 0.282\n",
      "Average Recall     (AR) @[ IoU=0.50:0.95 | area= large | maxDets=1000 ] = 0.529\n"
     ]
    },
    {
     "name": "stderr",
     "output_type": "stream",
     "text": [
      "2021-05-11 05:07:45,908 - mmdet - INFO - Epoch [12][50/655]\tlr: 2.000e-04, eta: 0:03:19, time: 0.379, data_time: 0.051, memory: 2159, loss_rpn_cls: 0.0246, loss_rpn_bbox: 0.0410, loss_cls: 0.2306, acc: 92.6250, loss_bbox: 0.2473, loss: 0.5434, grad_norm: 1.9931\n",
      "2021-05-11 05:08:02,478 - mmdet - INFO - Epoch [12][100/655]\tlr: 2.000e-04, eta: 0:03:02, time: 0.331, data_time: 0.006, memory: 2159, loss_rpn_cls: 0.0303, loss_rpn_bbox: 0.0420, loss_cls: 0.2344, acc: 92.3057, loss_bbox: 0.2583, loss: 0.5650, grad_norm: 1.9977\n",
      "2021-05-11 05:08:19,326 - mmdet - INFO - Epoch [12][150/655]\tlr: 2.000e-04, eta: 0:02:46, time: 0.337, data_time: 0.006, memory: 2159, loss_rpn_cls: 0.0263, loss_rpn_bbox: 0.0470, loss_cls: 0.2586, acc: 91.6289, loss_bbox: 0.2823, loss: 0.6143, grad_norm: 2.1467\n",
      "2021-05-11 05:08:36,652 - mmdet - INFO - Epoch [12][200/655]\tlr: 2.000e-04, eta: 0:02:29, time: 0.347, data_time: 0.006, memory: 2159, loss_rpn_cls: 0.0298, loss_rpn_bbox: 0.0474, loss_cls: 0.2524, acc: 91.9229, loss_bbox: 0.2693, loss: 0.5989, grad_norm: 2.0778\n",
      "2021-05-11 05:08:53,840 - mmdet - INFO - Epoch [12][250/655]\tlr: 2.000e-04, eta: 0:02:13, time: 0.344, data_time: 0.006, memory: 2159, loss_rpn_cls: 0.0204, loss_rpn_bbox: 0.0319, loss_cls: 0.2163, acc: 92.9033, loss_bbox: 0.2371, loss: 0.5057, grad_norm: 1.9691\n",
      "2021-05-11 05:09:11,131 - mmdet - INFO - Epoch [12][300/655]\tlr: 2.000e-04, eta: 0:01:57, time: 0.346, data_time: 0.006, memory: 2159, loss_rpn_cls: 0.0263, loss_rpn_bbox: 0.0394, loss_cls: 0.2285, acc: 92.6582, loss_bbox: 0.2391, loss: 0.5333, grad_norm: 2.0120\n",
      "2021-05-11 05:09:28,452 - mmdet - INFO - Epoch [12][350/655]\tlr: 2.000e-04, eta: 0:01:40, time: 0.346, data_time: 0.006, memory: 2159, loss_rpn_cls: 0.0238, loss_rpn_bbox: 0.0398, loss_cls: 0.2604, acc: 91.7842, loss_bbox: 0.2551, loss: 0.5790, grad_norm: 2.0719\n",
      "2021-05-11 05:09:45,777 - mmdet - INFO - Epoch [12][400/655]\tlr: 2.000e-04, eta: 0:01:24, time: 0.347, data_time: 0.006, memory: 2159, loss_rpn_cls: 0.0263, loss_rpn_bbox: 0.0402, loss_cls: 0.2426, acc: 92.1152, loss_bbox: 0.2634, loss: 0.5725, grad_norm: 2.1403\n",
      "2021-05-11 05:10:02,668 - mmdet - INFO - Epoch [12][450/655]\tlr: 2.000e-04, eta: 0:01:07, time: 0.338, data_time: 0.006, memory: 2159, loss_rpn_cls: 0.0293, loss_rpn_bbox: 0.0424, loss_cls: 0.2506, acc: 92.0762, loss_bbox: 0.2682, loss: 0.5905, grad_norm: 2.1529\n",
      "2021-05-11 05:10:19,046 - mmdet - INFO - Epoch [12][500/655]\tlr: 2.000e-04, eta: 0:00:51, time: 0.328, data_time: 0.006, memory: 2159, loss_rpn_cls: 0.0236, loss_rpn_bbox: 0.0409, loss_cls: 0.2468, acc: 91.8818, loss_bbox: 0.2732, loss: 0.5846, grad_norm: 2.0662\n",
      "2021-05-11 05:10:35,656 - mmdet - INFO - Epoch [12][550/655]\tlr: 2.000e-04, eta: 0:00:34, time: 0.332, data_time: 0.006, memory: 2159, loss_rpn_cls: 0.0244, loss_rpn_bbox: 0.0397, loss_cls: 0.2226, acc: 92.7197, loss_bbox: 0.2503, loss: 0.5370, grad_norm: 2.0108\n",
      "2021-05-11 05:10:52,883 - mmdet - INFO - Epoch [12][600/655]\tlr: 2.000e-04, eta: 0:00:18, time: 0.345, data_time: 0.006, memory: 2159, loss_rpn_cls: 0.0282, loss_rpn_bbox: 0.0420, loss_cls: 0.2381, acc: 92.3877, loss_bbox: 0.2500, loss: 0.5583, grad_norm: 2.1564\n",
      "2021-05-11 05:11:09,730 - mmdet - INFO - Epoch [12][650/655]\tlr: 2.000e-04, eta: 0:00:01, time: 0.337, data_time: 0.006, memory: 2159, loss_rpn_cls: 0.0265, loss_rpn_bbox: 0.0399, loss_cls: 0.2370, acc: 92.6406, loss_bbox: 0.2421, loss: 0.5456, grad_norm: 2.1304\n",
      "2021-05-11 05:11:11,428 - mmdet - INFO - Saving checkpoint at 12 epochs\n"
     ]
    },
    {
     "name": "stdout",
     "output_type": "stream",
     "text": [
      "[>>>>>>>>>>>>>>>>>>>>>>>>>>>>>] 655/655, 21.8 task/s, elapsed: 30s, ETA:     0s"
     ]
    },
    {
     "name": "stderr",
     "output_type": "stream",
     "text": [
      "2021-05-11 05:11:43,250 - mmdet - INFO - Evaluating bbox...\n"
     ]
    },
    {
     "name": "stdout",
     "output_type": "stream",
     "text": [
      "Loading and preparing results...\n",
      "DONE (t=0.64s)\n",
      "creating index...\n",
      "index created!\n",
      "Running per image evaluation...\n",
      "Evaluate annotation type *bbox*\n",
      "DONE (t=6.01s).\n",
      "Accumulating evaluation results...\n"
     ]
    },
    {
     "name": "stderr",
     "output_type": "stream",
     "text": [
      "2021-05-11 05:11:50,829 - mmdet - INFO - Epoch(val) [12][655]\tbbox_mAP: 0.1580, bbox_mAP_50: 0.2690, bbox_mAP_75: 0.1570, bbox_mAP_s: 0.0430, bbox_mAP_m: 0.1420, bbox_mAP_l: 0.2950, bbox_mAP_copypaste: 0.158 0.269 0.157 0.043 0.142 0.295\n"
     ]
    },
    {
     "name": "stdout",
     "output_type": "stream",
     "text": [
      "DONE (t=0.84s).\n",
      "Average Precision  (AP) @[ IoU=0.50:0.95 | area=   all | maxDets=100 ] = 0.158\n",
      "Average Precision  (AP) @[ IoU=0.50      | area=   all | maxDets=1000 ] = 0.269\n",
      "Average Precision  (AP) @[ IoU=0.75      | area=   all | maxDets=1000 ] = 0.157\n",
      "Average Precision  (AP) @[ IoU=0.50:0.95 | area= small | maxDets=1000 ] = 0.043\n",
      "Average Precision  (AP) @[ IoU=0.50:0.95 | area=medium | maxDets=1000 ] = 0.142\n",
      "Average Precision  (AP) @[ IoU=0.50:0.95 | area= large | maxDets=1000 ] = 0.295\n",
      "Average Recall     (AR) @[ IoU=0.50:0.95 | area=   all | maxDets=100 ] = 0.315\n",
      "Average Recall     (AR) @[ IoU=0.50:0.95 | area=   all | maxDets=300 ] = 0.315\n",
      "Average Recall     (AR) @[ IoU=0.50:0.95 | area=   all | maxDets=1000 ] = 0.315\n",
      "Average Recall     (AR) @[ IoU=0.50:0.95 | area= small | maxDets=1000 ] = 0.108\n",
      "Average Recall     (AR) @[ IoU=0.50:0.95 | area=medium | maxDets=1000 ] = 0.281\n",
      "Average Recall     (AR) @[ IoU=0.50:0.95 | area= large | maxDets=1000 ] = 0.567\n"
     ]
    }
   ],
   "source": [
    "train_detector(model, datasets[0], cfg, distributed=False, validate=True)"
   ]
  },
  {
   "cell_type": "markdown",
   "metadata": {},
   "source": [
    "# Test"
   ]
  },
  {
   "cell_type": "code",
   "execution_count": 11,
   "metadata": {
    "pycharm": {
     "name": "#%%\n"
    }
   },
   "outputs": [],
   "source": [
    "import mmcv\n",
    "from mmcv import Config\n",
    "from mmdet.datasets import (build_dataloader, build_dataset,\n",
    "                            replace_ImageToTensor)\n",
    "from mmdet.models import build_detector\n",
    "from mmdet.apis import single_gpu_test\n",
    "from mmcv.runner import load_checkpoint\n",
    "import os\n",
    "from mmcv.parallel import MMDataParallel\n",
    "import pandas as pd\n",
    "from pandas import DataFrame\n",
    "from pycocotools.coco import COCO\n",
    "import numpy as np"
   ]
  },
  {
   "cell_type": "code",
   "execution_count": 12,
   "metadata": {
    "pycharm": {
     "name": "#%%\n"
    }
   },
   "outputs": [],
   "source": [
    "cfg.model.train_cfg = None\n",
    "checkpoint_path = os.path.join(cfg.work_dir, f'epoch_{epoch}.pth')"
   ]
  },
  {
   "cell_type": "code",
   "execution_count": 13,
   "metadata": {
    "pycharm": {
     "name": "#%%\n"
    }
   },
   "outputs": [
    {
     "name": "stdout",
     "output_type": "stream",
     "text": [
      "loading annotations into memory...\n",
      "Done (t=0.01s)\n",
      "creating index...\n",
      "index created!\n"
     ]
    }
   ],
   "source": [
    "dataset = build_dataset(cfg.data.test)\n",
    "data_loader = build_dataloader(\n",
    "        dataset,\n",
    "        samples_per_gpu=1,\n",
    "        workers_per_gpu=cfg.data.workers_per_gpu,\n",
    "        dist=False,\n",
    "        shuffle=False)"
   ]
  },
  {
   "cell_type": "code",
   "execution_count": 14,
   "metadata": {},
   "outputs": [
    {
     "name": "stderr",
     "output_type": "stream",
     "text": [
      "2021-05-11 05:24:47,970 - mmdet - INFO - load model from: torchvision://resnet50\n",
      "2021-05-11 05:24:47,971 - mmdet - INFO - Use load_from_torchvision loader\n",
      "2021-05-11 05:24:48,229 - mmdet - WARNING - The model and loaded state dict do not match exactly\n",
      "\n",
      "unexpected key in source state_dict: fc.weight, fc.bias\n",
      "\n"
     ]
    },
    {
     "name": "stdout",
     "output_type": "stream",
     "text": [
      "Use load_from_local loader\n"
     ]
    }
   ],
   "source": [
    "model = build_detector(cfg.model, test_cfg=cfg.get('test_cfg'))\n",
    "checkpoint = load_checkpoint(model, checkpoint_path, map_location='cpu')\n",
    "\n",
    "model.CLASSES = dataset.CLASSES\n",
    "model = MMDataParallel(model.cuda(), device_ids=[0])"
   ]
  },
  {
   "cell_type": "code",
   "execution_count": 15,
   "metadata": {
    "pycharm": {
     "name": "#%%\n"
    }
   },
   "outputs": [
    {
     "name": "stdout",
     "output_type": "stream",
     "text": [
      "[>>>>>>>>>>>>>>>>>>>>>>>>>>>>>] 837/837, 21.6 task/s, elapsed: 39s, ETA:     0s"
     ]
    }
   ],
   "source": [
    "output = single_gpu_test(model, data_loader, show_score_thr=0.05)"
   ]
  },
  {
   "cell_type": "code",
   "execution_count": 16,
   "metadata": {
    "pycharm": {
     "name": "#%%\n"
    }
   },
   "outputs": [
    {
     "name": "stdout",
     "output_type": "stream",
     "text": [
      "loading annotations into memory...\n",
      "Done (t=0.01s)\n",
      "creating index...\n",
      "index created!\n"
     ]
    },
    {
     "data": {
      "text/html": [
       "<div>\n",
       "<style scoped>\n",
       "    .dataframe tbody tr th:only-of-type {\n",
       "        vertical-align: middle;\n",
       "    }\n",
       "\n",
       "    .dataframe tbody tr th {\n",
       "        vertical-align: top;\n",
       "    }\n",
       "\n",
       "    .dataframe thead th {\n",
       "        text-align: right;\n",
       "    }\n",
       "</style>\n",
       "<table border=\"1\" class=\"dataframe\">\n",
       "  <thead>\n",
       "    <tr style=\"text-align: right;\">\n",
       "      <th></th>\n",
       "      <th>PredictionString</th>\n",
       "      <th>image_id</th>\n",
       "    </tr>\n",
       "  </thead>\n",
       "  <tbody>\n",
       "    <tr>\n",
       "      <th>0</th>\n",
       "      <td>1 0.27755344 161.89021 73.92375 253.2754 163.2...</td>\n",
       "      <td>batch_01_vt/0021.jpg</td>\n",
       "    </tr>\n",
       "    <tr>\n",
       "      <th>1</th>\n",
       "      <td>1 0.14034286 286.60178 345.25772 308.23074 373...</td>\n",
       "      <td>batch_01_vt/0028.jpg</td>\n",
       "    </tr>\n",
       "    <tr>\n",
       "      <th>2</th>\n",
       "      <td>1 0.5135002 69.16179 165.50006 383.15405 381.7...</td>\n",
       "      <td>batch_01_vt/0031.jpg</td>\n",
       "    </tr>\n",
       "    <tr>\n",
       "      <th>3</th>\n",
       "      <td>2 0.5603375 298.53494 159.5227 350.06766 226.7...</td>\n",
       "      <td>batch_01_vt/0032.jpg</td>\n",
       "    </tr>\n",
       "    <tr>\n",
       "      <th>4</th>\n",
       "      <td>1 0.2884677 392.61008 267.3247 480.3569 339.09...</td>\n",
       "      <td>batch_01_vt/0070.jpg</td>\n",
       "    </tr>\n",
       "  </tbody>\n",
       "</table>\n",
       "</div>"
      ],
      "text/plain": [
       "                                    PredictionString              image_id\n",
       "0  1 0.27755344 161.89021 73.92375 253.2754 163.2...  batch_01_vt/0021.jpg\n",
       "1  1 0.14034286 286.60178 345.25772 308.23074 373...  batch_01_vt/0028.jpg\n",
       "2  1 0.5135002 69.16179 165.50006 383.15405 381.7...  batch_01_vt/0031.jpg\n",
       "3  2 0.5603375 298.53494 159.5227 350.06766 226.7...  batch_01_vt/0032.jpg\n",
       "4  1 0.2884677 392.61008 267.3247 480.3569 339.09...  batch_01_vt/0070.jpg"
      ]
     },
     "execution_count": 16,
     "metadata": {},
     "output_type": "execute_result"
    }
   ],
   "source": [
    "prediction_strings = []\n",
    "file_names = []\n",
    "coco = COCO(cfg.data.test.ann_file)\n",
    "imag_ids = coco.getImgIds()\n",
    "\n",
    "class_num = 11\n",
    "for i, out in enumerate(output):\n",
    "    prediction_string = ''\n",
    "    image_info = coco.loadImgs(coco.getImgIds(imgIds=i))[0]\n",
    "    for j in range(class_num):\n",
    "        for o in out[j]:\n",
    "            prediction_string += str(j) + ' ' + str(o[4]) + ' ' + str(o[0]) + ' ' + str(o[1]) + ' ' + str(\n",
    "                o[2]) + ' ' + str(o[3]) + ' '\n",
    "        \n",
    "    prediction_strings.append(prediction_string)\n",
    "    file_names.append(image_info['file_name'])\n",
    "\n",
    "\n",
    "submission = pd.DataFrame()\n",
    "submission['PredictionString'] = prediction_strings\n",
    "submission['image_id'] = file_names\n",
    "submission.to_csv(os.path.join(cfg.work_dir, f'submission_{epoch}.csv'), index=None)\n",
    "submission.head()"
   ]
  },
  {
   "cell_type": "code",
   "execution_count": null,
   "metadata": {},
   "outputs": [],
   "source": []
  }
 ],
 "metadata": {
  "kernelspec": {
   "display_name": "Python 3",
   "language": "python",
   "name": "python3"
  },
  "language_info": {
   "codemirror_mode": {
    "name": "ipython",
    "version": 3
   },
   "file_extension": ".py",
   "mimetype": "text/x-python",
   "name": "python",
   "nbconvert_exporter": "python",
   "pygments_lexer": "ipython3",
   "version": "3.7.7"
  },
  "pycharm": {
   "stem_cell": {
    "cell_type": "raw",
    "metadata": {
     "collapsed": false
    },
    "source": []
   }
  }
 },
 "nbformat": 4,
 "nbformat_minor": 4
}
