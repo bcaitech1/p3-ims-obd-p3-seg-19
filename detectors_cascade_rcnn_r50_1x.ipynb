{
 "cells": [
  {
   "cell_type": "markdown",
   "metadata": {},
   "source": [
    "# Train"
   ]
  },
  {
   "cell_type": "code",
   "execution_count": 1,
   "metadata": {
    "pycharm": {
     "name": "#%%\n"
    }
   },
   "outputs": [],
   "source": [
    "from mmcv import Config\n",
    "from mmdet.datasets import build_dataset\n",
    "from mmdet.models import build_detector\n",
    "from mmdet.apis import train_detector\n",
    "from mmdet.datasets import (build_dataloader, build_dataset,\n",
    "                            replace_ImageToTensor)"
   ]
  },
  {
   "cell_type": "code",
   "execution_count": 2,
   "metadata": {
    "pycharm": {
     "name": "#%%\n"
    }
   },
   "outputs": [
    {
     "name": "stdout",
     "output_type": "stream",
     "text": [
      "{'type': 'CascadeRCNN', 'pretrained': 'torchvision://resnet50', 'backbone': {'type': 'DetectoRS_ResNet', 'depth': 50, 'num_stages': 4, 'out_indices': (0, 1, 2, 3), 'frozen_stages': 1, 'norm_cfg': {'type': 'BN', 'requires_grad': True}, 'norm_eval': True, 'style': 'pytorch', 'conv_cfg': {'type': 'ConvAWS'}, 'sac': {'type': 'SAC', 'use_deform': True}, 'stage_with_sac': (False, True, True, True), 'output_img': True}, 'neck': {'type': 'RFP', 'in_channels': [256, 512, 1024, 2048], 'out_channels': 256, 'num_outs': 5, 'rfp_steps': 2, 'aspp_out_channels': 64, 'aspp_dilations': (1, 3, 6, 1), 'rfp_backbone': {'rfp_inplanes': 256, 'type': 'DetectoRS_ResNet', 'depth': 50, 'num_stages': 4, 'out_indices': (0, 1, 2, 3), 'frozen_stages': 1, 'norm_cfg': {'type': 'BN', 'requires_grad': True}, 'norm_eval': True, 'conv_cfg': {'type': 'ConvAWS'}, 'sac': {'type': 'SAC', 'use_deform': True}, 'stage_with_sac': (False, True, True, True), 'pretrained': 'torchvision://resnet50', 'style': 'pytorch'}}, 'rpn_head': {'type': 'RPNHead', 'in_channels': 256, 'feat_channels': 256, 'anchor_generator': {'type': 'AnchorGenerator', 'scales': [8], 'ratios': [0.5, 1.0, 2.0], 'strides': [4, 8, 16, 32, 64]}, 'bbox_coder': {'type': 'DeltaXYWHBBoxCoder', 'target_means': [0.0, 0.0, 0.0, 0.0], 'target_stds': [1.0, 1.0, 1.0, 1.0]}, 'loss_cls': {'type': 'CrossEntropyLoss', 'use_sigmoid': True, 'loss_weight': 1.0}, 'loss_bbox': {'type': 'SmoothL1Loss', 'beta': 0.1111111111111111, 'loss_weight': 1.0}}, 'roi_head': {'type': 'CascadeRoIHead', 'num_stages': 3, 'stage_loss_weights': [1, 0.5, 0.25], 'bbox_roi_extractor': {'type': 'SingleRoIExtractor', 'roi_layer': {'type': 'RoIAlign', 'output_size': 7, 'sampling_ratio': 0}, 'out_channels': 256, 'featmap_strides': [4, 8, 16, 32]}, 'bbox_head': [{'type': 'Shared2FCBBoxHead', 'in_channels': 256, 'fc_out_channels': 1024, 'roi_feat_size': 7, 'num_classes': 11, 'bbox_coder': {'type': 'DeltaXYWHBBoxCoder', 'target_means': [0.0, 0.0, 0.0, 0.0], 'target_stds': [0.1, 0.1, 0.2, 0.2]}, 'reg_class_agnostic': True, 'loss_cls': {'type': 'CrossEntropyLoss', 'use_sigmoid': False, 'loss_weight': 1.0}, 'loss_bbox': {'type': 'SmoothL1Loss', 'beta': 1.0, 'loss_weight': 1.0}}, {'type': 'Shared2FCBBoxHead', 'in_channels': 256, 'fc_out_channels': 1024, 'roi_feat_size': 7, 'num_classes': 11, 'bbox_coder': {'type': 'DeltaXYWHBBoxCoder', 'target_means': [0.0, 0.0, 0.0, 0.0], 'target_stds': [0.05, 0.05, 0.1, 0.1]}, 'reg_class_agnostic': True, 'loss_cls': {'type': 'CrossEntropyLoss', 'use_sigmoid': False, 'loss_weight': 1.0}, 'loss_bbox': {'type': 'SmoothL1Loss', 'beta': 1.0, 'loss_weight': 1.0}}, {'type': 'Shared2FCBBoxHead', 'in_channels': 256, 'fc_out_channels': 1024, 'roi_feat_size': 7, 'num_classes': 11, 'bbox_coder': {'type': 'DeltaXYWHBBoxCoder', 'target_means': [0.0, 0.0, 0.0, 0.0], 'target_stds': [0.033, 0.033, 0.067, 0.067]}, 'reg_class_agnostic': True, 'loss_cls': {'type': 'CrossEntropyLoss', 'use_sigmoid': False, 'loss_weight': 1.0}, 'loss_bbox': {'type': 'SmoothL1Loss', 'beta': 1.0, 'loss_weight': 1.0}}]}, 'train_cfg': {'rpn': {'assigner': {'type': 'MaxIoUAssigner', 'pos_iou_thr': 0.7, 'neg_iou_thr': 0.3, 'min_pos_iou': 0.3, 'match_low_quality': True, 'ignore_iof_thr': -1}, 'sampler': {'type': 'RandomSampler', 'num': 256, 'pos_fraction': 0.5, 'neg_pos_ub': -1, 'add_gt_as_proposals': False}, 'allowed_border': 0, 'pos_weight': -1, 'debug': False}, 'rpn_proposal': {'nms_pre': 2000, 'max_per_img': 2000, 'nms': {'type': 'nms', 'iou_threshold': 0.7}, 'min_bbox_size': 0}, 'rcnn': [{'assigner': {'type': 'MaxIoUAssigner', 'pos_iou_thr': 0.5, 'neg_iou_thr': 0.5, 'min_pos_iou': 0.5, 'match_low_quality': False, 'ignore_iof_thr': -1}, 'sampler': {'type': 'RandomSampler', 'num': 512, 'pos_fraction': 0.25, 'neg_pos_ub': -1, 'add_gt_as_proposals': True}, 'pos_weight': -1, 'debug': False}, {'assigner': {'type': 'MaxIoUAssigner', 'pos_iou_thr': 0.6, 'neg_iou_thr': 0.6, 'min_pos_iou': 0.6, 'match_low_quality': False, 'ignore_iof_thr': -1}, 'sampler': {'type': 'RandomSampler', 'num': 512, 'pos_fraction': 0.25, 'neg_pos_ub': -1, 'add_gt_as_proposals': True}, 'pos_weight': -1, 'debug': False}, {'assigner': {'type': 'MaxIoUAssigner', 'pos_iou_thr': 0.7, 'neg_iou_thr': 0.7, 'min_pos_iou': 0.7, 'match_low_quality': False, 'ignore_iof_thr': -1}, 'sampler': {'type': 'RandomSampler', 'num': 512, 'pos_fraction': 0.25, 'neg_pos_ub': -1, 'add_gt_as_proposals': True}, 'pos_weight': -1, 'debug': False}]}, 'test_cfg': {'rpn': {'nms_pre': 1000, 'max_per_img': 1000, 'nms': {'type': 'nms', 'iou_threshold': 0.7}, 'min_bbox_size': 0}, 'rcnn': {'score_thr': 0.05, 'nms': {'type': 'nms', 'iou_threshold': 0.5}, 'max_per_img': 100}}}\n"
     ]
    }
   ],
   "source": [
    "classes = (\"UNKNOWN\", \"General trash\", \"Paper\", \"Paper pack\", \"Metal\", \"Glass\", \n",
    "           \"Plastic\", \"Styrofoam\", \"Plastic bag\", \"Battery\", \"Clothing\")\n",
    "# config file 들고오기\n",
    "cfg = Config.fromfile('./configs/detectors/detectors_cascade_rcnn_r50_1x_coco.py')\n",
    "\n",
    "PREFIX = '../../input/data/'\n",
    "\n",
    "epoch = 12\n",
    "\n",
    "# dataset 바꾸기\n",
    "cfg.data.train.classes = classes\n",
    "cfg.data.train.img_prefix = PREFIX\n",
    "cfg.data.train.ann_file = PREFIX + 'train.json'\n",
    "cfg.data.train.pipeline[2]['img_scale'] = (512, 512)\n",
    "\n",
    "cfg.data.val.classes = classes\n",
    "cfg.data.val.img_prefix = PREFIX\n",
    "cfg.data.val.ann_file = PREFIX + 'val.json'\n",
    "cfg.data.val.pipeline[1]['img_scale'] = (512, 512)\n",
    "\n",
    "cfg.data.test.classes = classes\n",
    "cfg.data.test.img_prefix = PREFIX\n",
    "cfg.data.test.ann_file = PREFIX + 'test.json'\n",
    "cfg.data.test.pipeline[1]['img_scale'] = (512, 512)\n",
    "\n",
    "cfg.data.samples_per_gpu = 4\n",
    "\n",
    "cfg.seed=2020\n",
    "cfg.gpu_ids = [0]\n",
    "cfg.work_dir = './work_dirs/detectors_cascade_rcnn_r50_1x_trash'\n",
    "\n",
    "for bbox_head in cfg.model.roi_head.bbox_head:\n",
    "    bbox_head.num_classes = 11\n",
    "print(cfg.model)\n",
    "\n",
    "cfg.optimizer_config.grad_clip = dict(max_norm=35, norm_type=2)"
   ]
  },
  {
   "cell_type": "code",
   "execution_count": 3,
   "metadata": {
    "pycharm": {
     "name": "#%%\n"
    }
   },
   "outputs": [
    {
     "name": "stderr",
     "output_type": "stream",
     "text": [
      "2021-05-11 05:56:31,901 - mmdet - INFO - load model from: torchvision://resnet50\n",
      "2021-05-11 05:56:31,902 - mmdet - INFO - Use load_from_torchvision loader\n",
      "2021-05-11 05:56:32,199 - mmdet - WARNING - The model and loaded state dict do not match exactly\n",
      "\n",
      "unexpected key in source state_dict: fc.weight, fc.bias\n",
      "\n",
      "missing keys in source state_dict: layer2.0.conv2.weight_diff, layer2.0.conv2.switch.weight, layer2.0.conv2.switch.bias, layer2.0.conv2.pre_context.weight, layer2.0.conv2.pre_context.bias, layer2.0.conv2.post_context.weight, layer2.0.conv2.post_context.bias, layer2.0.conv2.offset_s.weight, layer2.0.conv2.offset_s.bias, layer2.0.conv2.offset_l.weight, layer2.0.conv2.offset_l.bias, layer2.1.conv2.weight_diff, layer2.1.conv2.switch.weight, layer2.1.conv2.switch.bias, layer2.1.conv2.pre_context.weight, layer2.1.conv2.pre_context.bias, layer2.1.conv2.post_context.weight, layer2.1.conv2.post_context.bias, layer2.1.conv2.offset_s.weight, layer2.1.conv2.offset_s.bias, layer2.1.conv2.offset_l.weight, layer2.1.conv2.offset_l.bias, layer2.2.conv2.weight_diff, layer2.2.conv2.switch.weight, layer2.2.conv2.switch.bias, layer2.2.conv2.pre_context.weight, layer2.2.conv2.pre_context.bias, layer2.2.conv2.post_context.weight, layer2.2.conv2.post_context.bias, layer2.2.conv2.offset_s.weight, layer2.2.conv2.offset_s.bias, layer2.2.conv2.offset_l.weight, layer2.2.conv2.offset_l.bias, layer2.3.conv2.weight_diff, layer2.3.conv2.switch.weight, layer2.3.conv2.switch.bias, layer2.3.conv2.pre_context.weight, layer2.3.conv2.pre_context.bias, layer2.3.conv2.post_context.weight, layer2.3.conv2.post_context.bias, layer2.3.conv2.offset_s.weight, layer2.3.conv2.offset_s.bias, layer2.3.conv2.offset_l.weight, layer2.3.conv2.offset_l.bias, layer3.0.conv2.weight_diff, layer3.0.conv2.switch.weight, layer3.0.conv2.switch.bias, layer3.0.conv2.pre_context.weight, layer3.0.conv2.pre_context.bias, layer3.0.conv2.post_context.weight, layer3.0.conv2.post_context.bias, layer3.0.conv2.offset_s.weight, layer3.0.conv2.offset_s.bias, layer3.0.conv2.offset_l.weight, layer3.0.conv2.offset_l.bias, layer3.1.conv2.weight_diff, layer3.1.conv2.switch.weight, layer3.1.conv2.switch.bias, layer3.1.conv2.pre_context.weight, layer3.1.conv2.pre_context.bias, layer3.1.conv2.post_context.weight, layer3.1.conv2.post_context.bias, layer3.1.conv2.offset_s.weight, layer3.1.conv2.offset_s.bias, layer3.1.conv2.offset_l.weight, layer3.1.conv2.offset_l.bias, layer3.2.conv2.weight_diff, layer3.2.conv2.switch.weight, layer3.2.conv2.switch.bias, layer3.2.conv2.pre_context.weight, layer3.2.conv2.pre_context.bias, layer3.2.conv2.post_context.weight, layer3.2.conv2.post_context.bias, layer3.2.conv2.offset_s.weight, layer3.2.conv2.offset_s.bias, layer3.2.conv2.offset_l.weight, layer3.2.conv2.offset_l.bias, layer3.3.conv2.weight_diff, layer3.3.conv2.switch.weight, layer3.3.conv2.switch.bias, layer3.3.conv2.pre_context.weight, layer3.3.conv2.pre_context.bias, layer3.3.conv2.post_context.weight, layer3.3.conv2.post_context.bias, layer3.3.conv2.offset_s.weight, layer3.3.conv2.offset_s.bias, layer3.3.conv2.offset_l.weight, layer3.3.conv2.offset_l.bias, layer3.4.conv2.weight_diff, layer3.4.conv2.switch.weight, layer3.4.conv2.switch.bias, layer3.4.conv2.pre_context.weight, layer3.4.conv2.pre_context.bias, layer3.4.conv2.post_context.weight, layer3.4.conv2.post_context.bias, layer3.4.conv2.offset_s.weight, layer3.4.conv2.offset_s.bias, layer3.4.conv2.offset_l.weight, layer3.4.conv2.offset_l.bias, layer3.5.conv2.weight_diff, layer3.5.conv2.switch.weight, layer3.5.conv2.switch.bias, layer3.5.conv2.pre_context.weight, layer3.5.conv2.pre_context.bias, layer3.5.conv2.post_context.weight, layer3.5.conv2.post_context.bias, layer3.5.conv2.offset_s.weight, layer3.5.conv2.offset_s.bias, layer3.5.conv2.offset_l.weight, layer3.5.conv2.offset_l.bias, layer4.0.conv2.weight_diff, layer4.0.conv2.switch.weight, layer4.0.conv2.switch.bias, layer4.0.conv2.pre_context.weight, layer4.0.conv2.pre_context.bias, layer4.0.conv2.post_context.weight, layer4.0.conv2.post_context.bias, layer4.0.conv2.offset_s.weight, layer4.0.conv2.offset_s.bias, layer4.0.conv2.offset_l.weight, layer4.0.conv2.offset_l.bias, layer4.1.conv2.weight_diff, layer4.1.conv2.switch.weight, layer4.1.conv2.switch.bias, layer4.1.conv2.pre_context.weight, layer4.1.conv2.pre_context.bias, layer4.1.conv2.post_context.weight, layer4.1.conv2.post_context.bias, layer4.1.conv2.offset_s.weight, layer4.1.conv2.offset_s.bias, layer4.1.conv2.offset_l.weight, layer4.1.conv2.offset_l.bias, layer4.2.conv2.weight_diff, layer4.2.conv2.switch.weight, layer4.2.conv2.switch.bias, layer4.2.conv2.pre_context.weight, layer4.2.conv2.pre_context.bias, layer4.2.conv2.post_context.weight, layer4.2.conv2.post_context.bias, layer4.2.conv2.offset_s.weight, layer4.2.conv2.offset_s.bias, layer4.2.conv2.offset_l.weight, layer4.2.conv2.offset_l.bias\n",
      "\n",
      "2021-05-11 05:56:32,224 - mmdet - INFO - Use load_from_torchvision loader\n",
      "2021-05-11 05:56:32,496 - mmdet - WARNING - The model and loaded state dict do not match exactly\n",
      "\n",
      "unexpected key in source state_dict: fc.weight, fc.bias\n",
      "\n",
      "missing keys in source state_dict: layer2.0.conv2.weight_diff, layer2.0.conv2.switch.weight, layer2.0.conv2.switch.bias, layer2.0.conv2.pre_context.weight, layer2.0.conv2.pre_context.bias, layer2.0.conv2.post_context.weight, layer2.0.conv2.post_context.bias, layer2.0.conv2.offset_s.weight, layer2.0.conv2.offset_s.bias, layer2.0.conv2.offset_l.weight, layer2.0.conv2.offset_l.bias, layer2.0.rfp_conv.weight, layer2.0.rfp_conv.bias, layer2.1.conv2.weight_diff, layer2.1.conv2.switch.weight, layer2.1.conv2.switch.bias, layer2.1.conv2.pre_context.weight, layer2.1.conv2.pre_context.bias, layer2.1.conv2.post_context.weight, layer2.1.conv2.post_context.bias, layer2.1.conv2.offset_s.weight, layer2.1.conv2.offset_s.bias, layer2.1.conv2.offset_l.weight, layer2.1.conv2.offset_l.bias, layer2.2.conv2.weight_diff, layer2.2.conv2.switch.weight, layer2.2.conv2.switch.bias, layer2.2.conv2.pre_context.weight, layer2.2.conv2.pre_context.bias, layer2.2.conv2.post_context.weight, layer2.2.conv2.post_context.bias, layer2.2.conv2.offset_s.weight, layer2.2.conv2.offset_s.bias, layer2.2.conv2.offset_l.weight, layer2.2.conv2.offset_l.bias, layer2.3.conv2.weight_diff, layer2.3.conv2.switch.weight, layer2.3.conv2.switch.bias, layer2.3.conv2.pre_context.weight, layer2.3.conv2.pre_context.bias, layer2.3.conv2.post_context.weight, layer2.3.conv2.post_context.bias, layer2.3.conv2.offset_s.weight, layer2.3.conv2.offset_s.bias, layer2.3.conv2.offset_l.weight, layer2.3.conv2.offset_l.bias, layer3.0.conv2.weight_diff, layer3.0.conv2.switch.weight, layer3.0.conv2.switch.bias, layer3.0.conv2.pre_context.weight, layer3.0.conv2.pre_context.bias, layer3.0.conv2.post_context.weight, layer3.0.conv2.post_context.bias, layer3.0.conv2.offset_s.weight, layer3.0.conv2.offset_s.bias, layer3.0.conv2.offset_l.weight, layer3.0.conv2.offset_l.bias, layer3.0.rfp_conv.weight, layer3.0.rfp_conv.bias, layer3.1.conv2.weight_diff, layer3.1.conv2.switch.weight, layer3.1.conv2.switch.bias, layer3.1.conv2.pre_context.weight, layer3.1.conv2.pre_context.bias, layer3.1.conv2.post_context.weight, layer3.1.conv2.post_context.bias, layer3.1.conv2.offset_s.weight, layer3.1.conv2.offset_s.bias, layer3.1.conv2.offset_l.weight, layer3.1.conv2.offset_l.bias, layer3.2.conv2.weight_diff, layer3.2.conv2.switch.weight, layer3.2.conv2.switch.bias, layer3.2.conv2.pre_context.weight, layer3.2.conv2.pre_context.bias, layer3.2.conv2.post_context.weight, layer3.2.conv2.post_context.bias, layer3.2.conv2.offset_s.weight, layer3.2.conv2.offset_s.bias, layer3.2.conv2.offset_l.weight, layer3.2.conv2.offset_l.bias, layer3.3.conv2.weight_diff, layer3.3.conv2.switch.weight, layer3.3.conv2.switch.bias, layer3.3.conv2.pre_context.weight, layer3.3.conv2.pre_context.bias, layer3.3.conv2.post_context.weight, layer3.3.conv2.post_context.bias, layer3.3.conv2.offset_s.weight, layer3.3.conv2.offset_s.bias, layer3.3.conv2.offset_l.weight, layer3.3.conv2.offset_l.bias, layer3.4.conv2.weight_diff, layer3.4.conv2.switch.weight, layer3.4.conv2.switch.bias, layer3.4.conv2.pre_context.weight, layer3.4.conv2.pre_context.bias, layer3.4.conv2.post_context.weight, layer3.4.conv2.post_context.bias, layer3.4.conv2.offset_s.weight, layer3.4.conv2.offset_s.bias, layer3.4.conv2.offset_l.weight, layer3.4.conv2.offset_l.bias, layer3.5.conv2.weight_diff, layer3.5.conv2.switch.weight, layer3.5.conv2.switch.bias, layer3.5.conv2.pre_context.weight, layer3.5.conv2.pre_context.bias, layer3.5.conv2.post_context.weight, layer3.5.conv2.post_context.bias, layer3.5.conv2.offset_s.weight, layer3.5.conv2.offset_s.bias, layer3.5.conv2.offset_l.weight, layer3.5.conv2.offset_l.bias, layer4.0.conv2.weight_diff, layer4.0.conv2.switch.weight, layer4.0.conv2.switch.bias, layer4.0.conv2.pre_context.weight, layer4.0.conv2.pre_context.bias, layer4.0.conv2.post_context.weight, layer4.0.conv2.post_context.bias, layer4.0.conv2.offset_s.weight, layer4.0.conv2.offset_s.bias, layer4.0.conv2.offset_l.weight, layer4.0.conv2.offset_l.bias, layer4.0.rfp_conv.weight, layer4.0.rfp_conv.bias, layer4.1.conv2.weight_diff, layer4.1.conv2.switch.weight, layer4.1.conv2.switch.bias, layer4.1.conv2.pre_context.weight, layer4.1.conv2.pre_context.bias, layer4.1.conv2.post_context.weight, layer4.1.conv2.post_context.bias, layer4.1.conv2.offset_s.weight, layer4.1.conv2.offset_s.bias, layer4.1.conv2.offset_l.weight, layer4.1.conv2.offset_l.bias, layer4.2.conv2.weight_diff, layer4.2.conv2.switch.weight, layer4.2.conv2.switch.bias, layer4.2.conv2.pre_context.weight, layer4.2.conv2.pre_context.bias, layer4.2.conv2.post_context.weight, layer4.2.conv2.post_context.bias, layer4.2.conv2.offset_s.weight, layer4.2.conv2.offset_s.bias, layer4.2.conv2.offset_l.weight, layer4.2.conv2.offset_l.bias\n",
      "\n"
     ]
    }
   ],
   "source": [
    "model = build_detector(cfg.model)"
   ]
  },
  {
   "cell_type": "code",
   "execution_count": 4,
   "metadata": {
    "pycharm": {
     "name": "#%%\n"
    }
   },
   "outputs": [
    {
     "name": "stdout",
     "output_type": "stream",
     "text": [
      "loading annotations into memory...\n",
      "Done (t=3.39s)\n",
      "creating index...\n",
      "index created!\n"
     ]
    }
   ],
   "source": [
    "datasets = [build_dataset(cfg.data.train)]"
   ]
  },
  {
   "cell_type": "code",
   "execution_count": 5,
   "metadata": {
    "pycharm": {
     "name": "#%%\n"
    }
   },
   "outputs": [
    {
     "name": "stdout",
     "output_type": "stream",
     "text": [
      "loading annotations into memory...\n"
     ]
    },
    {
     "name": "stderr",
     "output_type": "stream",
     "text": [
      "2021-05-11 05:56:40,509 - mmdet - INFO - Start running, host: root@a1b075ba2232, work_dir: /opt/ml/code/mmdetection_trash/work_dirs/detectors_cascade_rcnn_r50_1x_trash\n",
      "2021-05-11 05:56:40,511 - mmdet - INFO - workflow: [('train', 1)], max: 12 epochs\n"
     ]
    },
    {
     "name": "stdout",
     "output_type": "stream",
     "text": [
      "Done (t=0.82s)\n",
      "creating index...\n",
      "index created!\n"
     ]
    },
    {
     "name": "stderr",
     "output_type": "stream",
     "text": [
      "2021-05-11 05:57:44,636 - mmdet - INFO - Epoch [1][50/655]\tlr: 1.978e-03, eta: 2:46:54, time: 1.282, data_time: 0.051, memory: 5799, loss_rpn_cls: 0.4593, loss_rpn_bbox: 0.0721, s0.loss_cls: 0.8066, s0.acc: 83.5938, s0.loss_bbox: 0.1802, s1.loss_cls: 0.3463, s1.acc: 84.3066, s1.loss_bbox: 0.0513, s2.loss_cls: 0.1569, s2.acc: 88.9326, s2.loss_bbox: 0.0070, loss: 2.0797, grad_norm: 11.1057\n",
      "2021-05-11 05:58:46,712 - mmdet - INFO - Epoch [1][100/655]\tlr: 3.976e-03, eta: 2:43:12, time: 1.242, data_time: 0.007, memory: 5799, loss_rpn_cls: 0.2367, loss_rpn_bbox: 0.0767, s0.loss_cls: 0.4818, s0.acc: 89.4609, s0.loss_bbox: 0.2486, s1.loss_cls: 0.1368, s1.acc: 95.3691, s1.loss_bbox: 0.0711, s2.loss_cls: 0.0427, s2.acc: 97.5713, s2.loss_bbox: 0.0108, loss: 1.3052, grad_norm: 5.2679\n",
      "2021-05-11 05:59:48,877 - mmdet - INFO - Epoch [1][150/655]\tlr: 5.974e-03, eta: 2:41:21, time: 1.243, data_time: 0.006, memory: 5799, loss_rpn_cls: 0.2117, loss_rpn_bbox: 0.0636, s0.loss_cls: 0.4694, s0.acc: 89.2578, s0.loss_bbox: 0.2540, s1.loss_cls: 0.1323, s1.acc: 95.1924, s1.loss_bbox: 0.0779, s2.loss_cls: 0.0390, s2.acc: 97.6914, s2.loss_bbox: 0.0101, loss: 1.2580, grad_norm: 4.2165\n",
      "2021-05-11 06:00:50,546 - mmdet - INFO - Epoch [1][200/655]\tlr: 7.972e-03, eta: 2:39:35, time: 1.233, data_time: 0.007, memory: 5799, loss_rpn_cls: 0.1778, loss_rpn_bbox: 0.0650, s0.loss_cls: 0.4893, s0.acc: 87.9668, s0.loss_bbox: 0.2779, s1.loss_cls: 0.1526, s1.acc: 93.7129, s1.loss_bbox: 0.1059, s2.loss_cls: 0.0454, s2.acc: 97.0342, s2.loss_bbox: 0.0164, loss: 1.3303, grad_norm: 3.8044\n",
      "2021-05-11 06:01:52,576 - mmdet - INFO - Epoch [1][250/655]\tlr: 9.970e-03, eta: 2:38:18, time: 1.241, data_time: 0.007, memory: 5799, loss_rpn_cls: 0.1549, loss_rpn_bbox: 0.0585, s0.loss_cls: 0.4379, s0.acc: 88.7529, s0.loss_bbox: 0.2407, s1.loss_cls: 0.1635, s1.acc: 92.2490, s1.loss_bbox: 0.1322, s2.loss_cls: 0.0523, s2.acc: 96.0488, s2.loss_bbox: 0.0275, loss: 1.2675, grad_norm: 3.4133\n",
      "2021-05-11 06:02:56,563 - mmdet - INFO - Epoch [1][300/655]\tlr: 1.197e-02, eta: 2:37:56, time: 1.280, data_time: 0.007, memory: 5799, loss_rpn_cls: 0.1544, loss_rpn_bbox: 0.0617, s0.loss_cls: 0.4350, s0.acc: 88.9072, s0.loss_bbox: 0.2403, s1.loss_cls: 0.1664, s1.acc: 91.7490, s1.loss_bbox: 0.1446, s2.loss_cls: 0.0591, s2.acc: 94.8613, s2.loss_bbox: 0.0383, loss: 1.2998, grad_norm: 3.6554\n",
      "2021-05-11 06:03:58,628 - mmdet - INFO - Epoch [1][350/655]\tlr: 1.397e-02, eta: 2:36:40, time: 1.241, data_time: 0.007, memory: 5799, loss_rpn_cls: 0.1099, loss_rpn_bbox: 0.0462, s0.loss_cls: 0.3973, s0.acc: 89.4229, s0.loss_bbox: 0.2325, s1.loss_cls: 0.1642, s1.acc: 91.1240, s1.loss_bbox: 0.1539, s2.loss_cls: 0.0588, s2.acc: 94.2520, s2.loss_bbox: 0.0483, loss: 1.2111, grad_norm: 3.2231\n",
      "2021-05-11 06:05:00,558 - mmdet - INFO - Epoch [1][400/655]\tlr: 1.596e-02, eta: 2:35:25, time: 1.239, data_time: 0.007, memory: 5799, loss_rpn_cls: 0.1362, loss_rpn_bbox: 0.0632, s0.loss_cls: 0.4697, s0.acc: 87.7539, s0.loss_bbox: 0.2513, s1.loss_cls: 0.1953, s1.acc: 89.8984, s1.loss_bbox: 0.1714, s2.loss_cls: 0.0723, s2.acc: 92.9355, s2.loss_bbox: 0.0592, loss: 1.4185, grad_norm: 3.5399\n",
      "2021-05-11 06:06:02,404 - mmdet - INFO - Epoch [1][450/655]\tlr: 1.796e-02, eta: 2:34:12, time: 1.237, data_time: 0.006, memory: 5799, loss_rpn_cls: 0.1302, loss_rpn_bbox: 0.0518, s0.loss_cls: 0.4205, s0.acc: 89.1484, s0.loss_bbox: 0.2196, s1.loss_cls: 0.1804, s1.acc: 90.2763, s1.loss_bbox: 0.1665, s2.loss_cls: 0.0683, s2.acc: 92.8450, s2.loss_bbox: 0.0644, loss: 1.3018, grad_norm: 3.4479\n",
      "2021-05-11 06:07:04,172 - mmdet - INFO - Epoch [1][500/655]\tlr: 1.996e-02, eta: 2:33:00, time: 1.235, data_time: 0.007, memory: 5799, loss_rpn_cls: 0.1368, loss_rpn_bbox: 0.0585, s0.loss_cls: 0.4505, s0.acc: 88.2109, s0.loss_bbox: 0.2324, s1.loss_cls: 0.1921, s1.acc: 89.8883, s1.loss_bbox: 0.1646, s2.loss_cls: 0.0749, s2.acc: 92.2752, s2.loss_bbox: 0.0655, loss: 1.3753, grad_norm: 3.2882\n",
      "2021-05-11 06:08:05,707 - mmdet - INFO - Epoch [1][550/655]\tlr: 2.000e-02, eta: 2:31:46, time: 1.231, data_time: 0.007, memory: 5799, loss_rpn_cls: 0.1608, loss_rpn_bbox: 0.0637, s0.loss_cls: 0.4803, s0.acc: 87.9922, s0.loss_bbox: 0.2354, s1.loss_cls: 0.1930, s1.acc: 90.1208, s1.loss_bbox: 0.1585, s2.loss_cls: 0.0748, s2.acc: 92.4268, s2.loss_bbox: 0.0625, loss: 1.4291, grad_norm: 3.3951\n",
      "2021-05-11 06:09:07,592 - mmdet - INFO - Epoch [1][600/655]\tlr: 2.000e-02, eta: 2:30:39, time: 1.238, data_time: 0.007, memory: 5799, loss_rpn_cls: 0.1293, loss_rpn_bbox: 0.0570, s0.loss_cls: 0.4373, s0.acc: 88.8760, s0.loss_bbox: 0.2080, s1.loss_cls: 0.1903, s1.acc: 90.0815, s1.loss_bbox: 0.1626, s2.loss_cls: 0.0765, s2.acc: 92.1913, s2.loss_bbox: 0.0706, loss: 1.3315, grad_norm: 2.9245\n",
      "2021-05-11 06:10:09,662 - mmdet - INFO - Epoch [1][650/655]\tlr: 2.000e-02, eta: 2:29:35, time: 1.241, data_time: 0.008, memory: 5799, loss_rpn_cls: 0.1130, loss_rpn_bbox: 0.0640, s0.loss_cls: 0.4454, s0.acc: 88.0215, s0.loss_bbox: 0.2244, s1.loss_cls: 0.1969, s1.acc: 89.3946, s1.loss_bbox: 0.1755, s2.loss_cls: 0.0812, s2.acc: 91.2390, s2.loss_bbox: 0.0800, loss: 1.3805, grad_norm: 2.8129\n",
      "2021-05-11 06:10:15,942 - mmdet - INFO - Saving checkpoint at 1 epochs\n"
     ]
    },
    {
     "name": "stdout",
     "output_type": "stream",
     "text": [
      "[>>>>>>>>>>>>>>>>>>>>>>>>>>>>>>] 655/655, 7.0 task/s, elapsed: 93s, ETA:     0s"
     ]
    },
    {
     "name": "stderr",
     "output_type": "stream",
     "text": [
      "2021-05-11 06:11:52,055 - mmdet - INFO - Evaluating bbox...\n"
     ]
    },
    {
     "name": "stdout",
     "output_type": "stream",
     "text": [
      "Loading and preparing results...\n",
      "DONE (t=0.56s)\n",
      "creating index...\n",
      "index created!\n",
      "Running per image evaluation...\n",
      "Evaluate annotation type *bbox*\n",
      "DONE (t=5.12s).\n",
      "Accumulating evaluation results...\n"
     ]
    },
    {
     "name": "stderr",
     "output_type": "stream",
     "text": [
      "2021-05-11 06:11:58,590 - mmdet - INFO - Epoch(val) [1][655]\tbbox_mAP: 0.0540, bbox_mAP_50: 0.1010, bbox_mAP_75: 0.0540, bbox_mAP_s: 0.0090, bbox_mAP_m: 0.0550, bbox_mAP_l: 0.1110, bbox_mAP_copypaste: 0.054 0.101 0.054 0.009 0.055 0.111\n"
     ]
    },
    {
     "name": "stdout",
     "output_type": "stream",
     "text": [
      "DONE (t=0.78s).\n",
      "Average Precision  (AP) @[ IoU=0.50:0.95 | area=   all | maxDets=100 ] = 0.054\n",
      "Average Precision  (AP) @[ IoU=0.50      | area=   all | maxDets=1000 ] = 0.101\n",
      "Average Precision  (AP) @[ IoU=0.75      | area=   all | maxDets=1000 ] = 0.054\n",
      "Average Precision  (AP) @[ IoU=0.50:0.95 | area= small | maxDets=1000 ] = 0.009\n",
      "Average Precision  (AP) @[ IoU=0.50:0.95 | area=medium | maxDets=1000 ] = 0.055\n",
      "Average Precision  (AP) @[ IoU=0.50:0.95 | area= large | maxDets=1000 ] = 0.111\n",
      "Average Recall     (AR) @[ IoU=0.50:0.95 | area=   all | maxDets=100 ] = 0.145\n",
      "Average Recall     (AR) @[ IoU=0.50:0.95 | area=   all | maxDets=300 ] = 0.145\n",
      "Average Recall     (AR) @[ IoU=0.50:0.95 | area=   all | maxDets=1000 ] = 0.145\n",
      "Average Recall     (AR) @[ IoU=0.50:0.95 | area= small | maxDets=1000 ] = 0.025\n",
      "Average Recall     (AR) @[ IoU=0.50:0.95 | area=medium | maxDets=1000 ] = 0.119\n",
      "Average Recall     (AR) @[ IoU=0.50:0.95 | area= large | maxDets=1000 ] = 0.321\n"
     ]
    },
    {
     "name": "stderr",
     "output_type": "stream",
     "text": [
      "2021-05-11 06:13:02,412 - mmdet - INFO - Epoch [2][50/655]\tlr: 2.000e-02, eta: 2:27:39, time: 1.276, data_time: 0.051, memory: 5799, loss_rpn_cls: 0.0977, loss_rpn_bbox: 0.0497, s0.loss_cls: 0.3845, s0.acc: 89.4111, s0.loss_bbox: 0.1985, s1.loss_cls: 0.1702, s1.acc: 90.6010, s1.loss_bbox: 0.1586, s2.loss_cls: 0.0718, s2.acc: 91.9635, s2.loss_bbox: 0.0747, loss: 1.2057, grad_norm: 2.6504\n",
      "2021-05-11 06:14:04,709 - mmdet - INFO - Epoch [2][100/655]\tlr: 2.000e-02, eta: 2:26:41, time: 1.246, data_time: 0.007, memory: 5799, loss_rpn_cls: 0.1007, loss_rpn_bbox: 0.0572, s0.loss_cls: 0.4097, s0.acc: 88.6689, s0.loss_bbox: 0.2005, s1.loss_cls: 0.1904, s1.acc: 89.3102, s1.loss_bbox: 0.1710, s2.loss_cls: 0.0805, s2.acc: 91.2419, s2.loss_bbox: 0.0807, loss: 1.2907, grad_norm: 2.8061\n",
      "2021-05-11 06:15:06,791 - mmdet - INFO - Epoch [2][150/655]\tlr: 2.000e-02, eta: 2:25:40, time: 1.242, data_time: 0.007, memory: 5799, loss_rpn_cls: 0.0998, loss_rpn_bbox: 0.0480, s0.loss_cls: 0.3758, s0.acc: 89.9141, s0.loss_bbox: 0.1752, s1.loss_cls: 0.1714, s1.acc: 90.7007, s1.loss_bbox: 0.1484, s2.loss_cls: 0.0717, s2.acc: 92.0462, s2.loss_bbox: 0.0694, loss: 1.1595, grad_norm: 2.7980\n",
      "2021-05-11 06:16:08,335 - mmdet - INFO - Epoch [2][200/655]\tlr: 2.000e-02, eta: 2:24:35, time: 1.231, data_time: 0.007, memory: 5799, loss_rpn_cls: 0.0935, loss_rpn_bbox: 0.0407, s0.loss_cls: 0.3470, s0.acc: 90.2148, s0.loss_bbox: 0.1719, s1.loss_cls: 0.1640, s1.acc: 90.5884, s1.loss_bbox: 0.1462, s2.loss_cls: 0.0722, s2.acc: 91.7235, s2.loss_bbox: 0.0712, loss: 1.1068, grad_norm: 2.5274\n",
      "2021-05-11 06:17:10,553 - mmdet - INFO - Epoch [2][250/655]\tlr: 2.000e-02, eta: 2:23:35, time: 1.244, data_time: 0.007, memory: 5799, loss_rpn_cls: 0.0927, loss_rpn_bbox: 0.0525, s0.loss_cls: 0.4076, s0.acc: 88.8252, s0.loss_bbox: 0.1893, s1.loss_cls: 0.1898, s1.acc: 89.4007, s1.loss_bbox: 0.1624, s2.loss_cls: 0.0837, s2.acc: 90.8017, s2.loss_bbox: 0.0809, loss: 1.2589, grad_norm: 2.8056\n",
      "2021-05-11 06:18:12,782 - mmdet - INFO - Epoch [2][300/655]\tlr: 2.000e-02, eta: 2:22:35, time: 1.245, data_time: 0.007, memory: 5799, loss_rpn_cls: 0.1109, loss_rpn_bbox: 0.0581, s0.loss_cls: 0.4226, s0.acc: 88.0342, s0.loss_bbox: 0.2061, s1.loss_cls: 0.1956, s1.acc: 88.7550, s1.loss_bbox: 0.1700, s2.loss_cls: 0.0859, s2.acc: 90.1859, s2.loss_bbox: 0.0828, loss: 1.3320, grad_norm: 2.7853\n",
      "2021-05-11 06:19:16,741 - mmdet - INFO - Epoch [2][350/655]\tlr: 2.000e-02, eta: 2:21:47, time: 1.279, data_time: 0.008, memory: 5799, loss_rpn_cls: 0.1013, loss_rpn_bbox: 0.0475, s0.loss_cls: 0.4111, s0.acc: 88.7148, s0.loss_bbox: 0.1951, s1.loss_cls: 0.1900, s1.acc: 89.4897, s1.loss_bbox: 0.1618, s2.loss_cls: 0.0821, s2.acc: 90.7958, s2.loss_bbox: 0.0780, loss: 1.2669, grad_norm: 2.6784\n",
      "2021-05-11 06:20:19,526 - mmdet - INFO - Epoch [2][400/655]\tlr: 2.000e-02, eta: 2:20:50, time: 1.256, data_time: 0.007, memory: 5799, loss_rpn_cls: 0.0945, loss_rpn_bbox: 0.0579, s0.loss_cls: 0.4108, s0.acc: 88.2266, s0.loss_bbox: 0.2065, s1.loss_cls: 0.1887, s1.acc: 89.2320, s1.loss_bbox: 0.1703, s2.loss_cls: 0.0815, s2.acc: 90.6465, s2.loss_bbox: 0.0813, loss: 1.2915, grad_norm: 2.7663\n",
      "2021-05-11 06:21:21,453 - mmdet - INFO - Epoch [2][450/655]\tlr: 2.000e-02, eta: 2:19:47, time: 1.239, data_time: 0.007, memory: 5799, loss_rpn_cls: 0.0983, loss_rpn_bbox: 0.0524, s0.loss_cls: 0.3995, s0.acc: 89.0352, s0.loss_bbox: 0.1843, s1.loss_cls: 0.1893, s1.acc: 89.7356, s1.loss_bbox: 0.1561, s2.loss_cls: 0.0830, s2.acc: 91.0236, s2.loss_bbox: 0.0754, loss: 1.2383, grad_norm: 2.6463\n",
      "2021-05-11 06:22:22,973 - mmdet - INFO - Epoch [2][500/655]\tlr: 2.000e-02, eta: 2:18:41, time: 1.230, data_time: 0.007, memory: 5799, loss_rpn_cls: 0.0839, loss_rpn_bbox: 0.0500, s0.loss_cls: 0.3582, s0.acc: 89.7656, s0.loss_bbox: 0.1785, s1.loss_cls: 0.1674, s1.acc: 90.2553, s1.loss_bbox: 0.1516, s2.loss_cls: 0.0749, s2.acc: 91.3221, s2.loss_bbox: 0.0747, loss: 1.1392, grad_norm: 2.5186\n",
      "2021-05-11 06:23:24,896 - mmdet - INFO - Epoch [2][550/655]\tlr: 2.000e-02, eta: 2:17:38, time: 1.238, data_time: 0.007, memory: 5799, loss_rpn_cls: 0.1004, loss_rpn_bbox: 0.0466, s0.loss_cls: 0.3753, s0.acc: 89.1709, s0.loss_bbox: 0.1801, s1.loss_cls: 0.1763, s1.acc: 89.6208, s1.loss_bbox: 0.1538, s2.loss_cls: 0.0803, s2.acc: 90.3264, s2.loss_bbox: 0.0774, loss: 1.1904, grad_norm: 2.7366\n",
      "2021-05-11 06:24:26,428 - mmdet - INFO - Epoch [2][600/655]\tlr: 2.000e-02, eta: 2:16:34, time: 1.231, data_time: 0.007, memory: 5799, loss_rpn_cls: 0.0817, loss_rpn_bbox: 0.0455, s0.loss_cls: 0.3534, s0.acc: 89.7549, s0.loss_bbox: 0.1742, s1.loss_cls: 0.1644, s1.acc: 90.4182, s1.loss_bbox: 0.1512, s2.loss_cls: 0.0713, s2.acc: 91.7254, s2.loss_bbox: 0.0707, loss: 1.1125, grad_norm: 2.4274\n",
      "2021-05-11 06:25:27,891 - mmdet - INFO - Epoch [2][650/655]\tlr: 2.000e-02, eta: 2:15:29, time: 1.229, data_time: 0.007, memory: 5799, loss_rpn_cls: 0.0861, loss_rpn_bbox: 0.0511, s0.loss_cls: 0.3983, s0.acc: 88.6553, s0.loss_bbox: 0.1863, s1.loss_cls: 0.1838, s1.acc: 89.3415, s1.loss_bbox: 0.1611, s2.loss_cls: 0.0823, s2.acc: 90.2918, s2.loss_bbox: 0.0816, loss: 1.2307, grad_norm: 2.7172\n",
      "2021-05-11 06:25:34,125 - mmdet - INFO - Saving checkpoint at 2 epochs\n"
     ]
    },
    {
     "name": "stdout",
     "output_type": "stream",
     "text": [
      "[>>>>>>>>>>>>>>>>>>>>>>>>>>>>>>] 655/655, 6.9 task/s, elapsed: 94s, ETA:     0s"
     ]
    },
    {
     "name": "stderr",
     "output_type": "stream",
     "text": [
      "2021-05-11 06:27:11,490 - mmdet - INFO - Evaluating bbox...\n"
     ]
    },
    {
     "name": "stdout",
     "output_type": "stream",
     "text": [
      "Loading and preparing results...\n",
      "DONE (t=0.11s)\n",
      "creating index...\n",
      "index created!\n",
      "Running per image evaluation...\n",
      "Evaluate annotation type *bbox*\n",
      "DONE (t=5.10s).\n",
      "Accumulating evaluation results...\n"
     ]
    },
    {
     "name": "stderr",
     "output_type": "stream",
     "text": [
      "2021-05-11 06:27:17,631 - mmdet - INFO - Epoch(val) [2][655]\tbbox_mAP: 0.0950, bbox_mAP_50: 0.1650, bbox_mAP_75: 0.0990, bbox_mAP_s: 0.0170, bbox_mAP_m: 0.0910, bbox_mAP_l: 0.1990, bbox_mAP_copypaste: 0.095 0.165 0.099 0.017 0.091 0.199\n"
     ]
    },
    {
     "name": "stdout",
     "output_type": "stream",
     "text": [
      "DONE (t=0.85s).\n",
      "Average Precision  (AP) @[ IoU=0.50:0.95 | area=   all | maxDets=100 ] = 0.095\n",
      "Average Precision  (AP) @[ IoU=0.50      | area=   all | maxDets=1000 ] = 0.165\n",
      "Average Precision  (AP) @[ IoU=0.75      | area=   all | maxDets=1000 ] = 0.099\n",
      "Average Precision  (AP) @[ IoU=0.50:0.95 | area= small | maxDets=1000 ] = 0.017\n",
      "Average Precision  (AP) @[ IoU=0.50:0.95 | area=medium | maxDets=1000 ] = 0.091\n",
      "Average Precision  (AP) @[ IoU=0.50:0.95 | area= large | maxDets=1000 ] = 0.199\n",
      "Average Recall     (AR) @[ IoU=0.50:0.95 | area=   all | maxDets=100 ] = 0.228\n",
      "Average Recall     (AR) @[ IoU=0.50:0.95 | area=   all | maxDets=300 ] = 0.228\n",
      "Average Recall     (AR) @[ IoU=0.50:0.95 | area=   all | maxDets=1000 ] = 0.228\n",
      "Average Recall     (AR) @[ IoU=0.50:0.95 | area= small | maxDets=1000 ] = 0.059\n",
      "Average Recall     (AR) @[ IoU=0.50:0.95 | area=medium | maxDets=1000 ] = 0.216\n",
      "Average Recall     (AR) @[ IoU=0.50:0.95 | area= large | maxDets=1000 ] = 0.434\n"
     ]
    },
    {
     "name": "stderr",
     "output_type": "stream",
     "text": [
      "2021-05-11 06:28:21,812 - mmdet - INFO - Epoch [3][50/655]\tlr: 2.000e-02, eta: 2:14:01, time: 1.283, data_time: 0.052, memory: 5799, loss_rpn_cls: 0.0773, loss_rpn_bbox: 0.0476, s0.loss_cls: 0.3570, s0.acc: 89.4814, s0.loss_bbox: 0.1709, s1.loss_cls: 0.1690, s1.acc: 89.8676, s1.loss_bbox: 0.1525, s2.loss_cls: 0.0775, s2.acc: 90.6583, s2.loss_bbox: 0.0813, loss: 1.1331, grad_norm: 2.6226\n",
      "2021-05-11 06:29:23,704 - mmdet - INFO - Epoch [3][100/655]\tlr: 2.000e-02, eta: 2:13:00, time: 1.238, data_time: 0.008, memory: 5799, loss_rpn_cls: 0.0766, loss_rpn_bbox: 0.0448, s0.loss_cls: 0.3744, s0.acc: 89.0586, s0.loss_bbox: 0.1831, s1.loss_cls: 0.1788, s1.acc: 89.4449, s1.loss_bbox: 0.1557, s2.loss_cls: 0.0814, s2.acc: 90.2593, s2.loss_bbox: 0.0803, loss: 1.1751, grad_norm: 2.8519\n",
      "2021-05-11 06:30:25,761 - mmdet - INFO - Epoch [3][150/655]\tlr: 2.000e-02, eta: 2:11:59, time: 1.241, data_time: 0.008, memory: 5799, loss_rpn_cls: 0.0810, loss_rpn_bbox: 0.0448, s0.loss_cls: 0.3808, s0.acc: 89.1172, s0.loss_bbox: 0.1785, s1.loss_cls: 0.1795, s1.acc: 89.5023, s1.loss_bbox: 0.1562, s2.loss_cls: 0.0803, s2.acc: 90.5054, s2.loss_bbox: 0.0794, loss: 1.1803, grad_norm: 2.9224\n",
      "2021-05-11 06:31:27,265 - mmdet - INFO - Epoch [3][200/655]\tlr: 2.000e-02, eta: 2:10:55, time: 1.230, data_time: 0.008, memory: 5799, loss_rpn_cls: 0.0863, loss_rpn_bbox: 0.0500, s0.loss_cls: 0.3878, s0.acc: 89.0156, s0.loss_bbox: 0.1738, s1.loss_cls: 0.1819, s1.acc: 89.5746, s1.loss_bbox: 0.1486, s2.loss_cls: 0.0814, s2.acc: 90.6766, s2.loss_bbox: 0.0759, loss: 1.1857, grad_norm: 2.6892\n",
      "2021-05-11 06:32:28,991 - mmdet - INFO - Epoch [3][250/655]\tlr: 2.000e-02, eta: 2:09:53, time: 1.235, data_time: 0.008, memory: 5799, loss_rpn_cls: 0.0747, loss_rpn_bbox: 0.0430, s0.loss_cls: 0.3337, s0.acc: 90.3447, s0.loss_bbox: 0.1561, s1.loss_cls: 0.1554, s1.acc: 90.9741, s1.loss_bbox: 0.1371, s2.loss_cls: 0.0707, s2.acc: 91.8597, s2.loss_bbox: 0.0735, loss: 1.0443, grad_norm: 2.6945\n",
      "2021-05-11 06:33:30,999 - mmdet - INFO - Epoch [3][300/655]\tlr: 2.000e-02, eta: 2:08:52, time: 1.240, data_time: 0.008, memory: 5799, loss_rpn_cls: 0.0765, loss_rpn_bbox: 0.0434, s0.loss_cls: 0.3586, s0.acc: 89.5439, s0.loss_bbox: 0.1780, s1.loss_cls: 0.1719, s1.acc: 89.9691, s1.loss_bbox: 0.1574, s2.loss_cls: 0.0783, s2.acc: 90.8443, s2.loss_bbox: 0.0807, loss: 1.1449, grad_norm: 2.6415\n",
      "2021-05-11 06:34:33,074 - mmdet - INFO - Epoch [3][350/655]\tlr: 2.000e-02, eta: 2:07:50, time: 1.241, data_time: 0.008, memory: 5799, loss_rpn_cls: 0.0723, loss_rpn_bbox: 0.0435, s0.loss_cls: 0.3434, s0.acc: 89.9727, s0.loss_bbox: 0.1672, s1.loss_cls: 0.1627, s1.acc: 90.4302, s1.loss_bbox: 0.1449, s2.loss_cls: 0.0737, s2.acc: 91.4363, s2.loss_bbox: 0.0733, loss: 1.0811, grad_norm: 2.7192\n",
      "2021-05-11 06:35:34,809 - mmdet - INFO - Epoch [3][400/655]\tlr: 2.000e-02, eta: 2:06:48, time: 1.235, data_time: 0.007, memory: 5799, loss_rpn_cls: 0.0775, loss_rpn_bbox: 0.0384, s0.loss_cls: 0.3142, s0.acc: 91.0859, s0.loss_bbox: 0.1428, s1.loss_cls: 0.1525, s1.acc: 91.2553, s1.loss_bbox: 0.1328, s2.loss_cls: 0.0706, s2.acc: 91.8250, s2.loss_bbox: 0.0736, loss: 1.0023, grad_norm: 2.6943\n",
      "2021-05-11 06:36:36,582 - mmdet - INFO - Epoch [3][450/655]\tlr: 2.000e-02, eta: 2:05:46, time: 1.235, data_time: 0.007, memory: 5799, loss_rpn_cls: 0.0814, loss_rpn_bbox: 0.0463, s0.loss_cls: 0.3535, s0.acc: 89.7588, s0.loss_bbox: 0.1646, s1.loss_cls: 0.1654, s1.acc: 90.1804, s1.loss_bbox: 0.1413, s2.loss_cls: 0.0749, s2.acc: 91.1601, s2.loss_bbox: 0.0743, loss: 1.1017, grad_norm: 2.8161\n",
      "2021-05-11 06:37:38,428 - mmdet - INFO - Epoch [3][500/655]\tlr: 2.000e-02, eta: 2:04:44, time: 1.237, data_time: 0.007, memory: 5799, loss_rpn_cls: 0.0916, loss_rpn_bbox: 0.0505, s0.loss_cls: 0.3737, s0.acc: 88.9883, s0.loss_bbox: 0.1854, s1.loss_cls: 0.1759, s1.acc: 89.4827, s1.loss_bbox: 0.1543, s2.loss_cls: 0.0792, s2.acc: 90.5738, s2.loss_bbox: 0.0773, loss: 1.1879, grad_norm: 2.7544\n",
      "2021-05-11 06:38:40,164 - mmdet - INFO - Epoch [3][550/655]\tlr: 2.000e-02, eta: 2:03:42, time: 1.235, data_time: 0.007, memory: 5799, loss_rpn_cls: 0.0897, loss_rpn_bbox: 0.0454, s0.loss_cls: 0.3538, s0.acc: 89.8145, s0.loss_bbox: 0.1591, s1.loss_cls: 0.1651, s1.acc: 90.3986, s1.loss_bbox: 0.1334, s2.loss_cls: 0.0744, s2.acc: 91.1457, s2.loss_bbox: 0.0694, loss: 1.0903, grad_norm: 2.8179\n",
      "2021-05-11 06:39:42,229 - mmdet - INFO - Epoch [3][600/655]\tlr: 2.000e-02, eta: 2:02:41, time: 1.241, data_time: 0.007, memory: 5799, loss_rpn_cls: 0.0920, loss_rpn_bbox: 0.0470, s0.loss_cls: 0.3650, s0.acc: 89.7422, s0.loss_bbox: 0.1680, s1.loss_cls: 0.1730, s1.acc: 90.2020, s1.loss_bbox: 0.1414, s2.loss_cls: 0.0791, s2.acc: 91.1297, s2.loss_bbox: 0.0739, loss: 1.1393, grad_norm: 2.9227\n",
      "2021-05-11 06:40:44,345 - mmdet - INFO - Epoch [3][650/655]\tlr: 2.000e-02, eta: 2:01:40, time: 1.242, data_time: 0.007, memory: 5799, loss_rpn_cls: 0.0767, loss_rpn_bbox: 0.0431, s0.loss_cls: 0.3491, s0.acc: 89.9053, s0.loss_bbox: 0.1583, s1.loss_cls: 0.1691, s1.acc: 89.9447, s1.loss_bbox: 0.1426, s2.loss_cls: 0.0775, s2.acc: 90.7461, s2.loss_bbox: 0.0759, loss: 1.0922, grad_norm: 2.7554\n",
      "2021-05-11 06:40:50,606 - mmdet - INFO - Saving checkpoint at 3 epochs\n"
     ]
    },
    {
     "name": "stdout",
     "output_type": "stream",
     "text": [
      "[>>>>>>>>>>>>>>>>>>>>>>>>>>>>>>] 655/655, 7.0 task/s, elapsed: 93s, ETA:     0s"
     ]
    },
    {
     "name": "stderr",
     "output_type": "stream",
     "text": [
      "2021-05-11 06:42:26,831 - mmdet - INFO - Evaluating bbox...\n"
     ]
    },
    {
     "name": "stdout",
     "output_type": "stream",
     "text": [
      "Loading and preparing results...\n",
      "DONE (t=0.58s)\n",
      "creating index...\n",
      "index created!\n",
      "Running per image evaluation...\n",
      "Evaluate annotation type *bbox*\n",
      "DONE (t=5.74s).\n",
      "Accumulating evaluation results...\n"
     ]
    },
    {
     "name": "stderr",
     "output_type": "stream",
     "text": [
      "2021-05-11 06:42:34,165 - mmdet - INFO - Epoch(val) [3][655]\tbbox_mAP: 0.1090, bbox_mAP_50: 0.1870, bbox_mAP_75: 0.1110, bbox_mAP_s: 0.0240, bbox_mAP_m: 0.1080, bbox_mAP_l: 0.2140, bbox_mAP_copypaste: 0.109 0.187 0.111 0.024 0.108 0.214\n"
     ]
    },
    {
     "name": "stdout",
     "output_type": "stream",
     "text": [
      "DONE (t=0.92s).\n",
      "Average Precision  (AP) @[ IoU=0.50:0.95 | area=   all | maxDets=100 ] = 0.109\n",
      "Average Precision  (AP) @[ IoU=0.50      | area=   all | maxDets=1000 ] = 0.187\n",
      "Average Precision  (AP) @[ IoU=0.75      | area=   all | maxDets=1000 ] = 0.111\n",
      "Average Precision  (AP) @[ IoU=0.50:0.95 | area= small | maxDets=1000 ] = 0.024\n",
      "Average Precision  (AP) @[ IoU=0.50:0.95 | area=medium | maxDets=1000 ] = 0.108\n",
      "Average Precision  (AP) @[ IoU=0.50:0.95 | area= large | maxDets=1000 ] = 0.214\n",
      "Average Recall     (AR) @[ IoU=0.50:0.95 | area=   all | maxDets=100 ] = 0.237\n",
      "Average Recall     (AR) @[ IoU=0.50:0.95 | area=   all | maxDets=300 ] = 0.237\n",
      "Average Recall     (AR) @[ IoU=0.50:0.95 | area=   all | maxDets=1000 ] = 0.237\n",
      "Average Recall     (AR) @[ IoU=0.50:0.95 | area= small | maxDets=1000 ] = 0.066\n",
      "Average Recall     (AR) @[ IoU=0.50:0.95 | area=medium | maxDets=1000 ] = 0.229\n",
      "Average Recall     (AR) @[ IoU=0.50:0.95 | area= large | maxDets=1000 ] = 0.437\n"
     ]
    },
    {
     "name": "stderr",
     "output_type": "stream",
     "text": [
      "2021-05-11 06:43:38,217 - mmdet - INFO - Epoch [4][50/655]\tlr: 2.000e-02, eta: 2:00:20, time: 1.281, data_time: 0.052, memory: 5799, loss_rpn_cls: 0.0640, loss_rpn_bbox: 0.0402, s0.loss_cls: 0.3333, s0.acc: 90.0322, s0.loss_bbox: 0.1593, s1.loss_cls: 0.1558, s1.acc: 90.4354, s1.loss_bbox: 0.1402, s2.loss_cls: 0.0714, s2.acc: 91.2313, s2.loss_bbox: 0.0745, loss: 1.0387, grad_norm: 2.6823\n",
      "2021-05-11 06:44:39,681 - mmdet - INFO - Epoch [4][100/655]\tlr: 2.000e-02, eta: 1:59:17, time: 1.229, data_time: 0.007, memory: 5799, loss_rpn_cls: 0.0830, loss_rpn_bbox: 0.0459, s0.loss_cls: 0.3495, s0.acc: 89.7646, s0.loss_bbox: 0.1620, s1.loss_cls: 0.1655, s1.acc: 90.3715, s1.loss_bbox: 0.1414, s2.loss_cls: 0.0754, s2.acc: 91.3025, s2.loss_bbox: 0.0736, loss: 1.0964, grad_norm: 2.8554\n",
      "2021-05-11 06:45:41,635 - mmdet - INFO - Epoch [4][150/655]\tlr: 2.000e-02, eta: 1:58:16, time: 1.239, data_time: 0.007, memory: 5799, loss_rpn_cls: 0.0742, loss_rpn_bbox: 0.0421, s0.loss_cls: 0.3354, s0.acc: 90.2676, s0.loss_bbox: 0.1523, s1.loss_cls: 0.1574, s1.acc: 90.7417, s1.loss_bbox: 0.1321, s2.loss_cls: 0.0725, s2.acc: 91.2644, s2.loss_bbox: 0.0702, loss: 1.0360, grad_norm: 2.7604\n",
      "2021-05-11 06:46:43,745 - mmdet - INFO - Epoch [4][200/655]\tlr: 2.000e-02, eta: 1:57:15, time: 1.242, data_time: 0.008, memory: 5799, loss_rpn_cls: 0.0725, loss_rpn_bbox: 0.0451, s0.loss_cls: 0.3408, s0.acc: 89.7021, s0.loss_bbox: 0.1597, s1.loss_cls: 0.1604, s1.acc: 90.1495, s1.loss_bbox: 0.1393, s2.loss_cls: 0.0739, s2.acc: 91.0319, s2.loss_bbox: 0.0750, loss: 1.0668, grad_norm: 2.8067\n",
      "2021-05-11 06:47:45,626 - mmdet - INFO - Epoch [4][250/655]\tlr: 2.000e-02, eta: 1:56:14, time: 1.238, data_time: 0.008, memory: 5799, loss_rpn_cls: 0.0680, loss_rpn_bbox: 0.0394, s0.loss_cls: 0.3203, s0.acc: 90.7559, s0.loss_bbox: 0.1499, s1.loss_cls: 0.1541, s1.acc: 90.9659, s1.loss_bbox: 0.1344, s2.loss_cls: 0.0723, s2.acc: 91.4074, s2.loss_bbox: 0.0729, loss: 1.0113, grad_norm: 2.7479\n",
      "2021-05-11 06:48:48,343 - mmdet - INFO - Epoch [4][300/655]\tlr: 2.000e-02, eta: 1:55:14, time: 1.254, data_time: 0.008, memory: 5799, loss_rpn_cls: 0.0729, loss_rpn_bbox: 0.0402, s0.loss_cls: 0.3434, s0.acc: 90.1455, s0.loss_bbox: 0.1590, s1.loss_cls: 0.1631, s1.acc: 90.4781, s1.loss_bbox: 0.1406, s2.loss_cls: 0.0745, s2.acc: 91.2868, s2.loss_bbox: 0.0729, loss: 1.0666, grad_norm: 2.8251\n",
      "2021-05-11 06:49:50,340 - mmdet - INFO - Epoch [4][350/655]\tlr: 2.000e-02, eta: 1:54:13, time: 1.240, data_time: 0.008, memory: 5799, loss_rpn_cls: 0.0780, loss_rpn_bbox: 0.0437, s0.loss_cls: 0.3507, s0.acc: 89.8516, s0.loss_bbox: 0.1550, s1.loss_cls: 0.1632, s1.acc: 90.3569, s1.loss_bbox: 0.1370, s2.loss_cls: 0.0749, s2.acc: 90.9941, s2.loss_bbox: 0.0715, loss: 1.0740, grad_norm: 2.8395\n",
      "2021-05-11 06:50:52,388 - mmdet - INFO - Epoch [4][400/655]\tlr: 2.000e-02, eta: 1:53:12, time: 1.241, data_time: 0.008, memory: 5799, loss_rpn_cls: 0.0740, loss_rpn_bbox: 0.0372, s0.loss_cls: 0.3516, s0.acc: 90.0107, s0.loss_bbox: 0.1584, s1.loss_cls: 0.1660, s1.acc: 90.4816, s1.loss_bbox: 0.1381, s2.loss_cls: 0.0761, s2.acc: 91.2127, s2.loss_bbox: 0.0764, loss: 1.0777, grad_norm: 2.7217\n",
      "2021-05-11 06:51:54,349 - mmdet - INFO - Epoch [4][450/655]\tlr: 2.000e-02, eta: 1:52:10, time: 1.239, data_time: 0.007, memory: 5799, loss_rpn_cls: 0.0641, loss_rpn_bbox: 0.0393, s0.loss_cls: 0.3335, s0.acc: 90.2158, s0.loss_bbox: 0.1487, s1.loss_cls: 0.1625, s1.acc: 90.4141, s1.loss_bbox: 0.1340, s2.loss_cls: 0.0773, s2.acc: 90.7492, s2.loss_bbox: 0.0724, loss: 1.0317, grad_norm: 2.6907\n",
      "2021-05-11 06:52:56,542 - mmdet - INFO - Epoch [4][500/655]\tlr: 2.000e-02, eta: 1:51:09, time: 1.244, data_time: 0.007, memory: 5799, loss_rpn_cls: 0.0720, loss_rpn_bbox: 0.0464, s0.loss_cls: 0.3388, s0.acc: 90.1426, s0.loss_bbox: 0.1587, s1.loss_cls: 0.1595, s1.acc: 90.7756, s1.loss_bbox: 0.1385, s2.loss_cls: 0.0737, s2.acc: 91.4820, s2.loss_bbox: 0.0745, loss: 1.0621, grad_norm: 2.8256\n",
      "2021-05-11 06:53:58,532 - mmdet - INFO - Epoch [4][550/655]\tlr: 2.000e-02, eta: 1:50:08, time: 1.240, data_time: 0.007, memory: 5799, loss_rpn_cls: 0.0600, loss_rpn_bbox: 0.0372, s0.loss_cls: 0.3153, s0.acc: 90.6865, s0.loss_bbox: 0.1469, s1.loss_cls: 0.1529, s1.acc: 90.9609, s1.loss_bbox: 0.1333, s2.loss_cls: 0.0718, s2.acc: 91.4047, s2.loss_bbox: 0.0728, loss: 0.9902, grad_norm: 2.6746\n",
      "2021-05-11 06:55:00,082 - mmdet - INFO - Epoch [4][600/655]\tlr: 2.000e-02, eta: 1:49:06, time: 1.231, data_time: 0.007, memory: 5799, loss_rpn_cls: 0.0839, loss_rpn_bbox: 0.0473, s0.loss_cls: 0.3498, s0.acc: 89.6494, s0.loss_bbox: 0.1607, s1.loss_cls: 0.1688, s1.acc: 89.9565, s1.loss_bbox: 0.1393, s2.loss_cls: 0.0780, s2.acc: 90.8757, s2.loss_bbox: 0.0730, loss: 1.1008, grad_norm: 2.7311\n",
      "2021-05-11 06:56:02,101 - mmdet - INFO - Epoch [4][650/655]\tlr: 2.000e-02, eta: 1:48:04, time: 1.240, data_time: 0.007, memory: 5799, loss_rpn_cls: 0.0684, loss_rpn_bbox: 0.0399, s0.loss_cls: 0.3665, s0.acc: 89.0420, s0.loss_bbox: 0.1735, s1.loss_cls: 0.1731, s1.acc: 89.5813, s1.loss_bbox: 0.1485, s2.loss_cls: 0.0806, s2.acc: 90.5729, s2.loss_bbox: 0.0788, loss: 1.1293, grad_norm: 2.9215\n",
      "2021-05-11 06:56:08,337 - mmdet - INFO - Saving checkpoint at 4 epochs\n"
     ]
    },
    {
     "name": "stdout",
     "output_type": "stream",
     "text": [
      "[>>>>>>>>>>>>>>>>>>>>>>>>>>>>>>] 655/655, 7.0 task/s, elapsed: 93s, ETA:     0s"
     ]
    },
    {
     "name": "stderr",
     "output_type": "stream",
     "text": [
      "2021-05-11 06:57:44,044 - mmdet - INFO - Evaluating bbox...\n"
     ]
    },
    {
     "name": "stdout",
     "output_type": "stream",
     "text": [
      "Loading and preparing results...\n",
      "DONE (t=0.59s)\n",
      "creating index...\n",
      "index created!\n",
      "Running per image evaluation...\n",
      "Evaluate annotation type *bbox*\n",
      "DONE (t=5.76s).\n",
      "Accumulating evaluation results...\n"
     ]
    },
    {
     "name": "stderr",
     "output_type": "stream",
     "text": [
      "2021-05-11 06:57:51,458 - mmdet - INFO - Epoch(val) [4][655]\tbbox_mAP: 0.1180, bbox_mAP_50: 0.1930, bbox_mAP_75: 0.1200, bbox_mAP_s: 0.0260, bbox_mAP_m: 0.1150, bbox_mAP_l: 0.2250, bbox_mAP_copypaste: 0.118 0.193 0.120 0.026 0.115 0.225\n"
     ]
    },
    {
     "name": "stdout",
     "output_type": "stream",
     "text": [
      "DONE (t=0.96s).\n",
      "Average Precision  (AP) @[ IoU=0.50:0.95 | area=   all | maxDets=100 ] = 0.118\n",
      "Average Precision  (AP) @[ IoU=0.50      | area=   all | maxDets=1000 ] = 0.193\n",
      "Average Precision  (AP) @[ IoU=0.75      | area=   all | maxDets=1000 ] = 0.120\n",
      "Average Precision  (AP) @[ IoU=0.50:0.95 | area= small | maxDets=1000 ] = 0.026\n",
      "Average Precision  (AP) @[ IoU=0.50:0.95 | area=medium | maxDets=1000 ] = 0.115\n",
      "Average Precision  (AP) @[ IoU=0.50:0.95 | area= large | maxDets=1000 ] = 0.225\n",
      "Average Recall     (AR) @[ IoU=0.50:0.95 | area=   all | maxDets=100 ] = 0.265\n",
      "Average Recall     (AR) @[ IoU=0.50:0.95 | area=   all | maxDets=300 ] = 0.265\n",
      "Average Recall     (AR) @[ IoU=0.50:0.95 | area=   all | maxDets=1000 ] = 0.265\n",
      "Average Recall     (AR) @[ IoU=0.50:0.95 | area= small | maxDets=1000 ] = 0.087\n",
      "Average Recall     (AR) @[ IoU=0.50:0.95 | area=medium | maxDets=1000 ] = 0.262\n",
      "Average Recall     (AR) @[ IoU=0.50:0.95 | area= large | maxDets=1000 ] = 0.463\n"
     ]
    },
    {
     "name": "stderr",
     "output_type": "stream",
     "text": [
      "2021-05-11 06:58:55,374 - mmdet - INFO - Epoch [5][50/655]\tlr: 2.000e-02, eta: 1:46:48, time: 1.278, data_time: 0.051, memory: 5799, loss_rpn_cls: 0.0557, loss_rpn_bbox: 0.0327, s0.loss_cls: 0.3008, s0.acc: 90.8750, s0.loss_bbox: 0.1408, s1.loss_cls: 0.1456, s1.acc: 91.2525, s1.loss_bbox: 0.1252, s2.loss_cls: 0.0690, s2.acc: 91.6765, s2.loss_bbox: 0.0676, loss: 0.9374, grad_norm: 2.4944\n",
      "2021-05-11 06:59:56,846 - mmdet - INFO - Epoch [5][100/655]\tlr: 2.000e-02, eta: 1:45:46, time: 1.229, data_time: 0.008, memory: 5799, loss_rpn_cls: 0.0618, loss_rpn_bbox: 0.0477, s0.loss_cls: 0.3474, s0.acc: 89.6348, s0.loss_bbox: 0.1614, s1.loss_cls: 0.1641, s1.acc: 90.2149, s1.loss_bbox: 0.1460, s2.loss_cls: 0.0765, s2.acc: 90.8352, s2.loss_bbox: 0.0773, loss: 1.0823, grad_norm: 2.6287\n",
      "2021-05-11 07:00:58,614 - mmdet - INFO - Epoch [5][150/655]\tlr: 2.000e-02, eta: 1:44:44, time: 1.235, data_time: 0.008, memory: 5799, loss_rpn_cls: 0.0621, loss_rpn_bbox: 0.0417, s0.loss_cls: 0.3213, s0.acc: 90.3145, s0.loss_bbox: 0.1556, s1.loss_cls: 0.1489, s1.acc: 90.7972, s1.loss_bbox: 0.1367, s2.loss_cls: 0.0704, s2.acc: 91.2483, s2.loss_bbox: 0.0745, loss: 1.0112, grad_norm: 2.8504\n",
      "2021-05-11 07:02:00,850 - mmdet - INFO - Epoch [5][200/655]\tlr: 2.000e-02, eta: 1:43:43, time: 1.245, data_time: 0.007, memory: 5799, loss_rpn_cls: 0.0666, loss_rpn_bbox: 0.0395, s0.loss_cls: 0.3241, s0.acc: 90.3682, s0.loss_bbox: 0.1492, s1.loss_cls: 0.1537, s1.acc: 90.8805, s1.loss_bbox: 0.1311, s2.loss_cls: 0.0725, s2.acc: 91.4002, s2.loss_bbox: 0.0732, loss: 1.0100, grad_norm: 2.7799\n",
      "2021-05-11 07:03:04,151 - mmdet - INFO - Epoch [5][250/655]\tlr: 2.000e-02, eta: 1:42:44, time: 1.266, data_time: 0.007, memory: 5799, loss_rpn_cls: 0.0520, loss_rpn_bbox: 0.0349, s0.loss_cls: 0.2846, s0.acc: 91.4229, s0.loss_bbox: 0.1333, s1.loss_cls: 0.1363, s1.acc: 91.6731, s1.loss_bbox: 0.1207, s2.loss_cls: 0.0639, s2.acc: 92.2368, s2.loss_bbox: 0.0693, loss: 0.8949, grad_norm: 2.7746\n",
      "2021-05-11 07:04:07,076 - mmdet - INFO - Epoch [5][300/655]\tlr: 2.000e-02, eta: 1:41:45, time: 1.258, data_time: 0.007, memory: 5799, loss_rpn_cls: 0.0688, loss_rpn_bbox: 0.0415, s0.loss_cls: 0.2926, s0.acc: 90.9180, s0.loss_bbox: 0.1426, s1.loss_cls: 0.1406, s1.acc: 91.3023, s1.loss_bbox: 0.1260, s2.loss_cls: 0.0675, s2.acc: 91.7535, s2.loss_bbox: 0.0715, loss: 0.9511, grad_norm: 2.7373\n",
      "2021-05-11 07:05:11,151 - mmdet - INFO - Epoch [5][350/655]\tlr: 2.000e-02, eta: 1:40:46, time: 1.282, data_time: 0.008, memory: 5799, loss_rpn_cls: 0.0610, loss_rpn_bbox: 0.0378, s0.loss_cls: 0.3145, s0.acc: 90.4746, s0.loss_bbox: 0.1479, s1.loss_cls: 0.1524, s1.acc: 90.6942, s1.loss_bbox: 0.1339, s2.loss_cls: 0.0734, s2.acc: 91.1837, s2.loss_bbox: 0.0759, loss: 0.9969, grad_norm: 2.8111\n",
      "2021-05-11 07:06:13,778 - mmdet - INFO - Epoch [5][400/655]\tlr: 2.000e-02, eta: 1:39:46, time: 1.253, data_time: 0.007, memory: 5799, loss_rpn_cls: 0.0650, loss_rpn_bbox: 0.0410, s0.loss_cls: 0.3179, s0.acc: 90.4775, s0.loss_bbox: 0.1472, s1.loss_cls: 0.1523, s1.acc: 90.9498, s1.loss_bbox: 0.1301, s2.loss_cls: 0.0722, s2.acc: 91.3309, s2.loss_bbox: 0.0708, loss: 0.9966, grad_norm: 2.7840\n",
      "2021-05-11 07:07:15,737 - mmdet - INFO - Epoch [5][450/655]\tlr: 2.000e-02, eta: 1:38:44, time: 1.239, data_time: 0.007, memory: 5799, loss_rpn_cls: 0.0652, loss_rpn_bbox: 0.0441, s0.loss_cls: 0.3423, s0.acc: 89.8252, s0.loss_bbox: 0.1555, s1.loss_cls: 0.1635, s1.acc: 90.4213, s1.loss_bbox: 0.1369, s2.loss_cls: 0.0773, s2.acc: 90.7438, s2.loss_bbox: 0.0758, loss: 1.0606, grad_norm: 2.8503\n",
      "2021-05-11 07:08:17,522 - mmdet - INFO - Epoch [5][500/655]\tlr: 2.000e-02, eta: 1:37:42, time: 1.236, data_time: 0.007, memory: 5799, loss_rpn_cls: 0.0610, loss_rpn_bbox: 0.0337, s0.loss_cls: 0.3007, s0.acc: 91.1875, s0.loss_bbox: 0.1342, s1.loss_cls: 0.1471, s1.acc: 91.2959, s1.loss_bbox: 0.1214, s2.loss_cls: 0.0691, s2.acc: 91.7252, s2.loss_bbox: 0.0648, loss: 0.9321, grad_norm: 3.2643\n",
      "2021-05-11 07:09:19,121 - mmdet - INFO - Epoch [5][550/655]\tlr: 2.000e-02, eta: 1:36:40, time: 1.232, data_time: 0.007, memory: 5799, loss_rpn_cls: 0.0745, loss_rpn_bbox: 0.0421, s0.loss_cls: 0.3648, s0.acc: 89.4922, s0.loss_bbox: 0.1604, s1.loss_cls: 0.1715, s1.acc: 89.9607, s1.loss_bbox: 0.1393, s2.loss_cls: 0.0787, s2.acc: 90.7082, s2.loss_bbox: 0.0742, loss: 1.1055, grad_norm: 2.9127\n",
      "2021-05-11 07:10:20,647 - mmdet - INFO - Epoch [5][600/655]\tlr: 2.000e-02, eta: 1:35:38, time: 1.231, data_time: 0.007, memory: 5799, loss_rpn_cls: 0.0652, loss_rpn_bbox: 0.0393, s0.loss_cls: 0.3075, s0.acc: 90.7979, s0.loss_bbox: 0.1401, s1.loss_cls: 0.1466, s1.acc: 91.0945, s1.loss_bbox: 0.1257, s2.loss_cls: 0.0688, s2.acc: 91.4939, s2.loss_bbox: 0.0688, loss: 0.9621, grad_norm: 2.8167\n",
      "2021-05-11 07:11:22,327 - mmdet - INFO - Epoch [5][650/655]\tlr: 2.000e-02, eta: 1:34:36, time: 1.234, data_time: 0.007, memory: 5799, loss_rpn_cls: 0.0775, loss_rpn_bbox: 0.0418, s0.loss_cls: 0.3085, s0.acc: 90.8389, s0.loss_bbox: 0.1411, s1.loss_cls: 0.1477, s1.acc: 91.1215, s1.loss_bbox: 0.1271, s2.loss_cls: 0.0689, s2.acc: 91.7259, s2.loss_bbox: 0.0687, loss: 0.9812, grad_norm: 2.8928\n",
      "2021-05-11 07:11:28,555 - mmdet - INFO - Saving checkpoint at 5 epochs\n"
     ]
    },
    {
     "name": "stdout",
     "output_type": "stream",
     "text": [
      "[>>>>>>>>>>>>>>>>>>>>>>>>>>>>>>] 655/655, 7.1 task/s, elapsed: 93s, ETA:     0s"
     ]
    },
    {
     "name": "stderr",
     "output_type": "stream",
     "text": [
      "2021-05-11 07:13:04,211 - mmdet - INFO - Evaluating bbox...\n"
     ]
    },
    {
     "name": "stdout",
     "output_type": "stream",
     "text": [
      "Loading and preparing results...\n",
      "DONE (t=0.57s)\n",
      "creating index...\n",
      "index created!\n",
      "Running per image evaluation...\n",
      "Evaluate annotation type *bbox*\n",
      "DONE (t=5.82s).\n",
      "Accumulating evaluation results...\n"
     ]
    },
    {
     "name": "stderr",
     "output_type": "stream",
     "text": [
      "2021-05-11 07:13:11,593 - mmdet - INFO - Epoch(val) [5][655]\tbbox_mAP: 0.1320, bbox_mAP_50: 0.2210, bbox_mAP_75: 0.1380, bbox_mAP_s: 0.0280, bbox_mAP_m: 0.1300, bbox_mAP_l: 0.2620, bbox_mAP_copypaste: 0.132 0.221 0.138 0.028 0.130 0.262\n"
     ]
    },
    {
     "name": "stdout",
     "output_type": "stream",
     "text": [
      "DONE (t=0.91s).\n",
      "Average Precision  (AP) @[ IoU=0.50:0.95 | area=   all | maxDets=100 ] = 0.132\n",
      "Average Precision  (AP) @[ IoU=0.50      | area=   all | maxDets=1000 ] = 0.221\n",
      "Average Precision  (AP) @[ IoU=0.75      | area=   all | maxDets=1000 ] = 0.138\n",
      "Average Precision  (AP) @[ IoU=0.50:0.95 | area= small | maxDets=1000 ] = 0.028\n",
      "Average Precision  (AP) @[ IoU=0.50:0.95 | area=medium | maxDets=1000 ] = 0.130\n",
      "Average Precision  (AP) @[ IoU=0.50:0.95 | area= large | maxDets=1000 ] = 0.262\n",
      "Average Recall     (AR) @[ IoU=0.50:0.95 | area=   all | maxDets=100 ] = 0.263\n",
      "Average Recall     (AR) @[ IoU=0.50:0.95 | area=   all | maxDets=300 ] = 0.263\n",
      "Average Recall     (AR) @[ IoU=0.50:0.95 | area=   all | maxDets=1000 ] = 0.263\n",
      "Average Recall     (AR) @[ IoU=0.50:0.95 | area= small | maxDets=1000 ] = 0.103\n",
      "Average Recall     (AR) @[ IoU=0.50:0.95 | area=medium | maxDets=1000 ] = 0.251\n",
      "Average Recall     (AR) @[ IoU=0.50:0.95 | area= large | maxDets=1000 ] = 0.448\n"
     ]
    },
    {
     "name": "stderr",
     "output_type": "stream",
     "text": [
      "2021-05-11 07:14:15,746 - mmdet - INFO - Epoch [6][50/655]\tlr: 2.000e-02, eta: 1:33:22, time: 1.283, data_time: 0.051, memory: 5799, loss_rpn_cls: 0.0563, loss_rpn_bbox: 0.0393, s0.loss_cls: 0.3099, s0.acc: 90.6748, s0.loss_bbox: 0.1513, s1.loss_cls: 0.1482, s1.acc: 91.1119, s1.loss_bbox: 0.1334, s2.loss_cls: 0.0701, s2.acc: 91.7399, s2.loss_bbox: 0.0740, loss: 0.9825, grad_norm: 2.6836\n",
      "2021-05-11 07:15:17,534 - mmdet - INFO - Epoch [6][100/655]\tlr: 2.000e-02, eta: 1:32:21, time: 1.236, data_time: 0.008, memory: 5799, loss_rpn_cls: 0.0523, loss_rpn_bbox: 0.0385, s0.loss_cls: 0.3003, s0.acc: 90.6123, s0.loss_bbox: 0.1373, s1.loss_cls: 0.1393, s1.acc: 91.2672, s1.loss_bbox: 0.1259, s2.loss_cls: 0.0670, s2.acc: 91.6032, s2.loss_bbox: 0.0743, loss: 0.9349, grad_norm: 2.9573\n",
      "2021-05-11 07:16:18,990 - mmdet - INFO - Epoch [6][150/655]\tlr: 2.000e-02, eta: 1:31:19, time: 1.229, data_time: 0.007, memory: 5799, loss_rpn_cls: 0.0585, loss_rpn_bbox: 0.0414, s0.loss_cls: 0.2807, s0.acc: 91.4365, s0.loss_bbox: 0.1331, s1.loss_cls: 0.1331, s1.acc: 91.9440, s1.loss_bbox: 0.1187, s2.loss_cls: 0.0628, s2.acc: 92.4167, s2.loss_bbox: 0.0657, loss: 0.8941, grad_norm: 2.7046\n",
      "2021-05-11 07:17:20,722 - mmdet - INFO - Epoch [6][200/655]\tlr: 2.000e-02, eta: 1:30:17, time: 1.235, data_time: 0.007, memory: 5799, loss_rpn_cls: 0.0641, loss_rpn_bbox: 0.0416, s0.loss_cls: 0.3253, s0.acc: 90.0264, s0.loss_bbox: 0.1480, s1.loss_cls: 0.1564, s1.acc: 90.5416, s1.loss_bbox: 0.1308, s2.loss_cls: 0.0739, s2.acc: 91.1184, s2.loss_bbox: 0.0738, loss: 1.0139, grad_norm: 3.0448\n",
      "2021-05-11 07:18:22,418 - mmdet - INFO - Epoch [6][250/655]\tlr: 2.000e-02, eta: 1:29:15, time: 1.234, data_time: 0.007, memory: 5799, loss_rpn_cls: 0.0528, loss_rpn_bbox: 0.0339, s0.loss_cls: 0.3021, s0.acc: 90.8457, s0.loss_bbox: 0.1326, s1.loss_cls: 0.1439, s1.acc: 91.0303, s1.loss_bbox: 0.1224, s2.loss_cls: 0.0686, s2.acc: 91.4262, s2.loss_bbox: 0.0686, loss: 0.9249, grad_norm: 2.7953\n",
      "2021-05-11 07:19:24,349 - mmdet - INFO - Epoch [6][300/655]\tlr: 2.000e-02, eta: 1:28:13, time: 1.239, data_time: 0.007, memory: 5799, loss_rpn_cls: 0.0554, loss_rpn_bbox: 0.0355, s0.loss_cls: 0.3087, s0.acc: 90.7451, s0.loss_bbox: 0.1387, s1.loss_cls: 0.1512, s1.acc: 90.6560, s1.loss_bbox: 0.1232, s2.loss_cls: 0.0711, s2.acc: 91.2262, s2.loss_bbox: 0.0660, loss: 0.9497, grad_norm: 3.1828\n",
      "2021-05-11 07:20:26,054 - mmdet - INFO - Epoch [6][350/655]\tlr: 2.000e-02, eta: 1:27:11, time: 1.234, data_time: 0.007, memory: 5799, loss_rpn_cls: 0.0558, loss_rpn_bbox: 0.0342, s0.loss_cls: 0.3083, s0.acc: 90.6689, s0.loss_bbox: 0.1447, s1.loss_cls: 0.1478, s1.acc: 90.9437, s1.loss_bbox: 0.1329, s2.loss_cls: 0.0686, s2.acc: 91.4476, s2.loss_bbox: 0.0731, loss: 0.9654, grad_norm: 3.1165\n",
      "2021-05-11 07:21:27,760 - mmdet - INFO - Epoch [6][400/655]\tlr: 2.000e-02, eta: 1:26:10, time: 1.234, data_time: 0.007, memory: 5799, loss_rpn_cls: 0.0680, loss_rpn_bbox: 0.0443, s0.loss_cls: 0.3297, s0.acc: 90.1963, s0.loss_bbox: 0.1481, s1.loss_cls: 0.1533, s1.acc: 90.7626, s1.loss_bbox: 0.1349, s2.loss_cls: 0.0716, s2.acc: 91.1855, s2.loss_bbox: 0.0747, loss: 1.0245, grad_norm: 3.0736\n",
      "2021-05-11 07:22:29,811 - mmdet - INFO - Epoch [6][450/655]\tlr: 2.000e-02, eta: 1:25:08, time: 1.241, data_time: 0.007, memory: 5799, loss_rpn_cls: 0.0625, loss_rpn_bbox: 0.0391, s0.loss_cls: 0.3129, s0.acc: 90.5391, s0.loss_bbox: 0.1415, s1.loss_cls: 0.1473, s1.acc: 91.0223, s1.loss_bbox: 0.1229, s2.loss_cls: 0.0695, s2.acc: 91.6288, s2.loss_bbox: 0.0677, loss: 0.9633, grad_norm: 3.0298\n",
      "2021-05-11 07:23:31,700 - mmdet - INFO - Epoch [6][500/655]\tlr: 2.000e-02, eta: 1:24:06, time: 1.238, data_time: 0.007, memory: 5799, loss_rpn_cls: 0.0599, loss_rpn_bbox: 0.0353, s0.loss_cls: 0.3200, s0.acc: 90.4443, s0.loss_bbox: 0.1396, s1.loss_cls: 0.1527, s1.acc: 90.6667, s1.loss_bbox: 0.1266, s2.loss_cls: 0.0734, s2.acc: 90.9032, s2.loss_bbox: 0.0711, loss: 0.9787, grad_norm: 2.8838\n",
      "2021-05-11 07:24:33,531 - mmdet - INFO - Epoch [6][550/655]\tlr: 2.000e-02, eta: 1:23:05, time: 1.237, data_time: 0.007, memory: 5799, loss_rpn_cls: 0.0593, loss_rpn_bbox: 0.0437, s0.loss_cls: 0.3211, s0.acc: 90.2188, s0.loss_bbox: 0.1486, s1.loss_cls: 0.1559, s1.acc: 90.5932, s1.loss_bbox: 0.1329, s2.loss_cls: 0.0732, s2.acc: 91.1427, s2.loss_bbox: 0.0725, loss: 1.0073, grad_norm: 2.9205\n",
      "2021-05-11 07:25:35,255 - mmdet - INFO - Epoch [6][600/655]\tlr: 2.000e-02, eta: 1:22:03, time: 1.234, data_time: 0.007, memory: 5799, loss_rpn_cls: 0.0657, loss_rpn_bbox: 0.0390, s0.loss_cls: 0.2942, s0.acc: 91.3584, s0.loss_bbox: 0.1344, s1.loss_cls: 0.1382, s1.acc: 91.7420, s1.loss_bbox: 0.1177, s2.loss_cls: 0.0661, s2.acc: 92.1586, s2.loss_bbox: 0.0654, loss: 0.9207, grad_norm: 2.8846\n",
      "2021-05-11 07:26:36,882 - mmdet - INFO - Epoch [6][650/655]\tlr: 2.000e-02, eta: 1:21:01, time: 1.233, data_time: 0.007, memory: 5799, loss_rpn_cls: 0.0633, loss_rpn_bbox: 0.0372, s0.loss_cls: 0.3106, s0.acc: 90.7871, s0.loss_bbox: 0.1403, s1.loss_cls: 0.1484, s1.acc: 91.0804, s1.loss_bbox: 0.1268, s2.loss_cls: 0.0706, s2.acc: 91.4748, s2.loss_bbox: 0.0694, loss: 0.9666, grad_norm: 2.9411\n",
      "2021-05-11 07:26:43,127 - mmdet - INFO - Saving checkpoint at 6 epochs\n"
     ]
    },
    {
     "name": "stdout",
     "output_type": "stream",
     "text": [
      "[>>>>>>>>>>>>>>>>>>>>>>>>>>>>>] 655/655, 6.3 task/s, elapsed: 104s, ETA:     0s"
     ]
    },
    {
     "name": "stderr",
     "output_type": "stream",
     "text": [
      "2021-05-11 07:28:30,598 - mmdet - INFO - Evaluating bbox...\n"
     ]
    },
    {
     "name": "stdout",
     "output_type": "stream",
     "text": [
      "Loading and preparing results...\n",
      "DONE (t=0.57s)\n",
      "creating index...\n",
      "index created!\n",
      "Running per image evaluation...\n",
      "Evaluate annotation type *bbox*\n",
      "DONE (t=5.51s).\n",
      "Accumulating evaluation results...\n"
     ]
    },
    {
     "name": "stderr",
     "output_type": "stream",
     "text": [
      "2021-05-11 07:28:37,673 - mmdet - INFO - Epoch(val) [6][655]\tbbox_mAP: 0.1360, bbox_mAP_50: 0.2170, bbox_mAP_75: 0.1450, bbox_mAP_s: 0.0260, bbox_mAP_m: 0.1350, bbox_mAP_l: 0.2550, bbox_mAP_copypaste: 0.136 0.217 0.145 0.026 0.135 0.255\n"
     ]
    },
    {
     "name": "stdout",
     "output_type": "stream",
     "text": [
      "DONE (t=0.92s).\n",
      "Average Precision  (AP) @[ IoU=0.50:0.95 | area=   all | maxDets=100 ] = 0.136\n",
      "Average Precision  (AP) @[ IoU=0.50      | area=   all | maxDets=1000 ] = 0.217\n",
      "Average Precision  (AP) @[ IoU=0.75      | area=   all | maxDets=1000 ] = 0.145\n",
      "Average Precision  (AP) @[ IoU=0.50:0.95 | area= small | maxDets=1000 ] = 0.026\n",
      "Average Precision  (AP) @[ IoU=0.50:0.95 | area=medium | maxDets=1000 ] = 0.135\n",
      "Average Precision  (AP) @[ IoU=0.50:0.95 | area= large | maxDets=1000 ] = 0.255\n",
      "Average Recall     (AR) @[ IoU=0.50:0.95 | area=   all | maxDets=100 ] = 0.261\n",
      "Average Recall     (AR) @[ IoU=0.50:0.95 | area=   all | maxDets=300 ] = 0.261\n",
      "Average Recall     (AR) @[ IoU=0.50:0.95 | area=   all | maxDets=1000 ] = 0.261\n",
      "Average Recall     (AR) @[ IoU=0.50:0.95 | area= small | maxDets=1000 ] = 0.088\n",
      "Average Recall     (AR) @[ IoU=0.50:0.95 | area=medium | maxDets=1000 ] = 0.254\n",
      "Average Recall     (AR) @[ IoU=0.50:0.95 | area= large | maxDets=1000 ] = 0.443\n"
     ]
    },
    {
     "name": "stderr",
     "output_type": "stream",
     "text": [
      "2021-05-11 07:29:42,814 - mmdet - INFO - Epoch [7][50/655]\tlr: 2.000e-02, eta: 1:19:50, time: 1.303, data_time: 0.052, memory: 5799, loss_rpn_cls: 0.0521, loss_rpn_bbox: 0.0372, s0.loss_cls: 0.2837, s0.acc: 91.0664, s0.loss_bbox: 0.1382, s1.loss_cls: 0.1363, s1.acc: 91.4024, s1.loss_bbox: 0.1245, s2.loss_cls: 0.0656, s2.acc: 91.7678, s2.loss_bbox: 0.0705, loss: 0.9080, grad_norm: 3.0721\n",
      "2021-05-11 07:30:44,734 - mmdet - INFO - Epoch [7][100/655]\tlr: 2.000e-02, eta: 1:18:49, time: 1.238, data_time: 0.008, memory: 5799, loss_rpn_cls: 0.0585, loss_rpn_bbox: 0.0359, s0.loss_cls: 0.3023, s0.acc: 90.7090, s0.loss_bbox: 0.1358, s1.loss_cls: 0.1416, s1.acc: 91.1906, s1.loss_bbox: 0.1214, s2.loss_cls: 0.0672, s2.acc: 91.8038, s2.loss_bbox: 0.0704, loss: 0.9331, grad_norm: 2.9634\n",
      "2021-05-11 07:31:46,379 - mmdet - INFO - Epoch [7][150/655]\tlr: 2.000e-02, eta: 1:17:47, time: 1.233, data_time: 0.007, memory: 5799, loss_rpn_cls: 0.0508, loss_rpn_bbox: 0.0353, s0.loss_cls: 0.2896, s0.acc: 91.1377, s0.loss_bbox: 0.1310, s1.loss_cls: 0.1404, s1.acc: 91.3767, s1.loss_bbox: 0.1201, s2.loss_cls: 0.0672, s2.acc: 91.7162, s2.loss_bbox: 0.0687, loss: 0.9031, grad_norm: 2.8971\n",
      "2021-05-11 07:32:48,770 - mmdet - INFO - Epoch [7][200/655]\tlr: 2.000e-02, eta: 1:16:46, time: 1.248, data_time: 0.008, memory: 5799, loss_rpn_cls: 0.0571, loss_rpn_bbox: 0.0405, s0.loss_cls: 0.2936, s0.acc: 90.9473, s0.loss_bbox: 0.1434, s1.loss_cls: 0.1377, s1.acc: 91.5033, s1.loss_bbox: 0.1243, s2.loss_cls: 0.0643, s2.acc: 91.9462, s2.loss_bbox: 0.0688, loss: 0.9297, grad_norm: 2.9411\n",
      "2021-05-11 07:33:50,728 - mmdet - INFO - Epoch [7][250/655]\tlr: 2.000e-02, eta: 1:15:44, time: 1.239, data_time: 0.007, memory: 5799, loss_rpn_cls: 0.0453, loss_rpn_bbox: 0.0338, s0.loss_cls: 0.2826, s0.acc: 91.3379, s0.loss_bbox: 0.1323, s1.loss_cls: 0.1329, s1.acc: 91.8263, s1.loss_bbox: 0.1198, s2.loss_cls: 0.0639, s2.acc: 92.1121, s2.loss_bbox: 0.0711, loss: 0.8816, grad_norm: 3.0065\n",
      "2021-05-11 07:34:52,670 - mmdet - INFO - Epoch [7][300/655]\tlr: 2.000e-02, eta: 1:14:43, time: 1.239, data_time: 0.007, memory: 5799, loss_rpn_cls: 0.0465, loss_rpn_bbox: 0.0326, s0.loss_cls: 0.2887, s0.acc: 91.1592, s0.loss_bbox: 0.1307, s1.loss_cls: 0.1373, s1.acc: 91.5887, s1.loss_bbox: 0.1175, s2.loss_cls: 0.0660, s2.acc: 91.8095, s2.loss_bbox: 0.0673, loss: 0.8867, grad_norm: 3.0527\n",
      "2021-05-11 07:35:54,698 - mmdet - INFO - Epoch [7][350/655]\tlr: 2.000e-02, eta: 1:13:41, time: 1.241, data_time: 0.008, memory: 5799, loss_rpn_cls: 0.0514, loss_rpn_bbox: 0.0356, s0.loss_cls: 0.2788, s0.acc: 91.2051, s0.loss_bbox: 0.1274, s1.loss_cls: 0.1340, s1.acc: 91.7574, s1.loss_bbox: 0.1158, s2.loss_cls: 0.0653, s2.acc: 91.9716, s2.loss_bbox: 0.0686, loss: 0.8770, grad_norm: 2.8418\n",
      "2021-05-11 07:36:56,435 - mmdet - INFO - Epoch [7][400/655]\tlr: 2.000e-02, eta: 1:12:39, time: 1.235, data_time: 0.007, memory: 5799, loss_rpn_cls: 0.0511, loss_rpn_bbox: 0.0398, s0.loss_cls: 0.2789, s0.acc: 91.6201, s0.loss_bbox: 0.1262, s1.loss_cls: 0.1327, s1.acc: 92.1969, s1.loss_bbox: 0.1158, s2.loss_cls: 0.0630, s2.acc: 92.6367, s2.loss_bbox: 0.0659, loss: 0.8733, grad_norm: 2.8660\n",
      "2021-05-11 07:37:58,390 - mmdet - INFO - Epoch [7][450/655]\tlr: 2.000e-02, eta: 1:11:38, time: 1.239, data_time: 0.007, memory: 5799, loss_rpn_cls: 0.0512, loss_rpn_bbox: 0.0362, s0.loss_cls: 0.2935, s0.acc: 90.8730, s0.loss_bbox: 0.1464, s1.loss_cls: 0.1394, s1.acc: 91.2833, s1.loss_bbox: 0.1255, s2.loss_cls: 0.0668, s2.acc: 91.9669, s2.loss_bbox: 0.0726, loss: 0.9316, grad_norm: 3.0043\n",
      "2021-05-11 07:39:00,099 - mmdet - INFO - Epoch [7][500/655]\tlr: 2.000e-02, eta: 1:10:36, time: 1.234, data_time: 0.007, memory: 5799, loss_rpn_cls: 0.0512, loss_rpn_bbox: 0.0365, s0.loss_cls: 0.2936, s0.acc: 91.1621, s0.loss_bbox: 0.1368, s1.loss_cls: 0.1381, s1.acc: 91.8331, s1.loss_bbox: 0.1221, s2.loss_cls: 0.0656, s2.acc: 92.1560, s2.loss_bbox: 0.0688, loss: 0.9128, grad_norm: 2.9209\n",
      "2021-05-11 07:40:01,753 - mmdet - INFO - Epoch [7][550/655]\tlr: 2.000e-02, eta: 1:09:34, time: 1.233, data_time: 0.007, memory: 5799, loss_rpn_cls: 0.0499, loss_rpn_bbox: 0.0338, s0.loss_cls: 0.2672, s0.acc: 91.8115, s0.loss_bbox: 0.1191, s1.loss_cls: 0.1307, s1.acc: 92.0951, s1.loss_bbox: 0.1086, s2.loss_cls: 0.0646, s2.acc: 92.2840, s2.loss_bbox: 0.0655, loss: 0.8395, grad_norm: 3.0058\n",
      "2021-05-11 07:41:03,404 - mmdet - INFO - Epoch [7][600/655]\tlr: 2.000e-02, eta: 1:08:32, time: 1.233, data_time: 0.007, memory: 5799, loss_rpn_cls: 0.0587, loss_rpn_bbox: 0.0384, s0.loss_cls: 0.2824, s0.acc: 91.1895, s0.loss_bbox: 0.1369, s1.loss_cls: 0.1336, s1.acc: 91.7623, s1.loss_bbox: 0.1242, s2.loss_cls: 0.0642, s2.acc: 92.1289, s2.loss_bbox: 0.0703, loss: 0.9088, grad_norm: 2.7983\n",
      "2021-05-11 07:42:05,130 - mmdet - INFO - Epoch [7][650/655]\tlr: 2.000e-02, eta: 1:07:31, time: 1.235, data_time: 0.007, memory: 5799, loss_rpn_cls: 0.0579, loss_rpn_bbox: 0.0408, s0.loss_cls: 0.2929, s0.acc: 90.9375, s0.loss_bbox: 0.1342, s1.loss_cls: 0.1363, s1.acc: 91.4678, s1.loss_bbox: 0.1192, s2.loss_cls: 0.0661, s2.acc: 91.6125, s2.loss_bbox: 0.0710, loss: 0.9183, grad_norm: 2.9614\n",
      "2021-05-11 07:42:11,374 - mmdet - INFO - Saving checkpoint at 7 epochs\n"
     ]
    },
    {
     "name": "stdout",
     "output_type": "stream",
     "text": [
      "[>>>>>>>>>>>>>>>>>>>>>>>>>>>>>>] 655/655, 7.1 task/s, elapsed: 93s, ETA:     0s"
     ]
    },
    {
     "name": "stderr",
     "output_type": "stream",
     "text": [
      "2021-05-11 07:43:47,248 - mmdet - INFO - Evaluating bbox...\n"
     ]
    },
    {
     "name": "stdout",
     "output_type": "stream",
     "text": [
      "Loading and preparing results...\n",
      "DONE (t=0.54s)\n",
      "creating index...\n",
      "index created!\n",
      "Running per image evaluation...\n",
      "Evaluate annotation type *bbox*\n",
      "DONE (t=5.80s).\n",
      "Accumulating evaluation results...\n"
     ]
    },
    {
     "name": "stderr",
     "output_type": "stream",
     "text": [
      "2021-05-11 07:43:54,553 - mmdet - INFO - Epoch(val) [7][655]\tbbox_mAP: 0.1510, bbox_mAP_50: 0.2400, bbox_mAP_75: 0.1550, bbox_mAP_s: 0.0260, bbox_mAP_m: 0.1340, bbox_mAP_l: 0.2950, bbox_mAP_copypaste: 0.151 0.240 0.155 0.026 0.134 0.295\n"
     ]
    },
    {
     "name": "stdout",
     "output_type": "stream",
     "text": [
      "DONE (t=0.88s).\n",
      "Average Precision  (AP) @[ IoU=0.50:0.95 | area=   all | maxDets=100 ] = 0.151\n",
      "Average Precision  (AP) @[ IoU=0.50      | area=   all | maxDets=1000 ] = 0.240\n",
      "Average Precision  (AP) @[ IoU=0.75      | area=   all | maxDets=1000 ] = 0.155\n",
      "Average Precision  (AP) @[ IoU=0.50:0.95 | area= small | maxDets=1000 ] = 0.026\n",
      "Average Precision  (AP) @[ IoU=0.50:0.95 | area=medium | maxDets=1000 ] = 0.134\n",
      "Average Precision  (AP) @[ IoU=0.50:0.95 | area= large | maxDets=1000 ] = 0.295\n",
      "Average Recall     (AR) @[ IoU=0.50:0.95 | area=   all | maxDets=100 ] = 0.290\n",
      "Average Recall     (AR) @[ IoU=0.50:0.95 | area=   all | maxDets=300 ] = 0.290\n",
      "Average Recall     (AR) @[ IoU=0.50:0.95 | area=   all | maxDets=1000 ] = 0.290\n",
      "Average Recall     (AR) @[ IoU=0.50:0.95 | area= small | maxDets=1000 ] = 0.089\n",
      "Average Recall     (AR) @[ IoU=0.50:0.95 | area=medium | maxDets=1000 ] = 0.262\n",
      "Average Recall     (AR) @[ IoU=0.50:0.95 | area= large | maxDets=1000 ] = 0.549\n"
     ]
    },
    {
     "name": "stderr",
     "output_type": "stream",
     "text": [
      "2021-05-11 07:44:58,544 - mmdet - INFO - Epoch [8][50/655]\tlr: 2.000e-02, eta: 1:06:20, time: 1.280, data_time: 0.052, memory: 5799, loss_rpn_cls: 0.0442, loss_rpn_bbox: 0.0336, s0.loss_cls: 0.2662, s0.acc: 91.8730, s0.loss_bbox: 0.1205, s1.loss_cls: 0.1251, s1.acc: 92.3816, s1.loss_bbox: 0.1108, s2.loss_cls: 0.0601, s2.acc: 92.7204, s2.loss_bbox: 0.0649, loss: 0.8253, grad_norm: 2.9470\n",
      "2021-05-11 07:46:00,300 - mmdet - INFO - Epoch [8][100/655]\tlr: 2.000e-02, eta: 1:05:18, time: 1.235, data_time: 0.008, memory: 5799, loss_rpn_cls: 0.0461, loss_rpn_bbox: 0.0351, s0.loss_cls: 0.2625, s0.acc: 91.5996, s0.loss_bbox: 0.1304, s1.loss_cls: 0.1228, s1.acc: 92.1206, s1.loss_bbox: 0.1195, s2.loss_cls: 0.0606, s2.acc: 92.2371, s2.loss_bbox: 0.0709, loss: 0.8478, grad_norm: 2.9020\n",
      "2021-05-11 07:47:02,524 - mmdet - INFO - Epoch [8][150/655]\tlr: 2.000e-02, eta: 1:04:17, time: 1.244, data_time: 0.008, memory: 5799, loss_rpn_cls: 0.0424, loss_rpn_bbox: 0.0328, s0.loss_cls: 0.2701, s0.acc: 91.5488, s0.loss_bbox: 0.1325, s1.loss_cls: 0.1231, s1.acc: 92.3892, s1.loss_bbox: 0.1197, s2.loss_cls: 0.0591, s2.acc: 92.6256, s2.loss_bbox: 0.0682, loss: 0.8479, grad_norm: 2.8929\n",
      "2021-05-11 07:48:06,784 - mmdet - INFO - Epoch [8][200/655]\tlr: 2.000e-02, eta: 1:03:17, time: 1.285, data_time: 0.008, memory: 5799, loss_rpn_cls: 0.0453, loss_rpn_bbox: 0.0322, s0.loss_cls: 0.2507, s0.acc: 92.3965, s0.loss_bbox: 0.1155, s1.loss_cls: 0.1156, s1.acc: 93.0865, s1.loss_bbox: 0.1049, s2.loss_cls: 0.0558, s2.acc: 93.2487, s2.loss_bbox: 0.0621, loss: 0.7820, grad_norm: 3.0363\n",
      "2021-05-11 07:49:08,951 - mmdet - INFO - Epoch [8][250/655]\tlr: 2.000e-02, eta: 1:02:15, time: 1.243, data_time: 0.007, memory: 5799, loss_rpn_cls: 0.0491, loss_rpn_bbox: 0.0392, s0.loss_cls: 0.2867, s0.acc: 91.1689, s0.loss_bbox: 0.1380, s1.loss_cls: 0.1350, s1.acc: 91.6218, s1.loss_bbox: 0.1227, s2.loss_cls: 0.0645, s2.acc: 92.1304, s2.loss_bbox: 0.0712, loss: 0.9063, grad_norm: 2.9197\n",
      "2021-05-11 07:50:11,125 - mmdet - INFO - Epoch [8][300/655]\tlr: 2.000e-02, eta: 1:01:14, time: 1.243, data_time: 0.007, memory: 5799, loss_rpn_cls: 0.0479, loss_rpn_bbox: 0.0353, s0.loss_cls: 0.2752, s0.acc: 91.4814, s0.loss_bbox: 0.1262, s1.loss_cls: 0.1299, s1.acc: 91.9468, s1.loss_bbox: 0.1150, s2.loss_cls: 0.0616, s2.acc: 92.4168, s2.loss_bbox: 0.0680, loss: 0.8591, grad_norm: 3.0295\n",
      "2021-05-11 07:51:13,353 - mmdet - INFO - Epoch [8][350/655]\tlr: 2.000e-02, eta: 1:00:12, time: 1.245, data_time: 0.007, memory: 5799, loss_rpn_cls: 0.0526, loss_rpn_bbox: 0.0364, s0.loss_cls: 0.2724, s0.acc: 91.4727, s0.loss_bbox: 0.1331, s1.loss_cls: 0.1298, s1.acc: 91.9585, s1.loss_bbox: 0.1200, s2.loss_cls: 0.0626, s2.acc: 92.1770, s2.loss_bbox: 0.0710, loss: 0.8779, grad_norm: 2.9950\n",
      "2021-05-11 07:52:15,981 - mmdet - INFO - Epoch [8][400/655]\tlr: 2.000e-02, eta: 0:59:11, time: 1.253, data_time: 0.007, memory: 5799, loss_rpn_cls: 0.0468, loss_rpn_bbox: 0.0338, s0.loss_cls: 0.2889, s0.acc: 90.8594, s0.loss_bbox: 0.1413, s1.loss_cls: 0.1359, s1.acc: 91.4293, s1.loss_bbox: 0.1283, s2.loss_cls: 0.0636, s2.acc: 91.9910, s2.loss_bbox: 0.0744, loss: 0.9129, grad_norm: 3.1193\n",
      "2021-05-11 07:53:17,550 - mmdet - INFO - Epoch [8][450/655]\tlr: 2.000e-02, eta: 0:58:09, time: 1.231, data_time: 0.007, memory: 5799, loss_rpn_cls: 0.0451, loss_rpn_bbox: 0.0276, s0.loss_cls: 0.2651, s0.acc: 91.8330, s0.loss_bbox: 0.1183, s1.loss_cls: 0.1233, s1.acc: 92.3445, s1.loss_bbox: 0.1088, s2.loss_cls: 0.0596, s2.acc: 92.3341, s2.loss_bbox: 0.0620, loss: 0.8098, grad_norm: 3.0720\n",
      "2021-05-11 07:54:19,146 - mmdet - INFO - Epoch [8][500/655]\tlr: 2.000e-02, eta: 0:57:07, time: 1.232, data_time: 0.007, memory: 5799, loss_rpn_cls: 0.0524, loss_rpn_bbox: 0.0366, s0.loss_cls: 0.2834, s0.acc: 90.9287, s0.loss_bbox: 0.1333, s1.loss_cls: 0.1356, s1.acc: 91.2348, s1.loss_bbox: 0.1207, s2.loss_cls: 0.0648, s2.acc: 91.6097, s2.loss_bbox: 0.0694, loss: 0.8962, grad_norm: 3.2713\n",
      "2021-05-11 07:55:20,875 - mmdet - INFO - Epoch [8][550/655]\tlr: 2.000e-02, eta: 0:56:05, time: 1.235, data_time: 0.007, memory: 5799, loss_rpn_cls: 0.0461, loss_rpn_bbox: 0.0362, s0.loss_cls: 0.2638, s0.acc: 91.8311, s0.loss_bbox: 0.1122, s1.loss_cls: 0.1292, s1.acc: 91.9917, s1.loss_bbox: 0.1037, s2.loss_cls: 0.0630, s2.acc: 92.1403, s2.loss_bbox: 0.0609, loss: 0.8152, grad_norm: 3.1873\n",
      "2021-05-11 07:56:22,317 - mmdet - INFO - Epoch [8][600/655]\tlr: 2.000e-02, eta: 0:55:04, time: 1.229, data_time: 0.007, memory: 5799, loss_rpn_cls: 0.0568, loss_rpn_bbox: 0.0378, s0.loss_cls: 0.2719, s0.acc: 91.6797, s0.loss_bbox: 0.1293, s1.loss_cls: 0.1288, s1.acc: 92.2265, s1.loss_bbox: 0.1203, s2.loss_cls: 0.0626, s2.acc: 92.1819, s2.loss_bbox: 0.0718, loss: 0.8793, grad_norm: 2.9906\n",
      "2021-05-11 07:57:24,598 - mmdet - INFO - Epoch [8][650/655]\tlr: 2.000e-02, eta: 0:54:02, time: 1.246, data_time: 0.007, memory: 5799, loss_rpn_cls: 0.0440, loss_rpn_bbox: 0.0370, s0.loss_cls: 0.2588, s0.acc: 92.1836, s0.loss_bbox: 0.1219, s1.loss_cls: 0.1232, s1.acc: 92.5047, s1.loss_bbox: 0.1145, s2.loss_cls: 0.0597, s2.acc: 92.7264, s2.loss_bbox: 0.0678, loss: 0.8269, grad_norm: 2.8339\n",
      "2021-05-11 07:57:30,857 - mmdet - INFO - Saving checkpoint at 8 epochs\n"
     ]
    },
    {
     "name": "stdout",
     "output_type": "stream",
     "text": [
      "[>>>>>>>>>>>>>>>>>>>>>>>>>>>>>>] 655/655, 6.7 task/s, elapsed: 98s, ETA:     0s"
     ]
    },
    {
     "name": "stderr",
     "output_type": "stream",
     "text": [
      "2021-05-11 07:59:11,255 - mmdet - INFO - Evaluating bbox...\n"
     ]
    },
    {
     "name": "stdout",
     "output_type": "stream",
     "text": [
      "Loading and preparing results...\n",
      "DONE (t=0.58s)\n",
      "creating index...\n",
      "index created!\n",
      "Running per image evaluation...\n",
      "Evaluate annotation type *bbox*\n",
      "DONE (t=6.38s).\n",
      "Accumulating evaluation results...\n"
     ]
    },
    {
     "name": "stderr",
     "output_type": "stream",
     "text": [
      "2021-05-11 07:59:19,257 - mmdet - INFO - Epoch(val) [8][655]\tbbox_mAP: 0.1840, bbox_mAP_50: 0.2860, bbox_mAP_75: 0.2020, bbox_mAP_s: 0.0370, bbox_mAP_m: 0.1560, bbox_mAP_l: 0.3600, bbox_mAP_copypaste: 0.184 0.286 0.202 0.037 0.156 0.360\n"
     ]
    },
    {
     "name": "stdout",
     "output_type": "stream",
     "text": [
      "DONE (t=0.95s).\n",
      "Average Precision  (AP) @[ IoU=0.50:0.95 | area=   all | maxDets=100 ] = 0.184\n",
      "Average Precision  (AP) @[ IoU=0.50      | area=   all | maxDets=1000 ] = 0.286\n",
      "Average Precision  (AP) @[ IoU=0.75      | area=   all | maxDets=1000 ] = 0.202\n",
      "Average Precision  (AP) @[ IoU=0.50:0.95 | area= small | maxDets=1000 ] = 0.037\n",
      "Average Precision  (AP) @[ IoU=0.50:0.95 | area=medium | maxDets=1000 ] = 0.156\n",
      "Average Precision  (AP) @[ IoU=0.50:0.95 | area= large | maxDets=1000 ] = 0.360\n",
      "Average Recall     (AR) @[ IoU=0.50:0.95 | area=   all | maxDets=100 ] = 0.349\n",
      "Average Recall     (AR) @[ IoU=0.50:0.95 | area=   all | maxDets=300 ] = 0.349\n",
      "Average Recall     (AR) @[ IoU=0.50:0.95 | area=   all | maxDets=1000 ] = 0.349\n",
      "Average Recall     (AR) @[ IoU=0.50:0.95 | area= small | maxDets=1000 ] = 0.110\n",
      "Average Recall     (AR) @[ IoU=0.50:0.95 | area=medium | maxDets=1000 ] = 0.320\n",
      "Average Recall     (AR) @[ IoU=0.50:0.95 | area= large | maxDets=1000 ] = 0.618\n"
     ]
    },
    {
     "name": "stderr",
     "output_type": "stream",
     "text": [
      "2021-05-11 08:00:23,646 - mmdet - INFO - Epoch [9][50/655]\tlr: 2.000e-03, eta: 0:52:52, time: 1.287, data_time: 0.051, memory: 5799, loss_rpn_cls: 0.0418, loss_rpn_bbox: 0.0343, s0.loss_cls: 0.2553, s0.acc: 91.9277, s0.loss_bbox: 0.1207, s1.loss_cls: 0.1225, s1.acc: 92.5997, s1.loss_bbox: 0.1118, s2.loss_cls: 0.0615, s2.acc: 92.7573, s2.loss_bbox: 0.0675, loss: 0.8155, grad_norm: 2.5469\n",
      "2021-05-11 08:01:25,245 - mmdet - INFO - Epoch [9][100/655]\tlr: 2.000e-03, eta: 0:51:51, time: 1.232, data_time: 0.007, memory: 5799, loss_rpn_cls: 0.0366, loss_rpn_bbox: 0.0311, s0.loss_cls: 0.2288, s0.acc: 92.5938, s0.loss_bbox: 0.1162, s1.loss_cls: 0.1086, s1.acc: 93.2426, s1.loss_bbox: 0.1064, s2.loss_cls: 0.0533, s2.acc: 93.5459, s2.loss_bbox: 0.0645, loss: 0.7453, grad_norm: 2.4781\n",
      "2021-05-11 08:02:27,002 - mmdet - INFO - Epoch [9][150/655]\tlr: 2.000e-03, eta: 0:50:49, time: 1.235, data_time: 0.007, memory: 5799, loss_rpn_cls: 0.0333, loss_rpn_bbox: 0.0281, s0.loss_cls: 0.2222, s0.acc: 92.9189, s0.loss_bbox: 0.1135, s1.loss_cls: 0.1028, s1.acc: 93.7634, s1.loss_bbox: 0.1027, s2.loss_cls: 0.0496, s2.acc: 94.0269, s2.loss_bbox: 0.0613, loss: 0.7134, grad_norm: 2.5133\n",
      "2021-05-11 08:03:28,762 - mmdet - INFO - Epoch [9][200/655]\tlr: 2.000e-03, eta: 0:49:47, time: 1.235, data_time: 0.007, memory: 5799, loss_rpn_cls: 0.0332, loss_rpn_bbox: 0.0260, s0.loss_cls: 0.2270, s0.acc: 92.7070, s0.loss_bbox: 0.1169, s1.loss_cls: 0.1049, s1.acc: 93.6043, s1.loss_bbox: 0.1090, s2.loss_cls: 0.0527, s2.acc: 93.6500, s2.loss_bbox: 0.0682, loss: 0.7378, grad_norm: 2.6525\n",
      "2021-05-11 08:04:30,697 - mmdet - INFO - Epoch [9][250/655]\tlr: 2.000e-03, eta: 0:48:46, time: 1.239, data_time: 0.007, memory: 5799, loss_rpn_cls: 0.0297, loss_rpn_bbox: 0.0283, s0.loss_cls: 0.2000, s0.acc: 93.7168, s0.loss_bbox: 0.1022, s1.loss_cls: 0.0925, s1.acc: 94.2257, s1.loss_bbox: 0.0921, s2.loss_cls: 0.0465, s2.acc: 94.2411, s2.loss_bbox: 0.0554, loss: 0.6465, grad_norm: 2.3641\n",
      "2021-05-11 08:05:32,730 - mmdet - INFO - Epoch [9][300/655]\tlr: 2.000e-03, eta: 0:47:44, time: 1.241, data_time: 0.007, memory: 5799, loss_rpn_cls: 0.0225, loss_rpn_bbox: 0.0224, s0.loss_cls: 0.1702, s0.acc: 94.4277, s0.loss_bbox: 0.0912, s1.loss_cls: 0.0810, s1.acc: 94.8609, s1.loss_bbox: 0.0860, s2.loss_cls: 0.0420, s2.acc: 94.7557, s2.loss_bbox: 0.0536, loss: 0.5689, grad_norm: 2.3543\n",
      "2021-05-11 08:06:34,763 - mmdet - INFO - Epoch [9][350/655]\tlr: 2.000e-03, eta: 0:46:42, time: 1.241, data_time: 0.008, memory: 5799, loss_rpn_cls: 0.0271, loss_rpn_bbox: 0.0278, s0.loss_cls: 0.2101, s0.acc: 93.3848, s0.loss_bbox: 0.1021, s1.loss_cls: 0.0986, s1.acc: 94.1645, s1.loss_bbox: 0.0943, s2.loss_cls: 0.0507, s2.acc: 94.2041, s2.loss_bbox: 0.0585, loss: 0.6693, grad_norm: 2.5582\n",
      "2021-05-11 08:07:36,553 - mmdet - INFO - Epoch [9][400/655]\tlr: 2.000e-03, eta: 0:45:41, time: 1.236, data_time: 0.008, memory: 5799, loss_rpn_cls: 0.0277, loss_rpn_bbox: 0.0278, s0.loss_cls: 0.1984, s0.acc: 93.5020, s0.loss_bbox: 0.1063, s1.loss_cls: 0.0933, s1.acc: 94.1058, s1.loss_bbox: 0.1009, s2.loss_cls: 0.0463, s2.acc: 94.1542, s2.loss_bbox: 0.0606, loss: 0.6612, grad_norm: 2.5891\n",
      "2021-05-11 08:08:38,382 - mmdet - INFO - Epoch [9][450/655]\tlr: 2.000e-03, eta: 0:44:39, time: 1.237, data_time: 0.008, memory: 5799, loss_rpn_cls: 0.0310, loss_rpn_bbox: 0.0261, s0.loss_cls: 0.2076, s0.acc: 93.3555, s0.loss_bbox: 0.1035, s1.loss_cls: 0.0967, s1.acc: 94.1210, s1.loss_bbox: 0.0980, s2.loss_cls: 0.0480, s2.acc: 94.2374, s2.loss_bbox: 0.0614, loss: 0.6722, grad_norm: 2.5710\n",
      "2021-05-11 08:09:40,445 - mmdet - INFO - Epoch [9][500/655]\tlr: 2.000e-03, eta: 0:43:37, time: 1.241, data_time: 0.008, memory: 5799, loss_rpn_cls: 0.0278, loss_rpn_bbox: 0.0229, s0.loss_cls: 0.1856, s0.acc: 94.0820, s0.loss_bbox: 0.0915, s1.loss_cls: 0.0837, s1.acc: 94.7548, s1.loss_bbox: 0.0859, s2.loss_cls: 0.0423, s2.acc: 94.7683, s2.loss_bbox: 0.0564, loss: 0.5962, grad_norm: 2.5363\n",
      "2021-05-11 08:10:42,925 - mmdet - INFO - Epoch [9][550/655]\tlr: 2.000e-03, eta: 0:42:36, time: 1.250, data_time: 0.008, memory: 5799, loss_rpn_cls: 0.0311, loss_rpn_bbox: 0.0249, s0.loss_cls: 0.2027, s0.acc: 93.4375, s0.loss_bbox: 0.1048, s1.loss_cls: 0.0930, s1.acc: 94.1452, s1.loss_bbox: 0.0955, s2.loss_cls: 0.0456, s2.acc: 94.4436, s2.loss_bbox: 0.0576, loss: 0.6552, grad_norm: 2.5195\n",
      "2021-05-11 08:11:44,723 - mmdet - INFO - Epoch [9][600/655]\tlr: 2.000e-03, eta: 0:41:34, time: 1.236, data_time: 0.007, memory: 5799, loss_rpn_cls: 0.0298, loss_rpn_bbox: 0.0295, s0.loss_cls: 0.2121, s0.acc: 93.1123, s0.loss_bbox: 0.1061, s1.loss_cls: 0.0960, s1.acc: 93.9301, s1.loss_bbox: 0.0982, s2.loss_cls: 0.0485, s2.acc: 93.8828, s2.loss_bbox: 0.0612, loss: 0.6813, grad_norm: 2.6235\n",
      "2021-05-11 08:12:46,306 - mmdet - INFO - Epoch [9][650/655]\tlr: 2.000e-03, eta: 0:40:32, time: 1.232, data_time: 0.007, memory: 5799, loss_rpn_cls: 0.0287, loss_rpn_bbox: 0.0249, s0.loss_cls: 0.1967, s0.acc: 93.6738, s0.loss_bbox: 0.0950, s1.loss_cls: 0.0911, s1.acc: 94.2998, s1.loss_bbox: 0.0872, s2.loss_cls: 0.0465, s2.acc: 94.2430, s2.loss_bbox: 0.0554, loss: 0.6255, grad_norm: 2.5611\n",
      "2021-05-11 08:12:52,538 - mmdet - INFO - Saving checkpoint at 9 epochs\n"
     ]
    },
    {
     "name": "stdout",
     "output_type": "stream",
     "text": [
      "[>>>>>>>>>>>>>>>>>>>>>>>>>>>>>>] 655/655, 6.9 task/s, elapsed: 95s, ETA:     0s"
     ]
    },
    {
     "name": "stderr",
     "output_type": "stream",
     "text": [
      "2021-05-11 08:14:30,379 - mmdet - INFO - Evaluating bbox...\n"
     ]
    },
    {
     "name": "stdout",
     "output_type": "stream",
     "text": [
      "Loading and preparing results...\n",
      "DONE (t=0.09s)\n",
      "creating index...\n",
      "index created!\n",
      "Running per image evaluation...\n",
      "Evaluate annotation type *bbox*\n",
      "DONE (t=5.41s).\n",
      "Accumulating evaluation results...\n"
     ]
    },
    {
     "name": "stderr",
     "output_type": "stream",
     "text": [
      "2021-05-11 08:14:36,660 - mmdet - INFO - Epoch(val) [9][655]\tbbox_mAP: 0.2130, bbox_mAP_50: 0.3280, bbox_mAP_75: 0.2200, bbox_mAP_s: 0.0430, bbox_mAP_m: 0.1900, bbox_mAP_l: 0.4270, bbox_mAP_copypaste: 0.213 0.328 0.220 0.043 0.190 0.427\n"
     ]
    },
    {
     "name": "stdout",
     "output_type": "stream",
     "text": [
      "DONE (t=0.71s).\n",
      "Average Precision  (AP) @[ IoU=0.50:0.95 | area=   all | maxDets=100 ] = 0.213\n",
      "Average Precision  (AP) @[ IoU=0.50      | area=   all | maxDets=1000 ] = 0.328\n",
      "Average Precision  (AP) @[ IoU=0.75      | area=   all | maxDets=1000 ] = 0.220\n",
      "Average Precision  (AP) @[ IoU=0.50:0.95 | area= small | maxDets=1000 ] = 0.043\n",
      "Average Precision  (AP) @[ IoU=0.50:0.95 | area=medium | maxDets=1000 ] = 0.190\n",
      "Average Precision  (AP) @[ IoU=0.50:0.95 | area= large | maxDets=1000 ] = 0.427\n",
      "Average Recall     (AR) @[ IoU=0.50:0.95 | area=   all | maxDets=100 ] = 0.367\n",
      "Average Recall     (AR) @[ IoU=0.50:0.95 | area=   all | maxDets=300 ] = 0.367\n",
      "Average Recall     (AR) @[ IoU=0.50:0.95 | area=   all | maxDets=1000 ] = 0.367\n",
      "Average Recall     (AR) @[ IoU=0.50:0.95 | area= small | maxDets=1000 ] = 0.118\n",
      "Average Recall     (AR) @[ IoU=0.50:0.95 | area=medium | maxDets=1000 ] = 0.321\n",
      "Average Recall     (AR) @[ IoU=0.50:0.95 | area= large | maxDets=1000 ] = 0.655\n"
     ]
    },
    {
     "name": "stderr",
     "output_type": "stream",
     "text": [
      "2021-05-11 08:15:40,807 - mmdet - INFO - Epoch [10][50/655]\tlr: 2.000e-03, eta: 0:39:23, time: 1.283, data_time: 0.051, memory: 5799, loss_rpn_cls: 0.0228, loss_rpn_bbox: 0.0208, s0.loss_cls: 0.1742, s0.acc: 94.3008, s0.loss_bbox: 0.0960, s1.loss_cls: 0.0762, s1.acc: 95.2051, s1.loss_bbox: 0.0908, s2.loss_cls: 0.0392, s2.acc: 94.9852, s2.loss_bbox: 0.0584, loss: 0.5785, grad_norm: 2.3354\n",
      "2021-05-11 08:16:42,728 - mmdet - INFO - Epoch [10][100/655]\tlr: 2.000e-03, eta: 0:38:21, time: 1.238, data_time: 0.008, memory: 5799, loss_rpn_cls: 0.0245, loss_rpn_bbox: 0.0288, s0.loss_cls: 0.1909, s0.acc: 93.8125, s0.loss_bbox: 0.1075, s1.loss_cls: 0.0842, s1.acc: 94.8621, s1.loss_bbox: 0.0975, s2.loss_cls: 0.0413, s2.acc: 95.0677, s2.loss_bbox: 0.0610, loss: 0.6357, grad_norm: 2.3711\n",
      "2021-05-11 08:17:44,177 - mmdet - INFO - Epoch [10][150/655]\tlr: 2.000e-03, eta: 0:37:20, time: 1.229, data_time: 0.008, memory: 5799, loss_rpn_cls: 0.0256, loss_rpn_bbox: 0.0232, s0.loss_cls: 0.1878, s0.acc: 93.9756, s0.loss_bbox: 0.0965, s1.loss_cls: 0.0843, s1.acc: 94.7087, s1.loss_bbox: 0.0868, s2.loss_cls: 0.0433, s2.acc: 94.6738, s2.loss_bbox: 0.0544, loss: 0.6019, grad_norm: 2.4032\n",
      "2021-05-11 08:18:45,698 - mmdet - INFO - Epoch [10][200/655]\tlr: 2.000e-03, eta: 0:36:18, time: 1.230, data_time: 0.008, memory: 5799, loss_rpn_cls: 0.0267, loss_rpn_bbox: 0.0268, s0.loss_cls: 0.1872, s0.acc: 93.8213, s0.loss_bbox: 0.0984, s1.loss_cls: 0.0844, s1.acc: 94.6788, s1.loss_bbox: 0.0910, s2.loss_cls: 0.0425, s2.acc: 94.7387, s2.loss_bbox: 0.0576, loss: 0.6146, grad_norm: 2.5786\n",
      "2021-05-11 08:19:47,395 - mmdet - INFO - Epoch [10][250/655]\tlr: 2.000e-03, eta: 0:35:16, time: 1.234, data_time: 0.008, memory: 5799, loss_rpn_cls: 0.0205, loss_rpn_bbox: 0.0229, s0.loss_cls: 0.1692, s0.acc: 94.4922, s0.loss_bbox: 0.0909, s1.loss_cls: 0.0738, s1.acc: 95.2681, s1.loss_bbox: 0.0834, s2.loss_cls: 0.0373, s2.acc: 95.3223, s2.loss_bbox: 0.0511, loss: 0.5490, grad_norm: 2.3921\n",
      "2021-05-11 08:20:49,102 - mmdet - INFO - Epoch [10][300/655]\tlr: 2.000e-03, eta: 0:34:14, time: 1.234, data_time: 0.007, memory: 5799, loss_rpn_cls: 0.0314, loss_rpn_bbox: 0.0294, s0.loss_cls: 0.2008, s0.acc: 93.4404, s0.loss_bbox: 0.1095, s1.loss_cls: 0.0899, s1.acc: 94.2024, s1.loss_bbox: 0.0989, s2.loss_cls: 0.0459, s2.acc: 94.1127, s2.loss_bbox: 0.0611, loss: 0.6671, grad_norm: 2.6639\n",
      "2021-05-11 08:21:50,825 - mmdet - INFO - Epoch [10][350/655]\tlr: 2.000e-03, eta: 0:33:13, time: 1.234, data_time: 0.007, memory: 5799, loss_rpn_cls: 0.0284, loss_rpn_bbox: 0.0265, s0.loss_cls: 0.1885, s0.acc: 93.9814, s0.loss_bbox: 0.0959, s1.loss_cls: 0.0858, s1.acc: 94.8275, s1.loss_bbox: 0.0905, s2.loss_cls: 0.0425, s2.acc: 94.8907, s2.loss_bbox: 0.0551, loss: 0.6132, grad_norm: 2.4975\n",
      "2021-05-11 08:22:52,421 - mmdet - INFO - Epoch [10][400/655]\tlr: 2.000e-03, eta: 0:32:11, time: 1.232, data_time: 0.007, memory: 5799, loss_rpn_cls: 0.0239, loss_rpn_bbox: 0.0269, s0.loss_cls: 0.1729, s0.acc: 94.1797, s0.loss_bbox: 0.0979, s1.loss_cls: 0.0784, s1.acc: 94.9887, s1.loss_bbox: 0.0903, s2.loss_cls: 0.0392, s2.acc: 94.9996, s2.loss_bbox: 0.0543, loss: 0.5837, grad_norm: 2.4901\n",
      "2021-05-11 08:23:54,133 - mmdet - INFO - Epoch [10][450/655]\tlr: 2.000e-03, eta: 0:31:09, time: 1.234, data_time: 0.008, memory: 5799, loss_rpn_cls: 0.0286, loss_rpn_bbox: 0.0249, s0.loss_cls: 0.1948, s0.acc: 93.7334, s0.loss_bbox: 0.1041, s1.loss_cls: 0.0871, s1.acc: 94.4900, s1.loss_bbox: 0.0952, s2.loss_cls: 0.0436, s2.acc: 94.2496, s2.loss_bbox: 0.0592, loss: 0.6377, grad_norm: 2.8183\n",
      "2021-05-11 08:24:55,810 - mmdet - INFO - Epoch [10][500/655]\tlr: 2.000e-03, eta: 0:30:08, time: 1.234, data_time: 0.007, memory: 5799, loss_rpn_cls: 0.0245, loss_rpn_bbox: 0.0245, s0.loss_cls: 0.1857, s0.acc: 93.9990, s0.loss_bbox: 0.0962, s1.loss_cls: 0.0841, s1.acc: 94.6670, s1.loss_bbox: 0.0905, s2.loss_cls: 0.0424, s2.acc: 94.6058, s2.loss_bbox: 0.0572, loss: 0.6051, grad_norm: 2.4622\n",
      "2021-05-11 08:25:57,692 - mmdet - INFO - Epoch [10][550/655]\tlr: 2.000e-03, eta: 0:29:06, time: 1.238, data_time: 0.007, memory: 5799, loss_rpn_cls: 0.0258, loss_rpn_bbox: 0.0234, s0.loss_cls: 0.1819, s0.acc: 94.1240, s0.loss_bbox: 0.0957, s1.loss_cls: 0.0813, s1.acc: 94.9208, s1.loss_bbox: 0.0886, s2.loss_cls: 0.0411, s2.acc: 94.9765, s2.loss_bbox: 0.0563, loss: 0.5941, grad_norm: 2.5663\n",
      "2021-05-11 08:26:59,586 - mmdet - INFO - Epoch [10][600/655]\tlr: 2.000e-03, eta: 0:28:04, time: 1.238, data_time: 0.008, memory: 5799, loss_rpn_cls: 0.0218, loss_rpn_bbox: 0.0233, s0.loss_cls: 0.1858, s0.acc: 94.1436, s0.loss_bbox: 0.0955, s1.loss_cls: 0.0815, s1.acc: 94.9187, s1.loss_bbox: 0.0869, s2.loss_cls: 0.0409, s2.acc: 94.9494, s2.loss_bbox: 0.0537, loss: 0.5894, grad_norm: 2.5748\n",
      "2021-05-11 08:28:01,326 - mmdet - INFO - Epoch [10][650/655]\tlr: 2.000e-03, eta: 0:27:03, time: 1.235, data_time: 0.008, memory: 5799, loss_rpn_cls: 0.0205, loss_rpn_bbox: 0.0221, s0.loss_cls: 0.1593, s0.acc: 94.6865, s0.loss_bbox: 0.0838, s1.loss_cls: 0.0716, s1.acc: 95.3949, s1.loss_bbox: 0.0800, s2.loss_cls: 0.0362, s2.acc: 95.5383, s2.loss_bbox: 0.0519, loss: 0.5253, grad_norm: 2.4465\n",
      "2021-05-11 08:28:07,558 - mmdet - INFO - Saving checkpoint at 10 epochs\n"
     ]
    },
    {
     "name": "stdout",
     "output_type": "stream",
     "text": [
      "[>>>>>>>>>>>>>>>>>>>>>>>>>>>>>] 655/655, 6.3 task/s, elapsed: 104s, ETA:     0s"
     ]
    },
    {
     "name": "stderr",
     "output_type": "stream",
     "text": [
      "2021-05-11 08:29:54,121 - mmdet - INFO - Evaluating bbox...\n"
     ]
    },
    {
     "name": "stdout",
     "output_type": "stream",
     "text": [
      "Loading and preparing results...\n",
      "DONE (t=0.08s)\n",
      "creating index...\n",
      "index created!\n",
      "Running per image evaluation...\n",
      "Evaluate annotation type *bbox*\n",
      "DONE (t=4.73s).\n",
      "Accumulating evaluation results...\n"
     ]
    },
    {
     "name": "stderr",
     "output_type": "stream",
     "text": [
      "2021-05-11 08:29:59,612 - mmdet - INFO - Epoch(val) [10][655]\tbbox_mAP: 0.2200, bbox_mAP_50: 0.3350, bbox_mAP_75: 0.2270, bbox_mAP_s: 0.0410, bbox_mAP_m: 0.1960, bbox_mAP_l: 0.4260, bbox_mAP_copypaste: 0.220 0.335 0.227 0.041 0.196 0.426\n"
     ]
    },
    {
     "name": "stdout",
     "output_type": "stream",
     "text": [
      "DONE (t=0.63s).\n",
      "Average Precision  (AP) @[ IoU=0.50:0.95 | area=   all | maxDets=100 ] = 0.220\n",
      "Average Precision  (AP) @[ IoU=0.50      | area=   all | maxDets=1000 ] = 0.335\n",
      "Average Precision  (AP) @[ IoU=0.75      | area=   all | maxDets=1000 ] = 0.227\n",
      "Average Precision  (AP) @[ IoU=0.50:0.95 | area= small | maxDets=1000 ] = 0.041\n",
      "Average Precision  (AP) @[ IoU=0.50:0.95 | area=medium | maxDets=1000 ] = 0.196\n",
      "Average Precision  (AP) @[ IoU=0.50:0.95 | area= large | maxDets=1000 ] = 0.426\n",
      "Average Recall     (AR) @[ IoU=0.50:0.95 | area=   all | maxDets=100 ] = 0.363\n",
      "Average Recall     (AR) @[ IoU=0.50:0.95 | area=   all | maxDets=300 ] = 0.363\n",
      "Average Recall     (AR) @[ IoU=0.50:0.95 | area=   all | maxDets=1000 ] = 0.363\n",
      "Average Recall     (AR) @[ IoU=0.50:0.95 | area= small | maxDets=1000 ] = 0.105\n",
      "Average Recall     (AR) @[ IoU=0.50:0.95 | area=medium | maxDets=1000 ] = 0.324\n",
      "Average Recall     (AR) @[ IoU=0.50:0.95 | area= large | maxDets=1000 ] = 0.644\n"
     ]
    },
    {
     "name": "stderr",
     "output_type": "stream",
     "text": [
      "2021-05-11 08:31:03,631 - mmdet - INFO - Epoch [11][50/655]\tlr: 2.000e-03, eta: 0:25:54, time: 1.280, data_time: 0.052, memory: 5799, loss_rpn_cls: 0.0262, loss_rpn_bbox: 0.0319, s0.loss_cls: 0.1960, s0.acc: 93.4521, s0.loss_bbox: 0.1076, s1.loss_cls: 0.0881, s1.acc: 94.1561, s1.loss_bbox: 0.1002, s2.loss_cls: 0.0450, s2.acc: 94.3081, s2.loss_bbox: 0.0607, loss: 0.6557, grad_norm: 2.5480\n",
      "2021-05-11 08:32:05,403 - mmdet - INFO - Epoch [11][100/655]\tlr: 2.000e-03, eta: 0:24:52, time: 1.235, data_time: 0.008, memory: 5799, loss_rpn_cls: 0.0180, loss_rpn_bbox: 0.0209, s0.loss_cls: 0.1484, s0.acc: 95.1240, s0.loss_bbox: 0.0847, s1.loss_cls: 0.0650, s1.acc: 95.8065, s1.loss_bbox: 0.0788, s2.loss_cls: 0.0327, s2.acc: 95.8565, s2.loss_bbox: 0.0525, loss: 0.5008, grad_norm: 2.2773\n",
      "2021-05-11 08:33:07,873 - mmdet - INFO - Epoch [11][150/655]\tlr: 2.000e-03, eta: 0:23:51, time: 1.249, data_time: 0.008, memory: 5799, loss_rpn_cls: 0.0212, loss_rpn_bbox: 0.0242, s0.loss_cls: 0.1732, s0.acc: 94.3135, s0.loss_bbox: 0.0916, s1.loss_cls: 0.0744, s1.acc: 95.2898, s1.loss_bbox: 0.0852, s2.loss_cls: 0.0380, s2.acc: 95.2606, s2.loss_bbox: 0.0543, loss: 0.5621, grad_norm: 2.5710\n",
      "2021-05-11 08:34:09,620 - mmdet - INFO - Epoch [11][200/655]\tlr: 2.000e-03, eta: 0:22:49, time: 1.235, data_time: 0.008, memory: 5799, loss_rpn_cls: 0.0254, loss_rpn_bbox: 0.0227, s0.loss_cls: 0.1782, s0.acc: 94.3135, s0.loss_bbox: 0.0930, s1.loss_cls: 0.0790, s1.acc: 95.0808, s1.loss_bbox: 0.0861, s2.loss_cls: 0.0400, s2.acc: 95.0690, s2.loss_bbox: 0.0527, loss: 0.5771, grad_norm: 2.5622\n",
      "2021-05-11 08:35:11,310 - mmdet - INFO - Epoch [11][250/655]\tlr: 2.000e-03, eta: 0:21:47, time: 1.234, data_time: 0.008, memory: 5799, loss_rpn_cls: 0.0239, loss_rpn_bbox: 0.0277, s0.loss_cls: 0.1876, s0.acc: 93.9121, s0.loss_bbox: 0.1001, s1.loss_cls: 0.0842, s1.acc: 94.7324, s1.loss_bbox: 0.0911, s2.loss_cls: 0.0428, s2.acc: 94.6550, s2.loss_bbox: 0.0569, loss: 0.6143, grad_norm: 2.5888\n",
      "2021-05-11 08:36:12,793 - mmdet - INFO - Epoch [11][300/655]\tlr: 2.000e-03, eta: 0:20:46, time: 1.230, data_time: 0.007, memory: 5799, loss_rpn_cls: 0.0234, loss_rpn_bbox: 0.0226, s0.loss_cls: 0.1643, s0.acc: 94.4902, s0.loss_bbox: 0.0898, s1.loss_cls: 0.0727, s1.acc: 95.3754, s1.loss_bbox: 0.0856, s2.loss_cls: 0.0380, s2.acc: 95.3573, s2.loss_bbox: 0.0566, loss: 0.5532, grad_norm: 2.5266\n",
      "2021-05-11 08:37:14,550 - mmdet - INFO - Epoch [11][350/655]\tlr: 2.000e-03, eta: 0:19:44, time: 1.235, data_time: 0.007, memory: 5799, loss_rpn_cls: 0.0180, loss_rpn_bbox: 0.0205, s0.loss_cls: 0.1414, s0.acc: 95.2900, s0.loss_bbox: 0.0795, s1.loss_cls: 0.0607, s1.acc: 96.2514, s1.loss_bbox: 0.0742, s2.loss_cls: 0.0312, s2.acc: 96.1306, s2.loss_bbox: 0.0474, loss: 0.4731, grad_norm: 2.2283\n",
      "2021-05-11 08:38:16,020 - mmdet - INFO - Epoch [11][400/655]\tlr: 2.000e-03, eta: 0:18:42, time: 1.229, data_time: 0.007, memory: 5799, loss_rpn_cls: 0.0224, loss_rpn_bbox: 0.0236, s0.loss_cls: 0.1736, s0.acc: 94.2539, s0.loss_bbox: 0.0984, s1.loss_cls: 0.0762, s1.acc: 95.0788, s1.loss_bbox: 0.0918, s2.loss_cls: 0.0381, s2.acc: 95.1573, s2.loss_bbox: 0.0580, loss: 0.5820, grad_norm: 2.6551\n",
      "2021-05-11 08:39:17,279 - mmdet - INFO - Epoch [11][450/655]\tlr: 2.000e-03, eta: 0:17:40, time: 1.225, data_time: 0.007, memory: 5799, loss_rpn_cls: 0.0270, loss_rpn_bbox: 0.0254, s0.loss_cls: 0.1850, s0.acc: 93.9639, s0.loss_bbox: 0.0992, s1.loss_cls: 0.0799, s1.acc: 95.0048, s1.loss_bbox: 0.0905, s2.loss_cls: 0.0402, s2.acc: 94.9830, s2.loss_bbox: 0.0555, loss: 0.6027, grad_norm: 2.8146\n",
      "2021-05-11 08:40:19,019 - mmdet - INFO - Epoch [11][500/655]\tlr: 2.000e-03, eta: 0:16:39, time: 1.235, data_time: 0.007, memory: 5799, loss_rpn_cls: 0.0219, loss_rpn_bbox: 0.0236, s0.loss_cls: 0.1692, s0.acc: 94.6113, s0.loss_bbox: 0.0934, s1.loss_cls: 0.0742, s1.acc: 95.3667, s1.loss_bbox: 0.0842, s2.loss_cls: 0.0379, s2.acc: 95.3286, s2.loss_bbox: 0.0544, loss: 0.5588, grad_norm: 2.5591\n",
      "2021-05-11 08:41:20,718 - mmdet - INFO - Epoch [11][550/655]\tlr: 2.000e-03, eta: 0:15:37, time: 1.234, data_time: 0.007, memory: 5799, loss_rpn_cls: 0.0190, loss_rpn_bbox: 0.0207, s0.loss_cls: 0.1471, s0.acc: 95.2334, s0.loss_bbox: 0.0797, s1.loss_cls: 0.0637, s1.acc: 96.0990, s1.loss_bbox: 0.0762, s2.loss_cls: 0.0319, s2.acc: 96.1823, s2.loss_bbox: 0.0481, loss: 0.4864, grad_norm: 2.3880\n",
      "2021-05-11 08:42:22,280 - mmdet - INFO - Epoch [11][600/655]\tlr: 2.000e-03, eta: 0:14:35, time: 1.231, data_time: 0.007, memory: 5799, loss_rpn_cls: 0.0195, loss_rpn_bbox: 0.0214, s0.loss_cls: 0.1473, s0.acc: 95.1943, s0.loss_bbox: 0.0861, s1.loss_cls: 0.0658, s1.acc: 95.9767, s1.loss_bbox: 0.0809, s2.loss_cls: 0.0331, s2.acc: 96.0723, s2.loss_bbox: 0.0508, loss: 0.5048, grad_norm: 2.5281\n",
      "2021-05-11 08:43:23,756 - mmdet - INFO - Epoch [11][650/655]\tlr: 2.000e-03, eta: 0:13:34, time: 1.230, data_time: 0.007, memory: 5799, loss_rpn_cls: 0.0222, loss_rpn_bbox: 0.0245, s0.loss_cls: 0.1711, s0.acc: 94.4180, s0.loss_bbox: 0.0947, s1.loss_cls: 0.0761, s1.acc: 95.1589, s1.loss_bbox: 0.0884, s2.loss_cls: 0.0385, s2.acc: 95.0995, s2.loss_bbox: 0.0544, loss: 0.5700, grad_norm: 2.6206\n",
      "2021-05-11 08:43:29,977 - mmdet - INFO - Saving checkpoint at 11 epochs\n"
     ]
    },
    {
     "name": "stdout",
     "output_type": "stream",
     "text": [
      "[>>>>>>>>>>>>>>>>>>>>>>>>>>>>>>] 655/655, 6.9 task/s, elapsed: 94s, ETA:     0s"
     ]
    },
    {
     "name": "stderr",
     "output_type": "stream",
     "text": [
      "2021-05-11 08:45:06,851 - mmdet - INFO - Evaluating bbox...\n"
     ]
    },
    {
     "name": "stdout",
     "output_type": "stream",
     "text": [
      "Loading and preparing results...\n",
      "DONE (t=0.52s)\n",
      "creating index...\n",
      "index created!\n",
      "Running per image evaluation...\n",
      "Evaluate annotation type *bbox*\n",
      "DONE (t=5.05s).\n",
      "Accumulating evaluation results...\n"
     ]
    },
    {
     "name": "stderr",
     "output_type": "stream",
     "text": [
      "2021-05-11 08:45:13,176 - mmdet - INFO - Epoch(val) [11][655]\tbbox_mAP: 0.2210, bbox_mAP_50: 0.3380, bbox_mAP_75: 0.2200, bbox_mAP_s: 0.0410, bbox_mAP_m: 0.1940, bbox_mAP_l: 0.4220, bbox_mAP_copypaste: 0.221 0.338 0.220 0.041 0.194 0.422\n"
     ]
    },
    {
     "name": "stdout",
     "output_type": "stream",
     "text": [
      "DONE (t=0.70s).\n",
      "Average Precision  (AP) @[ IoU=0.50:0.95 | area=   all | maxDets=100 ] = 0.221\n",
      "Average Precision  (AP) @[ IoU=0.50      | area=   all | maxDets=1000 ] = 0.338\n",
      "Average Precision  (AP) @[ IoU=0.75      | area=   all | maxDets=1000 ] = 0.220\n",
      "Average Precision  (AP) @[ IoU=0.50:0.95 | area= small | maxDets=1000 ] = 0.041\n",
      "Average Precision  (AP) @[ IoU=0.50:0.95 | area=medium | maxDets=1000 ] = 0.194\n",
      "Average Precision  (AP) @[ IoU=0.50:0.95 | area= large | maxDets=1000 ] = 0.422\n",
      "Average Recall     (AR) @[ IoU=0.50:0.95 | area=   all | maxDets=100 ] = 0.365\n",
      "Average Recall     (AR) @[ IoU=0.50:0.95 | area=   all | maxDets=300 ] = 0.365\n",
      "Average Recall     (AR) @[ IoU=0.50:0.95 | area=   all | maxDets=1000 ] = 0.365\n",
      "Average Recall     (AR) @[ IoU=0.50:0.95 | area= small | maxDets=1000 ] = 0.114\n",
      "Average Recall     (AR) @[ IoU=0.50:0.95 | area=medium | maxDets=1000 ] = 0.319\n",
      "Average Recall     (AR) @[ IoU=0.50:0.95 | area= large | maxDets=1000 ] = 0.649\n"
     ]
    },
    {
     "name": "stderr",
     "output_type": "stream",
     "text": [
      "2021-05-11 08:46:16,966 - mmdet - INFO - Epoch [12][50/655]\tlr: 2.000e-04, eta: 0:12:26, time: 1.276, data_time: 0.052, memory: 5799, loss_rpn_cls: 0.0212, loss_rpn_bbox: 0.0230, s0.loss_cls: 0.1605, s0.acc: 94.7637, s0.loss_bbox: 0.0902, s1.loss_cls: 0.0685, s1.acc: 95.7303, s1.loss_bbox: 0.0809, s2.loss_cls: 0.0351, s2.acc: 95.7607, s2.loss_bbox: 0.0506, loss: 0.5299, grad_norm: 2.3097\n",
      "2021-05-11 08:47:18,736 - mmdet - INFO - Epoch [12][100/655]\tlr: 2.000e-04, eta: 0:11:24, time: 1.235, data_time: 0.008, memory: 5799, loss_rpn_cls: 0.0249, loss_rpn_bbox: 0.0272, s0.loss_cls: 0.1696, s0.acc: 94.3779, s0.loss_bbox: 0.0967, s1.loss_cls: 0.0728, s1.acc: 95.2926, s1.loss_bbox: 0.0886, s2.loss_cls: 0.0370, s2.acc: 95.4345, s2.loss_bbox: 0.0560, loss: 0.5728, grad_norm: 2.3436\n",
      "2021-05-11 08:48:21,537 - mmdet - INFO - Epoch [12][150/655]\tlr: 2.000e-04, eta: 0:10:22, time: 1.256, data_time: 0.008, memory: 5799, loss_rpn_cls: 0.0192, loss_rpn_bbox: 0.0208, s0.loss_cls: 0.1558, s0.acc: 94.9346, s0.loss_bbox: 0.0877, s1.loss_cls: 0.0642, s1.acc: 96.0248, s1.loss_bbox: 0.0812, s2.loss_cls: 0.0325, s2.acc: 96.0432, s2.loss_bbox: 0.0519, loss: 0.5132, grad_norm: 2.3608\n",
      "2021-05-11 08:49:23,472 - mmdet - INFO - Epoch [12][200/655]\tlr: 2.000e-04, eta: 0:09:21, time: 1.239, data_time: 0.007, memory: 5799, loss_rpn_cls: 0.0168, loss_rpn_bbox: 0.0249, s0.loss_cls: 0.1578, s0.acc: 94.7812, s0.loss_bbox: 0.0870, s1.loss_cls: 0.0677, s1.acc: 95.7375, s1.loss_bbox: 0.0837, s2.loss_cls: 0.0338, s2.acc: 95.8226, s2.loss_bbox: 0.0533, loss: 0.5250, grad_norm: 2.4310\n",
      "2021-05-11 08:50:24,807 - mmdet - INFO - Epoch [12][250/655]\tlr: 2.000e-04, eta: 0:08:19, time: 1.227, data_time: 0.007, memory: 5799, loss_rpn_cls: 0.0208, loss_rpn_bbox: 0.0210, s0.loss_cls: 0.1447, s0.acc: 95.2012, s0.loss_bbox: 0.0812, s1.loss_cls: 0.0616, s1.acc: 96.0540, s1.loss_bbox: 0.0729, s2.loss_cls: 0.0316, s2.acc: 96.1112, s2.loss_bbox: 0.0464, loss: 0.4803, grad_norm: 2.1814\n",
      "2021-05-11 08:51:26,514 - mmdet - INFO - Epoch [12][300/655]\tlr: 2.000e-04, eta: 0:07:17, time: 1.234, data_time: 0.007, memory: 5799, loss_rpn_cls: 0.0184, loss_rpn_bbox: 0.0216, s0.loss_cls: 0.1442, s0.acc: 95.1699, s0.loss_bbox: 0.0804, s1.loss_cls: 0.0634, s1.acc: 96.0485, s1.loss_bbox: 0.0767, s2.loss_cls: 0.0327, s2.acc: 95.9492, s2.loss_bbox: 0.0505, loss: 0.4879, grad_norm: 2.4327\n",
      "2021-05-11 08:52:28,011 - mmdet - INFO - Epoch [12][350/655]\tlr: 2.000e-04, eta: 0:06:16, time: 1.230, data_time: 0.007, memory: 5799, loss_rpn_cls: 0.0181, loss_rpn_bbox: 0.0196, s0.loss_cls: 0.1498, s0.acc: 95.0576, s0.loss_bbox: 0.0833, s1.loss_cls: 0.0652, s1.acc: 95.8526, s1.loss_bbox: 0.0821, s2.loss_cls: 0.0330, s2.acc: 96.0349, s2.loss_bbox: 0.0533, loss: 0.5043, grad_norm: 2.3656\n",
      "2021-05-11 08:53:29,428 - mmdet - INFO - Epoch [12][400/655]\tlr: 2.000e-04, eta: 0:05:14, time: 1.228, data_time: 0.007, memory: 5799, loss_rpn_cls: 0.0184, loss_rpn_bbox: 0.0219, s0.loss_cls: 0.1486, s0.acc: 95.0996, s0.loss_bbox: 0.0833, s1.loss_cls: 0.0635, s1.acc: 96.0848, s1.loss_bbox: 0.0761, s2.loss_cls: 0.0326, s2.acc: 96.0685, s2.loss_bbox: 0.0497, loss: 0.4941, grad_norm: 2.3607\n",
      "2021-05-11 08:54:30,903 - mmdet - INFO - Epoch [12][450/655]\tlr: 2.000e-04, eta: 0:04:12, time: 1.230, data_time: 0.007, memory: 5799, loss_rpn_cls: 0.0209, loss_rpn_bbox: 0.0237, s0.loss_cls: 0.1681, s0.acc: 94.4746, s0.loss_bbox: 0.0985, s1.loss_cls: 0.0714, s1.acc: 95.5128, s1.loss_bbox: 0.0883, s2.loss_cls: 0.0365, s2.acc: 95.4828, s2.loss_bbox: 0.0551, loss: 0.5624, grad_norm: 2.4931\n",
      "2021-05-11 08:55:32,328 - mmdet - INFO - Epoch [12][500/655]\tlr: 2.000e-04, eta: 0:03:11, time: 1.228, data_time: 0.007, memory: 5799, loss_rpn_cls: 0.0174, loss_rpn_bbox: 0.0203, s0.loss_cls: 0.1493, s0.acc: 95.0713, s0.loss_bbox: 0.0804, s1.loss_cls: 0.0635, s1.acc: 96.0515, s1.loss_bbox: 0.0747, s2.loss_cls: 0.0323, s2.acc: 96.1719, s2.loss_bbox: 0.0482, loss: 0.4861, grad_norm: 2.3854\n",
      "2021-05-11 08:56:33,851 - mmdet - INFO - Epoch [12][550/655]\tlr: 2.000e-04, eta: 0:02:09, time: 1.230, data_time: 0.007, memory: 5799, loss_rpn_cls: 0.0241, loss_rpn_bbox: 0.0277, s0.loss_cls: 0.1769, s0.acc: 94.1143, s0.loss_bbox: 0.1004, s1.loss_cls: 0.0761, s1.acc: 95.2044, s1.loss_bbox: 0.0906, s2.loss_cls: 0.0381, s2.acc: 95.3638, s2.loss_bbox: 0.0555, loss: 0.5892, grad_norm: 2.4590\n",
      "2021-05-11 08:57:35,418 - mmdet - INFO - Epoch [12][600/655]\tlr: 2.000e-04, eta: 0:01:07, time: 1.231, data_time: 0.007, memory: 5799, loss_rpn_cls: 0.0214, loss_rpn_bbox: 0.0215, s0.loss_cls: 0.1497, s0.acc: 95.1299, s0.loss_bbox: 0.0803, s1.loss_cls: 0.0657, s1.acc: 95.9492, s1.loss_bbox: 0.0727, s2.loss_cls: 0.0334, s2.acc: 96.1302, s2.loss_bbox: 0.0472, loss: 0.4921, grad_norm: 2.5196\n",
      "2021-05-11 08:58:37,963 - mmdet - INFO - Epoch [12][650/655]\tlr: 2.000e-04, eta: 0:00:06, time: 1.251, data_time: 0.007, memory: 5799, loss_rpn_cls: 0.0172, loss_rpn_bbox: 0.0195, s0.loss_cls: 0.1504, s0.acc: 95.0039, s0.loss_bbox: 0.0829, s1.loss_cls: 0.0650, s1.acc: 95.8905, s1.loss_bbox: 0.0786, s2.loss_cls: 0.0329, s2.acc: 95.8998, s2.loss_bbox: 0.0506, loss: 0.4973, grad_norm: 2.3560\n",
      "2021-05-11 08:58:44,409 - mmdet - INFO - Saving checkpoint at 12 epochs\n"
     ]
    },
    {
     "name": "stdout",
     "output_type": "stream",
     "text": [
      "[>>>>>>>>>>>>>>>>>>>>>>>>>>>>>>] 655/655, 6.7 task/s, elapsed: 98s, ETA:     0s"
     ]
    },
    {
     "name": "stderr",
     "output_type": "stream",
     "text": [
      "2021-05-11 09:00:25,540 - mmdet - INFO - Evaluating bbox...\n"
     ]
    },
    {
     "name": "stdout",
     "output_type": "stream",
     "text": [
      "Loading and preparing results...\n",
      "DONE (t=0.07s)\n",
      "creating index...\n",
      "index created!\n",
      "Running per image evaluation...\n",
      "Evaluate annotation type *bbox*\n",
      "DONE (t=4.88s).\n",
      "Accumulating evaluation results...\n"
     ]
    },
    {
     "name": "stderr",
     "output_type": "stream",
     "text": [
      "2021-05-11 09:00:31,207 - mmdet - INFO - Epoch(val) [12][655]\tbbox_mAP: 0.2230, bbox_mAP_50: 0.3390, bbox_mAP_75: 0.2220, bbox_mAP_s: 0.0420, bbox_mAP_m: 0.1950, bbox_mAP_l: 0.4290, bbox_mAP_copypaste: 0.223 0.339 0.222 0.042 0.195 0.429\n"
     ]
    },
    {
     "name": "stdout",
     "output_type": "stream",
     "text": [
      "DONE (t=0.65s).\n",
      "Average Precision  (AP) @[ IoU=0.50:0.95 | area=   all | maxDets=100 ] = 0.223\n",
      "Average Precision  (AP) @[ IoU=0.50      | area=   all | maxDets=1000 ] = 0.339\n",
      "Average Precision  (AP) @[ IoU=0.75      | area=   all | maxDets=1000 ] = 0.222\n",
      "Average Precision  (AP) @[ IoU=0.50:0.95 | area= small | maxDets=1000 ] = 0.042\n",
      "Average Precision  (AP) @[ IoU=0.50:0.95 | area=medium | maxDets=1000 ] = 0.195\n",
      "Average Precision  (AP) @[ IoU=0.50:0.95 | area= large | maxDets=1000 ] = 0.429\n",
      "Average Recall     (AR) @[ IoU=0.50:0.95 | area=   all | maxDets=100 ] = 0.362\n",
      "Average Recall     (AR) @[ IoU=0.50:0.95 | area=   all | maxDets=300 ] = 0.362\n",
      "Average Recall     (AR) @[ IoU=0.50:0.95 | area=   all | maxDets=1000 ] = 0.362\n",
      "Average Recall     (AR) @[ IoU=0.50:0.95 | area= small | maxDets=1000 ] = 0.108\n",
      "Average Recall     (AR) @[ IoU=0.50:0.95 | area=medium | maxDets=1000 ] = 0.316\n",
      "Average Recall     (AR) @[ IoU=0.50:0.95 | area= large | maxDets=1000 ] = 0.648\n"
     ]
    }
   ],
   "source": [
    "train_detector(model, datasets[0], cfg, distributed=False, validate=True)"
   ]
  },
  {
   "cell_type": "markdown",
   "metadata": {},
   "source": [
    "# Test"
   ]
  },
  {
   "cell_type": "code",
   "execution_count": 6,
   "metadata": {
    "pycharm": {
     "name": "#%%\n"
    }
   },
   "outputs": [],
   "source": [
    "import mmcv\n",
    "from mmcv import Config\n",
    "from mmdet.datasets import (build_dataloader, build_dataset,\n",
    "                            replace_ImageToTensor)\n",
    "from mmdet.models import build_detector\n",
    "from mmdet.apis import single_gpu_test\n",
    "from mmcv.runner import load_checkpoint\n",
    "import os\n",
    "from mmcv.parallel import MMDataParallel\n",
    "import pandas as pd\n",
    "from pandas import DataFrame\n",
    "from pycocotools.coco import COCO\n",
    "import numpy as np"
   ]
  },
  {
   "cell_type": "code",
   "execution_count": 7,
   "metadata": {
    "pycharm": {
     "name": "#%%\n"
    }
   },
   "outputs": [],
   "source": [
    "cfg.model.train_cfg = None\n",
    "checkpoint_path = os.path.join(cfg.work_dir, f'epoch_{epoch}.pth')"
   ]
  },
  {
   "cell_type": "code",
   "execution_count": 8,
   "metadata": {
    "pycharm": {
     "name": "#%%\n"
    }
   },
   "outputs": [
    {
     "name": "stdout",
     "output_type": "stream",
     "text": [
      "loading annotations into memory...\n",
      "Done (t=0.01s)\n",
      "creating index...\n",
      "index created!\n"
     ]
    }
   ],
   "source": [
    "dataset = build_dataset(cfg.data.test)\n",
    "data_loader = build_dataloader(\n",
    "        dataset,\n",
    "        samples_per_gpu=1,\n",
    "        workers_per_gpu=cfg.data.workers_per_gpu,\n",
    "        dist=False,\n",
    "        shuffle=False)"
   ]
  },
  {
   "cell_type": "code",
   "execution_count": 9,
   "metadata": {},
   "outputs": [
    {
     "name": "stderr",
     "output_type": "stream",
     "text": [
      "2021-05-11 09:00:34,107 - mmdet - INFO - load model from: torchvision://resnet50\n",
      "2021-05-11 09:00:34,108 - mmdet - INFO - Use load_from_torchvision loader\n",
      "2021-05-11 09:00:34,433 - mmdet - WARNING - The model and loaded state dict do not match exactly\n",
      "\n",
      "unexpected key in source state_dict: fc.weight, fc.bias\n",
      "\n",
      "missing keys in source state_dict: layer2.0.conv2.weight_diff, layer2.0.conv2.switch.weight, layer2.0.conv2.switch.bias, layer2.0.conv2.pre_context.weight, layer2.0.conv2.pre_context.bias, layer2.0.conv2.post_context.weight, layer2.0.conv2.post_context.bias, layer2.0.conv2.offset_s.weight, layer2.0.conv2.offset_s.bias, layer2.0.conv2.offset_l.weight, layer2.0.conv2.offset_l.bias, layer2.1.conv2.weight_diff, layer2.1.conv2.switch.weight, layer2.1.conv2.switch.bias, layer2.1.conv2.pre_context.weight, layer2.1.conv2.pre_context.bias, layer2.1.conv2.post_context.weight, layer2.1.conv2.post_context.bias, layer2.1.conv2.offset_s.weight, layer2.1.conv2.offset_s.bias, layer2.1.conv2.offset_l.weight, layer2.1.conv2.offset_l.bias, layer2.2.conv2.weight_diff, layer2.2.conv2.switch.weight, layer2.2.conv2.switch.bias, layer2.2.conv2.pre_context.weight, layer2.2.conv2.pre_context.bias, layer2.2.conv2.post_context.weight, layer2.2.conv2.post_context.bias, layer2.2.conv2.offset_s.weight, layer2.2.conv2.offset_s.bias, layer2.2.conv2.offset_l.weight, layer2.2.conv2.offset_l.bias, layer2.3.conv2.weight_diff, layer2.3.conv2.switch.weight, layer2.3.conv2.switch.bias, layer2.3.conv2.pre_context.weight, layer2.3.conv2.pre_context.bias, layer2.3.conv2.post_context.weight, layer2.3.conv2.post_context.bias, layer2.3.conv2.offset_s.weight, layer2.3.conv2.offset_s.bias, layer2.3.conv2.offset_l.weight, layer2.3.conv2.offset_l.bias, layer3.0.conv2.weight_diff, layer3.0.conv2.switch.weight, layer3.0.conv2.switch.bias, layer3.0.conv2.pre_context.weight, layer3.0.conv2.pre_context.bias, layer3.0.conv2.post_context.weight, layer3.0.conv2.post_context.bias, layer3.0.conv2.offset_s.weight, layer3.0.conv2.offset_s.bias, layer3.0.conv2.offset_l.weight, layer3.0.conv2.offset_l.bias, layer3.1.conv2.weight_diff, layer3.1.conv2.switch.weight, layer3.1.conv2.switch.bias, layer3.1.conv2.pre_context.weight, layer3.1.conv2.pre_context.bias, layer3.1.conv2.post_context.weight, layer3.1.conv2.post_context.bias, layer3.1.conv2.offset_s.weight, layer3.1.conv2.offset_s.bias, layer3.1.conv2.offset_l.weight, layer3.1.conv2.offset_l.bias, layer3.2.conv2.weight_diff, layer3.2.conv2.switch.weight, layer3.2.conv2.switch.bias, layer3.2.conv2.pre_context.weight, layer3.2.conv2.pre_context.bias, layer3.2.conv2.post_context.weight, layer3.2.conv2.post_context.bias, layer3.2.conv2.offset_s.weight, layer3.2.conv2.offset_s.bias, layer3.2.conv2.offset_l.weight, layer3.2.conv2.offset_l.bias, layer3.3.conv2.weight_diff, layer3.3.conv2.switch.weight, layer3.3.conv2.switch.bias, layer3.3.conv2.pre_context.weight, layer3.3.conv2.pre_context.bias, layer3.3.conv2.post_context.weight, layer3.3.conv2.post_context.bias, layer3.3.conv2.offset_s.weight, layer3.3.conv2.offset_s.bias, layer3.3.conv2.offset_l.weight, layer3.3.conv2.offset_l.bias, layer3.4.conv2.weight_diff, layer3.4.conv2.switch.weight, layer3.4.conv2.switch.bias, layer3.4.conv2.pre_context.weight, layer3.4.conv2.pre_context.bias, layer3.4.conv2.post_context.weight, layer3.4.conv2.post_context.bias, layer3.4.conv2.offset_s.weight, layer3.4.conv2.offset_s.bias, layer3.4.conv2.offset_l.weight, layer3.4.conv2.offset_l.bias, layer3.5.conv2.weight_diff, layer3.5.conv2.switch.weight, layer3.5.conv2.switch.bias, layer3.5.conv2.pre_context.weight, layer3.5.conv2.pre_context.bias, layer3.5.conv2.post_context.weight, layer3.5.conv2.post_context.bias, layer3.5.conv2.offset_s.weight, layer3.5.conv2.offset_s.bias, layer3.5.conv2.offset_l.weight, layer3.5.conv2.offset_l.bias, layer4.0.conv2.weight_diff, layer4.0.conv2.switch.weight, layer4.0.conv2.switch.bias, layer4.0.conv2.pre_context.weight, layer4.0.conv2.pre_context.bias, layer4.0.conv2.post_context.weight, layer4.0.conv2.post_context.bias, layer4.0.conv2.offset_s.weight, layer4.0.conv2.offset_s.bias, layer4.0.conv2.offset_l.weight, layer4.0.conv2.offset_l.bias, layer4.1.conv2.weight_diff, layer4.1.conv2.switch.weight, layer4.1.conv2.switch.bias, layer4.1.conv2.pre_context.weight, layer4.1.conv2.pre_context.bias, layer4.1.conv2.post_context.weight, layer4.1.conv2.post_context.bias, layer4.1.conv2.offset_s.weight, layer4.1.conv2.offset_s.bias, layer4.1.conv2.offset_l.weight, layer4.1.conv2.offset_l.bias, layer4.2.conv2.weight_diff, layer4.2.conv2.switch.weight, layer4.2.conv2.switch.bias, layer4.2.conv2.pre_context.weight, layer4.2.conv2.pre_context.bias, layer4.2.conv2.post_context.weight, layer4.2.conv2.post_context.bias, layer4.2.conv2.offset_s.weight, layer4.2.conv2.offset_s.bias, layer4.2.conv2.offset_l.weight, layer4.2.conv2.offset_l.bias\n",
      "\n",
      "2021-05-11 09:00:34,461 - mmdet - INFO - Use load_from_torchvision loader\n",
      "2021-05-11 09:00:34,737 - mmdet - WARNING - The model and loaded state dict do not match exactly\n",
      "\n",
      "unexpected key in source state_dict: fc.weight, fc.bias\n",
      "\n",
      "missing keys in source state_dict: layer2.0.conv2.weight_diff, layer2.0.conv2.switch.weight, layer2.0.conv2.switch.bias, layer2.0.conv2.pre_context.weight, layer2.0.conv2.pre_context.bias, layer2.0.conv2.post_context.weight, layer2.0.conv2.post_context.bias, layer2.0.conv2.offset_s.weight, layer2.0.conv2.offset_s.bias, layer2.0.conv2.offset_l.weight, layer2.0.conv2.offset_l.bias, layer2.0.rfp_conv.weight, layer2.0.rfp_conv.bias, layer2.1.conv2.weight_diff, layer2.1.conv2.switch.weight, layer2.1.conv2.switch.bias, layer2.1.conv2.pre_context.weight, layer2.1.conv2.pre_context.bias, layer2.1.conv2.post_context.weight, layer2.1.conv2.post_context.bias, layer2.1.conv2.offset_s.weight, layer2.1.conv2.offset_s.bias, layer2.1.conv2.offset_l.weight, layer2.1.conv2.offset_l.bias, layer2.2.conv2.weight_diff, layer2.2.conv2.switch.weight, layer2.2.conv2.switch.bias, layer2.2.conv2.pre_context.weight, layer2.2.conv2.pre_context.bias, layer2.2.conv2.post_context.weight, layer2.2.conv2.post_context.bias, layer2.2.conv2.offset_s.weight, layer2.2.conv2.offset_s.bias, layer2.2.conv2.offset_l.weight, layer2.2.conv2.offset_l.bias, layer2.3.conv2.weight_diff, layer2.3.conv2.switch.weight, layer2.3.conv2.switch.bias, layer2.3.conv2.pre_context.weight, layer2.3.conv2.pre_context.bias, layer2.3.conv2.post_context.weight, layer2.3.conv2.post_context.bias, layer2.3.conv2.offset_s.weight, layer2.3.conv2.offset_s.bias, layer2.3.conv2.offset_l.weight, layer2.3.conv2.offset_l.bias, layer3.0.conv2.weight_diff, layer3.0.conv2.switch.weight, layer3.0.conv2.switch.bias, layer3.0.conv2.pre_context.weight, layer3.0.conv2.pre_context.bias, layer3.0.conv2.post_context.weight, layer3.0.conv2.post_context.bias, layer3.0.conv2.offset_s.weight, layer3.0.conv2.offset_s.bias, layer3.0.conv2.offset_l.weight, layer3.0.conv2.offset_l.bias, layer3.0.rfp_conv.weight, layer3.0.rfp_conv.bias, layer3.1.conv2.weight_diff, layer3.1.conv2.switch.weight, layer3.1.conv2.switch.bias, layer3.1.conv2.pre_context.weight, layer3.1.conv2.pre_context.bias, layer3.1.conv2.post_context.weight, layer3.1.conv2.post_context.bias, layer3.1.conv2.offset_s.weight, layer3.1.conv2.offset_s.bias, layer3.1.conv2.offset_l.weight, layer3.1.conv2.offset_l.bias, layer3.2.conv2.weight_diff, layer3.2.conv2.switch.weight, layer3.2.conv2.switch.bias, layer3.2.conv2.pre_context.weight, layer3.2.conv2.pre_context.bias, layer3.2.conv2.post_context.weight, layer3.2.conv2.post_context.bias, layer3.2.conv2.offset_s.weight, layer3.2.conv2.offset_s.bias, layer3.2.conv2.offset_l.weight, layer3.2.conv2.offset_l.bias, layer3.3.conv2.weight_diff, layer3.3.conv2.switch.weight, layer3.3.conv2.switch.bias, layer3.3.conv2.pre_context.weight, layer3.3.conv2.pre_context.bias, layer3.3.conv2.post_context.weight, layer3.3.conv2.post_context.bias, layer3.3.conv2.offset_s.weight, layer3.3.conv2.offset_s.bias, layer3.3.conv2.offset_l.weight, layer3.3.conv2.offset_l.bias, layer3.4.conv2.weight_diff, layer3.4.conv2.switch.weight, layer3.4.conv2.switch.bias, layer3.4.conv2.pre_context.weight, layer3.4.conv2.pre_context.bias, layer3.4.conv2.post_context.weight, layer3.4.conv2.post_context.bias, layer3.4.conv2.offset_s.weight, layer3.4.conv2.offset_s.bias, layer3.4.conv2.offset_l.weight, layer3.4.conv2.offset_l.bias, layer3.5.conv2.weight_diff, layer3.5.conv2.switch.weight, layer3.5.conv2.switch.bias, layer3.5.conv2.pre_context.weight, layer3.5.conv2.pre_context.bias, layer3.5.conv2.post_context.weight, layer3.5.conv2.post_context.bias, layer3.5.conv2.offset_s.weight, layer3.5.conv2.offset_s.bias, layer3.5.conv2.offset_l.weight, layer3.5.conv2.offset_l.bias, layer4.0.conv2.weight_diff, layer4.0.conv2.switch.weight, layer4.0.conv2.switch.bias, layer4.0.conv2.pre_context.weight, layer4.0.conv2.pre_context.bias, layer4.0.conv2.post_context.weight, layer4.0.conv2.post_context.bias, layer4.0.conv2.offset_s.weight, layer4.0.conv2.offset_s.bias, layer4.0.conv2.offset_l.weight, layer4.0.conv2.offset_l.bias, layer4.0.rfp_conv.weight, layer4.0.rfp_conv.bias, layer4.1.conv2.weight_diff, layer4.1.conv2.switch.weight, layer4.1.conv2.switch.bias, layer4.1.conv2.pre_context.weight, layer4.1.conv2.pre_context.bias, layer4.1.conv2.post_context.weight, layer4.1.conv2.post_context.bias, layer4.1.conv2.offset_s.weight, layer4.1.conv2.offset_s.bias, layer4.1.conv2.offset_l.weight, layer4.1.conv2.offset_l.bias, layer4.2.conv2.weight_diff, layer4.2.conv2.switch.weight, layer4.2.conv2.switch.bias, layer4.2.conv2.pre_context.weight, layer4.2.conv2.pre_context.bias, layer4.2.conv2.post_context.weight, layer4.2.conv2.post_context.bias, layer4.2.conv2.offset_s.weight, layer4.2.conv2.offset_s.bias, layer4.2.conv2.offset_l.weight, layer4.2.conv2.offset_l.bias\n",
      "\n"
     ]
    },
    {
     "name": "stdout",
     "output_type": "stream",
     "text": [
      "Use load_from_local loader\n"
     ]
    }
   ],
   "source": [
    "model = build_detector(cfg.model, test_cfg=cfg.get('test_cfg'))\n",
    "checkpoint = load_checkpoint(model, checkpoint_path, map_location='cpu')\n",
    "\n",
    "model.CLASSES = dataset.CLASSES\n",
    "model = MMDataParallel(model.cuda(), device_ids=[0])"
   ]
  },
  {
   "cell_type": "code",
   "execution_count": 10,
   "metadata": {
    "pycharm": {
     "name": "#%%\n"
    }
   },
   "outputs": [
    {
     "name": "stdout",
     "output_type": "stream",
     "text": [
      "[>>>>>>>>>>>>>>>>>>>>>>>>>>>>>] 837/837, 7.0 task/s, elapsed: 119s, ETA:     0s"
     ]
    }
   ],
   "source": [
    "output = single_gpu_test(model, data_loader, show_score_thr=0.05)"
   ]
  },
  {
   "cell_type": "code",
   "execution_count": 11,
   "metadata": {
    "pycharm": {
     "name": "#%%\n"
    }
   },
   "outputs": [
    {
     "name": "stdout",
     "output_type": "stream",
     "text": [
      "loading annotations into memory...\n",
      "Done (t=0.39s)\n",
      "creating index...\n",
      "index created!\n"
     ]
    },
    {
     "data": {
      "text/html": [
       "<div>\n",
       "<style scoped>\n",
       "    .dataframe tbody tr th:only-of-type {\n",
       "        vertical-align: middle;\n",
       "    }\n",
       "\n",
       "    .dataframe tbody tr th {\n",
       "        vertical-align: top;\n",
       "    }\n",
       "\n",
       "    .dataframe thead th {\n",
       "        text-align: right;\n",
       "    }\n",
       "</style>\n",
       "<table border=\"1\" class=\"dataframe\">\n",
       "  <thead>\n",
       "    <tr style=\"text-align: right;\">\n",
       "      <th></th>\n",
       "      <th>PredictionString</th>\n",
       "      <th>image_id</th>\n",
       "    </tr>\n",
       "  </thead>\n",
       "  <tbody>\n",
       "    <tr>\n",
       "      <th>0</th>\n",
       "      <td>1 0.7318308 140.22397 51.37345 259.66284 172.4...</td>\n",
       "      <td>batch_01_vt/0021.jpg</td>\n",
       "    </tr>\n",
       "    <tr>\n",
       "      <th>1</th>\n",
       "      <td>1 0.20228997 1.6392059 245.8529 300.34222 457....</td>\n",
       "      <td>batch_01_vt/0028.jpg</td>\n",
       "    </tr>\n",
       "    <tr>\n",
       "      <th>2</th>\n",
       "      <td>0 0.05953554 0.0 395.39032 0.0 429.68085 1 0.9...</td>\n",
       "      <td>batch_01_vt/0031.jpg</td>\n",
       "    </tr>\n",
       "    <tr>\n",
       "      <th>3</th>\n",
       "      <td>1 0.2111828 0.0 221.50827 36.351246 311.7393 8...</td>\n",
       "      <td>batch_01_vt/0032.jpg</td>\n",
       "    </tr>\n",
       "    <tr>\n",
       "      <th>4</th>\n",
       "      <td>1 0.82041365 388.36865 264.85236 487.73004 345...</td>\n",
       "      <td>batch_01_vt/0070.jpg</td>\n",
       "    </tr>\n",
       "  </tbody>\n",
       "</table>\n",
       "</div>"
      ],
      "text/plain": [
       "                                    PredictionString              image_id\n",
       "0  1 0.7318308 140.22397 51.37345 259.66284 172.4...  batch_01_vt/0021.jpg\n",
       "1  1 0.20228997 1.6392059 245.8529 300.34222 457....  batch_01_vt/0028.jpg\n",
       "2  0 0.05953554 0.0 395.39032 0.0 429.68085 1 0.9...  batch_01_vt/0031.jpg\n",
       "3  1 0.2111828 0.0 221.50827 36.351246 311.7393 8...  batch_01_vt/0032.jpg\n",
       "4  1 0.82041365 388.36865 264.85236 487.73004 345...  batch_01_vt/0070.jpg"
      ]
     },
     "execution_count": 11,
     "metadata": {},
     "output_type": "execute_result"
    }
   ],
   "source": [
    "prediction_strings = []\n",
    "file_names = []\n",
    "coco = COCO(cfg.data.test.ann_file)\n",
    "imag_ids = coco.getImgIds()\n",
    "\n",
    "class_num = 11\n",
    "for i, out in enumerate(output):\n",
    "    prediction_string = ''\n",
    "    image_info = coco.loadImgs(coco.getImgIds(imgIds=i))[0]\n",
    "    for j in range(class_num):\n",
    "        for o in out[j]:\n",
    "            prediction_string += str(j) + ' ' + str(o[4]) + ' ' + str(o[0]) + ' ' + str(o[1]) + ' ' + str(\n",
    "                o[2]) + ' ' + str(o[3]) + ' '\n",
    "        \n",
    "    prediction_strings.append(prediction_string)\n",
    "    file_names.append(image_info['file_name'])\n",
    "\n",
    "\n",
    "submission = pd.DataFrame()\n",
    "submission['PredictionString'] = prediction_strings\n",
    "submission['image_id'] = file_names\n",
    "submission.to_csv(os.path.join(cfg.work_dir, f'submission_{epoch}.csv'), index=None)\n",
    "submission.head()"
   ]
  },
  {
   "cell_type": "code",
   "execution_count": null,
   "metadata": {},
   "outputs": [],
   "source": []
  }
 ],
 "metadata": {
  "kernelspec": {
   "display_name": "Python 3",
   "language": "python",
   "name": "python3"
  },
  "language_info": {
   "codemirror_mode": {
    "name": "ipython",
    "version": 3
   },
   "file_extension": ".py",
   "mimetype": "text/x-python",
   "name": "python",
   "nbconvert_exporter": "python",
   "pygments_lexer": "ipython3",
   "version": "3.7.7"
  },
  "pycharm": {
   "stem_cell": {
    "cell_type": "raw",
    "metadata": {
     "collapsed": false
    },
    "source": []
   }
  }
 },
 "nbformat": 4,
 "nbformat_minor": 4
}
