{
 "cells": [
  {
   "cell_type": "code",
   "execution_count": 1,
   "metadata": {
    "pycharm": {
     "name": "#%%\n"
    }
   },
   "outputs": [],
   "source": [
    "from mmcv import Config\n",
    "from mmdet.datasets import build_dataset\n",
    "from mmdet.models import build_detector\n",
    "from mmdet.apis import train_detector\n",
    "from mmdet.datasets import (build_dataloader, build_dataset,\n",
    "                            replace_ImageToTensor)"
   ]
  },
  {
   "cell_type": "code",
   "execution_count": 2,
   "metadata": {
    "pycharm": {
     "name": "#%%\n"
    }
   },
   "outputs": [],
   "source": [
    "classes = (\"UNKNOWN\", \"General trash\", \"Paper\", \"Paper pack\", \"Metal\", \"Glass\", \n",
    "           \"Plastic\", \"Styrofoam\", \"Plastic bag\", \"Battery\", \"Clothing\")\n",
    "# config file 들고오기\n",
    "cfg = Config.fromfile('./configs/faster_rcnn/faster_rcnn_r50_fpn_1x_coco.py')\n",
    "\n",
    "PREFIX = '../../input/data/'\n",
    "\n",
    "\n",
    "# dataset 바꾸기\n",
    "cfg.data.train.classes = classes\n",
    "cfg.data.train.img_prefix = PREFIX\n",
    "cfg.data.train.ann_file = PREFIX + 'train.json'\n",
    "cfg.data.train.pipeline[2]['img_scale'] = (512, 512)\n",
    "\n",
    "cfg.data.val.classes = classes\n",
    "cfg.data.val.img_prefix = PREFIX\n",
    "cfg.data.val.ann_file = PREFIX + 'val.json'\n",
    "cfg.data.val.pipeline[1]['img_scale'] = (512, 512)\n",
    "\n",
    "cfg.data.test.classes = classes\n",
    "cfg.data.test.img_prefix = PREFIX\n",
    "cfg.data.test.ann_file = PREFIX + 'test.json'\n",
    "cfg.data.test.pipeline[1]['img_scale'] = (512, 512)\n",
    "\n",
    "cfg.data.samples_per_gpu = 4\n",
    "\n",
    "cfg.seed=2020\n",
    "cfg.gpu_ids = [0]\n",
    "cfg.work_dir = './work_dirs/faster_rcnn_r50_fpn_1x_trash'\n",
    "\n",
    "cfg.model.roi_head.bbox_head.num_classes = 11\n",
    "\n",
    "cfg.optimizer_config.grad_clip = dict(max_norm=35, norm_type=2)"
   ]
  },
  {
   "cell_type": "code",
   "execution_count": 3,
   "metadata": {
    "pycharm": {
     "name": "#%%\n"
    }
   },
   "outputs": [
    {
     "name": "stderr",
     "output_type": "stream",
     "text": [
      "2021-05-10 01:20:10,303 - mmdet - INFO - load model from: torchvision://resnet50\n",
      "2021-05-10 01:20:10,304 - mmdet - INFO - Use load_from_torchvision loader\n",
      "Downloading: \"https://download.pytorch.org/models/resnet50-19c8e357.pth\" to /opt/ml/.cache/torch/hub/checkpoints/resnet50-19c8e357.pth\n"
     ]
    },
    {
     "data": {
      "application/vnd.jupyter.widget-view+json": {
       "model_id": "6962507851df47ed8119854d43beba23",
       "version_major": 2,
       "version_minor": 0
      },
      "text/plain": [
       "HBox(children=(FloatProgress(value=0.0, max=102502400.0), HTML(value='')))"
      ]
     },
     "metadata": {},
     "output_type": "display_data"
    },
    {
     "name": "stdout",
     "output_type": "stream",
     "text": [
      "\n"
     ]
    },
    {
     "name": "stderr",
     "output_type": "stream",
     "text": [
      "2021-05-10 01:20:11,321 - mmdet - WARNING - The model and loaded state dict do not match exactly\n",
      "\n",
      "unexpected key in source state_dict: fc.weight, fc.bias\n",
      "\n"
     ]
    }
   ],
   "source": [
    "model = build_detector(cfg.model)"
   ]
  },
  {
   "cell_type": "code",
   "execution_count": 4,
   "metadata": {
    "pycharm": {
     "name": "#%%\n"
    }
   },
   "outputs": [
    {
     "name": "stdout",
     "output_type": "stream",
     "text": [
      "loading annotations into memory...\n",
      "Done (t=3.42s)\n",
      "creating index...\n",
      "index created!\n"
     ]
    }
   ],
   "source": [
    "datasets = [build_dataset(cfg.data.train)]"
   ]
  },
  {
   "cell_type": "code",
   "execution_count": 5,
   "metadata": {
    "pycharm": {
     "name": "#%%\n"
    }
   },
   "outputs": [
    {
     "name": "stdout",
     "output_type": "stream",
     "text": [
      "loading annotations into memory...\n"
     ]
    },
    {
     "name": "stderr",
     "output_type": "stream",
     "text": [
      "2021-05-10 01:20:19,250 - mmdet - INFO - Start running, host: root@a1b075ba2232, work_dir: /opt/ml/code/mmdetection_trash/work_dirs/faster_rcnn_r50_fpn_1x_trash\n",
      "2021-05-10 01:20:19,251 - mmdet - INFO - workflow: [('train', 1)], max: 12 epochs\n"
     ]
    },
    {
     "name": "stdout",
     "output_type": "stream",
     "text": [
      "Done (t=1.21s)\n",
      "creating index...\n",
      "index created!\n"
     ]
    },
    {
     "name": "stderr",
     "output_type": "stream",
     "text": [
      "2021-05-10 01:20:37,560 - mmdet - INFO - Epoch [1][50/655]\tlr: 1.978e-03, eta: 0:47:39, time: 0.366, data_time: 0.050, memory: 2097, loss_rpn_cls: 0.5008, loss_rpn_bbox: 0.0811, loss_cls: 0.6600, acc: 90.0391, loss_bbox: 0.1626, loss: 1.4045, grad_norm: 6.9873\n",
      "2021-05-10 01:20:53,662 - mmdet - INFO - Epoch [1][100/655]\tlr: 3.976e-03, eta: 0:44:29, time: 0.322, data_time: 0.007, memory: 2097, loss_rpn_cls: 0.2371, loss_rpn_bbox: 0.0860, loss_cls: 0.4197, acc: 91.2666, loss_bbox: 0.3193, loss: 1.0620, grad_norm: 3.0872\n",
      "2021-05-10 01:21:09,405 - mmdet - INFO - Epoch [1][150/655]\tlr: 5.974e-03, eta: 0:42:57, time: 0.315, data_time: 0.006, memory: 2097, loss_rpn_cls: 0.2051, loss_rpn_bbox: 0.0725, loss_cls: 0.4303, acc: 90.9629, loss_bbox: 0.3342, loss: 1.0421, grad_norm: 3.2904\n",
      "2021-05-10 01:21:25,118 - mmdet - INFO - Epoch [1][200/655]\tlr: 7.972e-03, eta: 0:42:02, time: 0.314, data_time: 0.006, memory: 2097, loss_rpn_cls: 0.1824, loss_rpn_bbox: 0.0832, loss_cls: 0.4365, acc: 89.7891, loss_bbox: 0.3820, loss: 1.0842, grad_norm: 2.8745\n",
      "2021-05-10 01:21:40,891 - mmdet - INFO - Epoch [1][250/655]\tlr: 9.970e-03, eta: 0:41:24, time: 0.315, data_time: 0.006, memory: 2097, loss_rpn_cls: 0.1673, loss_rpn_bbox: 0.0955, loss_cls: 0.4812, acc: 87.8682, loss_bbox: 0.4600, loss: 1.2040, grad_norm: 2.9932\n",
      "2021-05-10 01:21:56,582 - mmdet - INFO - Epoch [1][300/655]\tlr: 1.197e-02, eta: 0:40:52, time: 0.314, data_time: 0.006, memory: 2098, loss_rpn_cls: 0.1847, loss_rpn_bbox: 0.0885, loss_cls: 0.4932, acc: 88.2461, loss_bbox: 0.4270, loss: 1.1934, grad_norm: 3.6046\n",
      "2021-05-10 01:22:12,277 - mmdet - INFO - Epoch [1][350/655]\tlr: 1.397e-02, eta: 0:40:25, time: 0.314, data_time: 0.006, memory: 2098, loss_rpn_cls: 0.2051, loss_rpn_bbox: 0.0812, loss_cls: 0.5084, acc: 88.1865, loss_bbox: 0.4289, loss: 1.2235, grad_norm: 3.6037\n",
      "2021-05-10 01:22:28,083 - mmdet - INFO - Epoch [1][400/655]\tlr: 1.596e-02, eta: 0:40:02, time: 0.316, data_time: 0.006, memory: 2098, loss_rpn_cls: 0.2330, loss_rpn_bbox: 0.0785, loss_cls: 0.4841, acc: 90.5576, loss_bbox: 0.3210, loss: 1.1167, grad_norm: 4.7731\n",
      "2021-05-10 01:22:43,918 - mmdet - INFO - Epoch [1][450/655]\tlr: 1.796e-02, eta: 0:39:42, time: 0.317, data_time: 0.006, memory: 2098, loss_rpn_cls: 0.1749, loss_rpn_bbox: 0.0775, loss_cls: 0.4789, acc: 89.1162, loss_bbox: 0.3771, loss: 1.1085, grad_norm: 2.4326\n",
      "2021-05-10 01:22:59,373 - mmdet - INFO - Epoch [1][500/655]\tlr: 1.996e-02, eta: 0:39:16, time: 0.309, data_time: 0.006, memory: 2098, loss_rpn_cls: 0.1491, loss_rpn_bbox: 0.0729, loss_cls: 0.4717, acc: 87.9658, loss_bbox: 0.4099, loss: 1.1037, grad_norm: 2.3242\n",
      "2021-05-10 01:23:14,834 - mmdet - INFO - Epoch [1][550/655]\tlr: 2.000e-02, eta: 0:38:53, time: 0.309, data_time: 0.006, memory: 2098, loss_rpn_cls: 0.1361, loss_rpn_bbox: 0.0761, loss_cls: 0.4654, acc: 88.3740, loss_bbox: 0.3989, loss: 1.0765, grad_norm: 2.2631\n",
      "2021-05-10 01:23:30,223 - mmdet - INFO - Epoch [1][600/655]\tlr: 2.000e-02, eta: 0:38:30, time: 0.308, data_time: 0.006, memory: 2098, loss_rpn_cls: 0.1451, loss_rpn_bbox: 0.0923, loss_cls: 0.4724, acc: 88.2139, loss_bbox: 0.3968, loss: 1.1066, grad_norm: 2.3889\n",
      "2021-05-10 01:23:45,558 - mmdet - INFO - Epoch [1][650/655]\tlr: 2.000e-02, eta: 0:38:08, time: 0.307, data_time: 0.006, memory: 2098, loss_rpn_cls: 0.1333, loss_rpn_bbox: 0.0693, loss_cls: 0.4073, acc: 89.7803, loss_bbox: 0.3471, loss: 0.9570, grad_norm: 2.2656\n",
      "2021-05-10 01:23:47,174 - mmdet - INFO - Saving checkpoint at 1 epochs\n"
     ]
    },
    {
     "name": "stdout",
     "output_type": "stream",
     "text": [
      "[>>>>>>>>>>>>>>>>>>>>>>>>>>>>>] 655/655, 22.2 task/s, elapsed: 30s, ETA:     0s"
     ]
    },
    {
     "name": "stderr",
     "output_type": "stream",
     "text": [
      "2021-05-10 01:24:18,725 - mmdet - INFO - Evaluating bbox...\n"
     ]
    },
    {
     "name": "stdout",
     "output_type": "stream",
     "text": [
      "Loading and preparing results...\n",
      "DONE (t=0.63s)\n",
      "creating index...\n",
      "index created!\n",
      "Running per image evaluation...\n",
      "Evaluate annotation type *bbox*\n",
      "DONE (t=6.85s).\n",
      "Accumulating evaluation results...\n"
     ]
    },
    {
     "name": "stderr",
     "output_type": "stream",
     "text": [
      "2021-05-10 01:24:27,543 - mmdet - INFO - Epoch(val) [1][655]\tbbox_mAP: 0.0290, bbox_mAP_50: 0.0710, bbox_mAP_75: 0.0180, bbox_mAP_s: 0.0050, bbox_mAP_m: 0.0340, bbox_mAP_l: 0.0570, bbox_mAP_copypaste: 0.029 0.071 0.018 0.005 0.034 0.057\n"
     ]
    },
    {
     "name": "stdout",
     "output_type": "stream",
     "text": [
      "DONE (t=1.23s).\n",
      "Average Precision  (AP) @[ IoU=0.50:0.95 | area=   all | maxDets=100 ] = 0.029\n",
      "Average Precision  (AP) @[ IoU=0.50      | area=   all | maxDets=1000 ] = 0.071\n",
      "Average Precision  (AP) @[ IoU=0.75      | area=   all | maxDets=1000 ] = 0.018\n",
      "Average Precision  (AP) @[ IoU=0.50:0.95 | area= small | maxDets=1000 ] = 0.005\n",
      "Average Precision  (AP) @[ IoU=0.50:0.95 | area=medium | maxDets=1000 ] = 0.034\n",
      "Average Precision  (AP) @[ IoU=0.50:0.95 | area= large | maxDets=1000 ] = 0.057\n",
      "Average Recall     (AR) @[ IoU=0.50:0.95 | area=   all | maxDets=100 ] = 0.102\n",
      "Average Recall     (AR) @[ IoU=0.50:0.95 | area=   all | maxDets=300 ] = 0.102\n",
      "Average Recall     (AR) @[ IoU=0.50:0.95 | area=   all | maxDets=1000 ] = 0.102\n",
      "Average Recall     (AR) @[ IoU=0.50:0.95 | area= small | maxDets=1000 ] = 0.019\n",
      "Average Recall     (AR) @[ IoU=0.50:0.95 | area=medium | maxDets=1000 ] = 0.076\n",
      "Average Recall     (AR) @[ IoU=0.50:0.95 | area= large | maxDets=1000 ] = 0.235\n"
     ]
    },
    {
     "name": "stderr",
     "output_type": "stream",
     "text": [
      "2021-05-10 01:24:45,379 - mmdet - INFO - Epoch [2][50/655]\tlr: 2.000e-02, eta: 0:37:54, time: 0.357, data_time: 0.051, memory: 2098, loss_rpn_cls: 0.1092, loss_rpn_bbox: 0.0679, loss_cls: 0.4164, acc: 89.1768, loss_bbox: 0.3552, loss: 0.9488, grad_norm: 2.0016\n",
      "2021-05-10 01:25:00,903 - mmdet - INFO - Epoch [2][100/655]\tlr: 2.000e-02, eta: 0:37:35, time: 0.310, data_time: 0.006, memory: 2098, loss_rpn_cls: 0.0997, loss_rpn_bbox: 0.0657, loss_cls: 0.4037, acc: 89.3672, loss_bbox: 0.3562, loss: 0.9253, grad_norm: 2.2668\n",
      "2021-05-10 01:25:16,437 - mmdet - INFO - Epoch [2][150/655]\tlr: 2.000e-02, eta: 0:37:16, time: 0.311, data_time: 0.007, memory: 2098, loss_rpn_cls: 0.1048, loss_rpn_bbox: 0.0727, loss_cls: 0.4212, acc: 88.7393, loss_bbox: 0.3773, loss: 0.9760, grad_norm: 2.0793\n",
      "2021-05-10 01:25:31,997 - mmdet - INFO - Epoch [2][200/655]\tlr: 2.000e-02, eta: 0:36:58, time: 0.311, data_time: 0.006, memory: 2098, loss_rpn_cls: 0.1208, loss_rpn_bbox: 0.0741, loss_cls: 0.4393, acc: 88.2588, loss_bbox: 0.3744, loss: 1.0086, grad_norm: 2.1494\n",
      "2021-05-10 01:25:47,387 - mmdet - INFO - Epoch [2][250/655]\tlr: 2.000e-02, eta: 0:36:38, time: 0.308, data_time: 0.006, memory: 2098, loss_rpn_cls: 0.1298, loss_rpn_bbox: 0.0780, loss_cls: 0.4457, acc: 88.6045, loss_bbox: 0.3654, loss: 1.0189, grad_norm: 2.3711\n",
      "2021-05-10 01:26:02,754 - mmdet - INFO - Epoch [2][300/655]\tlr: 2.000e-02, eta: 0:36:19, time: 0.307, data_time: 0.006, memory: 2098, loss_rpn_cls: 0.1247, loss_rpn_bbox: 0.0710, loss_cls: 0.4289, acc: 88.5391, loss_bbox: 0.3778, loss: 1.0024, grad_norm: 2.1304\n",
      "2021-05-10 01:26:18,106 - mmdet - INFO - Epoch [2][350/655]\tlr: 2.000e-02, eta: 0:36:01, time: 0.307, data_time: 0.006, memory: 2098, loss_rpn_cls: 0.1199, loss_rpn_bbox: 0.0704, loss_cls: 0.4223, acc: 88.9072, loss_bbox: 0.3553, loss: 0.9678, grad_norm: 2.1690\n",
      "2021-05-10 01:26:33,501 - mmdet - INFO - Epoch [2][400/655]\tlr: 2.000e-02, eta: 0:35:43, time: 0.308, data_time: 0.006, memory: 2098, loss_rpn_cls: 0.1126, loss_rpn_bbox: 0.0708, loss_cls: 0.4168, acc: 88.8340, loss_bbox: 0.3685, loss: 0.9687, grad_norm: 1.9924\n",
      "2021-05-10 01:26:48,760 - mmdet - INFO - Epoch [2][450/655]\tlr: 2.000e-02, eta: 0:35:24, time: 0.305, data_time: 0.006, memory: 2098, loss_rpn_cls: 0.1146, loss_rpn_bbox: 0.0669, loss_cls: 0.4382, acc: 88.2344, loss_bbox: 0.3690, loss: 0.9887, grad_norm: 2.1685\n",
      "2021-05-10 01:27:04,349 - mmdet - INFO - Epoch [2][500/655]\tlr: 2.000e-02, eta: 0:35:07, time: 0.312, data_time: 0.006, memory: 2098, loss_rpn_cls: 0.1286, loss_rpn_bbox: 0.0783, loss_cls: 0.4713, acc: 87.3936, loss_bbox: 0.3968, loss: 1.0751, grad_norm: 2.3232\n",
      "2021-05-10 01:27:19,729 - mmdet - INFO - Epoch [2][550/655]\tlr: 2.000e-02, eta: 0:34:50, time: 0.308, data_time: 0.006, memory: 2098, loss_rpn_cls: 0.1062, loss_rpn_bbox: 0.0658, loss_cls: 0.4431, acc: 88.0938, loss_bbox: 0.3814, loss: 0.9965, grad_norm: 2.0501\n",
      "2021-05-10 01:27:35,124 - mmdet - INFO - Epoch [2][600/655]\tlr: 2.000e-02, eta: 0:34:32, time: 0.308, data_time: 0.006, memory: 2098, loss_rpn_cls: 0.0991, loss_rpn_bbox: 0.0684, loss_cls: 0.4260, acc: 88.6533, loss_bbox: 0.3599, loss: 0.9534, grad_norm: 2.0038\n",
      "2021-05-10 01:27:50,446 - mmdet - INFO - Epoch [2][650/655]\tlr: 2.000e-02, eta: 0:34:15, time: 0.306, data_time: 0.006, memory: 2098, loss_rpn_cls: 0.0929, loss_rpn_bbox: 0.0577, loss_cls: 0.3998, acc: 88.9434, loss_bbox: 0.3626, loss: 0.9129, grad_norm: 2.1034\n",
      "2021-05-10 01:27:52,060 - mmdet - INFO - Saving checkpoint at 2 epochs\n"
     ]
    },
    {
     "name": "stdout",
     "output_type": "stream",
     "text": [
      "[>>>>>>>>>>>>>>>>>>>>>>>>>>>>>] 655/655, 22.4 task/s, elapsed: 29s, ETA:     0s"
     ]
    },
    {
     "name": "stderr",
     "output_type": "stream",
     "text": [
      "2021-05-10 01:28:22,781 - mmdet - INFO - Evaluating bbox...\n"
     ]
    },
    {
     "name": "stdout",
     "output_type": "stream",
     "text": [
      "Loading and preparing results...\n",
      "DONE (t=0.64s)\n",
      "creating index...\n",
      "index created!\n",
      "Running per image evaluation...\n",
      "Evaluate annotation type *bbox*\n",
      "DONE (t=7.35s).\n",
      "Accumulating evaluation results...\n"
     ]
    },
    {
     "name": "stderr",
     "output_type": "stream",
     "text": [
      "2021-05-10 01:28:32,043 - mmdet - INFO - Epoch(val) [2][655]\tbbox_mAP: 0.0620, bbox_mAP_50: 0.1200, bbox_mAP_75: 0.0600, bbox_mAP_s: 0.0180, bbox_mAP_m: 0.0640, bbox_mAP_l: 0.1190, bbox_mAP_copypaste: 0.062 0.120 0.060 0.018 0.064 0.119\n"
     ]
    },
    {
     "name": "stdout",
     "output_type": "stream",
     "text": [
      "DONE (t=1.17s).\n",
      "Average Precision  (AP) @[ IoU=0.50:0.95 | area=   all | maxDets=100 ] = 0.062\n",
      "Average Precision  (AP) @[ IoU=0.50      | area=   all | maxDets=1000 ] = 0.120\n",
      "Average Precision  (AP) @[ IoU=0.75      | area=   all | maxDets=1000 ] = 0.060\n",
      "Average Precision  (AP) @[ IoU=0.50:0.95 | area= small | maxDets=1000 ] = 0.018\n",
      "Average Precision  (AP) @[ IoU=0.50:0.95 | area=medium | maxDets=1000 ] = 0.064\n",
      "Average Precision  (AP) @[ IoU=0.50:0.95 | area= large | maxDets=1000 ] = 0.119\n",
      "Average Recall     (AR) @[ IoU=0.50:0.95 | area=   all | maxDets=100 ] = 0.164\n",
      "Average Recall     (AR) @[ IoU=0.50:0.95 | area=   all | maxDets=300 ] = 0.164\n",
      "Average Recall     (AR) @[ IoU=0.50:0.95 | area=   all | maxDets=1000 ] = 0.164\n",
      "Average Recall     (AR) @[ IoU=0.50:0.95 | area= small | maxDets=1000 ] = 0.040\n",
      "Average Recall     (AR) @[ IoU=0.50:0.95 | area=medium | maxDets=1000 ] = 0.159\n",
      "Average Recall     (AR) @[ IoU=0.50:0.95 | area= large | maxDets=1000 ] = 0.314\n"
     ]
    },
    {
     "name": "stderr",
     "output_type": "stream",
     "text": [
      "2021-05-10 01:28:49,611 - mmdet - INFO - Epoch [3][50/655]\tlr: 2.000e-02, eta: 0:33:59, time: 0.351, data_time: 0.051, memory: 2098, loss_rpn_cls: 0.0863, loss_rpn_bbox: 0.0541, loss_cls: 0.4006, acc: 88.9072, loss_bbox: 0.3451, loss: 0.8861, grad_norm: 2.0209\n",
      "2021-05-10 01:29:04,859 - mmdet - INFO - Epoch [3][100/655]\tlr: 2.000e-02, eta: 0:33:41, time: 0.305, data_time: 0.006, memory: 2098, loss_rpn_cls: 0.0873, loss_rpn_bbox: 0.0609, loss_cls: 0.3902, acc: 89.3682, loss_bbox: 0.3329, loss: 0.8714, grad_norm: 1.9388\n",
      "2021-05-10 01:29:20,036 - mmdet - INFO - Epoch [3][150/655]\tlr: 2.000e-02, eta: 0:33:24, time: 0.304, data_time: 0.006, memory: 2098, loss_rpn_cls: 0.0846, loss_rpn_bbox: 0.0630, loss_cls: 0.3791, acc: 89.6484, loss_bbox: 0.3214, loss: 0.8480, grad_norm: 1.9706\n",
      "2021-05-10 01:29:35,385 - mmdet - INFO - Epoch [3][200/655]\tlr: 2.000e-02, eta: 0:33:07, time: 0.307, data_time: 0.006, memory: 2098, loss_rpn_cls: 0.1037, loss_rpn_bbox: 0.0719, loss_cls: 0.4332, acc: 88.2197, loss_bbox: 0.3727, loss: 0.9815, grad_norm: 2.2038\n",
      "2021-05-10 01:29:50,597 - mmdet - INFO - Epoch [3][250/655]\tlr: 2.000e-02, eta: 0:32:49, time: 0.304, data_time: 0.006, memory: 2098, loss_rpn_cls: 0.1040, loss_rpn_bbox: 0.0696, loss_cls: 0.4069, acc: 88.5889, loss_bbox: 0.3587, loss: 0.9392, grad_norm: 2.1230\n",
      "2021-05-10 01:30:05,898 - mmdet - INFO - Epoch [3][300/655]\tlr: 2.000e-02, eta: 0:32:32, time: 0.306, data_time: 0.006, memory: 2098, loss_rpn_cls: 0.0994, loss_rpn_bbox: 0.0635, loss_cls: 0.4017, acc: 89.2803, loss_bbox: 0.3450, loss: 0.9095, grad_norm: 2.0958\n",
      "2021-05-10 01:30:21,042 - mmdet - INFO - Epoch [3][350/655]\tlr: 2.000e-02, eta: 0:32:15, time: 0.303, data_time: 0.006, memory: 2098, loss_rpn_cls: 0.0883, loss_rpn_bbox: 0.0653, loss_cls: 0.3801, acc: 88.9893, loss_bbox: 0.3555, loss: 0.8892, grad_norm: 2.0520\n",
      "2021-05-10 01:30:36,277 - mmdet - INFO - Epoch [3][400/655]\tlr: 2.000e-02, eta: 0:31:58, time: 0.305, data_time: 0.006, memory: 2098, loss_rpn_cls: 0.0998, loss_rpn_bbox: 0.0660, loss_cls: 0.4279, acc: 88.0098, loss_bbox: 0.3689, loss: 0.9625, grad_norm: 2.1544\n",
      "2021-05-10 01:30:51,488 - mmdet - INFO - Epoch [3][450/655]\tlr: 2.000e-02, eta: 0:31:41, time: 0.304, data_time: 0.006, memory: 2098, loss_rpn_cls: 0.0935, loss_rpn_bbox: 0.0592, loss_cls: 0.3870, acc: 89.0850, loss_bbox: 0.3602, loss: 0.9000, grad_norm: 2.1016\n",
      "2021-05-10 01:31:06,786 - mmdet - INFO - Epoch [3][500/655]\tlr: 2.000e-02, eta: 0:31:24, time: 0.306, data_time: 0.006, memory: 2098, loss_rpn_cls: 0.0946, loss_rpn_bbox: 0.0712, loss_cls: 0.4152, acc: 88.0605, loss_bbox: 0.3772, loss: 0.9582, grad_norm: 2.1118\n",
      "2021-05-10 01:31:21,970 - mmdet - INFO - Epoch [3][550/655]\tlr: 2.000e-02, eta: 0:31:08, time: 0.304, data_time: 0.006, memory: 2098, loss_rpn_cls: 0.0876, loss_rpn_bbox: 0.0606, loss_cls: 0.3812, acc: 89.2432, loss_bbox: 0.3444, loss: 0.8738, grad_norm: 1.9681\n",
      "2021-05-10 01:31:37,153 - mmdet - INFO - Epoch [3][600/655]\tlr: 2.000e-02, eta: 0:30:51, time: 0.304, data_time: 0.006, memory: 2098, loss_rpn_cls: 0.0821, loss_rpn_bbox: 0.0648, loss_cls: 0.4167, acc: 88.5557, loss_bbox: 0.3587, loss: 0.9222, grad_norm: 2.1400\n",
      "2021-05-10 01:31:52,408 - mmdet - INFO - Epoch [3][650/655]\tlr: 2.000e-02, eta: 0:30:34, time: 0.305, data_time: 0.006, memory: 2098, loss_rpn_cls: 0.0829, loss_rpn_bbox: 0.0550, loss_cls: 0.3556, acc: 90.2334, loss_bbox: 0.3022, loss: 0.7957, grad_norm: 1.9763\n",
      "2021-05-10 01:31:54,026 - mmdet - INFO - Saving checkpoint at 3 epochs\n"
     ]
    },
    {
     "name": "stdout",
     "output_type": "stream",
     "text": [
      "[>>>>>>>>>>>>>>>>>>>>>>>>>>>>>] 655/655, 22.4 task/s, elapsed: 29s, ETA:     0s"
     ]
    },
    {
     "name": "stderr",
     "output_type": "stream",
     "text": [
      "2021-05-10 01:32:25,205 - mmdet - INFO - Evaluating bbox...\n"
     ]
    },
    {
     "name": "stdout",
     "output_type": "stream",
     "text": [
      "Loading and preparing results...\n",
      "DONE (t=0.67s)\n",
      "creating index...\n",
      "index created!\n",
      "Running per image evaluation...\n",
      "Evaluate annotation type *bbox*\n",
      "DONE (t=6.81s).\n",
      "Accumulating evaluation results...\n"
     ]
    },
    {
     "name": "stderr",
     "output_type": "stream",
     "text": [
      "2021-05-10 01:32:33,868 - mmdet - INFO - Epoch(val) [3][655]\tbbox_mAP: 0.0820, bbox_mAP_50: 0.1550, bbox_mAP_75: 0.0780, bbox_mAP_s: 0.0190, bbox_mAP_m: 0.0810, bbox_mAP_l: 0.1510, bbox_mAP_copypaste: 0.082 0.155 0.078 0.019 0.081 0.151\n"
     ]
    },
    {
     "name": "stdout",
     "output_type": "stream",
     "text": [
      "DONE (t=1.08s).\n",
      "Average Precision  (AP) @[ IoU=0.50:0.95 | area=   all | maxDets=100 ] = 0.082\n",
      "Average Precision  (AP) @[ IoU=0.50      | area=   all | maxDets=1000 ] = 0.155\n",
      "Average Precision  (AP) @[ IoU=0.75      | area=   all | maxDets=1000 ] = 0.078\n",
      "Average Precision  (AP) @[ IoU=0.50:0.95 | area= small | maxDets=1000 ] = 0.019\n",
      "Average Precision  (AP) @[ IoU=0.50:0.95 | area=medium | maxDets=1000 ] = 0.081\n",
      "Average Precision  (AP) @[ IoU=0.50:0.95 | area= large | maxDets=1000 ] = 0.151\n",
      "Average Recall     (AR) @[ IoU=0.50:0.95 | area=   all | maxDets=100 ] = 0.207\n",
      "Average Recall     (AR) @[ IoU=0.50:0.95 | area=   all | maxDets=300 ] = 0.207\n",
      "Average Recall     (AR) @[ IoU=0.50:0.95 | area=   all | maxDets=1000 ] = 0.207\n",
      "Average Recall     (AR) @[ IoU=0.50:0.95 | area= small | maxDets=1000 ] = 0.063\n",
      "Average Recall     (AR) @[ IoU=0.50:0.95 | area=medium | maxDets=1000 ] = 0.194\n",
      "Average Recall     (AR) @[ IoU=0.50:0.95 | area= large | maxDets=1000 ] = 0.374\n"
     ]
    },
    {
     "name": "stderr",
     "output_type": "stream",
     "text": [
      "2021-05-10 01:32:51,364 - mmdet - INFO - Epoch [4][50/655]\tlr: 2.000e-02, eta: 0:30:18, time: 0.350, data_time: 0.051, memory: 2098, loss_rpn_cls: 0.0743, loss_rpn_bbox: 0.0557, loss_cls: 0.3509, acc: 89.7734, loss_bbox: 0.3336, loss: 0.8145, grad_norm: 2.0430\n",
      "2021-05-10 01:33:06,711 - mmdet - INFO - Epoch [4][100/655]\tlr: 2.000e-02, eta: 0:30:02, time: 0.307, data_time: 0.006, memory: 2098, loss_rpn_cls: 0.0886, loss_rpn_bbox: 0.0683, loss_cls: 0.4009, acc: 88.5732, loss_bbox: 0.3597, loss: 0.9175, grad_norm: 2.1346\n",
      "2021-05-10 01:33:21,819 - mmdet - INFO - Epoch [4][150/655]\tlr: 2.000e-02, eta: 0:29:45, time: 0.302, data_time: 0.006, memory: 2098, loss_rpn_cls: 0.0948, loss_rpn_bbox: 0.0638, loss_cls: 0.3935, acc: 88.6924, loss_bbox: 0.3505, loss: 0.9025, grad_norm: 2.2180\n",
      "2021-05-10 01:33:37,091 - mmdet - INFO - Epoch [4][200/655]\tlr: 2.000e-02, eta: 0:29:29, time: 0.305, data_time: 0.006, memory: 2098, loss_rpn_cls: 0.0770, loss_rpn_bbox: 0.0600, loss_cls: 0.3927, acc: 88.8281, loss_bbox: 0.3502, loss: 0.8800, grad_norm: 2.0795\n",
      "2021-05-10 01:33:52,221 - mmdet - INFO - Epoch [4][250/655]\tlr: 2.000e-02, eta: 0:29:13, time: 0.303, data_time: 0.006, memory: 2098, loss_rpn_cls: 0.0748, loss_rpn_bbox: 0.0617, loss_cls: 0.3587, acc: 89.8271, loss_bbox: 0.3285, loss: 0.8236, grad_norm: 2.1044\n",
      "2021-05-10 01:34:07,433 - mmdet - INFO - Epoch [4][300/655]\tlr: 2.000e-02, eta: 0:28:56, time: 0.304, data_time: 0.006, memory: 2098, loss_rpn_cls: 0.0859, loss_rpn_bbox: 0.0606, loss_cls: 0.3914, acc: 88.9834, loss_bbox: 0.3389, loss: 0.8768, grad_norm: 2.0377\n",
      "2021-05-10 01:34:22,804 - mmdet - INFO - Epoch [4][350/655]\tlr: 2.000e-02, eta: 0:28:40, time: 0.307, data_time: 0.006, memory: 2098, loss_rpn_cls: 0.0782, loss_rpn_bbox: 0.0526, loss_cls: 0.3787, acc: 88.9561, loss_bbox: 0.3397, loss: 0.8492, grad_norm: 2.0093\n",
      "2021-05-10 01:34:38,169 - mmdet - INFO - Epoch [4][400/655]\tlr: 2.000e-02, eta: 0:28:25, time: 0.307, data_time: 0.006, memory: 2098, loss_rpn_cls: 0.0789, loss_rpn_bbox: 0.0654, loss_cls: 0.3815, acc: 88.9658, loss_bbox: 0.3276, loss: 0.8533, grad_norm: 2.0971\n",
      "2021-05-10 01:34:53,409 - mmdet - INFO - Epoch [4][450/655]\tlr: 2.000e-02, eta: 0:28:08, time: 0.305, data_time: 0.006, memory: 2098, loss_rpn_cls: 0.0890, loss_rpn_bbox: 0.0660, loss_cls: 0.3732, acc: 89.4307, loss_bbox: 0.3342, loss: 0.8625, grad_norm: 2.0748\n",
      "2021-05-10 01:35:08,958 - mmdet - INFO - Epoch [4][500/655]\tlr: 2.000e-02, eta: 0:27:53, time: 0.311, data_time: 0.006, memory: 2098, loss_rpn_cls: 0.0882, loss_rpn_bbox: 0.0655, loss_cls: 0.3812, acc: 89.2041, loss_bbox: 0.3444, loss: 0.8793, grad_norm: 2.1338\n",
      "2021-05-10 01:35:24,126 - mmdet - INFO - Epoch [4][550/655]\tlr: 2.000e-02, eta: 0:27:37, time: 0.303, data_time: 0.006, memory: 2098, loss_rpn_cls: 0.0781, loss_rpn_bbox: 0.0546, loss_cls: 0.3821, acc: 89.3232, loss_bbox: 0.3224, loss: 0.8371, grad_norm: 2.0305\n",
      "2021-05-10 01:35:39,339 - mmdet - INFO - Epoch [4][600/655]\tlr: 2.000e-02, eta: 0:27:21, time: 0.304, data_time: 0.006, memory: 2098, loss_rpn_cls: 0.0828, loss_rpn_bbox: 0.0620, loss_cls: 0.3927, acc: 89.2764, loss_bbox: 0.3232, loss: 0.8607, grad_norm: 2.1086\n",
      "2021-05-10 01:35:54,672 - mmdet - INFO - Epoch [4][650/655]\tlr: 2.000e-02, eta: 0:27:05, time: 0.307, data_time: 0.006, memory: 2098, loss_rpn_cls: 0.0710, loss_rpn_bbox: 0.0593, loss_cls: 0.3706, acc: 89.3682, loss_bbox: 0.3358, loss: 0.8368, grad_norm: 1.9959\n",
      "2021-05-10 01:35:56,265 - mmdet - INFO - Saving checkpoint at 4 epochs\n"
     ]
    },
    {
     "name": "stdout",
     "output_type": "stream",
     "text": [
      "[>>>>>>>>>>>>>>>>>>>>>>>>>>>>>] 655/655, 22.4 task/s, elapsed: 29s, ETA:     0s"
     ]
    },
    {
     "name": "stderr",
     "output_type": "stream",
     "text": [
      "2021-05-10 01:36:26,821 - mmdet - INFO - Evaluating bbox...\n"
     ]
    },
    {
     "name": "stdout",
     "output_type": "stream",
     "text": [
      "Loading and preparing results...\n",
      "DONE (t=0.11s)\n",
      "creating index...\n",
      "index created!\n",
      "Running per image evaluation...\n",
      "Evaluate annotation type *bbox*\n",
      "DONE (t=6.28s).\n",
      "Accumulating evaluation results...\n"
     ]
    },
    {
     "name": "stderr",
     "output_type": "stream",
     "text": [
      "2021-05-10 01:36:34,142 - mmdet - INFO - Epoch(val) [4][655]\tbbox_mAP: 0.0840, bbox_mAP_50: 0.1650, bbox_mAP_75: 0.0800, bbox_mAP_s: 0.0200, bbox_mAP_m: 0.0750, bbox_mAP_l: 0.1630, bbox_mAP_copypaste: 0.084 0.165 0.080 0.020 0.075 0.163\n"
     ]
    },
    {
     "name": "stdout",
     "output_type": "stream",
     "text": [
      "DONE (t=0.85s).\n",
      "Average Precision  (AP) @[ IoU=0.50:0.95 | area=   all | maxDets=100 ] = 0.084\n",
      "Average Precision  (AP) @[ IoU=0.50      | area=   all | maxDets=1000 ] = 0.165\n",
      "Average Precision  (AP) @[ IoU=0.75      | area=   all | maxDets=1000 ] = 0.080\n",
      "Average Precision  (AP) @[ IoU=0.50:0.95 | area= small | maxDets=1000 ] = 0.020\n",
      "Average Precision  (AP) @[ IoU=0.50:0.95 | area=medium | maxDets=1000 ] = 0.075\n",
      "Average Precision  (AP) @[ IoU=0.50:0.95 | area= large | maxDets=1000 ] = 0.163\n",
      "Average Recall     (AR) @[ IoU=0.50:0.95 | area=   all | maxDets=100 ] = 0.193\n",
      "Average Recall     (AR) @[ IoU=0.50:0.95 | area=   all | maxDets=300 ] = 0.193\n",
      "Average Recall     (AR) @[ IoU=0.50:0.95 | area=   all | maxDets=1000 ] = 0.193\n",
      "Average Recall     (AR) @[ IoU=0.50:0.95 | area= small | maxDets=1000 ] = 0.066\n",
      "Average Recall     (AR) @[ IoU=0.50:0.95 | area=medium | maxDets=1000 ] = 0.163\n",
      "Average Recall     (AR) @[ IoU=0.50:0.95 | area= large | maxDets=1000 ] = 0.362\n"
     ]
    },
    {
     "name": "stderr",
     "output_type": "stream",
     "text": [
      "2021-05-10 01:36:51,517 - mmdet - INFO - Epoch [5][50/655]\tlr: 2.000e-02, eta: 0:26:48, time: 0.347, data_time: 0.051, memory: 2098, loss_rpn_cls: 0.0852, loss_rpn_bbox: 0.0657, loss_cls: 0.3748, acc: 89.1426, loss_bbox: 0.3526, loss: 0.8783, grad_norm: 2.2670\n",
      "2021-05-10 01:37:06,864 - mmdet - INFO - Epoch [5][100/655]\tlr: 2.000e-02, eta: 0:26:33, time: 0.307, data_time: 0.006, memory: 2098, loss_rpn_cls: 0.0717, loss_rpn_bbox: 0.0611, loss_cls: 0.3837, acc: 88.7988, loss_bbox: 0.3507, loss: 0.8673, grad_norm: 2.1757\n",
      "2021-05-10 01:37:21,935 - mmdet - INFO - Epoch [5][150/655]\tlr: 2.000e-02, eta: 0:26:16, time: 0.301, data_time: 0.006, memory: 2098, loss_rpn_cls: 0.0734, loss_rpn_bbox: 0.0664, loss_cls: 0.3756, acc: 88.8857, loss_bbox: 0.3504, loss: 0.8658, grad_norm: 2.1208\n",
      "2021-05-10 01:37:37,173 - mmdet - INFO - Epoch [5][200/655]\tlr: 2.000e-02, eta: 0:26:00, time: 0.305, data_time: 0.006, memory: 2098, loss_rpn_cls: 0.0770, loss_rpn_bbox: 0.0549, loss_cls: 0.3433, acc: 89.7451, loss_bbox: 0.3224, loss: 0.7976, grad_norm: 2.0465\n",
      "2021-05-10 01:37:52,473 - mmdet - INFO - Epoch [5][250/655]\tlr: 2.000e-02, eta: 0:25:45, time: 0.306, data_time: 0.006, memory: 2098, loss_rpn_cls: 0.0828, loss_rpn_bbox: 0.0647, loss_cls: 0.3984, acc: 88.6484, loss_bbox: 0.3460, loss: 0.8919, grad_norm: 2.1309\n",
      "2021-05-10 01:38:07,760 - mmdet - INFO - Epoch [5][300/655]\tlr: 2.000e-02, eta: 0:25:29, time: 0.306, data_time: 0.006, memory: 2098, loss_rpn_cls: 0.0746, loss_rpn_bbox: 0.0617, loss_cls: 0.3759, acc: 88.7607, loss_bbox: 0.3410, loss: 0.8532, grad_norm: 2.1026\n",
      "2021-05-10 01:38:23,210 - mmdet - INFO - Epoch [5][350/655]\tlr: 2.000e-02, eta: 0:25:13, time: 0.309, data_time: 0.006, memory: 2098, loss_rpn_cls: 0.0765, loss_rpn_bbox: 0.0634, loss_cls: 0.3593, acc: 89.3916, loss_bbox: 0.3280, loss: 0.8272, grad_norm: 2.1058\n",
      "2021-05-10 01:38:38,837 - mmdet - INFO - Epoch [5][400/655]\tlr: 2.000e-02, eta: 0:24:58, time: 0.313, data_time: 0.006, memory: 2098, loss_rpn_cls: 0.0663, loss_rpn_bbox: 0.0542, loss_cls: 0.3512, acc: 90.0947, loss_bbox: 0.2997, loss: 0.7714, grad_norm: 2.1257\n",
      "2021-05-10 01:38:54,236 - mmdet - INFO - Epoch [5][450/655]\tlr: 2.000e-02, eta: 0:24:42, time: 0.308, data_time: 0.006, memory: 2098, loss_rpn_cls: 0.0799, loss_rpn_bbox: 0.0599, loss_cls: 0.3841, acc: 88.7178, loss_bbox: 0.3543, loss: 0.8782, grad_norm: 2.1770\n",
      "2021-05-10 01:39:09,727 - mmdet - INFO - Epoch [5][500/655]\tlr: 2.000e-02, eta: 0:24:27, time: 0.310, data_time: 0.006, memory: 2098, loss_rpn_cls: 0.0568, loss_rpn_bbox: 0.0588, loss_cls: 0.3343, acc: 90.2324, loss_bbox: 0.3006, loss: 0.7505, grad_norm: 2.0346\n",
      "2021-05-10 01:39:25,009 - mmdet - INFO - Epoch [5][550/655]\tlr: 2.000e-02, eta: 0:24:11, time: 0.306, data_time: 0.006, memory: 2098, loss_rpn_cls: 0.0709, loss_rpn_bbox: 0.0509, loss_cls: 0.3555, acc: 90.0742, loss_bbox: 0.3106, loss: 0.7879, grad_norm: 2.0403\n",
      "2021-05-10 01:39:40,302 - mmdet - INFO - Epoch [5][600/655]\tlr: 2.000e-02, eta: 0:23:55, time: 0.306, data_time: 0.006, memory: 2098, loss_rpn_cls: 0.0645, loss_rpn_bbox: 0.0454, loss_cls: 0.3351, acc: 90.3682, loss_bbox: 0.2897, loss: 0.7347, grad_norm: 1.9395\n",
      "2021-05-10 01:39:55,713 - mmdet - INFO - Epoch [5][650/655]\tlr: 2.000e-02, eta: 0:23:40, time: 0.308, data_time: 0.006, memory: 2098, loss_rpn_cls: 0.0666, loss_rpn_bbox: 0.0526, loss_cls: 0.3610, acc: 89.3701, loss_bbox: 0.3213, loss: 0.8014, grad_norm: 2.2084\n",
      "2021-05-10 01:39:57,357 - mmdet - INFO - Saving checkpoint at 5 epochs\n"
     ]
    },
    {
     "name": "stdout",
     "output_type": "stream",
     "text": [
      "[>>>>>>>>>>>>>>>>>>>>>>>>>>>>>] 655/655, 22.3 task/s, elapsed: 29s, ETA:     0s"
     ]
    },
    {
     "name": "stderr",
     "output_type": "stream",
     "text": [
      "2021-05-10 01:40:28,473 - mmdet - INFO - Evaluating bbox...\n"
     ]
    },
    {
     "name": "stdout",
     "output_type": "stream",
     "text": [
      "Loading and preparing results...\n",
      "DONE (t=0.55s)\n",
      "creating index...\n",
      "index created!\n",
      "Running per image evaluation...\n",
      "Evaluate annotation type *bbox*\n",
      "DONE (t=4.45s).\n",
      "Accumulating evaluation results...\n"
     ]
    },
    {
     "name": "stderr",
     "output_type": "stream",
     "text": [
      "2021-05-10 01:40:34,344 - mmdet - INFO - Epoch(val) [5][655]\tbbox_mAP: 0.0860, bbox_mAP_50: 0.1600, bbox_mAP_75: 0.0840, bbox_mAP_s: 0.0140, bbox_mAP_m: 0.0830, bbox_mAP_l: 0.1680, bbox_mAP_copypaste: 0.086 0.160 0.084 0.014 0.083 0.168\n"
     ]
    },
    {
     "name": "stdout",
     "output_type": "stream",
     "text": [
      "DONE (t=0.79s).\n",
      "Average Precision  (AP) @[ IoU=0.50:0.95 | area=   all | maxDets=100 ] = 0.086\n",
      "Average Precision  (AP) @[ IoU=0.50      | area=   all | maxDets=1000 ] = 0.160\n",
      "Average Precision  (AP) @[ IoU=0.75      | area=   all | maxDets=1000 ] = 0.084\n",
      "Average Precision  (AP) @[ IoU=0.50:0.95 | area= small | maxDets=1000 ] = 0.014\n",
      "Average Precision  (AP) @[ IoU=0.50:0.95 | area=medium | maxDets=1000 ] = 0.083\n",
      "Average Precision  (AP) @[ IoU=0.50:0.95 | area= large | maxDets=1000 ] = 0.168\n",
      "Average Recall     (AR) @[ IoU=0.50:0.95 | area=   all | maxDets=100 ] = 0.194\n",
      "Average Recall     (AR) @[ IoU=0.50:0.95 | area=   all | maxDets=300 ] = 0.194\n",
      "Average Recall     (AR) @[ IoU=0.50:0.95 | area=   all | maxDets=1000 ] = 0.194\n",
      "Average Recall     (AR) @[ IoU=0.50:0.95 | area= small | maxDets=1000 ] = 0.040\n",
      "Average Recall     (AR) @[ IoU=0.50:0.95 | area=medium | maxDets=1000 ] = 0.171\n",
      "Average Recall     (AR) @[ IoU=0.50:0.95 | area= large | maxDets=1000 ] = 0.384\n"
     ]
    },
    {
     "name": "stderr",
     "output_type": "stream",
     "text": [
      "2021-05-10 01:40:51,935 - mmdet - INFO - Epoch [6][50/655]\tlr: 2.000e-02, eta: 0:23:24, time: 0.352, data_time: 0.050, memory: 2098, loss_rpn_cls: 0.0851, loss_rpn_bbox: 0.0713, loss_cls: 0.4068, acc: 88.0029, loss_bbox: 0.3709, loss: 0.9341, grad_norm: 2.2822\n",
      "2021-05-10 01:41:07,307 - mmdet - INFO - Epoch [6][100/655]\tlr: 2.000e-02, eta: 0:23:08, time: 0.307, data_time: 0.006, memory: 2098, loss_rpn_cls: 0.0667, loss_rpn_bbox: 0.0584, loss_cls: 0.3707, acc: 89.0732, loss_bbox: 0.3462, loss: 0.8421, grad_norm: 2.1831\n",
      "2021-05-10 01:41:22,660 - mmdet - INFO - Epoch [6][150/655]\tlr: 2.000e-02, eta: 0:22:52, time: 0.307, data_time: 0.006, memory: 2098, loss_rpn_cls: 0.0643, loss_rpn_bbox: 0.0527, loss_cls: 0.3616, acc: 89.6260, loss_bbox: 0.3190, loss: 0.7976, grad_norm: 2.1945\n",
      "2021-05-10 01:41:37,944 - mmdet - INFO - Epoch [6][200/655]\tlr: 2.000e-02, eta: 0:22:37, time: 0.306, data_time: 0.006, memory: 2098, loss_rpn_cls: 0.0766, loss_rpn_bbox: 0.0580, loss_cls: 0.3601, acc: 89.6182, loss_bbox: 0.3296, loss: 0.8241, grad_norm: 2.1974\n",
      "2021-05-10 01:41:53,348 - mmdet - INFO - Epoch [6][250/655]\tlr: 2.000e-02, eta: 0:22:21, time: 0.308, data_time: 0.006, memory: 2098, loss_rpn_cls: 0.0629, loss_rpn_bbox: 0.0568, loss_cls: 0.3501, acc: 89.5000, loss_bbox: 0.3194, loss: 0.7893, grad_norm: 2.0895\n",
      "2021-05-10 01:42:08,909 - mmdet - INFO - Epoch [6][300/655]\tlr: 2.000e-02, eta: 0:22:06, time: 0.311, data_time: 0.006, memory: 2098, loss_rpn_cls: 0.0643, loss_rpn_bbox: 0.0540, loss_cls: 0.3362, acc: 90.1748, loss_bbox: 0.2956, loss: 0.7501, grad_norm: 2.1172\n",
      "2021-05-10 01:42:24,290 - mmdet - INFO - Epoch [6][350/655]\tlr: 2.000e-02, eta: 0:21:50, time: 0.308, data_time: 0.006, memory: 2098, loss_rpn_cls: 0.0736, loss_rpn_bbox: 0.0573, loss_cls: 0.3362, acc: 89.7510, loss_bbox: 0.3081, loss: 0.7752, grad_norm: 2.1768\n",
      "2021-05-10 01:42:39,609 - mmdet - INFO - Epoch [6][400/655]\tlr: 2.000e-02, eta: 0:21:34, time: 0.306, data_time: 0.006, memory: 2098, loss_rpn_cls: 0.0614, loss_rpn_bbox: 0.0576, loss_cls: 0.3267, acc: 90.1846, loss_bbox: 0.3085, loss: 0.7542, grad_norm: 2.0842\n",
      "2021-05-10 01:42:54,950 - mmdet - INFO - Epoch [6][450/655]\tlr: 2.000e-02, eta: 0:21:19, time: 0.307, data_time: 0.006, memory: 2098, loss_rpn_cls: 0.0657, loss_rpn_bbox: 0.0609, loss_cls: 0.3326, acc: 90.2881, loss_bbox: 0.3111, loss: 0.7703, grad_norm: 2.1641\n",
      "2021-05-10 01:43:10,290 - mmdet - INFO - Epoch [6][500/655]\tlr: 2.000e-02, eta: 0:21:03, time: 0.307, data_time: 0.006, memory: 2098, loss_rpn_cls: 0.0592, loss_rpn_bbox: 0.0483, loss_cls: 0.3474, acc: 89.9688, loss_bbox: 0.2993, loss: 0.7543, grad_norm: 2.0503\n",
      "2021-05-10 01:43:25,670 - mmdet - INFO - Epoch [6][550/655]\tlr: 2.000e-02, eta: 0:20:48, time: 0.308, data_time: 0.006, memory: 2098, loss_rpn_cls: 0.0622, loss_rpn_bbox: 0.0619, loss_cls: 0.4012, acc: 88.4688, loss_bbox: 0.3525, loss: 0.8778, grad_norm: 2.3239\n",
      "2021-05-10 01:43:41,097 - mmdet - INFO - Epoch [6][600/655]\tlr: 2.000e-02, eta: 0:20:32, time: 0.309, data_time: 0.006, memory: 2098, loss_rpn_cls: 0.0661, loss_rpn_bbox: 0.0504, loss_cls: 0.3435, acc: 90.1582, loss_bbox: 0.2955, loss: 0.7554, grad_norm: 2.1664\n",
      "2021-05-10 01:43:56,697 - mmdet - INFO - Epoch [6][650/655]\tlr: 2.000e-02, eta: 0:20:17, time: 0.312, data_time: 0.006, memory: 2098, loss_rpn_cls: 0.0639, loss_rpn_bbox: 0.0549, loss_cls: 0.3648, acc: 89.4307, loss_bbox: 0.3218, loss: 0.8054, grad_norm: 2.1364\n",
      "2021-05-10 01:43:58,291 - mmdet - INFO - Saving checkpoint at 6 epochs\n"
     ]
    },
    {
     "name": "stdout",
     "output_type": "stream",
     "text": [
      "[>>>>>>>>>>>>>>>>>>>>>>>>>>>>>] 655/655, 22.2 task/s, elapsed: 29s, ETA:     0s"
     ]
    },
    {
     "name": "stderr",
     "output_type": "stream",
     "text": [
      "2021-05-10 01:44:29,622 - mmdet - INFO - Evaluating bbox...\n"
     ]
    },
    {
     "name": "stdout",
     "output_type": "stream",
     "text": [
      "Loading and preparing results...\n",
      "DONE (t=0.59s)\n",
      "creating index...\n",
      "index created!\n",
      "Running per image evaluation...\n",
      "Evaluate annotation type *bbox*\n",
      "DONE (t=5.93s).\n",
      "Accumulating evaluation results...\n"
     ]
    },
    {
     "name": "stderr",
     "output_type": "stream",
     "text": [
      "2021-05-10 01:44:37,203 - mmdet - INFO - Epoch(val) [6][655]\tbbox_mAP: 0.0980, bbox_mAP_50: 0.1780, bbox_mAP_75: 0.0990, bbox_mAP_s: 0.0250, bbox_mAP_m: 0.0940, bbox_mAP_l: 0.1830, bbox_mAP_copypaste: 0.098 0.178 0.099 0.025 0.094 0.183\n"
     ]
    },
    {
     "name": "stdout",
     "output_type": "stream",
     "text": [
      "DONE (t=0.97s).\n",
      "Average Precision  (AP) @[ IoU=0.50:0.95 | area=   all | maxDets=100 ] = 0.098\n",
      "Average Precision  (AP) @[ IoU=0.50      | area=   all | maxDets=1000 ] = 0.178\n",
      "Average Precision  (AP) @[ IoU=0.75      | area=   all | maxDets=1000 ] = 0.099\n",
      "Average Precision  (AP) @[ IoU=0.50:0.95 | area= small | maxDets=1000 ] = 0.025\n",
      "Average Precision  (AP) @[ IoU=0.50:0.95 | area=medium | maxDets=1000 ] = 0.094\n",
      "Average Precision  (AP) @[ IoU=0.50:0.95 | area= large | maxDets=1000 ] = 0.183\n",
      "Average Recall     (AR) @[ IoU=0.50:0.95 | area=   all | maxDets=100 ] = 0.212\n",
      "Average Recall     (AR) @[ IoU=0.50:0.95 | area=   all | maxDets=300 ] = 0.212\n",
      "Average Recall     (AR) @[ IoU=0.50:0.95 | area=   all | maxDets=1000 ] = 0.212\n",
      "Average Recall     (AR) @[ IoU=0.50:0.95 | area= small | maxDets=1000 ] = 0.073\n",
      "Average Recall     (AR) @[ IoU=0.50:0.95 | area=medium | maxDets=1000 ] = 0.200\n",
      "Average Recall     (AR) @[ IoU=0.50:0.95 | area= large | maxDets=1000 ] = 0.380\n"
     ]
    },
    {
     "name": "stderr",
     "output_type": "stream",
     "text": [
      "2021-05-10 01:44:54,704 - mmdet - INFO - Epoch [7][50/655]\tlr: 2.000e-02, eta: 0:20:00, time: 0.350, data_time: 0.050, memory: 2098, loss_rpn_cls: 0.0577, loss_rpn_bbox: 0.0572, loss_cls: 0.3083, acc: 90.9023, loss_bbox: 0.2869, loss: 0.7101, grad_norm: 2.0655\n",
      "2021-05-10 01:45:10,006 - mmdet - INFO - Epoch [7][100/655]\tlr: 2.000e-02, eta: 0:19:45, time: 0.306, data_time: 0.006, memory: 2098, loss_rpn_cls: 0.0566, loss_rpn_bbox: 0.0511, loss_cls: 0.3293, acc: 90.3457, loss_bbox: 0.2965, loss: 0.7335, grad_norm: 1.9808\n",
      "2021-05-10 01:45:25,288 - mmdet - INFO - Epoch [7][150/655]\tlr: 2.000e-02, eta: 0:19:29, time: 0.306, data_time: 0.006, memory: 2098, loss_rpn_cls: 0.0583, loss_rpn_bbox: 0.0525, loss_cls: 0.3277, acc: 90.2803, loss_bbox: 0.2874, loss: 0.7259, grad_norm: 2.0308\n",
      "2021-05-10 01:45:40,782 - mmdet - INFO - Epoch [7][200/655]\tlr: 2.000e-02, eta: 0:19:14, time: 0.310, data_time: 0.006, memory: 2098, loss_rpn_cls: 0.0600, loss_rpn_bbox: 0.0613, loss_cls: 0.3606, acc: 89.1191, loss_bbox: 0.3347, loss: 0.8167, grad_norm: 2.3346\n",
      "2021-05-10 01:45:56,085 - mmdet - INFO - Epoch [7][250/655]\tlr: 2.000e-02, eta: 0:18:58, time: 0.306, data_time: 0.006, memory: 2098, loss_rpn_cls: 0.0651, loss_rpn_bbox: 0.0530, loss_cls: 0.3485, acc: 89.5342, loss_bbox: 0.3292, loss: 0.7958, grad_norm: 2.2336\n",
      "2021-05-10 01:46:11,560 - mmdet - INFO - Epoch [7][300/655]\tlr: 2.000e-02, eta: 0:18:42, time: 0.309, data_time: 0.006, memory: 2098, loss_rpn_cls: 0.0719, loss_rpn_bbox: 0.0604, loss_cls: 0.4033, acc: 88.3662, loss_bbox: 0.3370, loss: 0.8726, grad_norm: 2.3606\n",
      "2021-05-10 01:46:27,079 - mmdet - INFO - Epoch [7][350/655]\tlr: 2.000e-02, eta: 0:18:27, time: 0.310, data_time: 0.006, memory: 2098, loss_rpn_cls: 0.0551, loss_rpn_bbox: 0.0508, loss_cls: 0.3454, acc: 89.5449, loss_bbox: 0.3307, loss: 0.7820, grad_norm: 2.2164\n",
      "2021-05-10 01:46:43,420 - mmdet - INFO - Epoch [7][400/655]\tlr: 2.000e-02, eta: 0:18:12, time: 0.327, data_time: 0.006, memory: 2098, loss_rpn_cls: 0.0553, loss_rpn_bbox: 0.0509, loss_cls: 0.3213, acc: 90.1797, loss_bbox: 0.3051, loss: 0.7326, grad_norm: 2.2188\n",
      "2021-05-10 01:46:59,403 - mmdet - INFO - Epoch [7][450/655]\tlr: 2.000e-02, eta: 0:17:57, time: 0.320, data_time: 0.006, memory: 2098, loss_rpn_cls: 0.0598, loss_rpn_bbox: 0.0543, loss_cls: 0.3219, acc: 90.6084, loss_bbox: 0.2864, loss: 0.7225, grad_norm: 2.1199\n",
      "2021-05-10 01:47:15,679 - mmdet - INFO - Epoch [7][500/655]\tlr: 2.000e-02, eta: 0:17:42, time: 0.326, data_time: 0.007, memory: 2098, loss_rpn_cls: 0.0524, loss_rpn_bbox: 0.0487, loss_cls: 0.2956, acc: 91.1230, loss_bbox: 0.2738, loss: 0.6706, grad_norm: 1.9642\n",
      "2021-05-10 01:47:32,103 - mmdet - INFO - Epoch [7][550/655]\tlr: 2.000e-02, eta: 0:17:28, time: 0.328, data_time: 0.007, memory: 2098, loss_rpn_cls: 0.0624, loss_rpn_bbox: 0.0575, loss_cls: 0.3475, acc: 89.6182, loss_bbox: 0.3327, loss: 0.8001, grad_norm: 2.2260\n",
      "2021-05-10 01:47:48,480 - mmdet - INFO - Epoch [7][600/655]\tlr: 2.000e-02, eta: 0:17:13, time: 0.328, data_time: 0.007, memory: 2098, loss_rpn_cls: 0.0683, loss_rpn_bbox: 0.0590, loss_cls: 0.3541, acc: 89.5439, loss_bbox: 0.3287, loss: 0.8101, grad_norm: 2.2615\n",
      "2021-05-10 01:48:04,863 - mmdet - INFO - Epoch [7][650/655]\tlr: 2.000e-02, eta: 0:16:58, time: 0.328, data_time: 0.007, memory: 2098, loss_rpn_cls: 0.0638, loss_rpn_bbox: 0.0593, loss_cls: 0.3468, acc: 89.3877, loss_bbox: 0.3274, loss: 0.7973, grad_norm: 2.2356\n",
      "2021-05-10 01:48:06,544 - mmdet - INFO - Saving checkpoint at 7 epochs\n"
     ]
    },
    {
     "name": "stdout",
     "output_type": "stream",
     "text": [
      "[>>>>>>>>>>>>>>>>>>>>>>>>>>>>>] 655/655, 21.7 task/s, elapsed: 30s, ETA:     0s"
     ]
    },
    {
     "name": "stderr",
     "output_type": "stream",
     "text": [
      "2021-05-10 01:48:38,331 - mmdet - INFO - Evaluating bbox...\n"
     ]
    },
    {
     "name": "stdout",
     "output_type": "stream",
     "text": [
      "Loading and preparing results...\n",
      "DONE (t=1.07s)\n",
      "creating index...\n",
      "index created!\n",
      "Running per image evaluation...\n",
      "Evaluate annotation type *bbox*\n",
      "DONE (t=7.35s).\n",
      "Accumulating evaluation results...\n"
     ]
    },
    {
     "name": "stderr",
     "output_type": "stream",
     "text": [
      "2021-05-10 01:48:47,992 - mmdet - INFO - Epoch(val) [7][655]\tbbox_mAP: 0.1090, bbox_mAP_50: 0.2030, bbox_mAP_75: 0.1050, bbox_mAP_s: 0.0230, bbox_mAP_m: 0.1010, bbox_mAP_l: 0.2070, bbox_mAP_copypaste: 0.109 0.203 0.105 0.023 0.101 0.207\n"
     ]
    },
    {
     "name": "stdout",
     "output_type": "stream",
     "text": [
      "DONE (t=1.14s).\n",
      "Average Precision  (AP) @[ IoU=0.50:0.95 | area=   all | maxDets=100 ] = 0.109\n",
      "Average Precision  (AP) @[ IoU=0.50      | area=   all | maxDets=1000 ] = 0.203\n",
      "Average Precision  (AP) @[ IoU=0.75      | area=   all | maxDets=1000 ] = 0.105\n",
      "Average Precision  (AP) @[ IoU=0.50:0.95 | area= small | maxDets=1000 ] = 0.023\n",
      "Average Precision  (AP) @[ IoU=0.50:0.95 | area=medium | maxDets=1000 ] = 0.101\n",
      "Average Precision  (AP) @[ IoU=0.50:0.95 | area= large | maxDets=1000 ] = 0.207\n",
      "Average Recall     (AR) @[ IoU=0.50:0.95 | area=   all | maxDets=100 ] = 0.233\n",
      "Average Recall     (AR) @[ IoU=0.50:0.95 | area=   all | maxDets=300 ] = 0.233\n",
      "Average Recall     (AR) @[ IoU=0.50:0.95 | area=   all | maxDets=1000 ] = 0.233\n",
      "Average Recall     (AR) @[ IoU=0.50:0.95 | area= small | maxDets=1000 ] = 0.072\n",
      "Average Recall     (AR) @[ IoU=0.50:0.95 | area=medium | maxDets=1000 ] = 0.229\n",
      "Average Recall     (AR) @[ IoU=0.50:0.95 | area= large | maxDets=1000 ] = 0.407\n"
     ]
    },
    {
     "name": "stderr",
     "output_type": "stream",
     "text": [
      "2021-05-10 01:49:05,761 - mmdet - INFO - Epoch [8][50/655]\tlr: 2.000e-02, eta: 0:16:41, time: 0.355, data_time: 0.051, memory: 2098, loss_rpn_cls: 0.0600, loss_rpn_bbox: 0.0555, loss_cls: 0.3586, acc: 89.1934, loss_bbox: 0.3285, loss: 0.8027, grad_norm: 2.3404\n",
      "2021-05-10 01:49:21,177 - mmdet - INFO - Epoch [8][100/655]\tlr: 2.000e-02, eta: 0:16:26, time: 0.308, data_time: 0.007, memory: 2098, loss_rpn_cls: 0.0480, loss_rpn_bbox: 0.0457, loss_cls: 0.2795, acc: 91.5137, loss_bbox: 0.2592, loss: 0.6324, grad_norm: 1.9475\n",
      "2021-05-10 01:49:36,582 - mmdet - INFO - Epoch [8][150/655]\tlr: 2.000e-02, eta: 0:16:10, time: 0.308, data_time: 0.007, memory: 2098, loss_rpn_cls: 0.0502, loss_rpn_bbox: 0.0479, loss_cls: 0.3198, acc: 90.2520, loss_bbox: 0.3010, loss: 0.7189, grad_norm: 2.2051\n",
      "2021-05-10 01:49:51,944 - mmdet - INFO - Epoch [8][200/655]\tlr: 2.000e-02, eta: 0:15:54, time: 0.307, data_time: 0.006, memory: 2098, loss_rpn_cls: 0.0502, loss_rpn_bbox: 0.0480, loss_cls: 0.3246, acc: 90.5742, loss_bbox: 0.2927, loss: 0.7155, grad_norm: 2.1377\n",
      "2021-05-10 01:50:07,165 - mmdet - INFO - Epoch [8][250/655]\tlr: 2.000e-02, eta: 0:15:39, time: 0.304, data_time: 0.006, memory: 2098, loss_rpn_cls: 0.0533, loss_rpn_bbox: 0.0521, loss_cls: 0.3171, acc: 90.5078, loss_bbox: 0.2953, loss: 0.7178, grad_norm: 2.1977\n",
      "2021-05-10 01:50:22,527 - mmdet - INFO - Epoch [8][300/655]\tlr: 2.000e-02, eta: 0:15:23, time: 0.307, data_time: 0.006, memory: 2098, loss_rpn_cls: 0.0580, loss_rpn_bbox: 0.0602, loss_cls: 0.3375, acc: 89.5703, loss_bbox: 0.3326, loss: 0.7883, grad_norm: 2.1958\n",
      "2021-05-10 01:50:37,852 - mmdet - INFO - Epoch [8][350/655]\tlr: 2.000e-02, eta: 0:15:07, time: 0.307, data_time: 0.006, memory: 2098, loss_rpn_cls: 0.0488, loss_rpn_bbox: 0.0520, loss_cls: 0.3083, acc: 90.5430, loss_bbox: 0.2890, loss: 0.6981, grad_norm: 2.1943\n",
      "2021-05-10 01:50:53,460 - mmdet - INFO - Epoch [8][400/655]\tlr: 2.000e-02, eta: 0:14:52, time: 0.312, data_time: 0.006, memory: 2098, loss_rpn_cls: 0.0506, loss_rpn_bbox: 0.0518, loss_cls: 0.3503, acc: 89.6113, loss_bbox: 0.3122, loss: 0.7650, grad_norm: 2.2379\n",
      "2021-05-10 01:51:09,035 - mmdet - INFO - Epoch [8][450/655]\tlr: 2.000e-02, eta: 0:14:36, time: 0.311, data_time: 0.006, memory: 2098, loss_rpn_cls: 0.0564, loss_rpn_bbox: 0.0611, loss_cls: 0.3655, acc: 88.8408, loss_bbox: 0.3532, loss: 0.8362, grad_norm: 2.2784\n",
      "2021-05-10 01:51:24,533 - mmdet - INFO - Epoch [8][500/655]\tlr: 2.000e-02, eta: 0:14:21, time: 0.310, data_time: 0.006, memory: 2098, loss_rpn_cls: 0.0584, loss_rpn_bbox: 0.0504, loss_cls: 0.3246, acc: 90.3984, loss_bbox: 0.2984, loss: 0.7318, grad_norm: 2.3057\n",
      "2021-05-10 01:51:40,023 - mmdet - INFO - Epoch [8][550/655]\tlr: 2.000e-02, eta: 0:14:05, time: 0.310, data_time: 0.006, memory: 2098, loss_rpn_cls: 0.0606, loss_rpn_bbox: 0.0590, loss_cls: 0.3414, acc: 89.9258, loss_bbox: 0.3107, loss: 0.7717, grad_norm: 2.3167\n",
      "2021-05-10 01:51:55,347 - mmdet - INFO - Epoch [8][600/655]\tlr: 2.000e-02, eta: 0:13:50, time: 0.306, data_time: 0.006, memory: 2098, loss_rpn_cls: 0.0628, loss_rpn_bbox: 0.0562, loss_cls: 0.3315, acc: 90.0234, loss_bbox: 0.2996, loss: 0.7501, grad_norm: 2.2191\n",
      "2021-05-10 01:52:10,926 - mmdet - INFO - Epoch [8][650/655]\tlr: 2.000e-02, eta: 0:13:34, time: 0.312, data_time: 0.006, memory: 2098, loss_rpn_cls: 0.0630, loss_rpn_bbox: 0.0639, loss_cls: 0.3610, acc: 89.1260, loss_bbox: 0.3491, loss: 0.8371, grad_norm: 2.3667\n",
      "2021-05-10 01:52:12,549 - mmdet - INFO - Saving checkpoint at 8 epochs\n"
     ]
    },
    {
     "name": "stdout",
     "output_type": "stream",
     "text": [
      "[>>>>>>>>>>>>>>>>>>>>>>>>>>>>>] 655/655, 22.5 task/s, elapsed: 29s, ETA:     0s"
     ]
    },
    {
     "name": "stderr",
     "output_type": "stream",
     "text": [
      "2021-05-10 01:52:43,458 - mmdet - INFO - Evaluating bbox...\n"
     ]
    },
    {
     "name": "stdout",
     "output_type": "stream",
     "text": [
      "Loading and preparing results...\n",
      "DONE (t=0.59s)\n",
      "creating index...\n",
      "index created!\n",
      "Running per image evaluation...\n",
      "Evaluate annotation type *bbox*\n",
      "DONE (t=6.20s).\n",
      "Accumulating evaluation results...\n"
     ]
    },
    {
     "name": "stderr",
     "output_type": "stream",
     "text": [
      "2021-05-10 01:52:51,261 - mmdet - INFO - Epoch(val) [8][655]\tbbox_mAP: 0.1060, bbox_mAP_50: 0.1980, bbox_mAP_75: 0.1030, bbox_mAP_s: 0.0250, bbox_mAP_m: 0.0980, bbox_mAP_l: 0.2440, bbox_mAP_copypaste: 0.106 0.198 0.103 0.025 0.098 0.244\n"
     ]
    },
    {
     "name": "stdout",
     "output_type": "stream",
     "text": [
      "DONE (t=0.92s).\n",
      "Average Precision  (AP) @[ IoU=0.50:0.95 | area=   all | maxDets=100 ] = 0.106\n",
      "Average Precision  (AP) @[ IoU=0.50      | area=   all | maxDets=1000 ] = 0.198\n",
      "Average Precision  (AP) @[ IoU=0.75      | area=   all | maxDets=1000 ] = 0.103\n",
      "Average Precision  (AP) @[ IoU=0.50:0.95 | area= small | maxDets=1000 ] = 0.025\n",
      "Average Precision  (AP) @[ IoU=0.50:0.95 | area=medium | maxDets=1000 ] = 0.098\n",
      "Average Precision  (AP) @[ IoU=0.50:0.95 | area= large | maxDets=1000 ] = 0.244\n",
      "Average Recall     (AR) @[ IoU=0.50:0.95 | area=   all | maxDets=100 ] = 0.220\n",
      "Average Recall     (AR) @[ IoU=0.50:0.95 | area=   all | maxDets=300 ] = 0.220\n",
      "Average Recall     (AR) @[ IoU=0.50:0.95 | area=   all | maxDets=1000 ] = 0.220\n",
      "Average Recall     (AR) @[ IoU=0.50:0.95 | area= small | maxDets=1000 ] = 0.074\n",
      "Average Recall     (AR) @[ IoU=0.50:0.95 | area=medium | maxDets=1000 ] = 0.196\n",
      "Average Recall     (AR) @[ IoU=0.50:0.95 | area= large | maxDets=1000 ] = 0.440\n"
     ]
    },
    {
     "name": "stderr",
     "output_type": "stream",
     "text": [
      "2021-05-10 01:53:08,712 - mmdet - INFO - Epoch [9][50/655]\tlr: 2.000e-03, eta: 0:13:17, time: 0.349, data_time: 0.050, memory: 2098, loss_rpn_cls: 0.0435, loss_rpn_bbox: 0.0497, loss_cls: 0.2877, acc: 90.9150, loss_bbox: 0.2892, loss: 0.6701, grad_norm: 1.9386\n",
      "2021-05-10 01:53:23,973 - mmdet - INFO - Epoch [9][100/655]\tlr: 2.000e-03, eta: 0:13:02, time: 0.305, data_time: 0.006, memory: 2098, loss_rpn_cls: 0.0439, loss_rpn_bbox: 0.0497, loss_cls: 0.2960, acc: 90.7012, loss_bbox: 0.3019, loss: 0.6915, grad_norm: 2.0125\n",
      "2021-05-10 01:53:39,277 - mmdet - INFO - Epoch [9][150/655]\tlr: 2.000e-03, eta: 0:12:46, time: 0.306, data_time: 0.006, memory: 2098, loss_rpn_cls: 0.0416, loss_rpn_bbox: 0.0474, loss_cls: 0.2917, acc: 90.8613, loss_bbox: 0.2923, loss: 0.6730, grad_norm: 1.9910\n",
      "2021-05-10 01:53:54,518 - mmdet - INFO - Epoch [9][200/655]\tlr: 2.000e-03, eta: 0:12:30, time: 0.305, data_time: 0.006, memory: 2098, loss_rpn_cls: 0.0430, loss_rpn_bbox: 0.0538, loss_cls: 0.3236, acc: 90.0918, loss_bbox: 0.3096, loss: 0.7300, grad_norm: 2.0659\n",
      "2021-05-10 01:54:09,695 - mmdet - INFO - Epoch [9][250/655]\tlr: 2.000e-03, eta: 0:12:15, time: 0.304, data_time: 0.006, memory: 2098, loss_rpn_cls: 0.0325, loss_rpn_bbox: 0.0420, loss_cls: 0.2713, acc: 91.6006, loss_bbox: 0.2656, loss: 0.6113, grad_norm: 1.8792\n",
      "2021-05-10 01:54:24,929 - mmdet - INFO - Epoch [9][300/655]\tlr: 2.000e-03, eta: 0:11:59, time: 0.305, data_time: 0.006, memory: 2098, loss_rpn_cls: 0.0395, loss_rpn_bbox: 0.0510, loss_cls: 0.2957, acc: 90.7041, loss_bbox: 0.2912, loss: 0.6774, grad_norm: 1.9765\n",
      "2021-05-10 01:54:40,174 - mmdet - INFO - Epoch [9][350/655]\tlr: 2.000e-03, eta: 0:11:44, time: 0.305, data_time: 0.006, memory: 2098, loss_rpn_cls: 0.0322, loss_rpn_bbox: 0.0425, loss_cls: 0.2747, acc: 91.5791, loss_bbox: 0.2710, loss: 0.6205, grad_norm: 1.9591\n",
      "2021-05-10 01:54:55,395 - mmdet - INFO - Epoch [9][400/655]\tlr: 2.000e-03, eta: 0:11:28, time: 0.304, data_time: 0.006, memory: 2098, loss_rpn_cls: 0.0365, loss_rpn_bbox: 0.0434, loss_cls: 0.2677, acc: 91.7236, loss_bbox: 0.2607, loss: 0.6083, grad_norm: 1.9966\n",
      "2021-05-10 01:55:10,713 - mmdet - INFO - Epoch [9][450/655]\tlr: 2.000e-03, eta: 0:11:12, time: 0.306, data_time: 0.006, memory: 2098, loss_rpn_cls: 0.0316, loss_rpn_bbox: 0.0420, loss_cls: 0.2624, acc: 91.6807, loss_bbox: 0.2595, loss: 0.5955, grad_norm: 2.0062\n",
      "2021-05-10 01:55:25,958 - mmdet - INFO - Epoch [9][500/655]\tlr: 2.000e-03, eta: 0:10:57, time: 0.305, data_time: 0.006, memory: 2098, loss_rpn_cls: 0.0361, loss_rpn_bbox: 0.0455, loss_cls: 0.2823, acc: 91.3662, loss_bbox: 0.2842, loss: 0.6481, grad_norm: 2.0130\n",
      "2021-05-10 01:55:41,303 - mmdet - INFO - Epoch [9][550/655]\tlr: 2.000e-03, eta: 0:10:41, time: 0.307, data_time: 0.006, memory: 2098, loss_rpn_cls: 0.0296, loss_rpn_bbox: 0.0433, loss_cls: 0.2539, acc: 91.9717, loss_bbox: 0.2630, loss: 0.5897, grad_norm: 1.9215\n",
      "2021-05-10 01:55:56,763 - mmdet - INFO - Epoch [9][600/655]\tlr: 2.000e-03, eta: 0:10:26, time: 0.309, data_time: 0.006, memory: 2098, loss_rpn_cls: 0.0305, loss_rpn_bbox: 0.0395, loss_cls: 0.2712, acc: 91.4043, loss_bbox: 0.2826, loss: 0.6238, grad_norm: 2.0905\n",
      "2021-05-10 01:56:12,143 - mmdet - INFO - Epoch [9][650/655]\tlr: 2.000e-03, eta: 0:10:10, time: 0.308, data_time: 0.006, memory: 2098, loss_rpn_cls: 0.0400, loss_rpn_bbox: 0.0478, loss_cls: 0.2774, acc: 91.1543, loss_bbox: 0.2865, loss: 0.6516, grad_norm: 2.1050\n",
      "2021-05-10 01:56:13,751 - mmdet - INFO - Saving checkpoint at 9 epochs\n"
     ]
    },
    {
     "name": "stdout",
     "output_type": "stream",
     "text": [
      "[>>>>>>>>>>>>>>>>>>>>>>>>>>>>>] 655/655, 22.6 task/s, elapsed: 29s, ETA:     0s"
     ]
    },
    {
     "name": "stderr",
     "output_type": "stream",
     "text": [
      "2021-05-10 01:56:43,992 - mmdet - INFO - Evaluating bbox...\n"
     ]
    },
    {
     "name": "stdout",
     "output_type": "stream",
     "text": [
      "Loading and preparing results...\n",
      "DONE (t=0.59s)\n",
      "creating index...\n",
      "index created!\n",
      "Running per image evaluation...\n",
      "Evaluate annotation type *bbox*\n",
      "DONE (t=5.73s).\n",
      "Accumulating evaluation results...\n"
     ]
    },
    {
     "name": "stderr",
     "output_type": "stream",
     "text": [
      "2021-05-10 01:56:51,289 - mmdet - INFO - Epoch(val) [9][655]\tbbox_mAP: 0.1480, bbox_mAP_50: 0.2610, bbox_mAP_75: 0.1470, bbox_mAP_s: 0.0390, bbox_mAP_m: 0.1350, bbox_mAP_l: 0.2920, bbox_mAP_copypaste: 0.148 0.261 0.147 0.039 0.135 0.292\n"
     ]
    },
    {
     "name": "stdout",
     "output_type": "stream",
     "text": [
      "DONE (t=0.89s).\n",
      "Average Precision  (AP) @[ IoU=0.50:0.95 | area=   all | maxDets=100 ] = 0.148\n",
      "Average Precision  (AP) @[ IoU=0.50      | area=   all | maxDets=1000 ] = 0.261\n",
      "Average Precision  (AP) @[ IoU=0.75      | area=   all | maxDets=1000 ] = 0.147\n",
      "Average Precision  (AP) @[ IoU=0.50:0.95 | area= small | maxDets=1000 ] = 0.039\n",
      "Average Precision  (AP) @[ IoU=0.50:0.95 | area=medium | maxDets=1000 ] = 0.135\n",
      "Average Precision  (AP) @[ IoU=0.50:0.95 | area= large | maxDets=1000 ] = 0.292\n",
      "Average Recall     (AR) @[ IoU=0.50:0.95 | area=   all | maxDets=100 ] = 0.296\n",
      "Average Recall     (AR) @[ IoU=0.50:0.95 | area=   all | maxDets=300 ] = 0.296\n",
      "Average Recall     (AR) @[ IoU=0.50:0.95 | area=   all | maxDets=1000 ] = 0.296\n",
      "Average Recall     (AR) @[ IoU=0.50:0.95 | area= small | maxDets=1000 ] = 0.102\n",
      "Average Recall     (AR) @[ IoU=0.50:0.95 | area=medium | maxDets=1000 ] = 0.282\n",
      "Average Recall     (AR) @[ IoU=0.50:0.95 | area= large | maxDets=1000 ] = 0.513\n"
     ]
    },
    {
     "name": "stderr",
     "output_type": "stream",
     "text": [
      "2021-05-10 01:57:08,776 - mmdet - INFO - Epoch [10][50/655]\tlr: 2.000e-03, eta: 0:09:53, time: 0.350, data_time: 0.050, memory: 2098, loss_rpn_cls: 0.0332, loss_rpn_bbox: 0.0476, loss_cls: 0.2739, acc: 91.3398, loss_bbox: 0.2816, loss: 0.6363, grad_norm: 1.9066\n",
      "2021-05-10 01:57:24,122 - mmdet - INFO - Epoch [10][100/655]\tlr: 2.000e-03, eta: 0:09:38, time: 0.307, data_time: 0.006, memory: 2098, loss_rpn_cls: 0.0396, loss_rpn_bbox: 0.0537, loss_cls: 0.2886, acc: 90.8047, loss_bbox: 0.3082, loss: 0.6902, grad_norm: 2.0695\n",
      "2021-05-10 01:57:39,413 - mmdet - INFO - Epoch [10][150/655]\tlr: 2.000e-03, eta: 0:09:22, time: 0.306, data_time: 0.006, memory: 2098, loss_rpn_cls: 0.0332, loss_rpn_bbox: 0.0408, loss_cls: 0.2574, acc: 92.0098, loss_bbox: 0.2545, loss: 0.5860, grad_norm: 1.9592\n",
      "2021-05-10 01:57:54,756 - mmdet - INFO - Epoch [10][200/655]\tlr: 2.000e-03, eta: 0:09:07, time: 0.307, data_time: 0.006, memory: 2098, loss_rpn_cls: 0.0276, loss_rpn_bbox: 0.0452, loss_cls: 0.2585, acc: 91.7676, loss_bbox: 0.2603, loss: 0.5916, grad_norm: 2.0106\n",
      "2021-05-10 01:58:10,138 - mmdet - INFO - Epoch [10][250/655]\tlr: 2.000e-03, eta: 0:08:51, time: 0.308, data_time: 0.006, memory: 2098, loss_rpn_cls: 0.0271, loss_rpn_bbox: 0.0416, loss_cls: 0.2542, acc: 91.8857, loss_bbox: 0.2683, loss: 0.5912, grad_norm: 1.9590\n",
      "2021-05-10 01:58:25,551 - mmdet - INFO - Epoch [10][300/655]\tlr: 2.000e-03, eta: 0:08:36, time: 0.308, data_time: 0.006, memory: 2098, loss_rpn_cls: 0.0308, loss_rpn_bbox: 0.0427, loss_cls: 0.2626, acc: 91.7305, loss_bbox: 0.2756, loss: 0.6116, grad_norm: 2.0239\n",
      "2021-05-10 01:58:40,871 - mmdet - INFO - Epoch [10][350/655]\tlr: 2.000e-03, eta: 0:08:20, time: 0.306, data_time: 0.006, memory: 2098, loss_rpn_cls: 0.0363, loss_rpn_bbox: 0.0451, loss_cls: 0.2605, acc: 91.7441, loss_bbox: 0.2699, loss: 0.6118, grad_norm: 2.0400\n",
      "2021-05-10 01:58:56,341 - mmdet - INFO - Epoch [10][400/655]\tlr: 2.000e-03, eta: 0:08:04, time: 0.309, data_time: 0.006, memory: 2098, loss_rpn_cls: 0.0273, loss_rpn_bbox: 0.0371, loss_cls: 0.2503, acc: 91.9277, loss_bbox: 0.2676, loss: 0.5823, grad_norm: 2.0757\n",
      "2021-05-10 01:59:11,713 - mmdet - INFO - Epoch [10][450/655]\tlr: 2.000e-03, eta: 0:07:49, time: 0.307, data_time: 0.006, memory: 2098, loss_rpn_cls: 0.0305, loss_rpn_bbox: 0.0405, loss_cls: 0.2539, acc: 91.9463, loss_bbox: 0.2611, loss: 0.5860, grad_norm: 2.0713\n",
      "2021-05-10 01:59:27,029 - mmdet - INFO - Epoch [10][500/655]\tlr: 2.000e-03, eta: 0:07:33, time: 0.306, data_time: 0.006, memory: 2098, loss_rpn_cls: 0.0277, loss_rpn_bbox: 0.0360, loss_cls: 0.2364, acc: 92.3721, loss_bbox: 0.2423, loss: 0.5424, grad_norm: 2.0881\n",
      "2021-05-10 01:59:42,425 - mmdet - INFO - Epoch [10][550/655]\tlr: 2.000e-03, eta: 0:07:18, time: 0.308, data_time: 0.006, memory: 2098, loss_rpn_cls: 0.0284, loss_rpn_bbox: 0.0422, loss_cls: 0.2583, acc: 91.7793, loss_bbox: 0.2616, loss: 0.5904, grad_norm: 2.0533\n",
      "2021-05-10 01:59:57,781 - mmdet - INFO - Epoch [10][600/655]\tlr: 2.000e-03, eta: 0:07:02, time: 0.307, data_time: 0.006, memory: 2098, loss_rpn_cls: 0.0301, loss_rpn_bbox: 0.0448, loss_cls: 0.2722, acc: 91.4121, loss_bbox: 0.2687, loss: 0.6159, grad_norm: 2.0020\n",
      "2021-05-10 02:00:13,153 - mmdet - INFO - Epoch [10][650/655]\tlr: 2.000e-03, eta: 0:06:47, time: 0.307, data_time: 0.006, memory: 2098, loss_rpn_cls: 0.0344, loss_rpn_bbox: 0.0460, loss_cls: 0.2720, acc: 91.3809, loss_bbox: 0.2829, loss: 0.6353, grad_norm: 2.0734\n",
      "2021-05-10 02:00:14,734 - mmdet - INFO - Saving checkpoint at 10 epochs\n"
     ]
    },
    {
     "name": "stdout",
     "output_type": "stream",
     "text": [
      "[>>>>>>>>>>>>>>>>>>>>>>>>>>>>>] 655/655, 23.0 task/s, elapsed: 28s, ETA:     0s"
     ]
    },
    {
     "name": "stderr",
     "output_type": "stream",
     "text": [
      "2021-05-10 02:00:44,869 - mmdet - INFO - Evaluating bbox...\n"
     ]
    },
    {
     "name": "stdout",
     "output_type": "stream",
     "text": [
      "Loading and preparing results...\n",
      "DONE (t=0.61s)\n",
      "creating index...\n",
      "index created!\n",
      "Running per image evaluation...\n",
      "Evaluate annotation type *bbox*\n",
      "DONE (t=5.27s).\n",
      "Accumulating evaluation results...\n"
     ]
    },
    {
     "name": "stderr",
     "output_type": "stream",
     "text": [
      "2021-05-10 02:00:51,633 - mmdet - INFO - Epoch(val) [10][655]\tbbox_mAP: 0.1480, bbox_mAP_50: 0.2590, bbox_mAP_75: 0.1450, bbox_mAP_s: 0.0360, bbox_mAP_m: 0.1340, bbox_mAP_l: 0.2810, bbox_mAP_copypaste: 0.148 0.259 0.145 0.036 0.134 0.281\n"
     ]
    },
    {
     "name": "stdout",
     "output_type": "stream",
     "text": [
      "DONE (t=0.80s).\n",
      "Average Precision  (AP) @[ IoU=0.50:0.95 | area=   all | maxDets=100 ] = 0.148\n",
      "Average Precision  (AP) @[ IoU=0.50      | area=   all | maxDets=1000 ] = 0.259\n",
      "Average Precision  (AP) @[ IoU=0.75      | area=   all | maxDets=1000 ] = 0.145\n",
      "Average Precision  (AP) @[ IoU=0.50:0.95 | area= small | maxDets=1000 ] = 0.036\n",
      "Average Precision  (AP) @[ IoU=0.50:0.95 | area=medium | maxDets=1000 ] = 0.134\n",
      "Average Precision  (AP) @[ IoU=0.50:0.95 | area= large | maxDets=1000 ] = 0.281\n",
      "Average Recall     (AR) @[ IoU=0.50:0.95 | area=   all | maxDets=100 ] = 0.307\n",
      "Average Recall     (AR) @[ IoU=0.50:0.95 | area=   all | maxDets=300 ] = 0.307\n",
      "Average Recall     (AR) @[ IoU=0.50:0.95 | area=   all | maxDets=1000 ] = 0.307\n",
      "Average Recall     (AR) @[ IoU=0.50:0.95 | area= small | maxDets=1000 ] = 0.097\n",
      "Average Recall     (AR) @[ IoU=0.50:0.95 | area=medium | maxDets=1000 ] = 0.283\n",
      "Average Recall     (AR) @[ IoU=0.50:0.95 | area= large | maxDets=1000 ] = 0.523\n"
     ]
    },
    {
     "name": "stderr",
     "output_type": "stream",
     "text": [
      "2021-05-10 02:01:09,172 - mmdet - INFO - Epoch [11][50/655]\tlr: 2.000e-03, eta: 0:06:30, time: 0.351, data_time: 0.051, memory: 2098, loss_rpn_cls: 0.0216, loss_rpn_bbox: 0.0378, loss_cls: 0.2470, acc: 92.1611, loss_bbox: 0.2559, loss: 0.5623, grad_norm: 1.9824\n",
      "2021-05-10 02:01:24,465 - mmdet - INFO - Epoch [11][100/655]\tlr: 2.000e-03, eta: 0:06:14, time: 0.306, data_time: 0.006, memory: 2098, loss_rpn_cls: 0.0299, loss_rpn_bbox: 0.0445, loss_cls: 0.2676, acc: 91.5674, loss_bbox: 0.2681, loss: 0.6101, grad_norm: 2.0229\n",
      "2021-05-10 02:01:39,867 - mmdet - INFO - Epoch [11][150/655]\tlr: 2.000e-03, eta: 0:05:59, time: 0.308, data_time: 0.006, memory: 2098, loss_rpn_cls: 0.0266, loss_rpn_bbox: 0.0402, loss_cls: 0.2464, acc: 92.0859, loss_bbox: 0.2599, loss: 0.5732, grad_norm: 1.9852\n",
      "2021-05-10 02:01:55,107 - mmdet - INFO - Epoch [11][200/655]\tlr: 2.000e-03, eta: 0:05:43, time: 0.305, data_time: 0.006, memory: 2098, loss_rpn_cls: 0.0269, loss_rpn_bbox: 0.0336, loss_cls: 0.2232, acc: 92.7773, loss_bbox: 0.2370, loss: 0.5207, grad_norm: 2.0534\n",
      "2021-05-10 02:02:10,293 - mmdet - INFO - Epoch [11][250/655]\tlr: 2.000e-03, eta: 0:05:28, time: 0.304, data_time: 0.006, memory: 2098, loss_rpn_cls: 0.0287, loss_rpn_bbox: 0.0420, loss_cls: 0.2314, acc: 92.7031, loss_bbox: 0.2434, loss: 0.5455, grad_norm: 2.0101\n",
      "2021-05-10 02:02:25,423 - mmdet - INFO - Epoch [11][300/655]\tlr: 2.000e-03, eta: 0:05:12, time: 0.303, data_time: 0.006, memory: 2098, loss_rpn_cls: 0.0260, loss_rpn_bbox: 0.0410, loss_cls: 0.2429, acc: 92.0352, loss_bbox: 0.2584, loss: 0.5683, grad_norm: 2.0552\n",
      "2021-05-10 02:02:40,509 - mmdet - INFO - Epoch [11][350/655]\tlr: 2.000e-03, eta: 0:04:57, time: 0.302, data_time: 0.006, memory: 2098, loss_rpn_cls: 0.0227, loss_rpn_bbox: 0.0358, loss_cls: 0.2208, acc: 92.9033, loss_bbox: 0.2419, loss: 0.5212, grad_norm: 2.0190\n",
      "2021-05-10 02:02:55,705 - mmdet - INFO - Epoch [11][400/655]\tlr: 2.000e-03, eta: 0:04:41, time: 0.304, data_time: 0.006, memory: 2098, loss_rpn_cls: 0.0288, loss_rpn_bbox: 0.0467, loss_cls: 0.2611, acc: 91.5928, loss_bbox: 0.2763, loss: 0.6129, grad_norm: 2.1688\n",
      "2021-05-10 02:03:10,941 - mmdet - INFO - Epoch [11][450/655]\tlr: 2.000e-03, eta: 0:04:26, time: 0.305, data_time: 0.006, memory: 2098, loss_rpn_cls: 0.0297, loss_rpn_bbox: 0.0474, loss_cls: 0.2624, acc: 91.5918, loss_bbox: 0.2732, loss: 0.6127, grad_norm: 2.1165\n",
      "2021-05-10 02:03:26,172 - mmdet - INFO - Epoch [11][500/655]\tlr: 2.000e-03, eta: 0:04:10, time: 0.305, data_time: 0.006, memory: 2098, loss_rpn_cls: 0.0268, loss_rpn_bbox: 0.0431, loss_cls: 0.2566, acc: 91.5967, loss_bbox: 0.2763, loss: 0.6028, grad_norm: 2.1608\n",
      "2021-05-10 02:03:41,484 - mmdet - INFO - Epoch [11][550/655]\tlr: 2.000e-03, eta: 0:03:55, time: 0.306, data_time: 0.006, memory: 2098, loss_rpn_cls: 0.0292, loss_rpn_bbox: 0.0479, loss_cls: 0.2789, acc: 90.9902, loss_bbox: 0.3006, loss: 0.6565, grad_norm: 2.2083\n",
      "2021-05-10 02:03:56,864 - mmdet - INFO - Epoch [11][600/655]\tlr: 2.000e-03, eta: 0:03:39, time: 0.308, data_time: 0.006, memory: 2098, loss_rpn_cls: 0.0279, loss_rpn_bbox: 0.0414, loss_cls: 0.2407, acc: 92.3457, loss_bbox: 0.2440, loss: 0.5541, grad_norm: 1.9945\n",
      "2021-05-10 02:04:12,353 - mmdet - INFO - Epoch [11][650/655]\tlr: 2.000e-03, eta: 0:03:24, time: 0.310, data_time: 0.006, memory: 2098, loss_rpn_cls: 0.0366, loss_rpn_bbox: 0.0496, loss_cls: 0.2669, acc: 91.4941, loss_bbox: 0.2837, loss: 0.6368, grad_norm: 2.2222\n",
      "2021-05-10 02:04:13,996 - mmdet - INFO - Saving checkpoint at 11 epochs\n"
     ]
    },
    {
     "name": "stdout",
     "output_type": "stream",
     "text": [
      "[>>>>>>>>>>>>>>>>>>>>>>>>>>>>>] 655/655, 22.4 task/s, elapsed: 29s, ETA:     0s"
     ]
    },
    {
     "name": "stderr",
     "output_type": "stream",
     "text": [
      "2021-05-10 02:04:44,942 - mmdet - INFO - Evaluating bbox...\n"
     ]
    },
    {
     "name": "stdout",
     "output_type": "stream",
     "text": [
      "Loading and preparing results...\n",
      "DONE (t=0.55s)\n",
      "creating index...\n",
      "index created!\n",
      "Running per image evaluation...\n",
      "Evaluate annotation type *bbox*\n",
      "DONE (t=5.97s).\n",
      "Accumulating evaluation results...\n"
     ]
    },
    {
     "name": "stderr",
     "output_type": "stream",
     "text": [
      "2021-05-10 02:04:52,371 - mmdet - INFO - Epoch(val) [11][655]\tbbox_mAP: 0.1510, bbox_mAP_50: 0.2700, bbox_mAP_75: 0.1460, bbox_mAP_s: 0.0350, bbox_mAP_m: 0.1370, bbox_mAP_l: 0.2890, bbox_mAP_copypaste: 0.151 0.270 0.146 0.035 0.137 0.289\n"
     ]
    },
    {
     "name": "stdout",
     "output_type": "stream",
     "text": [
      "DONE (t=0.84s).\n",
      "Average Precision  (AP) @[ IoU=0.50:0.95 | area=   all | maxDets=100 ] = 0.151\n",
      "Average Precision  (AP) @[ IoU=0.50      | area=   all | maxDets=1000 ] = 0.270\n",
      "Average Precision  (AP) @[ IoU=0.75      | area=   all | maxDets=1000 ] = 0.146\n",
      "Average Precision  (AP) @[ IoU=0.50:0.95 | area= small | maxDets=1000 ] = 0.035\n",
      "Average Precision  (AP) @[ IoU=0.50:0.95 | area=medium | maxDets=1000 ] = 0.137\n",
      "Average Precision  (AP) @[ IoU=0.50:0.95 | area= large | maxDets=1000 ] = 0.289\n",
      "Average Recall     (AR) @[ IoU=0.50:0.95 | area=   all | maxDets=100 ] = 0.312\n",
      "Average Recall     (AR) @[ IoU=0.50:0.95 | area=   all | maxDets=300 ] = 0.312\n",
      "Average Recall     (AR) @[ IoU=0.50:0.95 | area=   all | maxDets=1000 ] = 0.312\n",
      "Average Recall     (AR) @[ IoU=0.50:0.95 | area= small | maxDets=1000 ] = 0.099\n",
      "Average Recall     (AR) @[ IoU=0.50:0.95 | area=medium | maxDets=1000 ] = 0.292\n",
      "Average Recall     (AR) @[ IoU=0.50:0.95 | area= large | maxDets=1000 ] = 0.525\n"
     ]
    },
    {
     "name": "stderr",
     "output_type": "stream",
     "text": [
      "2021-05-10 02:05:09,920 - mmdet - INFO - Epoch [12][50/655]\tlr: 2.000e-04, eta: 0:03:07, time: 0.351, data_time: 0.050, memory: 2098, loss_rpn_cls: 0.0302, loss_rpn_bbox: 0.0504, loss_cls: 0.2702, acc: 91.2930, loss_bbox: 0.2933, loss: 0.6441, grad_norm: 2.0409\n",
      "2021-05-10 02:05:25,165 - mmdet - INFO - Epoch [12][100/655]\tlr: 2.000e-04, eta: 0:02:51, time: 0.305, data_time: 0.006, memory: 2098, loss_rpn_cls: 0.0238, loss_rpn_bbox: 0.0362, loss_cls: 0.2134, acc: 93.1221, loss_bbox: 0.2337, loss: 0.5071, grad_norm: 1.9047\n",
      "2021-05-10 02:05:40,244 - mmdet - INFO - Epoch [12][150/655]\tlr: 2.000e-04, eta: 0:02:36, time: 0.302, data_time: 0.006, memory: 2098, loss_rpn_cls: 0.0259, loss_rpn_bbox: 0.0374, loss_cls: 0.2308, acc: 92.7617, loss_bbox: 0.2424, loss: 0.5366, grad_norm: 1.9895\n",
      "2021-05-10 02:05:55,340 - mmdet - INFO - Epoch [12][200/655]\tlr: 2.000e-04, eta: 0:02:20, time: 0.302, data_time: 0.006, memory: 2098, loss_rpn_cls: 0.0244, loss_rpn_bbox: 0.0424, loss_cls: 0.2423, acc: 92.1035, loss_bbox: 0.2551, loss: 0.5642, grad_norm: 1.9984\n",
      "2021-05-10 02:06:10,425 - mmdet - INFO - Epoch [12][250/655]\tlr: 2.000e-04, eta: 0:02:05, time: 0.302, data_time: 0.006, memory: 2098, loss_rpn_cls: 0.0228, loss_rpn_bbox: 0.0377, loss_cls: 0.2481, acc: 92.0459, loss_bbox: 0.2585, loss: 0.5670, grad_norm: 2.0482\n",
      "2021-05-10 02:06:25,424 - mmdet - INFO - Epoch [12][300/655]\tlr: 2.000e-04, eta: 0:01:49, time: 0.300, data_time: 0.006, memory: 2098, loss_rpn_cls: 0.0258, loss_rpn_bbox: 0.0416, loss_cls: 0.2291, acc: 92.5771, loss_bbox: 0.2598, loss: 0.5563, grad_norm: 1.9903\n",
      "2021-05-10 02:06:40,457 - mmdet - INFO - Epoch [12][350/655]\tlr: 2.000e-04, eta: 0:01:34, time: 0.301, data_time: 0.006, memory: 2098, loss_rpn_cls: 0.0232, loss_rpn_bbox: 0.0411, loss_cls: 0.2397, acc: 92.1982, loss_bbox: 0.2661, loss: 0.5701, grad_norm: 1.9594\n",
      "2021-05-10 02:06:55,520 - mmdet - INFO - Epoch [12][400/655]\tlr: 2.000e-04, eta: 0:01:18, time: 0.301, data_time: 0.006, memory: 2098, loss_rpn_cls: 0.0299, loss_rpn_bbox: 0.0456, loss_cls: 0.2517, acc: 91.8359, loss_bbox: 0.2756, loss: 0.6028, grad_norm: 2.1099\n",
      "2021-05-10 02:07:10,600 - mmdet - INFO - Epoch [12][450/655]\tlr: 2.000e-04, eta: 0:01:03, time: 0.302, data_time: 0.006, memory: 2098, loss_rpn_cls: 0.0212, loss_rpn_bbox: 0.0371, loss_cls: 0.2298, acc: 92.7236, loss_bbox: 0.2365, loss: 0.5245, grad_norm: 1.9274\n",
      "2021-05-10 02:07:25,648 - mmdet - INFO - Epoch [12][500/655]\tlr: 2.000e-04, eta: 0:00:47, time: 0.301, data_time: 0.006, memory: 2098, loss_rpn_cls: 0.0284, loss_rpn_bbox: 0.0478, loss_cls: 0.2555, acc: 91.8340, loss_bbox: 0.2762, loss: 0.6078, grad_norm: 2.0424\n",
      "2021-05-10 02:07:40,595 - mmdet - INFO - Epoch [12][550/655]\tlr: 2.000e-04, eta: 0:00:32, time: 0.299, data_time: 0.006, memory: 2098, loss_rpn_cls: 0.0211, loss_rpn_bbox: 0.0356, loss_cls: 0.2140, acc: 93.0850, loss_bbox: 0.2266, loss: 0.4972, grad_norm: 1.9298\n",
      "2021-05-10 02:07:55,632 - mmdet - INFO - Epoch [12][600/655]\tlr: 2.000e-04, eta: 0:00:16, time: 0.301, data_time: 0.006, memory: 2098, loss_rpn_cls: 0.0262, loss_rpn_bbox: 0.0413, loss_cls: 0.2433, acc: 92.0586, loss_bbox: 0.2530, loss: 0.5637, grad_norm: 2.1231\n",
      "2021-05-10 02:08:10,729 - mmdet - INFO - Epoch [12][650/655]\tlr: 2.000e-04, eta: 0:00:01, time: 0.302, data_time: 0.006, memory: 2098, loss_rpn_cls: 0.0212, loss_rpn_bbox: 0.0385, loss_cls: 0.2189, acc: 92.7031, loss_bbox: 0.2451, loss: 0.5237, grad_norm: 1.8946\n",
      "2021-05-10 02:08:12,312 - mmdet - INFO - Saving checkpoint at 12 epochs\n"
     ]
    },
    {
     "name": "stdout",
     "output_type": "stream",
     "text": [
      "[>>>>>>>>>>>>>>>>>>>>>>>>>>>>>] 655/655, 22.8 task/s, elapsed: 29s, ETA:     0s"
     ]
    },
    {
     "name": "stderr",
     "output_type": "stream",
     "text": [
      "2021-05-10 02:08:42,275 - mmdet - INFO - Evaluating bbox...\n"
     ]
    },
    {
     "name": "stdout",
     "output_type": "stream",
     "text": [
      "Loading and preparing results...\n",
      "DONE (t=0.11s)\n",
      "creating index...\n",
      "index created!\n",
      "Running per image evaluation...\n",
      "Evaluate annotation type *bbox*\n",
      "DONE (t=5.28s).\n",
      "Accumulating evaluation results...\n"
     ]
    },
    {
     "name": "stderr",
     "output_type": "stream",
     "text": [
      "2021-05-10 02:08:49,000 - mmdet - INFO - Epoch(val) [12][655]\tbbox_mAP: 0.1530, bbox_mAP_50: 0.2680, bbox_mAP_75: 0.1470, bbox_mAP_s: 0.0360, bbox_mAP_m: 0.1360, bbox_mAP_l: 0.2950, bbox_mAP_copypaste: 0.153 0.268 0.147 0.036 0.136 0.295\n"
     ]
    },
    {
     "name": "stdout",
     "output_type": "stream",
     "text": [
      "DONE (t=0.80s).\n",
      "Average Precision  (AP) @[ IoU=0.50:0.95 | area=   all | maxDets=100 ] = 0.153\n",
      "Average Precision  (AP) @[ IoU=0.50      | area=   all | maxDets=1000 ] = 0.268\n",
      "Average Precision  (AP) @[ IoU=0.75      | area=   all | maxDets=1000 ] = 0.147\n",
      "Average Precision  (AP) @[ IoU=0.50:0.95 | area= small | maxDets=1000 ] = 0.036\n",
      "Average Precision  (AP) @[ IoU=0.50:0.95 | area=medium | maxDets=1000 ] = 0.136\n",
      "Average Precision  (AP) @[ IoU=0.50:0.95 | area= large | maxDets=1000 ] = 0.295\n",
      "Average Recall     (AR) @[ IoU=0.50:0.95 | area=   all | maxDets=100 ] = 0.312\n",
      "Average Recall     (AR) @[ IoU=0.50:0.95 | area=   all | maxDets=300 ] = 0.312\n",
      "Average Recall     (AR) @[ IoU=0.50:0.95 | area=   all | maxDets=1000 ] = 0.312\n",
      "Average Recall     (AR) @[ IoU=0.50:0.95 | area= small | maxDets=1000 ] = 0.098\n",
      "Average Recall     (AR) @[ IoU=0.50:0.95 | area=medium | maxDets=1000 ] = 0.287\n",
      "Average Recall     (AR) @[ IoU=0.50:0.95 | area= large | maxDets=1000 ] = 0.533\n"
     ]
    }
   ],
   "source": [
    "train_detector(model, datasets[0], cfg, distributed=False, validate=True)"
   ]
  }
 ],
 "metadata": {
  "kernelspec": {
   "display_name": "Python 3",
   "language": "python",
   "name": "python3"
  },
  "language_info": {
   "codemirror_mode": {
    "name": "ipython",
    "version": 3
   },
   "file_extension": ".py",
   "mimetype": "text/x-python",
   "name": "python",
   "nbconvert_exporter": "python",
   "pygments_lexer": "ipython3",
   "version": "3.7.7"
  },
  "pycharm": {
   "stem_cell": {
    "cell_type": "raw",
    "metadata": {
     "collapsed": false
    },
    "source": []
   }
  }
 },
 "nbformat": 4,
 "nbformat_minor": 4
}
