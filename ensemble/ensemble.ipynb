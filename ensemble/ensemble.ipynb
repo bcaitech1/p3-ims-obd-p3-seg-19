{
 "cells": [
  {
   "cell_type": "code",
   "execution_count": 1,
   "metadata": {},
   "outputs": [
    {
     "name": "stdout",
     "output_type": "stream",
     "text": [
      "Requirement already satisfied: ensemble_boxes in /opt/conda/lib/python3.7/site-packages (1.0.6)\n",
      "Requirement already satisfied: pandas in /opt/conda/lib/python3.7/site-packages (from ensemble_boxes) (1.2.4)\n",
      "Requirement already satisfied: numpy in /opt/conda/lib/python3.7/site-packages (from ensemble_boxes) (1.18.5)\n",
      "Requirement already satisfied: numba in /opt/conda/lib/python3.7/site-packages (from ensemble_boxes) (0.53.1)\n",
      "Requirement already satisfied: python-dateutil>=2.7.3 in /opt/conda/lib/python3.7/site-packages (from pandas->ensemble_boxes) (2.8.1)\n",
      "Requirement already satisfied: pytz>=2017.3 in /opt/conda/lib/python3.7/site-packages (from pandas->ensemble_boxes) (2020.1)\n",
      "Requirement already satisfied: setuptools in /opt/conda/lib/python3.7/site-packages (from numba->ensemble_boxes) (46.4.0.post20200518)\n",
      "Requirement already satisfied: llvmlite<0.37,>=0.36.0rc1 in /opt/conda/lib/python3.7/site-packages (from numba->ensemble_boxes) (0.36.0)\n",
      "Requirement already satisfied: six>=1.5 in /opt/conda/lib/python3.7/site-packages (from python-dateutil>=2.7.3->pandas->ensemble_boxes) (1.14.0)\n"
     ]
    }
   ],
   "source": [
    "!pip install ensemble_boxes"
   ]
  },
  {
   "cell_type": "code",
   "execution_count": 2,
   "metadata": {},
   "outputs": [],
   "source": [
    "import pandas as pd\n",
    "from ensemble_boxes import *\n",
    "import numpy as np\n",
    "from pycocotools.coco import COCO"
   ]
  },
  {
   "cell_type": "code",
   "execution_count": 3,
   "metadata": {},
   "outputs": [
    {
     "name": "stdout",
     "output_type": "stream",
     "text": [
      "detectors_cascade_rcnn_r50_1x.csv  ensemble.ipynb\n",
      "detectors_r101_RandomRotate30.csv  faster_rcnn_baseline_pytorch.csv\n"
     ]
    }
   ],
   "source": [
    "import os\n",
    "os.chdir(\"/opt/ml/code/mmdetection_trash/ensemble\")\n",
    "!ls"
   ]
  },
  {
   "cell_type": "code",
   "execution_count": 4,
   "metadata": {},
   "outputs": [],
   "source": [
    "# ensemble csv files\n",
    "submission_files = ['detectors_cascade_rcnn_r50_1x.csv', 'detectors_r101_RandomRotate30.csv', 'faster_rcnn_baseline_pytorch.csv']\n",
    "submission_df = [pd.read_csv(file) for file in submission_files]"
   ]
  },
  {
   "cell_type": "code",
   "execution_count": 5,
   "metadata": {},
   "outputs": [],
   "source": [
    "image_ids = submission_df[0]['image_id'].tolist()"
   ]
  },
  {
   "cell_type": "code",
   "execution_count": 6,
   "metadata": {},
   "outputs": [
    {
     "name": "stdout",
     "output_type": "stream",
     "text": [
      "loading annotations into memory...\n",
      "Done (t=0.01s)\n",
      "creating index...\n",
      "index created!\n"
     ]
    }
   ],
   "source": [
    "annotation = '../../../input/data/test.json'\n",
    "coco = COCO(annotation)"
   ]
  },
  {
   "cell_type": "code",
   "execution_count": 7,
   "metadata": {},
   "outputs": [
    {
     "name": "stdout",
     "output_type": "stream",
     "text": [
      "Warning. Removed 9 boxes with zero area!\n",
      "Warning. Removed 81 boxes with zero area!\n",
      "Warning. Removed 18 boxes with zero area!\n",
      "Warning. Removed 45 boxes with zero area!\n",
      "Warning. Removed 90 boxes with zero area!\n",
      "Warning. Removed 99 boxes with zero area!\n",
      "Warning. Removed 9 boxes with zero area!\n",
      "Warning. Removed 36 boxes with zero area!\n",
      "Warning. Removed 94 boxes with zero area!\n",
      "Warning. Removed 9 boxes with zero area!\n",
      "Warning. Removed 9 boxes with zero area!\n",
      "Warning. Removed 9 boxes with zero area!\n",
      "Warning. Removed 45 boxes with zero area!\n",
      "Warning. Removed 72 boxes with zero area!\n",
      "Warning. Removed 18 boxes with zero area!\n",
      "Warning. Removed 27 boxes with zero area!\n",
      "Warning. Removed 36 boxes with zero area!\n",
      "Warning. Removed 27 boxes with zero area!\n",
      "Warning. Removed 27 boxes with zero area!\n",
      "Warning. Removed 99 boxes with zero area!\n",
      "Warning. Removed 36 boxes with zero area!\n",
      "Warning. Removed 27 boxes with zero area!\n",
      "Warning. Removed 45 boxes with zero area!\n",
      "Warning. Removed 99 boxes with zero area!\n",
      "Warning. Removed 9 boxes with zero area!\n",
      "Warning. Removed 9 boxes with zero area!\n",
      "Warning. Removed 9 boxes with zero area!\n",
      "Warning. Removed 81 boxes with zero area!\n",
      "Warning. Removed 18 boxes with zero area!\n",
      "Warning. Removed 18 boxes with zero area!\n",
      "Warning. Removed 9 boxes with zero area!\n",
      "Warning. Removed 18 boxes with zero area!\n",
      "Warning. Removed 18 boxes with zero area!\n",
      "Warning. Removed 9 boxes with zero area!\n",
      "Warning. Removed 9 boxes with zero area!\n",
      "Warning. Removed 81 boxes with zero area!\n",
      "Warning. Removed 27 boxes with zero area!\n",
      "Warning. Removed 72 boxes with zero area!\n",
      "Warning. Removed 36 boxes with zero area!\n",
      "Warning. Removed 36 boxes with zero area!\n",
      "Warning. Removed 9 boxes with zero area!\n",
      "Warning. Removed 18 boxes with zero area!\n",
      "Warning. Removed 18 boxes with zero area!\n",
      "Warning. Removed 18 boxes with zero area!\n",
      "Warning. Removed 9 boxes with zero area!\n",
      "Warning. Removed 18 boxes with zero area!\n",
      "Warning. Removed 9 boxes with zero area!\n",
      "Warning. Removed 27 boxes with zero area!\n",
      "Warning. Removed 36 boxes with zero area!\n",
      "Warning. Removed 9 boxes with zero area!\n",
      "Warning. Removed 63 boxes with zero area!\n",
      "Warning. Removed 18 boxes with zero area!\n",
      "Warning. Removed 9 boxes with zero area!\n",
      "Warning. Removed 18 boxes with zero area!\n",
      "Warning. Removed 9 boxes with zero area!\n",
      "Warning. Removed 27 boxes with zero area!\n",
      "Warning. Removed 9 boxes with zero area!\n",
      "Warning. Removed 36 boxes with zero area!\n",
      "Warning. Removed 9 boxes with zero area!\n",
      "Warning. Removed 18 boxes with zero area!\n",
      "Warning. Removed 63 boxes with zero area!\n",
      "Warning. Removed 9 boxes with zero area!\n",
      "Warning. Removed 9 boxes with zero area!\n",
      "Warning. Removed 36 boxes with zero area!\n",
      "Warning. Removed 9 boxes with zero area!\n",
      "Warning. Removed 98 boxes with zero area!\n",
      "Warning. Removed 27 boxes with zero area!\n",
      "Warning. Removed 9 boxes with zero area!\n",
      "Warning. Removed 9 boxes with zero area!\n",
      "Warning. Removed 98 boxes with zero area!\n"
     ]
    }
   ],
   "source": [
    "prediction_strings = []\n",
    "file_names = []\n",
    "iou_thr = 0.4\n",
    "\n",
    "for i, image_id in enumerate(image_ids):\n",
    "    prediction_string = ''\n",
    "    boxes_list = []\n",
    "    scores_list = []\n",
    "    labels_list = []\n",
    "    image_info = coco.loadImgs(i)[0]\n",
    "    for df in submission_df:\n",
    "        predict_string = df[df['image_id'] == image_id]['PredictionString'].tolist()[0]\n",
    "        predict_list = str(predict_string).split()\n",
    "        if len(predict_list)==0 or len(predict_list)==1:\n",
    "            continue\n",
    "        predict_list = np.reshape(predict_list, (-1, 6))\n",
    "        box_list = []\n",
    "        for box in predict_list[:, 2:6].tolist():\n",
    "            box[0] = float(box[0]) / image_info['width']\n",
    "            box[1] = float(box[1]) / image_info['height']\n",
    "            box[2] = float(box[2]) / image_info['width']\n",
    "            box[3] = float(box[3]) / image_info['height']\n",
    "            box_list.append(box)\n",
    "        boxes_list.append(box_list)\n",
    "        scores_list.append(list(map(float, predict_list[:, 1].tolist())))\n",
    "        labels_list.append(list(map(int, predict_list[:, 0].tolist())))\n",
    "    \n",
    "    if len(boxes_list):\n",
    "        boxes, scores, labels = nms(boxes_list, scores_list, labels_list, iou_thr=iou_thr)\n",
    "        for box, score, label in zip(boxes, scores, labels):\n",
    "            prediction_string += str(label) + ' ' + str(score) + ' ' + str(box[0] * image_info['width']) + ' ' + str(box[1] * image_info['height']) + ' ' + str(box[2] * image_info['width']) + ' ' + str(box[3] * image_info['height']) + ' '\n",
    "    \n",
    "    prediction_strings.append(prediction_string)\n",
    "    file_names.append(image_id)"
   ]
  },
  {
   "cell_type": "code",
   "execution_count": 8,
   "metadata": {},
   "outputs": [
    {
     "data": {
      "text/html": [
       "<div>\n",
       "<style scoped>\n",
       "    .dataframe tbody tr th:only-of-type {\n",
       "        vertical-align: middle;\n",
       "    }\n",
       "\n",
       "    .dataframe tbody tr th {\n",
       "        vertical-align: top;\n",
       "    }\n",
       "\n",
       "    .dataframe thead th {\n",
       "        text-align: right;\n",
       "    }\n",
       "</style>\n",
       "<table border=\"1\" class=\"dataframe\">\n",
       "  <thead>\n",
       "    <tr style=\"text-align: right;\">\n",
       "      <th></th>\n",
       "      <th>PredictionString</th>\n",
       "      <th>image_id</th>\n",
       "    </tr>\n",
       "  </thead>\n",
       "  <tbody>\n",
       "    <tr>\n",
       "      <th>0</th>\n",
       "      <td>1 0.7318308 140.22397 51.37345 259.66284 172.4...</td>\n",
       "      <td>batch_01_vt/0021.jpg</td>\n",
       "    </tr>\n",
       "    <tr>\n",
       "      <th>1</th>\n",
       "      <td>1 0.7043852 0.0 241.01427 298.54163 455.08948 ...</td>\n",
       "      <td>batch_01_vt/0028.jpg</td>\n",
       "    </tr>\n",
       "    <tr>\n",
       "      <th>2</th>\n",
       "      <td>1 0.912573 80.30995 168.37361 367.222 377.5388...</td>\n",
       "      <td>batch_01_vt/0031.jpg</td>\n",
       "    </tr>\n",
       "    <tr>\n",
       "      <th>3</th>\n",
       "      <td>1 0.24037101864814758 0.0 228.05465698242188 3...</td>\n",
       "      <td>batch_01_vt/0032.jpg</td>\n",
       "    </tr>\n",
       "    <tr>\n",
       "      <th>4</th>\n",
       "      <td>1 0.82041365 388.36865 264.85236 487.73004 345...</td>\n",
       "      <td>batch_01_vt/0070.jpg</td>\n",
       "    </tr>\n",
       "  </tbody>\n",
       "</table>\n",
       "</div>"
      ],
      "text/plain": [
       "                                    PredictionString              image_id\n",
       "0  1 0.7318308 140.22397 51.37345 259.66284 172.4...  batch_01_vt/0021.jpg\n",
       "1  1 0.7043852 0.0 241.01427 298.54163 455.08948 ...  batch_01_vt/0028.jpg\n",
       "2  1 0.912573 80.30995 168.37361 367.222 377.5388...  batch_01_vt/0031.jpg\n",
       "3  1 0.24037101864814758 0.0 228.05465698242188 3...  batch_01_vt/0032.jpg\n",
       "4  1 0.82041365 388.36865 264.85236 487.73004 345...  batch_01_vt/0070.jpg"
      ]
     },
     "execution_count": 8,
     "metadata": {},
     "output_type": "execute_result"
    }
   ],
   "source": [
    "submission = pd.DataFrame()\n",
    "submission['PredictionString'] = prediction_strings\n",
    "submission['image_id'] = file_names\n",
    "submission.to_csv('ensemble3.csv')\n",
    "\n",
    "submission.head()"
   ]
  },
  {
   "cell_type": "code",
   "execution_count": null,
   "metadata": {},
   "outputs": [],
   "source": []
  }
 ],
 "metadata": {
  "kernelspec": {
   "display_name": "Python 3",
   "language": "python",
   "name": "python3"
  },
  "language_info": {
   "codemirror_mode": {
    "name": "ipython",
    "version": 3
   },
   "file_extension": ".py",
   "mimetype": "text/x-python",
   "name": "python",
   "nbconvert_exporter": "python",
   "pygments_lexer": "ipython3",
   "version": "3.7.7"
  }
 },
 "nbformat": 4,
 "nbformat_minor": 4
}
